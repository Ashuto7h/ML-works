{
 "cells": [
  {
   "source": [
    "# [Commonlit Readability Price](https://www.kaggle.com/c/commonlitreadabilityprize/overview)\n",
    "Hosted by - Kaggle\n",
    "\n",
    "### Notebook 2 - inference model\n",
    "uses roberta model from SimpleTransformers to predict the easeness of Readability.\n",
    "\n",
    "### Notebook 3 - Submission \n",
    "train model without internet requirements for Submission on kaggle.\n"
   ],
   "cell_type": "markdown",
   "metadata": {}
  },
  {
   "cell_type": "code",
   "execution_count": 1,
   "id": "digital-relations",
   "metadata": {
    "_cell_guid": "b1076dfc-b9ad-4769-8c92-a6c4dae69d19",
    "_uuid": "8f2839f25d086af736a60e9eeb907d3b93b6e0e5",
    "execution": {
     "iopub.execute_input": "2021-06-19T12:44:40.157233Z",
     "iopub.status.busy": "2021-06-19T12:44:40.156464Z",
     "iopub.status.idle": "2021-06-19T12:44:40.258631Z",
     "shell.execute_reply": "2021-06-19T12:44:40.257234Z",
     "shell.execute_reply.started": "2021-06-19T12:40:57.930379Z"
    },
    "papermill": {
     "duration": 0.127248,
     "end_time": "2021-06-19T12:44:40.258858",
     "exception": false,
     "start_time": "2021-06-19T12:44:40.131610",
     "status": "completed"
    },
    "tags": []
   },
   "outputs": [],
   "source": [
    "import pandas \n",
    "train = pandas.read_csv('../input/commonlitreadabilityprize/train.csv')\n",
    "test = pandas.read_csv('../input/commonlitreadabilityprize/test.csv')\n",
    "train_df = train[['excerpt','target']]\n",
    "submit = test[['id']]\n",
    "train_df.columns = ['text','labels']\n",
    "test_df = list(test[['excerpt']].values.ravel())\n",
    "train_data = train_df[:2126]\n",
    "eval_data = train_df[2126:]\n",
    "test_data = test_df"
   ]
  },
  {
   "cell_type": "code",
   "execution_count": 2,
   "id": "historic-touch",
   "metadata": {
    "execution": {
     "iopub.execute_input": "2021-06-19T12:44:40.281182Z",
     "iopub.status.busy": "2021-06-19T12:44:40.279696Z",
     "iopub.status.idle": "2021-06-19T12:45:00.059261Z",
     "shell.execute_reply": "2021-06-19T12:45:00.058631Z",
     "shell.execute_reply.started": "2021-06-19T12:40:58.019478Z"
    },
    "papermill": {
     "duration": 19.79405,
     "end_time": "2021-06-19T12:45:00.059422",
     "exception": false,
     "start_time": "2021-06-19T12:44:40.265372",
     "status": "completed"
    },
    "tags": []
   },
   "outputs": [
    {
     "name": "stdout",
     "output_type": "stream",
     "text": [
      "Looking in links: /kaggle/working/wheels\r\n",
      "Processing ./wheels/simpletransformers-0.61.6-py3-none-any.whl\r\n",
      "Processing ./wheels/s3fs-2021.6.0-py3-none-any.whl\r\n",
      "Processing ./wheels/fsspec-2021.6.0-py3-none-any.whl\r\n",
      "Requirement already satisfied: aiobotocore>=1.0.1 in /opt/conda/lib/python3.7/site-packages (from s3fs==2021.6.0->-r ../input/commonlit-readability-data/requirements.txt (line 2)) (1.3.0)\r\n",
      "Requirement already satisfied: aiohttp>=3.3.1 in /opt/conda/lib/python3.7/site-packages (from aiobotocore>=1.0.1->s3fs==2021.6.0->-r ../input/commonlit-readability-data/requirements.txt (line 2)) (3.7.4)\r\n",
      "Requirement already satisfied: aioitertools>=0.5.1 in /opt/conda/lib/python3.7/site-packages (from aiobotocore>=1.0.1->s3fs==2021.6.0->-r ../input/commonlit-readability-data/requirements.txt (line 2)) (0.7.1)\r\n",
      "Processing ./wheels/botocore-1.20.49-py2.py3-none-any.whl\r\n",
      "Requirement already satisfied: wrapt>=1.10.10 in /opt/conda/lib/python3.7/site-packages (from aiobotocore>=1.0.1->s3fs==2021.6.0->-r ../input/commonlit-readability-data/requirements.txt (line 2)) (1.12.1)\r\n",
      "Requirement already satisfied: typing-extensions>=3.6.5 in /opt/conda/lib/python3.7/site-packages (from aiohttp>=3.3.1->aiobotocore>=1.0.1->s3fs==2021.6.0->-r ../input/commonlit-readability-data/requirements.txt (line 2)) (3.7.4.3)\r\n",
      "Requirement already satisfied: multidict<7.0,>=4.5 in /opt/conda/lib/python3.7/site-packages (from aiohttp>=3.3.1->aiobotocore>=1.0.1->s3fs==2021.6.0->-r ../input/commonlit-readability-data/requirements.txt (line 2)) (5.1.0)\r\n",
      "Requirement already satisfied: chardet<5.0,>=2.0 in /opt/conda/lib/python3.7/site-packages (from aiohttp>=3.3.1->aiobotocore>=1.0.1->s3fs==2021.6.0->-r ../input/commonlit-readability-data/requirements.txt (line 2)) (4.0.0)\r\n",
      "Requirement already satisfied: yarl<2.0,>=1.0 in /opt/conda/lib/python3.7/site-packages (from aiohttp>=3.3.1->aiobotocore>=1.0.1->s3fs==2021.6.0->-r ../input/commonlit-readability-data/requirements.txt (line 2)) (1.6.3)\r\n",
      "Requirement already satisfied: async-timeout<4.0,>=3.0 in /opt/conda/lib/python3.7/site-packages (from aiohttp>=3.3.1->aiobotocore>=1.0.1->s3fs==2021.6.0->-r ../input/commonlit-readability-data/requirements.txt (line 2)) (3.0.1)\r\n",
      "Requirement already satisfied: attrs>=17.3.0 in /opt/conda/lib/python3.7/site-packages (from aiohttp>=3.3.1->aiobotocore>=1.0.1->s3fs==2021.6.0->-r ../input/commonlit-readability-data/requirements.txt (line 2)) (20.3.0)\r\n",
      "Requirement already satisfied: python-dateutil<3.0.0,>=2.1 in /opt/conda/lib/python3.7/site-packages (from botocore<1.20.50,>=1.20.49->aiobotocore>=1.0.1->s3fs==2021.6.0->-r ../input/commonlit-readability-data/requirements.txt (line 2)) (2.8.1)\r\n",
      "Requirement already satisfied: jmespath<1.0.0,>=0.7.1 in /opt/conda/lib/python3.7/site-packages (from botocore<1.20.50,>=1.20.49->aiobotocore>=1.0.1->s3fs==2021.6.0->-r ../input/commonlit-readability-data/requirements.txt (line 2)) (0.10.0)\r\n",
      "Requirement already satisfied: urllib3<1.27,>=1.25.4 in /opt/conda/lib/python3.7/site-packages (from botocore<1.20.50,>=1.20.49->aiobotocore>=1.0.1->s3fs==2021.6.0->-r ../input/commonlit-readability-data/requirements.txt (line 2)) (1.26.4)\r\n",
      "Requirement already satisfied: six>=1.5 in /opt/conda/lib/python3.7/site-packages (from python-dateutil<3.0.0,>=2.1->botocore<1.20.50,>=1.20.49->aiobotocore>=1.0.1->s3fs==2021.6.0->-r ../input/commonlit-readability-data/requirements.txt (line 2)) (1.15.0)\r\n",
      "Requirement already satisfied: idna>=2.0 in /opt/conda/lib/python3.7/site-packages (from yarl<2.0,>=1.0->aiohttp>=3.3.1->aiobotocore>=1.0.1->s3fs==2021.6.0->-r ../input/commonlit-readability-data/requirements.txt (line 2)) (2.10)\r\n",
      "Requirement already satisfied: regex in /opt/conda/lib/python3.7/site-packages (from simpletransformers->-r ../input/commonlit-readability-data/requirements.txt (line 1)) (2021.3.17)\r\n",
      "Requirement already satisfied: numpy in /opt/conda/lib/python3.7/site-packages (from simpletransformers->-r ../input/commonlit-readability-data/requirements.txt (line 1)) (1.19.5)\r\n",
      "Requirement already satisfied: sentencepiece in /opt/conda/lib/python3.7/site-packages (from simpletransformers->-r ../input/commonlit-readability-data/requirements.txt (line 1)) (0.1.95)\r\n",
      "Requirement already satisfied: tqdm>=4.47.0 in /opt/conda/lib/python3.7/site-packages (from simpletransformers->-r ../input/commonlit-readability-data/requirements.txt (line 1)) (4.59.0)\r\n",
      "Processing ./wheels/streamlit-0.83.0-py2.py3-none-any.whl\r\n",
      "Processing ./wheels/datasets-1.8.0-py3-none-any.whl\r\n",
      "Requirement already satisfied: tensorboardx in /opt/conda/lib/python3.7/site-packages (from simpletransformers->-r ../input/commonlit-readability-data/requirements.txt (line 1)) (2.2)\r\n",
      "Requirement already satisfied: transformers>=4.2.0 in /opt/conda/lib/python3.7/site-packages (from simpletransformers->-r ../input/commonlit-readability-data/requirements.txt (line 1)) (4.5.1)\r\n",
      "Requirement already satisfied: tokenizers in /opt/conda/lib/python3.7/site-packages (from simpletransformers->-r ../input/commonlit-readability-data/requirements.txt (line 1)) (0.10.2)\r\n",
      "Requirement already satisfied: pandas in /opt/conda/lib/python3.7/site-packages (from simpletransformers->-r ../input/commonlit-readability-data/requirements.txt (line 1)) (1.1.5)\r\n",
      "Requirement already satisfied: scikit-learn in /opt/conda/lib/python3.7/site-packages (from simpletransformers->-r ../input/commonlit-readability-data/requirements.txt (line 1)) (0.24.1)\r\n",
      "Requirement already satisfied: scipy in /opt/conda/lib/python3.7/site-packages (from simpletransformers->-r ../input/commonlit-readability-data/requirements.txt (line 1)) (1.5.4)\r\n",
      "Processing ./wheels/seqeval-1.2.2-py3-none-any.whl\r\n",
      "Requirement already satisfied: wandb in /opt/conda/lib/python3.7/site-packages (from simpletransformers->-r ../input/commonlit-readability-data/requirements.txt (line 1)) (0.10.26)\r\n",
      "Requirement already satisfied: requests in /opt/conda/lib/python3.7/site-packages (from simpletransformers->-r ../input/commonlit-readability-data/requirements.txt (line 1)) (2.25.1)\r\n",
      "Requirement already satisfied: packaging in /opt/conda/lib/python3.7/site-packages (from transformers>=4.2.0->simpletransformers->-r ../input/commonlit-readability-data/requirements.txt (line 1)) (20.9)\r\n",
      "Requirement already satisfied: importlib-metadata in /opt/conda/lib/python3.7/site-packages (from transformers>=4.2.0->simpletransformers->-r ../input/commonlit-readability-data/requirements.txt (line 1)) (3.4.0)\r\n",
      "Requirement already satisfied: sacremoses in /opt/conda/lib/python3.7/site-packages (from transformers>=4.2.0->simpletransformers->-r ../input/commonlit-readability-data/requirements.txt (line 1)) (0.0.45)\r\n",
      "Requirement already satisfied: filelock in /opt/conda/lib/python3.7/site-packages (from transformers>=4.2.0->simpletransformers->-r ../input/commonlit-readability-data/requirements.txt (line 1)) (3.0.12)\r\n",
      "Processing ./wheels/huggingface_hub-0.0.8-py3-none-any.whl\r\n",
      "Processing ./wheels/tqdm-4.49.0-py2.py3-none-any.whl\r\n",
      "Requirement already satisfied: pyarrow<4.0.0,>=1.0.0 in /opt/conda/lib/python3.7/site-packages (from datasets->simpletransformers->-r ../input/commonlit-readability-data/requirements.txt (line 1)) (1.0.1)\r\n",
      "Processing ./wheels/xxhash-2.0.2-cp37-cp37m-manylinux2010_x86_64.whl\r\n",
      "Requirement already satisfied: dill in /opt/conda/lib/python3.7/site-packages (from datasets->simpletransformers->-r ../input/commonlit-readability-data/requirements.txt (line 1)) (0.3.3)\r\n",
      "Requirement already satisfied: multiprocess in /opt/conda/lib/python3.7/site-packages (from datasets->simpletransformers->-r ../input/commonlit-readability-data/requirements.txt (line 1)) (0.70.11.1)\r\n",
      "Requirement already satisfied: certifi>=2017.4.17 in /opt/conda/lib/python3.7/site-packages (from requests->simpletransformers->-r ../input/commonlit-readability-data/requirements.txt (line 1)) (2020.12.5)\r\n",
      "Requirement already satisfied: zipp>=0.5 in /opt/conda/lib/python3.7/site-packages (from importlib-metadata->transformers>=4.2.0->simpletransformers->-r ../input/commonlit-readability-data/requirements.txt (line 1)) (3.4.1)\r\n",
      "Requirement already satisfied: pyparsing>=2.0.2 in /opt/conda/lib/python3.7/site-packages (from packaging->transformers>=4.2.0->simpletransformers->-r ../input/commonlit-readability-data/requirements.txt (line 1)) (2.4.7)\r\n",
      "Requirement already satisfied: pytz>=2017.2 in /opt/conda/lib/python3.7/site-packages (from pandas->simpletransformers->-r ../input/commonlit-readability-data/requirements.txt (line 1)) (2021.1)\r\n",
      "Requirement already satisfied: joblib in /opt/conda/lib/python3.7/site-packages (from sacremoses->transformers>=4.2.0->simpletransformers->-r ../input/commonlit-readability-data/requirements.txt (line 1)) (1.0.1)\r\n",
      "Requirement already satisfied: click in /opt/conda/lib/python3.7/site-packages (from sacremoses->transformers>=4.2.0->simpletransformers->-r ../input/commonlit-readability-data/requirements.txt (line 1)) (7.1.2)\r\n",
      "Requirement already satisfied: threadpoolctl>=2.0.0 in /opt/conda/lib/python3.7/site-packages (from scikit-learn->simpletransformers->-r ../input/commonlit-readability-data/requirements.txt (line 1)) (2.1.0)\r\n",
      "Requirement already satisfied: toml in /opt/conda/lib/python3.7/site-packages (from streamlit->simpletransformers->-r ../input/commonlit-readability-data/requirements.txt (line 1)) (0.10.2)\r\n",
      "Processing ./wheels/base58-2.1.0-py3-none-any.whl\r\n",
      "Requirement already satisfied: gitpython in /opt/conda/lib/python3.7/site-packages (from streamlit->simpletransformers->-r ../input/commonlit-readability-data/requirements.txt (line 1)) (3.1.14)\r\n",
      "Requirement already satisfied: protobuf!=3.11,>=3.6.0 in /opt/conda/lib/python3.7/site-packages (from streamlit->simpletransformers->-r ../input/commonlit-readability-data/requirements.txt (line 1)) (3.15.8)\r\n",
      "Requirement already satisfied: blinker in /opt/conda/lib/python3.7/site-packages (from streamlit->simpletransformers->-r ../input/commonlit-readability-data/requirements.txt (line 1)) (1.4)\r\n",
      "Requirement already satisfied: tornado>=5.0 in /opt/conda/lib/python3.7/site-packages (from streamlit->simpletransformers->-r ../input/commonlit-readability-data/requirements.txt (line 1)) (6.1)\r\n",
      "Requirement already satisfied: pillow>=6.2.0 in /opt/conda/lib/python3.7/site-packages (from streamlit->simpletransformers->-r ../input/commonlit-readability-data/requirements.txt (line 1)) (7.2.0)\r\n",
      "Processing ./wheels/validators-0.18.2-py3-none-any.whl\r\n",
      "Requirement already satisfied: cachetools>=4.0 in /opt/conda/lib/python3.7/site-packages (from streamlit->simpletransformers->-r ../input/commonlit-readability-data/requirements.txt (line 1)) (4.2.1)\r\n",
      "Processing ./wheels/astor-0.8.1-py2.py3-none-any.whl\r\n",
      "Requirement already satisfied: altair>=3.2.0 in /opt/conda/lib/python3.7/site-packages (from streamlit->simpletransformers->-r ../input/commonlit-readability-data/requirements.txt (line 1)) (4.1.0)\r\n",
      "Processing ./wheels/watchdog-2.1.2-py3-none-manylinux2014_x86_64.whl\r\n",
      "Processing ./wheels/pydeck-0.6.2-py2.py3-none-any.whl\r\n",
      "Requirement already satisfied: tzlocal in /opt/conda/lib/python3.7/site-packages (from streamlit->simpletransformers->-r ../input/commonlit-readability-data/requirements.txt (line 1)) (2.1)\r\n",
      "Requirement already satisfied: entrypoints in /opt/conda/lib/python3.7/site-packages (from altair>=3.2.0->streamlit->simpletransformers->-r ../input/commonlit-readability-data/requirements.txt (line 1)) (0.3)\r\n",
      "Requirement already satisfied: toolz in /opt/conda/lib/python3.7/site-packages (from altair>=3.2.0->streamlit->simpletransformers->-r ../input/commonlit-readability-data/requirements.txt (line 1)) (0.11.1)\r\n",
      "Requirement already satisfied: jinja2 in /opt/conda/lib/python3.7/site-packages (from altair>=3.2.0->streamlit->simpletransformers->-r ../input/commonlit-readability-data/requirements.txt (line 1)) (2.11.3)\r\n",
      "Requirement already satisfied: jsonschema in /opt/conda/lib/python3.7/site-packages (from altair>=3.2.0->streamlit->simpletransformers->-r ../input/commonlit-readability-data/requirements.txt (line 1)) (3.2.0)\r\n",
      "Requirement already satisfied: ipykernel>=5.1.2 in /opt/conda/lib/python3.7/site-packages (from pydeck>=0.1.dev5->streamlit->simpletransformers->-r ../input/commonlit-readability-data/requirements.txt (line 1)) (5.5.0)\r\n",
      "Requirement already satisfied: ipywidgets>=7.0.0 in /opt/conda/lib/python3.7/site-packages (from pydeck>=0.1.dev5->streamlit->simpletransformers->-r ../input/commonlit-readability-data/requirements.txt (line 1)) (7.6.3)\r\n",
      "Requirement already satisfied: traitlets>=4.3.2 in /opt/conda/lib/python3.7/site-packages (from pydeck>=0.1.dev5->streamlit->simpletransformers->-r ../input/commonlit-readability-data/requirements.txt (line 1)) (5.0.5)\r\n",
      "Requirement already satisfied: jupyter-client in /opt/conda/lib/python3.7/site-packages (from ipykernel>=5.1.2->pydeck>=0.1.dev5->streamlit->simpletransformers->-r ../input/commonlit-readability-data/requirements.txt (line 1)) (6.1.12)\r\n",
      "Requirement already satisfied: ipython>=5.0.0 in /opt/conda/lib/python3.7/site-packages (from ipykernel>=5.1.2->pydeck>=0.1.dev5->streamlit->simpletransformers->-r ../input/commonlit-readability-data/requirements.txt (line 1)) (7.22.0)\r\n",
      "Requirement already satisfied: pickleshare in /opt/conda/lib/python3.7/site-packages (from ipython>=5.0.0->ipykernel>=5.1.2->pydeck>=0.1.dev5->streamlit->simpletransformers->-r ../input/commonlit-readability-data/requirements.txt (line 1)) (0.7.5)\r\n",
      "Requirement already satisfied: setuptools>=18.5 in /opt/conda/lib/python3.7/site-packages (from ipython>=5.0.0->ipykernel>=5.1.2->pydeck>=0.1.dev5->streamlit->simpletransformers->-r ../input/commonlit-readability-data/requirements.txt (line 1)) (49.6.0.post20210108)\r\n",
      "Requirement already satisfied: decorator in /opt/conda/lib/python3.7/site-packages (from ipython>=5.0.0->ipykernel>=5.1.2->pydeck>=0.1.dev5->streamlit->simpletransformers->-r ../input/commonlit-readability-data/requirements.txt (line 1)) (4.4.2)\r\n",
      "Requirement already satisfied: pexpect>4.3 in /opt/conda/lib/python3.7/site-packages (from ipython>=5.0.0->ipykernel>=5.1.2->pydeck>=0.1.dev5->streamlit->simpletransformers->-r ../input/commonlit-readability-data/requirements.txt (line 1)) (4.8.0)\r\n",
      "Requirement already satisfied: jedi>=0.16 in /opt/conda/lib/python3.7/site-packages (from ipython>=5.0.0->ipykernel>=5.1.2->pydeck>=0.1.dev5->streamlit->simpletransformers->-r ../input/commonlit-readability-data/requirements.txt (line 1)) (0.18.0)\r\n",
      "Requirement already satisfied: pygments in /opt/conda/lib/python3.7/site-packages (from ipython>=5.0.0->ipykernel>=5.1.2->pydeck>=0.1.dev5->streamlit->simpletransformers->-r ../input/commonlit-readability-data/requirements.txt (line 1)) (2.8.1)\r\n",
      "Requirement already satisfied: prompt-toolkit!=3.0.0,!=3.0.1,<3.1.0,>=2.0.0 in /opt/conda/lib/python3.7/site-packages (from ipython>=5.0.0->ipykernel>=5.1.2->pydeck>=0.1.dev5->streamlit->simpletransformers->-r ../input/commonlit-readability-data/requirements.txt (line 1)) (3.0.18)\r\n",
      "Requirement already satisfied: backcall in /opt/conda/lib/python3.7/site-packages (from ipython>=5.0.0->ipykernel>=5.1.2->pydeck>=0.1.dev5->streamlit->simpletransformers->-r ../input/commonlit-readability-data/requirements.txt (line 1)) (0.2.0)\r\n",
      "Requirement already satisfied: jupyterlab-widgets>=1.0.0 in /opt/conda/lib/python3.7/site-packages (from ipywidgets>=7.0.0->pydeck>=0.1.dev5->streamlit->simpletransformers->-r ../input/commonlit-readability-data/requirements.txt (line 1)) (1.0.0)\r\n",
      "Requirement already satisfied: nbformat>=4.2.0 in /opt/conda/lib/python3.7/site-packages (from ipywidgets>=7.0.0->pydeck>=0.1.dev5->streamlit->simpletransformers->-r ../input/commonlit-readability-data/requirements.txt (line 1)) (5.1.2)\r\n",
      "Requirement already satisfied: widgetsnbextension~=3.5.0 in /opt/conda/lib/python3.7/site-packages (from ipywidgets>=7.0.0->pydeck>=0.1.dev5->streamlit->simpletransformers->-r ../input/commonlit-readability-data/requirements.txt (line 1)) (3.5.1)\r\n",
      "Requirement already satisfied: parso<0.9.0,>=0.8.0 in /opt/conda/lib/python3.7/site-packages (from jedi>=0.16->ipython>=5.0.0->ipykernel>=5.1.2->pydeck>=0.1.dev5->streamlit->simpletransformers->-r ../input/commonlit-readability-data/requirements.txt (line 1)) (0.8.1)\r\n",
      "Requirement already satisfied: MarkupSafe>=0.23 in /opt/conda/lib/python3.7/site-packages (from jinja2->altair>=3.2.0->streamlit->simpletransformers->-r ../input/commonlit-readability-data/requirements.txt (line 1)) (1.1.1)\r\n",
      "Requirement already satisfied: ipython-genutils in /opt/conda/lib/python3.7/site-packages (from nbformat>=4.2.0->ipywidgets>=7.0.0->pydeck>=0.1.dev5->streamlit->simpletransformers->-r ../input/commonlit-readability-data/requirements.txt (line 1)) (0.2.0)\r\n",
      "Requirement already satisfied: jupyter-core in /opt/conda/lib/python3.7/site-packages (from nbformat>=4.2.0->ipywidgets>=7.0.0->pydeck>=0.1.dev5->streamlit->simpletransformers->-r ../input/commonlit-readability-data/requirements.txt (line 1)) (4.7.1)\r\n",
      "Requirement already satisfied: pyrsistent>=0.14.0 in /opt/conda/lib/python3.7/site-packages (from jsonschema->altair>=3.2.0->streamlit->simpletransformers->-r ../input/commonlit-readability-data/requirements.txt (line 1)) (0.17.3)\r\n",
      "Requirement already satisfied: ptyprocess>=0.5 in /opt/conda/lib/python3.7/site-packages (from pexpect>4.3->ipython>=5.0.0->ipykernel>=5.1.2->pydeck>=0.1.dev5->streamlit->simpletransformers->-r ../input/commonlit-readability-data/requirements.txt (line 1)) (0.7.0)\r\n",
      "Requirement already satisfied: wcwidth in /opt/conda/lib/python3.7/site-packages (from prompt-toolkit!=3.0.0,!=3.0.1,<3.1.0,>=2.0.0->ipython>=5.0.0->ipykernel>=5.1.2->pydeck>=0.1.dev5->streamlit->simpletransformers->-r ../input/commonlit-readability-data/requirements.txt (line 1)) (0.2.5)\r\n",
      "Requirement already satisfied: notebook>=4.4.1 in /opt/conda/lib/python3.7/site-packages (from widgetsnbextension~=3.5.0->ipywidgets>=7.0.0->pydeck>=0.1.dev5->streamlit->simpletransformers->-r ../input/commonlit-readability-data/requirements.txt (line 1)) (6.3.0)\r\n",
      "Requirement already satisfied: argon2-cffi in /opt/conda/lib/python3.7/site-packages (from notebook>=4.4.1->widgetsnbextension~=3.5.0->ipywidgets>=7.0.0->pydeck>=0.1.dev5->streamlit->simpletransformers->-r ../input/commonlit-readability-data/requirements.txt (line 1)) (20.1.0)\r\n",
      "Requirement already satisfied: pyzmq>=17 in /opt/conda/lib/python3.7/site-packages (from notebook>=4.4.1->widgetsnbextension~=3.5.0->ipywidgets>=7.0.0->pydeck>=0.1.dev5->streamlit->simpletransformers->-r ../input/commonlit-readability-data/requirements.txt (line 1)) (22.0.3)\r\n",
      "Requirement already satisfied: terminado>=0.8.3 in /opt/conda/lib/python3.7/site-packages (from notebook>=4.4.1->widgetsnbextension~=3.5.0->ipywidgets>=7.0.0->pydeck>=0.1.dev5->streamlit->simpletransformers->-r ../input/commonlit-readability-data/requirements.txt (line 1)) (0.9.3)\r\n",
      "Requirement already satisfied: Send2Trash>=1.5.0 in /opt/conda/lib/python3.7/site-packages (from notebook>=4.4.1->widgetsnbextension~=3.5.0->ipywidgets>=7.0.0->pydeck>=0.1.dev5->streamlit->simpletransformers->-r ../input/commonlit-readability-data/requirements.txt (line 1)) (1.5.0)\r\n",
      "Requirement already satisfied: prometheus-client in /opt/conda/lib/python3.7/site-packages (from notebook>=4.4.1->widgetsnbextension~=3.5.0->ipywidgets>=7.0.0->pydeck>=0.1.dev5->streamlit->simpletransformers->-r ../input/commonlit-readability-data/requirements.txt (line 1)) (0.9.0)\r\n",
      "Requirement already satisfied: nbconvert in /opt/conda/lib/python3.7/site-packages (from notebook>=4.4.1->widgetsnbextension~=3.5.0->ipywidgets>=7.0.0->pydeck>=0.1.dev5->streamlit->simpletransformers->-r ../input/commonlit-readability-data/requirements.txt (line 1)) (6.0.7)\r\n",
      "Requirement already satisfied: cffi>=1.0.0 in /opt/conda/lib/python3.7/site-packages (from argon2-cffi->notebook>=4.4.1->widgetsnbextension~=3.5.0->ipywidgets>=7.0.0->pydeck>=0.1.dev5->streamlit->simpletransformers->-r ../input/commonlit-readability-data/requirements.txt (line 1)) (1.14.5)\r\n",
      "Requirement already satisfied: pycparser in /opt/conda/lib/python3.7/site-packages (from cffi>=1.0.0->argon2-cffi->notebook>=4.4.1->widgetsnbextension~=3.5.0->ipywidgets>=7.0.0->pydeck>=0.1.dev5->streamlit->simpletransformers->-r ../input/commonlit-readability-data/requirements.txt (line 1)) (2.20)\r\n",
      "Requirement already satisfied: gitdb<5,>=4.0.1 in /opt/conda/lib/python3.7/site-packages (from gitpython->streamlit->simpletransformers->-r ../input/commonlit-readability-data/requirements.txt (line 1)) (4.0.7)\r\n",
      "Requirement already satisfied: smmap<5,>=3.0.1 in /opt/conda/lib/python3.7/site-packages (from gitdb<5,>=4.0.1->gitpython->streamlit->simpletransformers->-r ../input/commonlit-readability-data/requirements.txt (line 1)) (3.0.5)\r\n",
      "Requirement already satisfied: testpath in /opt/conda/lib/python3.7/site-packages (from nbconvert->notebook>=4.4.1->widgetsnbextension~=3.5.0->ipywidgets>=7.0.0->pydeck>=0.1.dev5->streamlit->simpletransformers->-r ../input/commonlit-readability-data/requirements.txt (line 1)) (0.4.4)\r\n",
      "Requirement already satisfied: nbclient<0.6.0,>=0.5.0 in /opt/conda/lib/python3.7/site-packages (from nbconvert->notebook>=4.4.1->widgetsnbextension~=3.5.0->ipywidgets>=7.0.0->pydeck>=0.1.dev5->streamlit->simpletransformers->-r ../input/commonlit-readability-data/requirements.txt (line 1)) (0.5.3)\r\n",
      "Requirement already satisfied: pandocfilters>=1.4.1 in /opt/conda/lib/python3.7/site-packages (from nbconvert->notebook>=4.4.1->widgetsnbextension~=3.5.0->ipywidgets>=7.0.0->pydeck>=0.1.dev5->streamlit->simpletransformers->-r ../input/commonlit-readability-data/requirements.txt (line 1)) (1.4.2)\r\n",
      "Requirement already satisfied: jupyterlab-pygments in /opt/conda/lib/python3.7/site-packages (from nbconvert->notebook>=4.4.1->widgetsnbextension~=3.5.0->ipywidgets>=7.0.0->pydeck>=0.1.dev5->streamlit->simpletransformers->-r ../input/commonlit-readability-data/requirements.txt (line 1)) (0.1.2)\r\n",
      "Requirement already satisfied: bleach in /opt/conda/lib/python3.7/site-packages (from nbconvert->notebook>=4.4.1->widgetsnbextension~=3.5.0->ipywidgets>=7.0.0->pydeck>=0.1.dev5->streamlit->simpletransformers->-r ../input/commonlit-readability-data/requirements.txt (line 1)) (3.3.0)\r\n",
      "Requirement already satisfied: mistune<2,>=0.8.1 in /opt/conda/lib/python3.7/site-packages (from nbconvert->notebook>=4.4.1->widgetsnbextension~=3.5.0->ipywidgets>=7.0.0->pydeck>=0.1.dev5->streamlit->simpletransformers->-r ../input/commonlit-readability-data/requirements.txt (line 1)) (0.8.4)\r\n",
      "Requirement already satisfied: defusedxml in /opt/conda/lib/python3.7/site-packages (from nbconvert->notebook>=4.4.1->widgetsnbextension~=3.5.0->ipywidgets>=7.0.0->pydeck>=0.1.dev5->streamlit->simpletransformers->-r ../input/commonlit-readability-data/requirements.txt (line 1)) (0.7.1)\r\n",
      "Requirement already satisfied: nest-asyncio in /opt/conda/lib/python3.7/site-packages (from nbclient<0.6.0,>=0.5.0->nbconvert->notebook>=4.4.1->widgetsnbextension~=3.5.0->ipywidgets>=7.0.0->pydeck>=0.1.dev5->streamlit->simpletransformers->-r ../input/commonlit-readability-data/requirements.txt (line 1)) (1.4.3)\r\n",
      "Requirement already satisfied: async-generator in /opt/conda/lib/python3.7/site-packages (from nbclient<0.6.0,>=0.5.0->nbconvert->notebook>=4.4.1->widgetsnbextension~=3.5.0->ipywidgets>=7.0.0->pydeck>=0.1.dev5->streamlit->simpletransformers->-r ../input/commonlit-readability-data/requirements.txt (line 1)) (1.10)\r\n",
      "Requirement already satisfied: webencodings in /opt/conda/lib/python3.7/site-packages (from bleach->nbconvert->notebook>=4.4.1->widgetsnbextension~=3.5.0->ipywidgets>=7.0.0->pydeck>=0.1.dev5->streamlit->simpletransformers->-r ../input/commonlit-readability-data/requirements.txt (line 1)) (0.5.1)\r\n",
      "Requirement already satisfied: configparser>=3.8.1 in /opt/conda/lib/python3.7/site-packages (from wandb->simpletransformers->-r ../input/commonlit-readability-data/requirements.txt (line 1)) (5.0.2)\r\n",
      "Requirement already satisfied: docker-pycreds>=0.4.0 in /opt/conda/lib/python3.7/site-packages (from wandb->simpletransformers->-r ../input/commonlit-readability-data/requirements.txt (line 1)) (0.4.0)\r\n",
      "Requirement already satisfied: sentry-sdk>=0.4.0 in /opt/conda/lib/python3.7/site-packages (from wandb->simpletransformers->-r ../input/commonlit-readability-data/requirements.txt (line 1)) (1.0.0)\r\n",
      "Requirement already satisfied: psutil>=5.0.0 in /opt/conda/lib/python3.7/site-packages (from wandb->simpletransformers->-r ../input/commonlit-readability-data/requirements.txt (line 1)) (5.8.0)\r\n",
      "Requirement already satisfied: promise<3,>=2.0 in /opt/conda/lib/python3.7/site-packages (from wandb->simpletransformers->-r ../input/commonlit-readability-data/requirements.txt (line 1)) (2.3)\r\n",
      "Requirement already satisfied: subprocess32>=3.5.3 in /opt/conda/lib/python3.7/site-packages (from wandb->simpletransformers->-r ../input/commonlit-readability-data/requirements.txt (line 1)) (3.5.4)\r\n",
      "Requirement already satisfied: pathtools in /opt/conda/lib/python3.7/site-packages (from wandb->simpletransformers->-r ../input/commonlit-readability-data/requirements.txt (line 1)) (0.1.2)\r\n",
      "Requirement already satisfied: shortuuid>=0.5.0 in /opt/conda/lib/python3.7/site-packages (from wandb->simpletransformers->-r ../input/commonlit-readability-data/requirements.txt (line 1)) (1.0.1)\r\n",
      "Requirement already satisfied: PyYAML in /opt/conda/lib/python3.7/site-packages (from wandb->simpletransformers->-r ../input/commonlit-readability-data/requirements.txt (line 1)) (5.3.1)\r\n",
      "Installing collected packages: tqdm, xxhash, watchdog, validators, pydeck, huggingface-hub, fsspec, botocore, base58, astor, streamlit, seqeval, datasets, simpletransformers, s3fs\r\n",
      "  Attempting uninstall: tqdm\r\n",
      "    Found existing installation: tqdm 4.59.0\r\n",
      "    Uninstalling tqdm-4.59.0:\r\n",
      "      Successfully uninstalled tqdm-4.59.0\r\n",
      "  Attempting uninstall: fsspec\r\n",
      "    Found existing installation: fsspec 0.8.7\r\n",
      "    Uninstalling fsspec-0.8.7:\r\n",
      "      Successfully uninstalled fsspec-0.8.7\r\n",
      "  Attempting uninstall: botocore\r\n",
      "    Found existing installation: botocore 1.20.53\r\n",
      "    Uninstalling botocore-1.20.53:\r\n",
      "      Successfully uninstalled botocore-1.20.53\r\n",
      "  Attempting uninstall: s3fs\r\n",
      "    Found existing installation: s3fs 0.6.0\r\n",
      "    Uninstalling s3fs-0.6.0:\r\n",
      "      Successfully uninstalled s3fs-0.6.0\r\n",
      "\u001b[31mERROR: pip's dependency resolver does not currently take into account all the packages that are installed. This behaviour is the source of the following dependency conflicts.\r\n",
      "boto3 1.17.53 requires botocore<1.21.0,>=1.20.53, but you have botocore 1.20.49 which is incompatible.\u001b[0m\r\n",
      "Successfully installed astor-0.8.1 base58-2.1.0 botocore-1.20.49 datasets-1.8.0 fsspec-2021.6.0 huggingface-hub-0.0.8 pydeck-0.6.2 s3fs-2021.6.0 seqeval-1.2.2 simpletransformers-0.61.6 streamlit-0.83.0 tqdm-4.49.0 validators-0.18.2 watchdog-2.1.2 xxhash-2.0.2\r\n"
     ]
    }
   ],
   "source": [
    "import os\n",
    "import shutil\n",
    "if os.path.exists('/kaggle/temp/wheels'):\n",
    "    shutil.rmtree('/kaggle/temp/wheels')\n",
    "if os.path.exists('/kaggle/working/wheels'):\n",
    "    shutil.rmtree('/kaggle/working/wheels')\n",
    "!unzip -q ../input/commonlit-readability-data/wheels.zip -d /kaggle/working/wheels \n",
    "!pip install \\\n",
    "    --requirement ../input/commonlit-readability-data/requirements.txt \\\n",
    "    --no-index \\\n",
    "    --find-links /kaggle/working/wheels\n"
   ]
  },
  {
   "cell_type": "code",
   "execution_count": 3,
   "id": "indirect-perth",
   "metadata": {
    "execution": {
     "iopub.execute_input": "2021-06-19T12:45:00.115926Z",
     "iopub.status.busy": "2021-06-19T12:45:00.114733Z",
     "iopub.status.idle": "2021-06-19T12:45:00.286112Z",
     "shell.execute_reply": "2021-06-19T12:45:00.285483Z",
     "shell.execute_reply.started": "2021-06-19T12:41:34.774819Z"
    },
    "papermill": {
     "duration": 0.202806,
     "end_time": "2021-06-19T12:45:00.286291",
     "exception": false,
     "start_time": "2021-06-19T12:45:00.083485",
     "status": "completed"
    },
    "tags": []
   },
   "outputs": [
    {
     "data": {
      "text/plain": [
       "'2021.06.0'"
      ]
     },
     "execution_count": 3,
     "metadata": {},
     "output_type": "execute_result"
    }
   ],
   "source": [
    "# !conda install ../input/commonlit-readability-data/fsspec-2021.6.0-pyhd8ed1ab_0.tar.bz2 --offline --force-reinstall\n",
    "import fsspec\n",
    "fsspec.__version__"
   ]
  },
  {
   "cell_type": "code",
   "execution_count": null,
   "id": "unexpected-competition",
   "metadata": {
    "papermill": {
     "duration": 0.022474,
     "end_time": "2021-06-19T12:45:00.331776",
     "exception": false,
     "start_time": "2021-06-19T12:45:00.309302",
     "status": "completed"
    },
    "tags": []
   },
   "outputs": [],
   "source": []
  },
  {
   "cell_type": "code",
   "execution_count": 4,
   "id": "operational-runner",
   "metadata": {
    "execution": {
     "iopub.execute_input": "2021-06-19T12:45:00.382036Z",
     "iopub.status.busy": "2021-06-19T12:45:00.381287Z",
     "iopub.status.idle": "2021-06-19T12:45:26.927099Z",
     "shell.execute_reply": "2021-06-19T12:45:26.927821Z",
     "shell.execute_reply.started": "2021-06-19T12:41:13.707593Z"
    },
    "papermill": {
     "duration": 26.573269,
     "end_time": "2021-06-19T12:45:26.928022",
     "exception": false,
     "start_time": "2021-06-19T12:45:00.354753",
     "status": "completed"
    },
    "tags": []
   },
   "outputs": [
    {
     "data": {
      "application/vnd.jupyter.widget-view+json": {
       "model_id": "59b4d856220d431c8beabe98d8b48506",
       "version_major": 2,
       "version_minor": 0
      },
      "text/plain": [
       "HBox(children=(FloatProgress(value=0.0, max=7.0), HTML(value='')))"
      ]
     },
     "metadata": {},
     "output_type": "display_data"
    },
    {
     "name": "stdout",
     "output_type": "stream",
     "text": [
      "\n"
     ]
    },
    {
     "data": {
      "application/vnd.jupyter.widget-view+json": {
       "model_id": "01dae82988334da7967f2e01b61ff368",
       "version_major": 2,
       "version_minor": 0
      },
      "text/plain": [
       "HBox(children=(FloatProgress(value=0.0, max=1.0), HTML(value='')))"
      ]
     },
     "metadata": {},
     "output_type": "display_data"
    },
    {
     "name": "stdout",
     "output_type": "stream",
     "text": [
      "\n"
     ]
    },
    {
     "data": {
      "text/plain": [
       "array([-0.56738281,  0.06671143, -0.38720703, -2.0234375 , -1.88183594,\n",
       "       -0.90527344,  1.08300781])"
      ]
     },
     "execution_count": 4,
     "metadata": {},
     "output_type": "execute_result"
    }
   ],
   "source": [
    "import pickle\n",
    "# pickle.dump(model,open('roberta_model.pickle','wb'))\n",
    "model = pickle.load(open('../input/commonlit-readability2-model/roberta_model.pickle','rb'))\n",
    "predictions, raw_outputs = model.predict(test_data)\n",
    "predictions"
   ]
  },
  {
   "cell_type": "code",
   "execution_count": 5,
   "id": "chinese-small",
   "metadata": {
    "execution": {
     "iopub.execute_input": "2021-06-19T12:45:26.985311Z",
     "iopub.status.busy": "2021-06-19T12:45:26.984197Z",
     "iopub.status.idle": "2021-06-19T12:45:27.003013Z",
     "shell.execute_reply": "2021-06-19T12:45:27.003494Z",
     "shell.execute_reply.started": "2021-06-19T12:41:34.751928Z"
    },
    "papermill": {
     "duration": 0.051241,
     "end_time": "2021-06-19T12:45:27.003630",
     "exception": false,
     "start_time": "2021-06-19T12:45:26.952389",
     "status": "completed"
    },
    "tags": []
   },
   "outputs": [
    {
     "name": "stderr",
     "output_type": "stream",
     "text": [
      "/opt/conda/lib/python3.7/site-packages/ipykernel_launcher.py:1: SettingWithCopyWarning: \n",
      "A value is trying to be set on a copy of a slice from a DataFrame.\n",
      "Try using .loc[row_indexer,col_indexer] = value instead\n",
      "\n",
      "See the caveats in the documentation: https://pandas.pydata.org/pandas-docs/stable/user_guide/indexing.html#returning-a-view-versus-a-copy\n",
      "  \"\"\"Entry point for launching an IPython kernel.\n"
     ]
    },
    {
     "data": {
      "text/html": [
       "<div>\n",
       "<style scoped>\n",
       "    .dataframe tbody tr th:only-of-type {\n",
       "        vertical-align: middle;\n",
       "    }\n",
       "\n",
       "    .dataframe tbody tr th {\n",
       "        vertical-align: top;\n",
       "    }\n",
       "\n",
       "    .dataframe thead th {\n",
       "        text-align: right;\n",
       "    }\n",
       "</style>\n",
       "<table border=\"1\" class=\"dataframe\">\n",
       "  <thead>\n",
       "    <tr style=\"text-align: right;\">\n",
       "      <th></th>\n",
       "      <th>id</th>\n",
       "      <th>target</th>\n",
       "    </tr>\n",
       "  </thead>\n",
       "  <tbody>\n",
       "    <tr>\n",
       "      <th>0</th>\n",
       "      <td>c0f722661</td>\n",
       "      <td>-0.567383</td>\n",
       "    </tr>\n",
       "    <tr>\n",
       "      <th>1</th>\n",
       "      <td>f0953f0a5</td>\n",
       "      <td>0.066711</td>\n",
       "    </tr>\n",
       "    <tr>\n",
       "      <th>2</th>\n",
       "      <td>0df072751</td>\n",
       "      <td>-0.387207</td>\n",
       "    </tr>\n",
       "    <tr>\n",
       "      <th>3</th>\n",
       "      <td>04caf4e0c</td>\n",
       "      <td>-2.023438</td>\n",
       "    </tr>\n",
       "    <tr>\n",
       "      <th>4</th>\n",
       "      <td>0e63f8bea</td>\n",
       "      <td>-1.881836</td>\n",
       "    </tr>\n",
       "    <tr>\n",
       "      <th>5</th>\n",
       "      <td>12537fe78</td>\n",
       "      <td>-0.905273</td>\n",
       "    </tr>\n",
       "    <tr>\n",
       "      <th>6</th>\n",
       "      <td>965e592c0</td>\n",
       "      <td>1.083008</td>\n",
       "    </tr>\n",
       "  </tbody>\n",
       "</table>\n",
       "</div>"
      ],
      "text/plain": [
       "          id    target\n",
       "0  c0f722661 -0.567383\n",
       "1  f0953f0a5  0.066711\n",
       "2  0df072751 -0.387207\n",
       "3  04caf4e0c -2.023438\n",
       "4  0e63f8bea -1.881836\n",
       "5  12537fe78 -0.905273\n",
       "6  965e592c0  1.083008"
      ]
     },
     "execution_count": 5,
     "metadata": {},
     "output_type": "execute_result"
    }
   ],
   "source": [
    "submit['target'] = predictions\n",
    "submit.to_csv('submission.csv',index = False)\n",
    "submit"
   ]
  }
 ],
 "metadata": {
  "kernelspec": {
   "display_name": "Python 3",
   "language": "python",
   "name": "python3"
  },
  "language_info": {
   "codemirror_mode": {
    "name": "ipython",
    "version": 3
   },
   "file_extension": ".py",
   "mimetype": "text/x-python",
   "name": "python",
   "nbconvert_exporter": "python",
   "pygments_lexer": "ipython3",
   "version": "3.7.10"
  },
  "papermill": {
   "default_parameters": {},
   "duration": 57.887661,
   "end_time": "2021-06-19T12:45:29.677168",
   "environment_variables": {},
   "exception": null,
   "input_path": "__notebook__.ipynb",
   "output_path": "__notebook__.ipynb",
   "parameters": {},
   "start_time": "2021-06-19T12:44:31.789507",
   "version": "2.3.3"
  },
  "widgets": {
   "application/vnd.jupyter.widget-state+json": {
    "state": {
     "01dae82988334da7967f2e01b61ff368": {
      "model_module": "@jupyter-widgets/controls",
      "model_module_version": "1.5.0",
      "model_name": "HBoxModel",
      "state": {
       "_dom_classes": [],
       "_model_module": "@jupyter-widgets/controls",
       "_model_module_version": "1.5.0",
       "_model_name": "HBoxModel",
       "_view_count": null,
       "_view_module": "@jupyter-widgets/controls",
       "_view_module_version": "1.5.0",
       "_view_name": "HBoxView",
       "box_style": "",
       "children": [
        "IPY_MODEL_51ebd29915ee410da3616535f76913a9",
        "IPY_MODEL_c7114ad434de4919acaf856a64de762d"
       ],
       "layout": "IPY_MODEL_774f5dff3b5c4617ace7996d8899a7d2"
      }
     },
     "13be721841344dd897d5f85ec0f76776": {
      "model_module": "@jupyter-widgets/controls",
      "model_module_version": "1.5.0",
      "model_name": "DescriptionStyleModel",
      "state": {
       "_model_module": "@jupyter-widgets/controls",
       "_model_module_version": "1.5.0",
       "_model_name": "DescriptionStyleModel",
       "_view_count": null,
       "_view_module": "@jupyter-widgets/base",
       "_view_module_version": "1.2.0",
       "_view_name": "StyleView",
       "description_width": ""
      }
     },
     "2861f5f1bd004da49a4febafdddcb9ef": {
      "model_module": "@jupyter-widgets/base",
      "model_module_version": "1.2.0",
      "model_name": "LayoutModel",
      "state": {
       "_model_module": "@jupyter-widgets/base",
       "_model_module_version": "1.2.0",
       "_model_name": "LayoutModel",
       "_view_count": null,
       "_view_module": "@jupyter-widgets/base",
       "_view_module_version": "1.2.0",
       "_view_name": "LayoutView",
       "align_content": null,
       "align_items": null,
       "align_self": null,
       "border": null,
       "bottom": null,
       "display": null,
       "flex": null,
       "flex_flow": null,
       "grid_area": null,
       "grid_auto_columns": null,
       "grid_auto_flow": null,
       "grid_auto_rows": null,
       "grid_column": null,
       "grid_gap": null,
       "grid_row": null,
       "grid_template_areas": null,
       "grid_template_columns": null,
       "grid_template_rows": null,
       "height": null,
       "justify_content": null,
       "justify_items": null,
       "left": null,
       "margin": null,
       "max_height": null,
       "max_width": null,
       "min_height": null,
       "min_width": null,
       "object_fit": null,
       "object_position": null,
       "order": null,
       "overflow": null,
       "overflow_x": null,
       "overflow_y": null,
       "padding": null,
       "right": null,
       "top": null,
       "visibility": null,
       "width": null
      }
     },
     "51ebd29915ee410da3616535f76913a9": {
      "model_module": "@jupyter-widgets/controls",
      "model_module_version": "1.5.0",
      "model_name": "FloatProgressModel",
      "state": {
       "_dom_classes": [],
       "_model_module": "@jupyter-widgets/controls",
       "_model_module_version": "1.5.0",
       "_model_name": "FloatProgressModel",
       "_view_count": null,
       "_view_module": "@jupyter-widgets/controls",
       "_view_module_version": "1.5.0",
       "_view_name": "ProgressView",
       "bar_style": "success",
       "description": "",
       "description_tooltip": null,
       "layout": "IPY_MODEL_2861f5f1bd004da49a4febafdddcb9ef",
       "max": 1,
       "min": 0,
       "orientation": "horizontal",
       "style": "IPY_MODEL_a7b0d6113707462796e0280fe5b9e487",
       "value": 1
      }
     },
     "59b4d856220d431c8beabe98d8b48506": {
      "model_module": "@jupyter-widgets/controls",
      "model_module_version": "1.5.0",
      "model_name": "HBoxModel",
      "state": {
       "_dom_classes": [],
       "_model_module": "@jupyter-widgets/controls",
       "_model_module_version": "1.5.0",
       "_model_name": "HBoxModel",
       "_view_count": null,
       "_view_module": "@jupyter-widgets/controls",
       "_view_module_version": "1.5.0",
       "_view_name": "HBoxView",
       "box_style": "",
       "children": [
        "IPY_MODEL_abaacd76f2a544f2951f977cb2996327",
        "IPY_MODEL_ee96e77bb4f2462c82930107b585083d"
       ],
       "layout": "IPY_MODEL_b917dd151bbb4c6a827327198ec4fad4"
      }
     },
     "5d8f41ddcfe14cf5bf3862cde6811545": {
      "model_module": "@jupyter-widgets/controls",
      "model_module_version": "1.5.0",
      "model_name": "DescriptionStyleModel",
      "state": {
       "_model_module": "@jupyter-widgets/controls",
       "_model_module_version": "1.5.0",
       "_model_name": "DescriptionStyleModel",
       "_view_count": null,
       "_view_module": "@jupyter-widgets/base",
       "_view_module_version": "1.2.0",
       "_view_name": "StyleView",
       "description_width": ""
      }
     },
     "61f94cd3dfcf4128a1b29deab59128fd": {
      "model_module": "@jupyter-widgets/base",
      "model_module_version": "1.2.0",
      "model_name": "LayoutModel",
      "state": {
       "_model_module": "@jupyter-widgets/base",
       "_model_module_version": "1.2.0",
       "_model_name": "LayoutModel",
       "_view_count": null,
       "_view_module": "@jupyter-widgets/base",
       "_view_module_version": "1.2.0",
       "_view_name": "LayoutView",
       "align_content": null,
       "align_items": null,
       "align_self": null,
       "border": null,
       "bottom": null,
       "display": null,
       "flex": null,
       "flex_flow": null,
       "grid_area": null,
       "grid_auto_columns": null,
       "grid_auto_flow": null,
       "grid_auto_rows": null,
       "grid_column": null,
       "grid_gap": null,
       "grid_row": null,
       "grid_template_areas": null,
       "grid_template_columns": null,
       "grid_template_rows": null,
       "height": null,
       "justify_content": null,
       "justify_items": null,
       "left": null,
       "margin": null,
       "max_height": null,
       "max_width": null,
       "min_height": null,
       "min_width": null,
       "object_fit": null,
       "object_position": null,
       "order": null,
       "overflow": null,
       "overflow_x": null,
       "overflow_y": null,
       "padding": null,
       "right": null,
       "top": null,
       "visibility": null,
       "width": null
      }
     },
     "774f5dff3b5c4617ace7996d8899a7d2": {
      "model_module": "@jupyter-widgets/base",
      "model_module_version": "1.2.0",
      "model_name": "LayoutModel",
      "state": {
       "_model_module": "@jupyter-widgets/base",
       "_model_module_version": "1.2.0",
       "_model_name": "LayoutModel",
       "_view_count": null,
       "_view_module": "@jupyter-widgets/base",
       "_view_module_version": "1.2.0",
       "_view_name": "LayoutView",
       "align_content": null,
       "align_items": null,
       "align_self": null,
       "border": null,
       "bottom": null,
       "display": null,
       "flex": null,
       "flex_flow": null,
       "grid_area": null,
       "grid_auto_columns": null,
       "grid_auto_flow": null,
       "grid_auto_rows": null,
       "grid_column": null,
       "grid_gap": null,
       "grid_row": null,
       "grid_template_areas": null,
       "grid_template_columns": null,
       "grid_template_rows": null,
       "height": null,
       "justify_content": null,
       "justify_items": null,
       "left": null,
       "margin": null,
       "max_height": null,
       "max_width": null,
       "min_height": null,
       "min_width": null,
       "object_fit": null,
       "object_position": null,
       "order": null,
       "overflow": null,
       "overflow_x": null,
       "overflow_y": null,
       "padding": null,
       "right": null,
       "top": null,
       "visibility": null,
       "width": null
      }
     },
     "827b412acba14d42a34ce36027561326": {
      "model_module": "@jupyter-widgets/base",
      "model_module_version": "1.2.0",
      "model_name": "LayoutModel",
      "state": {
       "_model_module": "@jupyter-widgets/base",
       "_model_module_version": "1.2.0",
       "_model_name": "LayoutModel",
       "_view_count": null,
       "_view_module": "@jupyter-widgets/base",
       "_view_module_version": "1.2.0",
       "_view_name": "LayoutView",
       "align_content": null,
       "align_items": null,
       "align_self": null,
       "border": null,
       "bottom": null,
       "display": null,
       "flex": null,
       "flex_flow": null,
       "grid_area": null,
       "grid_auto_columns": null,
       "grid_auto_flow": null,
       "grid_auto_rows": null,
       "grid_column": null,
       "grid_gap": null,
       "grid_row": null,
       "grid_template_areas": null,
       "grid_template_columns": null,
       "grid_template_rows": null,
       "height": null,
       "justify_content": null,
       "justify_items": null,
       "left": null,
       "margin": null,
       "max_height": null,
       "max_width": null,
       "min_height": null,
       "min_width": null,
       "object_fit": null,
       "object_position": null,
       "order": null,
       "overflow": null,
       "overflow_x": null,
       "overflow_y": null,
       "padding": null,
       "right": null,
       "top": null,
       "visibility": null,
       "width": null
      }
     },
     "a7b0d6113707462796e0280fe5b9e487": {
      "model_module": "@jupyter-widgets/controls",
      "model_module_version": "1.5.0",
      "model_name": "ProgressStyleModel",
      "state": {
       "_model_module": "@jupyter-widgets/controls",
       "_model_module_version": "1.5.0",
       "_model_name": "ProgressStyleModel",
       "_view_count": null,
       "_view_module": "@jupyter-widgets/base",
       "_view_module_version": "1.2.0",
       "_view_name": "StyleView",
       "bar_color": null,
       "description_width": "initial"
      }
     },
     "abaacd76f2a544f2951f977cb2996327": {
      "model_module": "@jupyter-widgets/controls",
      "model_module_version": "1.5.0",
      "model_name": "FloatProgressModel",
      "state": {
       "_dom_classes": [],
       "_model_module": "@jupyter-widgets/controls",
       "_model_module_version": "1.5.0",
       "_model_name": "FloatProgressModel",
       "_view_count": null,
       "_view_module": "@jupyter-widgets/controls",
       "_view_module_version": "1.5.0",
       "_view_name": "ProgressView",
       "bar_style": "danger",
       "description": "",
       "description_tooltip": null,
       "layout": "IPY_MODEL_c94a59cfd7df4331b8d7c3256f072f43",
       "max": 7,
       "min": 0,
       "orientation": "horizontal",
       "style": "IPY_MODEL_dab3cdbd83a74838a1eb49d109b9f2a7",
       "value": 1
      }
     },
     "b917dd151bbb4c6a827327198ec4fad4": {
      "model_module": "@jupyter-widgets/base",
      "model_module_version": "1.2.0",
      "model_name": "LayoutModel",
      "state": {
       "_model_module": "@jupyter-widgets/base",
       "_model_module_version": "1.2.0",
       "_model_name": "LayoutModel",
       "_view_count": null,
       "_view_module": "@jupyter-widgets/base",
       "_view_module_version": "1.2.0",
       "_view_name": "LayoutView",
       "align_content": null,
       "align_items": null,
       "align_self": null,
       "border": null,
       "bottom": null,
       "display": null,
       "flex": null,
       "flex_flow": null,
       "grid_area": null,
       "grid_auto_columns": null,
       "grid_auto_flow": null,
       "grid_auto_rows": null,
       "grid_column": null,
       "grid_gap": null,
       "grid_row": null,
       "grid_template_areas": null,
       "grid_template_columns": null,
       "grid_template_rows": null,
       "height": null,
       "justify_content": null,
       "justify_items": null,
       "left": null,
       "margin": null,
       "max_height": null,
       "max_width": null,
       "min_height": null,
       "min_width": null,
       "object_fit": null,
       "object_position": null,
       "order": null,
       "overflow": null,
       "overflow_x": null,
       "overflow_y": null,
       "padding": null,
       "right": null,
       "top": null,
       "visibility": null,
       "width": null
      }
     },
     "c7114ad434de4919acaf856a64de762d": {
      "model_module": "@jupyter-widgets/controls",
      "model_module_version": "1.5.0",
      "model_name": "HTMLModel",
      "state": {
       "_dom_classes": [],
       "_model_module": "@jupyter-widgets/controls",
       "_model_module_version": "1.5.0",
       "_model_name": "HTMLModel",
       "_view_count": null,
       "_view_module": "@jupyter-widgets/controls",
       "_view_module_version": "1.5.0",
       "_view_name": "HTMLView",
       "description": "",
       "description_tooltip": null,
       "layout": "IPY_MODEL_827b412acba14d42a34ce36027561326",
       "placeholder": "​",
       "style": "IPY_MODEL_5d8f41ddcfe14cf5bf3862cde6811545",
       "value": "&lt;tqdm.auto.tqdm object at 0x7f32b4c1b110&gt;"
      }
     },
     "c94a59cfd7df4331b8d7c3256f072f43": {
      "model_module": "@jupyter-widgets/base",
      "model_module_version": "1.2.0",
      "model_name": "LayoutModel",
      "state": {
       "_model_module": "@jupyter-widgets/base",
       "_model_module_version": "1.2.0",
       "_model_name": "LayoutModel",
       "_view_count": null,
       "_view_module": "@jupyter-widgets/base",
       "_view_module_version": "1.2.0",
       "_view_name": "LayoutView",
       "align_content": null,
       "align_items": null,
       "align_self": null,
       "border": null,
       "bottom": null,
       "display": null,
       "flex": null,
       "flex_flow": null,
       "grid_area": null,
       "grid_auto_columns": null,
       "grid_auto_flow": null,
       "grid_auto_rows": null,
       "grid_column": null,
       "grid_gap": null,
       "grid_row": null,
       "grid_template_areas": null,
       "grid_template_columns": null,
       "grid_template_rows": null,
       "height": null,
       "justify_content": null,
       "justify_items": null,
       "left": null,
       "margin": null,
       "max_height": null,
       "max_width": null,
       "min_height": null,
       "min_width": null,
       "object_fit": null,
       "object_position": null,
       "order": null,
       "overflow": null,
       "overflow_x": null,
       "overflow_y": null,
       "padding": null,
       "right": null,
       "top": null,
       "visibility": null,
       "width": null
      }
     },
     "dab3cdbd83a74838a1eb49d109b9f2a7": {
      "model_module": "@jupyter-widgets/controls",
      "model_module_version": "1.5.0",
      "model_name": "ProgressStyleModel",
      "state": {
       "_model_module": "@jupyter-widgets/controls",
       "_model_module_version": "1.5.0",
       "_model_name": "ProgressStyleModel",
       "_view_count": null,
       "_view_module": "@jupyter-widgets/base",
       "_view_module_version": "1.2.0",
       "_view_name": "StyleView",
       "bar_color": null,
       "description_width": "initial"
      }
     },
     "ee96e77bb4f2462c82930107b585083d": {
      "model_module": "@jupyter-widgets/controls",
      "model_module_version": "1.5.0",
      "model_name": "HTMLModel",
      "state": {
       "_dom_classes": [],
       "_model_module": "@jupyter-widgets/controls",
       "_model_module_version": "1.5.0",
       "_model_name": "HTMLModel",
       "_view_count": null,
       "_view_module": "@jupyter-widgets/controls",
       "_view_module_version": "1.5.0",
       "_view_name": "HTMLView",
       "description": "",
       "description_tooltip": null,
       "layout": "IPY_MODEL_61f94cd3dfcf4128a1b29deab59128fd",
       "placeholder": "​",
       "style": "IPY_MODEL_13be721841344dd897d5f85ec0f76776",
       "value": "&lt;tqdm.auto.tqdm object at 0x7f32b49887d0&gt;"
      }
     }
    },
    "version_major": 2,
    "version_minor": 0
   }
  }
 },
 "nbformat": 4,
 "nbformat_minor": 5
}