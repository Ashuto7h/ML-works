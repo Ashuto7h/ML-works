{
  "nbformat": 4,
  "nbformat_minor": 5,
  "metadata": {
    "kernelspec": {
      "display_name": "Python 3",
      "language": "python",
      "name": "python3"
    },
    "language_info": {
      "codemirror_mode": {
        "name": "ipython",
        "version": 3
      },
      "file_extension": ".py",
      "mimetype": "text/x-python",
      "name": "python",
      "nbconvert_exporter": "python",
      "pygments_lexer": "ipython3",
      "version": "3.8.5-final"
    },
    "colab": {
      "name": "Copy of predict_churn_risk.ipynb",
      "provenance": [],
      "collapsed_sections": [
        "knowing-precipitation",
        "pWoEINZmzns4"
      ],
      "toc_visible": true,
      "include_colab_link": true
    }
  },
  "cells": [
    {
      "cell_type": "markdown",
      "metadata": {
        "id": "view-in-github",
        "colab_type": "text"
      },
      "source": [
        "<a href=\"https://colab.research.google.com/github/Ashuto7h/ML-works/blob/main/predict_churn_risk.ipynb\" target=\"_parent\"><img src=\"https://colab.research.google.com/assets/colab-badge.svg\" alt=\"Open In Colab\"/></a>"
      ]
    },
    {
      "cell_type": "code",
      "metadata": {
        "id": "increased-registrar"
      },
      "source": [
        "import pandas\n",
        "import numpy\n",
        "import matplotlib.pyplot as pyplot\n",
        "import seaborn\n",
        "\n",
        "train = pandas.read_csv('https://raw.githubusercontent.com/Ashuto7h/ML-works/main/predict_churn/files/train.csv')\n",
        "test = pandas.read_csv('https://raw.githubusercontent.com/Ashuto7h/ML-works/main/predict_churn/files/test.csv')"
      ],
      "id": "increased-registrar",
      "execution_count": 313,
      "outputs": []
    },
    {
      "cell_type": "code",
      "metadata": {
        "id": "fixed-travel",
        "colab": {
          "base_uri": "https://localhost:8080/",
          "height": 300
        },
        "outputId": "6ff6fe0a-3ce0-448a-b4c9-aef0b522eb3e"
      },
      "source": [
        "train.describe()\n",
        "# print(test.describe())"
      ],
      "id": "fixed-travel",
      "execution_count": 314,
      "outputs": [
        {
          "output_type": "execute_result",
          "data": {
            "text/html": [
              "<div>\n",
              "<style scoped>\n",
              "    .dataframe tbody tr th:only-of-type {\n",
              "        vertical-align: middle;\n",
              "    }\n",
              "\n",
              "    .dataframe tbody tr th {\n",
              "        vertical-align: top;\n",
              "    }\n",
              "\n",
              "    .dataframe thead th {\n",
              "        text-align: right;\n",
              "    }\n",
              "</style>\n",
              "<table border=\"1\" class=\"dataframe\">\n",
              "  <thead>\n",
              "    <tr style=\"text-align: right;\">\n",
              "      <th></th>\n",
              "      <th>age</th>\n",
              "      <th>days_since_last_login</th>\n",
              "      <th>avg_time_spent</th>\n",
              "      <th>avg_transaction_value</th>\n",
              "      <th>points_in_wallet</th>\n",
              "      <th>churn_risk_score</th>\n",
              "    </tr>\n",
              "  </thead>\n",
              "  <tbody>\n",
              "    <tr>\n",
              "      <th>count</th>\n",
              "      <td>36992.000000</td>\n",
              "      <td>36992.000000</td>\n",
              "      <td>36992.000000</td>\n",
              "      <td>36992.000000</td>\n",
              "      <td>33549.000000</td>\n",
              "      <td>36992.000000</td>\n",
              "    </tr>\n",
              "    <tr>\n",
              "      <th>mean</th>\n",
              "      <td>37.118161</td>\n",
              "      <td>-41.915576</td>\n",
              "      <td>243.472334</td>\n",
              "      <td>29271.194003</td>\n",
              "      <td>686.882199</td>\n",
              "      <td>3.463397</td>\n",
              "    </tr>\n",
              "    <tr>\n",
              "      <th>std</th>\n",
              "      <td>15.867412</td>\n",
              "      <td>228.819900</td>\n",
              "      <td>398.289149</td>\n",
              "      <td>19444.806226</td>\n",
              "      <td>194.063624</td>\n",
              "      <td>1.409661</td>\n",
              "    </tr>\n",
              "    <tr>\n",
              "      <th>min</th>\n",
              "      <td>10.000000</td>\n",
              "      <td>-999.000000</td>\n",
              "      <td>-2814.109110</td>\n",
              "      <td>800.460000</td>\n",
              "      <td>-760.661236</td>\n",
              "      <td>-1.000000</td>\n",
              "    </tr>\n",
              "    <tr>\n",
              "      <th>25%</th>\n",
              "      <td>23.000000</td>\n",
              "      <td>8.000000</td>\n",
              "      <td>60.102500</td>\n",
              "      <td>14177.540000</td>\n",
              "      <td>616.150000</td>\n",
              "      <td>3.000000</td>\n",
              "    </tr>\n",
              "    <tr>\n",
              "      <th>50%</th>\n",
              "      <td>37.000000</td>\n",
              "      <td>12.000000</td>\n",
              "      <td>161.765000</td>\n",
              "      <td>27554.485000</td>\n",
              "      <td>697.620000</td>\n",
              "      <td>4.000000</td>\n",
              "    </tr>\n",
              "    <tr>\n",
              "      <th>75%</th>\n",
              "      <td>51.000000</td>\n",
              "      <td>16.000000</td>\n",
              "      <td>356.515000</td>\n",
              "      <td>40855.110000</td>\n",
              "      <td>763.950000</td>\n",
              "      <td>5.000000</td>\n",
              "    </tr>\n",
              "    <tr>\n",
              "      <th>max</th>\n",
              "      <td>64.000000</td>\n",
              "      <td>26.000000</td>\n",
              "      <td>3235.578521</td>\n",
              "      <td>99914.050000</td>\n",
              "      <td>2069.069761</td>\n",
              "      <td>5.000000</td>\n",
              "    </tr>\n",
              "  </tbody>\n",
              "</table>\n",
              "</div>"
            ],
            "text/plain": [
              "                age  days_since_last_login  ...  points_in_wallet  churn_risk_score\n",
              "count  36992.000000           36992.000000  ...      33549.000000      36992.000000\n",
              "mean      37.118161             -41.915576  ...        686.882199          3.463397\n",
              "std       15.867412             228.819900  ...        194.063624          1.409661\n",
              "min       10.000000            -999.000000  ...       -760.661236         -1.000000\n",
              "25%       23.000000               8.000000  ...        616.150000          3.000000\n",
              "50%       37.000000              12.000000  ...        697.620000          4.000000\n",
              "75%       51.000000              16.000000  ...        763.950000          5.000000\n",
              "max       64.000000              26.000000  ...       2069.069761          5.000000\n",
              "\n",
              "[8 rows x 6 columns]"
            ]
          },
          "metadata": {
            "tags": []
          },
          "execution_count": 314
        }
      ]
    },
    {
      "cell_type": "code",
      "metadata": {
        "id": "everyday-worship",
        "colab": {
          "base_uri": "https://localhost:8080/"
        },
        "outputId": "6cebcef6-d788-4dbe-8cce-425f0b64b470"
      },
      "source": [
        "train.info()\n",
        "test.info()"
      ],
      "id": "everyday-worship",
      "execution_count": 315,
      "outputs": [
        {
          "output_type": "stream",
          "text": [
            "<class 'pandas.core.frame.DataFrame'>\n",
            "RangeIndex: 36992 entries, 0 to 36991\n",
            "Data columns (total 25 columns):\n",
            " #   Column                        Non-Null Count  Dtype  \n",
            "---  ------                        --------------  -----  \n",
            " 0   customer_id                   36992 non-null  object \n",
            " 1   Name                          36992 non-null  object \n",
            " 2   age                           36992 non-null  int64  \n",
            " 3   gender                        36992 non-null  object \n",
            " 4   security_no                   36992 non-null  object \n",
            " 5   region_category               31564 non-null  object \n",
            " 6   membership_category           36992 non-null  object \n",
            " 7   joining_date                  36992 non-null  object \n",
            " 8   joined_through_referral       36992 non-null  object \n",
            " 9   referral_id                   36992 non-null  object \n",
            " 10  preferred_offer_types         36704 non-null  object \n",
            " 11  medium_of_operation           36992 non-null  object \n",
            " 12  internet_option               36992 non-null  object \n",
            " 13  last_visit_time               36992 non-null  object \n",
            " 14  days_since_last_login         36992 non-null  int64  \n",
            " 15  avg_time_spent                36992 non-null  float64\n",
            " 16  avg_transaction_value         36992 non-null  float64\n",
            " 17  avg_frequency_login_days      36992 non-null  object \n",
            " 18  points_in_wallet              33549 non-null  float64\n",
            " 19  used_special_discount         36992 non-null  object \n",
            " 20  offer_application_preference  36992 non-null  object \n",
            " 21  past_complaint                36992 non-null  object \n",
            " 22  complaint_status              36992 non-null  object \n",
            " 23  feedback                      36992 non-null  object \n",
            " 24  churn_risk_score              36992 non-null  int64  \n",
            "dtypes: float64(3), int64(3), object(19)\n",
            "memory usage: 7.1+ MB\n",
            "<class 'pandas.core.frame.DataFrame'>\n",
            "RangeIndex: 19919 entries, 0 to 19918\n",
            "Data columns (total 24 columns):\n",
            " #   Column                        Non-Null Count  Dtype  \n",
            "---  ------                        --------------  -----  \n",
            " 0   customer_id                   19919 non-null  object \n",
            " 1   Name                          19919 non-null  object \n",
            " 2   age                           19919 non-null  int64  \n",
            " 3   gender                        19919 non-null  object \n",
            " 4   security_no                   19919 non-null  object \n",
            " 5   region_category               16971 non-null  object \n",
            " 6   membership_category           19919 non-null  object \n",
            " 7   joining_date                  19919 non-null  object \n",
            " 8   joined_through_referral       19919 non-null  object \n",
            " 9   referral_id                   19919 non-null  object \n",
            " 10  preferred_offer_types         19760 non-null  object \n",
            " 11  medium_of_operation           19919 non-null  object \n",
            " 12  internet_option               19919 non-null  object \n",
            " 13  last_visit_time               19919 non-null  object \n",
            " 14  days_since_last_login         19919 non-null  int64  \n",
            " 15  avg_time_spent                19919 non-null  float64\n",
            " 16  avg_transaction_value         19919 non-null  float64\n",
            " 17  avg_frequency_login_days      19919 non-null  object \n",
            " 18  points_in_wallet              17956 non-null  float64\n",
            " 19  used_special_discount         19919 non-null  object \n",
            " 20  offer_application_preference  19919 non-null  object \n",
            " 21  past_complaint                19919 non-null  object \n",
            " 22  complaint_status              19919 non-null  object \n",
            " 23  feedback                      19919 non-null  object \n",
            "dtypes: float64(3), int64(2), object(19)\n",
            "memory usage: 3.6+ MB\n"
          ],
          "name": "stdout"
        }
      ]
    },
    {
      "cell_type": "markdown",
      "metadata": {
        "id": "declared-conservative"
      },
      "source": [
        "## Univariate and Bivariate analysis\n",
        "#### 1. Customer Id\n",
        "total 36992 unique values. "
      ],
      "id": "declared-conservative"
    },
    {
      "cell_type": "markdown",
      "metadata": {
        "id": "knowing-precipitation"
      },
      "source": [
        "#### 2. Name - This field is not necessary\n"
      ],
      "id": "knowing-precipitation"
    },
    {
      "cell_type": "code",
      "metadata": {
        "id": "cutting-parts"
      },
      "source": [
        "del train['Name']\n",
        "del test['Name']"
      ],
      "id": "cutting-parts",
      "execution_count": 316,
      "outputs": []
    },
    {
      "cell_type": "markdown",
      "metadata": {
        "id": "mhh_e59jKuKV"
      },
      "source": [
        "#### 25. churn_risk_score"
      ],
      "id": "mhh_e59jKuKV"
    },
    {
      "cell_type": "code",
      "metadata": {
        "id": "UoqPryx9KuKW",
        "colab": {
          "base_uri": "https://localhost:8080/"
        },
        "outputId": "194c9599-bfcb-40a2-9d48-3c4d588f0d83"
      },
      "source": [
        "print(train['churn_risk_score'].value_counts())\n",
        "train['churn_risk_score'].replace(0,3,inplace=True)\n",
        "train['churn_risk_score'].replace(-1,3,inplace=True)\n",
        "train['churn_risk_score'].value_counts()"
      ],
      "id": "UoqPryx9KuKW",
      "execution_count": 317,
      "outputs": [
        {
          "output_type": "stream",
          "text": [
            " 3    10424\n",
            " 4    10185\n",
            " 5     9827\n",
            " 2     2741\n",
            " 1     2652\n",
            "-1     1163\n",
            "Name: churn_risk_score, dtype: int64\n"
          ],
          "name": "stdout"
        },
        {
          "output_type": "execute_result",
          "data": {
            "text/plain": [
              "3    11587\n",
              "4    10185\n",
              "5     9827\n",
              "2     2741\n",
              "1     2652\n",
              "Name: churn_risk_score, dtype: int64"
            ]
          },
          "metadata": {
            "tags": []
          },
          "execution_count": 317
        }
      ]
    },
    {
      "cell_type": "code",
      "metadata": {
        "colab": {
          "base_uri": "https://localhost:8080/",
          "height": 298
        },
        "id": "vuJEBYzyBi_4",
        "outputId": "43cfbbeb-abe7-4cfa-f370-f5d98ad4cf69"
      },
      "source": [
        "seaborn.countplot(data = train, x = 'churn_risk_score')"
      ],
      "id": "vuJEBYzyBi_4",
      "execution_count": 318,
      "outputs": [
        {
          "output_type": "execute_result",
          "data": {
            "text/plain": [
              "<matplotlib.axes._subplots.AxesSubplot at 0x7faede7f2790>"
            ]
          },
          "metadata": {
            "tags": []
          },
          "execution_count": 318
        },
        {
          "output_type": "display_data",
          "data": {
            "image/png": "[encoded data removed]",
            "text/plain": [
              "<Figure size 432x288 with 1 Axes>"
            ]
          },
          "metadata": {
            "tags": [],
            "needs_background": "light"
          }
        }
      ]
    },
    {
      "cell_type": "markdown",
      "metadata": {
        "id": "neither-tobago"
      },
      "source": [
        "#### 3. age "
      ],
      "id": "neither-tobago"
    },
    {
      "cell_type": "code",
      "metadata": {
        "id": "2Iyjrnu8KuKZ"
      },
      "source": [
        "train['age'].replace(0,int(train['age'].mean()),inplace=True)\n",
        "\n",
        "test['age'].replace(0,int(test['age'].mean()),inplace=True)"
      ],
      "id": "2Iyjrnu8KuKZ",
      "execution_count": 319,
      "outputs": []
    },
    {
      "cell_type": "code",
      "metadata": {
        "id": "Q8U1bJBMKuKZ",
        "colab": {
          "base_uri": "https://localhost:8080/",
          "height": 297
        },
        "outputId": "caef533a-b2b0-499e-ae0c-a0252cb6175e"
      },
      "source": [
        "seaborn.violinplot(data = train, x = 'churn_risk_score', y = 'age')"
      ],
      "id": "Q8U1bJBMKuKZ",
      "execution_count": 320,
      "outputs": [
        {
          "output_type": "execute_result",
          "data": {
            "text/plain": [
              "<matplotlib.axes._subplots.AxesSubplot at 0x7fae7d16e410>"
            ]
          },
          "metadata": {
            "tags": []
          },
          "execution_count": 320
        },
        {
          "output_type": "display_data",
          "data": {
            "image/png": "[encoded data removed]",
            "text/plain": [
              "<Figure size 432x288 with 1 Axes>"
            ]
          },
          "metadata": {
            "tags": [],
            "needs_background": "light"
          }
        }
      ]
    },
    {
      "cell_type": "markdown",
      "metadata": {
        "id": "4cg8cvO7Ffq5"
      },
      "source": [
        "__Conclusion__ : age doesn't have a major effect on target."
      ],
      "id": "4cg8cvO7Ffq5"
    },
    {
      "cell_type": "markdown",
      "metadata": {
        "id": "iXQ2ZOMjKuKc"
      },
      "source": [
        "#### 4. Gender"
      ],
      "id": "iXQ2ZOMjKuKc"
    },
    {
      "cell_type": "code",
      "metadata": {
        "id": "zSfmpzy9KuKd",
        "colab": {
          "base_uri": "https://localhost:8080/"
        },
        "outputId": "23c09a6d-6036-4733-8de5-15f9faa8d621"
      },
      "source": [
        "print(train['gender'].value_counts())\n",
        "train['gender'].replace('Unknown','F', inplace = True)\n",
        "print(train['gender'].value_counts())\n",
        "\n",
        "test['gender'].replace('Unknown','F', inplace = True)"
      ],
      "id": "zSfmpzy9KuKd",
      "execution_count": 321,
      "outputs": [
        {
          "output_type": "stream",
          "text": [
            "F          18490\n",
            "M          18443\n",
            "Unknown       59\n",
            "Name: gender, dtype: int64\n",
            "F    18549\n",
            "M    18443\n",
            "Name: gender, dtype: int64\n"
          ],
          "name": "stdout"
        }
      ]
    },
    {
      "cell_type": "code",
      "metadata": {
        "id": "DGxex1FyKuKf",
        "colab": {
          "base_uri": "https://localhost:8080/",
          "height": 297
        },
        "outputId": "03e9032d-0288-42e5-c09a-6e552612a8f1"
      },
      "source": [
        "seaborn.countplot(data=train, x = 'gender', hue = 'churn_risk_score')"
      ],
      "id": "DGxex1FyKuKf",
      "execution_count": 322,
      "outputs": [
        {
          "output_type": "execute_result",
          "data": {
            "text/plain": [
              "<matplotlib.axes._subplots.AxesSubplot at 0x7fae7d0f3d10>"
            ]
          },
          "metadata": {
            "tags": []
          },
          "execution_count": 322
        },
        {
          "output_type": "display_data",
          "data": {
            "image/png": "[encoded data removed]",
            "text/plain": [
              "<Figure size 432x288 with 1 Axes>"
            ]
          },
          "metadata": {
            "tags": [],
            "needs_background": "light"
          }
        }
      ]
    },
    {
      "cell_type": "markdown",
      "metadata": {
        "id": "c7XNI2soFxGv"
      },
      "source": [
        "__Conclusion__ :  gender doesn't affects the target."
      ],
      "id": "c7XNI2soFxGv"
    },
    {
      "cell_type": "markdown",
      "metadata": {
        "id": "w5JzL5byKuKg"
      },
      "source": [
        "#### 5. security_no -\n",
        "(Useless) a unique security_no used to identify a person\n"
      ],
      "id": "w5JzL5byKuKg"
    },
    {
      "cell_type": "code",
      "metadata": {
        "id": "mBBMUXBkKuKg"
      },
      "source": [
        "del train['security_no']\n",
        "del test['security_no']"
      ],
      "id": "mBBMUXBkKuKg",
      "execution_count": 323,
      "outputs": []
    },
    {
      "cell_type": "markdown",
      "metadata": {
        "id": "1LBjooSqKuKg"
      },
      "source": [
        "#### 6. region_category\n"
      ],
      "id": "1LBjooSqKuKg"
    },
    {
      "cell_type": "code",
      "metadata": {
        "id": "cXjYNP24KuKh",
        "colab": {
          "base_uri": "https://localhost:8080/"
        },
        "outputId": "578bbd09-61b1-4f04-ac63-8f83de1ff3eb"
      },
      "source": [
        "print(train['region_category'].unique())\n",
        "print(train['region_category'].value_counts())\n",
        "print(train['region_category'].isna().sum())\n",
        "train['region_category'].fillna('Town',inplace = True)\n",
        "print(train['region_category'].value_counts())\n",
        "\n",
        "test['region_category'].fillna('Town',inplace = True)"
      ],
      "id": "cXjYNP24KuKh",
      "execution_count": 324,
      "outputs": [
        {
          "output_type": "stream",
          "text": [
            "['Village' 'City' 'Town' nan]\n",
            "Town       14128\n",
            "City       12737\n",
            "Village     4699\n",
            "Name: region_category, dtype: int64\n",
            "5428\n",
            "Town       19556\n",
            "City       12737\n",
            "Village     4699\n",
            "Name: region_category, dtype: int64\n"
          ],
          "name": "stdout"
        }
      ]
    },
    {
      "cell_type": "code",
      "metadata": {
        "colab": {
          "base_uri": "https://localhost:8080/",
          "height": 297
        },
        "id": "INehKElhHL6_",
        "outputId": "14df3f6c-7b26-4638-f8ea-8502b4239cb1"
      },
      "source": [
        "seaborn.countplot(data = train, x = 'region_category',hue = 'churn_risk_score')"
      ],
      "id": "INehKElhHL6_",
      "execution_count": 325,
      "outputs": [
        {
          "output_type": "execute_result",
          "data": {
            "text/plain": [
              "<matplotlib.axes._subplots.AxesSubplot at 0x7fae7d061d10>"
            ]
          },
          "metadata": {
            "tags": []
          },
          "execution_count": 325
        },
        {
          "output_type": "display_data",
          "data": {
            "image/png": "[encoded data removed]",
            "text/plain": [
              "<Figure size 432x288 with 1 Axes>"
            ]
          },
          "metadata": {
            "tags": [],
            "needs_background": "light"
          }
        }
      ]
    },
    {
      "cell_type": "markdown",
      "metadata": {
        "id": "vaUC9Od9ICK7"
      },
      "source": [
        "__conclusion__ : region_category affects target."
      ],
      "id": "vaUC9Od9ICK7"
    },
    {
      "cell_type": "markdown",
      "metadata": {
        "id": "fcI5W8LsKuKi"
      },
      "source": [
        "#### 7. membership_category\n"
      ],
      "id": "fcI5W8LsKuKi"
    },
    {
      "cell_type": "code",
      "metadata": {
        "colab": {
          "base_uri": "https://localhost:8080/",
          "height": 395
        },
        "id": "04Of5gh4IR1k",
        "outputId": "fe58f8d7-3b0a-4531-dcd4-696a0a05f040"
      },
      "source": [
        "seaborn.countplot(data = train, x = 'membership_category', hue='churn_risk_score')\n",
        "pyplot.xticks(rotation= 75)"
      ],
      "id": "04Of5gh4IR1k",
      "execution_count": 326,
      "outputs": [
        {
          "output_type": "execute_result",
          "data": {
            "text/plain": [
              "(array([0, 1, 2, 3, 4, 5]), <a list of 6 Text major ticklabel objects>)"
            ]
          },
          "metadata": {
            "tags": []
          },
          "execution_count": 326
        },
        {
          "output_type": "display_data",
          "data": {
            "image/png": "[encoded data removed]",
            "text/plain": [
              "<Figure size 432x288 with 1 Axes>"
            ]
          },
          "metadata": {
            "tags": [],
            "needs_background": "light"
          }
        }
      ]
    },
    {
      "cell_type": "markdown",
      "metadata": {
        "id": "DyKnGoUGJG5C"
      },
      "source": [
        "__conclusion__ : membership_category affects churn risk score."
      ],
      "id": "DyKnGoUGJG5C"
    },
    {
      "cell_type": "markdown",
      "metadata": {
        "id": "2KyNwp27KuKk"
      },
      "source": [
        "#### 8. joining_date\n",
        "1096 unique dates.\n",
        "\n",
        "from 2015-01-01 to 2017-12-31\n",
        "\n",
        "not affects much, not required."
      ],
      "id": "2KyNwp27KuKk"
    },
    {
      "cell_type": "code",
      "metadata": {
        "id": "zFyvQ112JWj1"
      },
      "source": [
        "del train['joining_date']\n",
        "del test['joining_date']"
      ],
      "id": "zFyvQ112JWj1",
      "execution_count": 327,
      "outputs": []
    },
    {
      "cell_type": "markdown",
      "metadata": {
        "id": "Jablj_JHKuKk"
      },
      "source": [
        "#### 9. joined_through_referral\n",
        "there are some users who's `joined_through_referral = ?` but they have a unique `referral_id`.\n"
      ],
      "id": "Jablj_JHKuKk"
    },
    {
      "cell_type": "code",
      "metadata": {
        "id": "TEZ0QZudKuKl",
        "colab": {
          "base_uri": "https://localhost:8080/"
        },
        "outputId": "32017256-6184-4a4d-c3ed-ce9f97a64c06"
      },
      "source": [
        "print(train['joined_through_referral'].value_counts())\n",
        "print(test['joined_through_referral'].value_counts())"
      ],
      "id": "TEZ0QZudKuKl",
      "execution_count": 328,
      "outputs": [
        {
          "output_type": "stream",
          "text": [
            "No     15839\n",
            "Yes    15715\n",
            "?       5438\n",
            "Name: joined_through_referral, dtype: int64\n",
            "Yes    8617\n",
            "No     8304\n",
            "?      2998\n",
            "Name: joined_through_referral, dtype: int64\n"
          ],
          "name": "stdout"
        }
      ]
    },
    {
      "cell_type": "code",
      "metadata": {
        "id": "-0jWEQUEKuKl",
        "colab": {
          "base_uri": "https://localhost:8080/"
        },
        "outputId": "5b0126aa-4c6c-4376-d1bb-c5d2463cd8d2"
      },
      "source": [
        "train.loc[(train.referral_id == 'xxxxxxxx') & (train.joined_through_referral == '?'), 'joined_through_referral'] = 'No'\n",
        "\n",
        "train.loc[(train.referral_id != 'xxxxxxxx') & (train.joined_through_referral == '?'),'joined_through_referral'] = 'Yes'\n",
        "\n",
        "test.loc[(test.referral_id == 'xxxxxxxx') & (test.joined_through_referral == '?'), 'joined_through_referral'] = 'No'\n",
        "\n",
        "test.loc[(test.referral_id != 'xxxxxxxx') & (test.joined_through_referral == '?'),'joined_through_referral'] = 'Yes'\n",
        "\n",
        "print(train['joined_through_referral'].value_counts())\n",
        "print(test['joined_through_referral'].value_counts())\n"
      ],
      "id": "-0jWEQUEKuKl",
      "execution_count": 329,
      "outputs": [
        {
          "output_type": "stream",
          "text": [
            "Yes    20592\n",
            "No     16400\n",
            "Name: joined_through_referral, dtype: int64\n",
            "Yes    11305\n",
            "No      8614\n",
            "Name: joined_through_referral, dtype: int64\n"
          ],
          "name": "stdout"
        }
      ]
    },
    {
      "cell_type": "code",
      "metadata": {
        "colab": {
          "base_uri": "https://localhost:8080/",
          "height": 297
        },
        "id": "wbip3royJnGe",
        "outputId": "cc36f891-e7c5-49e4-8ce5-270b21cc44f1"
      },
      "source": [
        "seaborn.countplot(data =train, x = 'joined_through_referral', hue = 'churn_risk_score')"
      ],
      "id": "wbip3royJnGe",
      "execution_count": 330,
      "outputs": [
        {
          "output_type": "execute_result",
          "data": {
            "text/plain": [
              "<matplotlib.axes._subplots.AxesSubplot at 0x7fae7d374350>"
            ]
          },
          "metadata": {
            "tags": []
          },
          "execution_count": 330
        },
        {
          "output_type": "display_data",
          "data": {
            "image/png": "[encoded data removed]",
            "text/plain": [
              "<Figure size 432x288 with 1 Axes>"
            ]
          },
          "metadata": {
            "tags": [],
            "needs_background": "light"
          }
        }
      ]
    },
    {
      "cell_type": "markdown",
      "metadata": {
        "id": "0PD2lgq5KOW5"
      },
      "source": [
        "__conclusion__ : joined_through_referral affects churn_risk_score."
      ],
      "id": "0PD2lgq5KOW5"
    },
    {
      "cell_type": "markdown",
      "metadata": {
        "id": "JG_CdMCdKuKm"
      },
      "source": [
        "#### 10. referral_id\n",
        "it doesn't play a major role, because mostly one referral_id is used for only one referral. so it can be removed.\n"
      ],
      "id": "JG_CdMCdKuKm"
    },
    {
      "cell_type": "code",
      "metadata": {
        "id": "f0IBtx7pKuKm",
        "colab": {
          "base_uri": "https://localhost:8080/"
        },
        "outputId": "e1eb3e1e-b096-4a78-880b-5b374643476a"
      },
      "source": [
        "print('len' ,len(train['referral_id'].unique()))\n",
        "print(train['referral_id'].value_counts())\n",
        "\n",
        "del train['referral_id']\n",
        "del test['referral_id']"
      ],
      "id": "f0IBtx7pKuKm",
      "execution_count": 331,
      "outputs": [
        {
          "output_type": "stream",
          "text": [
            "len 11359\n",
            "xxxxxxxx    17846\n",
            "CID43705       12\n",
            "CID3979        11\n",
            "CID49601       10\n",
            "CID23978        9\n",
            "            ...  \n",
            "CID25487        1\n",
            "CID2008         1\n",
            "CID14173        1\n",
            "CID63242        1\n",
            "CID33130        1\n",
            "Name: referral_id, Length: 11359, dtype: int64\n"
          ],
          "name": "stdout"
        }
      ]
    },
    {
      "cell_type": "markdown",
      "metadata": {
        "id": "BG3P1Q5SKuKn"
      },
      "source": [
        "#### 11. preffered_offer_types"
      ],
      "id": "BG3P1Q5SKuKn"
    },
    {
      "cell_type": "code",
      "metadata": {
        "id": "hSa_CSIZKuKn",
        "colab": {
          "base_uri": "https://localhost:8080/"
        },
        "outputId": "def1ab85-243b-4580-c090-8512d9213e79"
      },
      "source": [
        "print(train['preferred_offer_types'].unique())\n",
        "print(train['preferred_offer_types'].value_counts())\n",
        "print('nan count  : ',  train['preferred_offer_types'].isna().sum())\n",
        "print('nan count  : ',  test['preferred_offer_types'].isna().sum())"
      ],
      "id": "hSa_CSIZKuKn",
      "execution_count": 332,
      "outputs": [
        {
          "output_type": "stream",
          "text": [
            "['Gift Vouchers/Coupons' 'Credit/Debit Card Offers' 'Without Offers' nan]\n",
            "Gift Vouchers/Coupons       12349\n",
            "Credit/Debit Card Offers    12274\n",
            "Without Offers              12081\n",
            "Name: preferred_offer_types, dtype: int64\n",
            "nan count  :  288\n",
            "nan count  :  159\n"
          ],
          "name": "stdout"
        }
      ]
    },
    {
      "cell_type": "markdown",
      "metadata": {
        "id": "3N7JaD9bKuKp"
      },
      "source": [
        "replacing nan values with 'Gift Vouchers/Coupons'"
      ],
      "id": "3N7JaD9bKuKp"
    },
    {
      "cell_type": "code",
      "metadata": {
        "id": "52a52vxAKuKq",
        "colab": {
          "base_uri": "https://localhost:8080/"
        },
        "outputId": "b8611021-1817-4035-c4a9-84659fa38f5a"
      },
      "source": [
        "train['preferred_offer_types'].fillna('Gift Vouchers/Coupons',inplace =True)\n",
        "print(train['preferred_offer_types'].value_counts())\n",
        "\n",
        "test['preferred_offer_types'].fillna('Gift Vouchers/Coupons',inplace =True)\n",
        "print(test['preferred_offer_types'].value_counts())"
      ],
      "id": "52a52vxAKuKq",
      "execution_count": 333,
      "outputs": [
        {
          "output_type": "stream",
          "text": [
            "Gift Vouchers/Coupons       12637\n",
            "Credit/Debit Card Offers    12274\n",
            "Without Offers              12081\n",
            "Name: preferred_offer_types, dtype: int64\n",
            "Without Offers              6663\n",
            "Gift Vouchers/Coupons       6654\n",
            "Credit/Debit Card Offers    6602\n",
            "Name: preferred_offer_types, dtype: int64\n"
          ],
          "name": "stdout"
        }
      ]
    },
    {
      "cell_type": "code",
      "metadata": {
        "colab": {
          "base_uri": "https://localhost:8080/",
          "height": 406
        },
        "id": "hUSJjP_ZKvZM",
        "outputId": "0dd774c7-5eae-480c-8a55-59d9d3cc1338"
      },
      "source": [
        "pyplot.xticks(rotation = 75)\n",
        "seaborn.countplot(data = train, x = 'preferred_offer_types', hue ='churn_risk_score')"
      ],
      "id": "hUSJjP_ZKvZM",
      "execution_count": 334,
      "outputs": [
        {
          "output_type": "execute_result",
          "data": {
            "text/plain": [
              "<matplotlib.axes._subplots.AxesSubplot at 0x7fae7e1fa6d0>"
            ]
          },
          "metadata": {
            "tags": []
          },
          "execution_count": 334
        },
        {
          "output_type": "display_data",
          "data": {
            "image/png": "[encoded data removed]",
            "text/plain": [
              "<Figure size 432x288 with 1 Axes>"
            ]
          },
          "metadata": {
            "tags": [],
            "needs_background": "light"
          }
        }
      ]
    },
    {
      "cell_type": "markdown",
      "metadata": {
        "id": "L3teWSkTLalu"
      },
      "source": [
        "__conclusion__: preferred_offer_types affect target slightly."
      ],
      "id": "L3teWSkTLalu"
    },
    {
      "cell_type": "markdown",
      "metadata": {
        "id": "dsvufQF1KuKq"
      },
      "source": [
        "#### 12. medium_of_operation"
      ],
      "id": "dsvufQF1KuKq"
    },
    {
      "cell_type": "code",
      "metadata": {
        "id": "x-jJ1w7oKuKq",
        "colab": {
          "base_uri": "https://localhost:8080/"
        },
        "outputId": "cf20abc3-292b-46fd-f42b-802b3df6708d"
      },
      "source": [
        "print(train['medium_of_operation'].unique())\n",
        "print(train['medium_of_operation'].value_counts())\n",
        "print()\n",
        "print(test['medium_of_operation'].value_counts())"
      ],
      "id": "x-jJ1w7oKuKq",
      "execution_count": 335,
      "outputs": [
        {
          "output_type": "stream",
          "text": [
            "['?' 'Desktop' 'Smartphone' 'Both']\n",
            "Desktop       13913\n",
            "Smartphone    13876\n",
            "?              5393\n",
            "Both           3810\n",
            "Name: medium_of_operation, dtype: int64\n",
            "\n",
            "Desktop       7463\n",
            "Smartphone    7405\n",
            "?             2964\n",
            "Both          2087\n",
            "Name: medium_of_operation, dtype: int64\n"
          ],
          "name": "stdout"
        }
      ]
    },
    {
      "cell_type": "markdown",
      "metadata": {
        "id": "nYroEFlaKuKq"
      },
      "source": [
        "replacing all '?' with 'Desktop'"
      ],
      "id": "nYroEFlaKuKq"
    },
    {
      "cell_type": "code",
      "metadata": {
        "id": "SAG9NGcpKuKr",
        "colab": {
          "base_uri": "https://localhost:8080/"
        },
        "outputId": "883f4fa8-bea7-44a3-c7d8-d7bbb182eaae"
      },
      "source": [
        "train['medium_of_operation'].replace('?','Desktop',inplace = True)\n",
        "print(train['medium_of_operation'].value_counts())\n",
        "\n",
        "test['medium_of_operation'].replace('?','Desktop',inplace = True)\n",
        "print(test['medium_of_operation'].value_counts())"
      ],
      "id": "SAG9NGcpKuKr",
      "execution_count": 336,
      "outputs": [
        {
          "output_type": "stream",
          "text": [
            "Desktop       19306\n",
            "Smartphone    13876\n",
            "Both           3810\n",
            "Name: medium_of_operation, dtype: int64\n",
            "Desktop       10427\n",
            "Smartphone     7405\n",
            "Both           2087\n",
            "Name: medium_of_operation, dtype: int64\n"
          ],
          "name": "stdout"
        }
      ]
    },
    {
      "cell_type": "code",
      "metadata": {
        "colab": {
          "base_uri": "https://localhost:8080/",
          "height": 349
        },
        "id": "jk7fVlFaLmI2",
        "outputId": "138f1748-74c4-4717-e886-861758a979dd"
      },
      "source": [
        "pyplot.xticks(rotation = 75)\n",
        "seaborn.countplot(data = train, x = 'medium_of_operation', hue ='churn_risk_score')"
      ],
      "id": "jk7fVlFaLmI2",
      "execution_count": 337,
      "outputs": [
        {
          "output_type": "execute_result",
          "data": {
            "text/plain": [
              "<matplotlib.axes._subplots.AxesSubplot at 0x7fae7d4c9890>"
            ]
          },
          "metadata": {
            "tags": []
          },
          "execution_count": 337
        },
        {
          "output_type": "display_data",
          "data": {
            "image/png": "[encoded data removed]",
            "text/plain": [
              "<Figure size 432x288 with 1 Axes>"
            ]
          },
          "metadata": {
            "tags": [],
            "needs_background": "light"
          }
        }
      ]
    },
    {
      "cell_type": "markdown",
      "metadata": {
        "id": "usxi_ymKL72l"
      },
      "source": [
        "__conclusion__ : medium of operation affects churn_risk_score"
      ],
      "id": "usxi_ymKL72l"
    },
    {
      "cell_type": "markdown",
      "metadata": {
        "id": "6bPQGNNGKuKs"
      },
      "source": [
        "#### 13. internet_option\n"
      ],
      "id": "6bPQGNNGKuKs"
    },
    {
      "cell_type": "code",
      "metadata": {
        "id": "iPhQzJTQKuKt",
        "colab": {
          "base_uri": "https://localhost:8080/"
        },
        "outputId": "19b71e28-c829-49c1-b8fb-a2bcc6bcbdcd"
      },
      "source": [
        "train['internet_option'].value_counts()"
      ],
      "id": "iPhQzJTQKuKt",
      "execution_count": 338,
      "outputs": [
        {
          "output_type": "execute_result",
          "data": {
            "text/plain": [
              "Wi-Fi          12413\n",
              "Mobile_Data    12343\n",
              "Fiber_Optic    12236\n",
              "Name: internet_option, dtype: int64"
            ]
          },
          "metadata": {
            "tags": []
          },
          "execution_count": 338
        }
      ]
    },
    {
      "cell_type": "code",
      "metadata": {
        "colab": {
          "base_uri": "https://localhost:8080/",
          "height": 350
        },
        "id": "omfaPYETMGfC",
        "outputId": "bc68d9b2-4ef7-4885-9290-21b9e4505e66"
      },
      "source": [
        "pyplot.xticks(rotation = 75)\n",
        "seaborn.countplot(data = train, x = 'internet_option', hue ='churn_risk_score')"
      ],
      "id": "omfaPYETMGfC",
      "execution_count": 339,
      "outputs": [
        {
          "output_type": "execute_result",
          "data": {
            "text/plain": [
              "<matplotlib.axes._subplots.AxesSubplot at 0x7fae7cfa1990>"
            ]
          },
          "metadata": {
            "tags": []
          },
          "execution_count": 339
        },
        {
          "output_type": "display_data",
          "data": {
            "image/png": "[encoded data removed]",
            "text/plain": [
              "<Figure size 432x288 with 1 Axes>"
            ]
          },
          "metadata": {
            "tags": [],
            "needs_background": "light"
          }
        }
      ]
    },
    {
      "cell_type": "markdown",
      "metadata": {
        "id": "pO9ppcHhMoIv"
      },
      "source": [
        "__conclusion__ : internet_option affects very slightly over the taget variable"
      ],
      "id": "pO9ppcHhMoIv"
    },
    {
      "cell_type": "markdown",
      "metadata": {
        "id": "8lIDh5BPKuKt"
      },
      "source": [
        "#### 14. last_visit_time - not required"
      ],
      "id": "8lIDh5BPKuKt"
    },
    {
      "cell_type": "code",
      "metadata": {
        "id": "VaRJg1QGKuKt"
      },
      "source": [
        "del train['last_visit_time']\n",
        "del test['last_visit_time']"
      ],
      "id": "VaRJg1QGKuKt",
      "execution_count": 340,
      "outputs": []
    },
    {
      "cell_type": "markdown",
      "metadata": {
        "id": "ghiMlZamKuKt"
      },
      "source": [
        "#### 15. days_since_last_login"
      ],
      "id": "ghiMlZamKuKt"
    },
    {
      "cell_type": "code",
      "metadata": {
        "id": "7Hq0LT9iKuKu",
        "colab": {
          "base_uri": "https://localhost:8080/"
        },
        "outputId": "4a077f84-67de-4350-ec6e-b66d47396136"
      },
      "source": [
        "print(train['days_since_last_login'].unique())\n",
        "\n",
        "# replacing all negetive values with 0\n",
        "train.loc[train.days_since_last_login < 0,'days_since_last_login'] = 0\n",
        "test.loc[test.days_since_last_login < 0,'days_since_last_login'] = 0\n",
        "\n",
        "train['days_since_last_login'].unique()\n"
      ],
      "id": "7Hq0LT9iKuKu",
      "execution_count": 341,
      "outputs": [
        {
          "output_type": "stream",
          "text": [
            "[  17   16   14   11   20   23   10   19   15   13 -999    5   12    9\n",
            "   21   18    1   22    4    8    3    6    2   24    7   26   25]\n"
          ],
          "name": "stdout"
        },
        {
          "output_type": "execute_result",
          "data": {
            "text/plain": [
              "array([17, 16, 14, 11, 20, 23, 10, 19, 15, 13,  0,  5, 12,  9, 21, 18,  1,\n",
              "       22,  4,  8,  3,  6,  2, 24,  7, 26, 25])"
            ]
          },
          "metadata": {
            "tags": []
          },
          "execution_count": 341
        }
      ]
    },
    {
      "cell_type": "code",
      "metadata": {
        "colab": {
          "base_uri": "https://localhost:8080/",
          "height": 284
        },
        "id": "Oj5-6Y3yM1eO",
        "outputId": "4c3cd6e0-024c-4d48-b2ad-8a0ed37cbc55"
      },
      "source": [
        "seaborn.violinplot(data =train, y = 'days_since_last_login',x='churn_risk_score')\n",
        "pyplot.show()"
      ],
      "id": "Oj5-6Y3yM1eO",
      "execution_count": 342,
      "outputs": [
        {
          "output_type": "display_data",
          "data": {
            "image/png": "[encoded data removed]",
            "text/plain": [
              "<Figure size 432x288 with 1 Axes>"
            ]
          },
          "metadata": {
            "tags": [],
            "needs_background": "light"
          }
        }
      ]
    },
    {
      "cell_type": "markdown",
      "metadata": {
        "id": "eRAGKpKaODQu"
      },
      "source": [
        "__conclusion__ : days_since_last_login affects churn_risk_score."
      ],
      "id": "eRAGKpKaODQu"
    },
    {
      "cell_type": "markdown",
      "metadata": {
        "id": "ejD2AqTqKuKu"
      },
      "source": [
        "#### 16. avg_time_spent\n",
        "many values are negetive. replacing them with median"
      ],
      "id": "ejD2AqTqKuKu"
    },
    {
      "cell_type": "code",
      "metadata": {
        "colab": {
          "base_uri": "https://localhost:8080/",
          "height": 595
        },
        "id": "CWtvY81gRxRT",
        "outputId": "4d12ac4c-7a8a-4629-d5cf-6be6fe02889d"
      },
      "source": [
        "pyplot.figure(figsize = (10,10))\n",
        "seaborn.boxplot(data= train, y = 'avg_time_spent',hue ='churn_risk_score')"
      ],
      "id": "CWtvY81gRxRT",
      "execution_count": 343,
      "outputs": [
        {
          "output_type": "execute_result",
          "data": {
            "text/plain": [
              "<matplotlib.axes._subplots.AxesSubplot at 0x7fae7ded9210>"
            ]
          },
          "metadata": {
            "tags": []
          },
          "execution_count": 343
        },
        {
          "output_type": "display_data",
          "data": {
            "image/png": "[encoded data removed]",
            "text/plain": [
              "<Figure size 720x720 with 1 Axes>"
            ]
          },
          "metadata": {
            "tags": [],
            "needs_background": "light"
          }
        }
      ]
    },
    {
      "cell_type": "code",
      "metadata": {
        "id": "onG2-ycTRXH4"
      },
      "source": [
        "# imputing outliers.\n",
        "q_l = train['avg_time_spent'].quantile(0.01)\n",
        "q_h = train['avg_time_spent'].quantile(0.99)\n",
        "med = train['avg_time_spent'].median()\n",
        "\n",
        "train.loc[(train.avg_time_spent < q_l) | (train.avg_time_spent > q_h),'avg_time_spent'] = med\n",
        "\n",
        "test.loc[(test.avg_time_spent < q_l) | (test.avg_time_spent > q_h),'avg_time_spent'] = med"
      ],
      "id": "onG2-ycTRXH4",
      "execution_count": 344,
      "outputs": []
    },
    {
      "cell_type": "code",
      "metadata": {
        "colab": {
          "base_uri": "https://localhost:8080/",
          "height": 280
        },
        "id": "f1iQnJKwWAhu",
        "outputId": "538d1e5a-d5d0-4e8c-9278-ced687803884"
      },
      "source": [
        "seaborn.violinplot(data =train, y = 'avg_time_spent',x='churn_risk_score')\n",
        "pyplot.show()"
      ],
      "id": "f1iQnJKwWAhu",
      "execution_count": 345,
      "outputs": [
        {
          "output_type": "display_data",
          "data": {
            "image/png": "[encoded data removed]",
            "text/plain": [
              "<Figure size 432x288 with 1 Axes>"
            ]
          },
          "metadata": {
            "tags": [],
            "needs_background": "light"
          }
        }
      ]
    },
    {
      "cell_type": "markdown",
      "metadata": {
        "id": "vE09C02oKuKw"
      },
      "source": [
        "#### 17. avg_transaction_value\n",
        "discrete values in range 0 to 99914.05"
      ],
      "id": "vE09C02oKuKw"
    },
    {
      "cell_type": "code",
      "metadata": {
        "colab": {
          "base_uri": "https://localhost:8080/",
          "height": 280
        },
        "id": "am19JdwlWTMc",
        "outputId": "8e9ffea4-e0b8-4cc7-9c1b-945e7d50cd41"
      },
      "source": [
        "seaborn.violinplot(data =train, y = 'avg_transaction_value',x='churn_risk_score')\n",
        "pyplot.show()"
      ],
      "id": "am19JdwlWTMc",
      "execution_count": 346,
      "outputs": [
        {
          "output_type": "display_data",
          "data": {
            "image/png": "[encoded data removed]",
            "text/plain": [
              "<Figure size 432x288 with 1 Axes>"
            ]
          },
          "metadata": {
            "tags": [],
            "needs_background": "light"
          }
        }
      ]
    },
    {
      "cell_type": "markdown",
      "metadata": {
        "id": "TSUImRtIKuKw"
      },
      "source": [
        "#### 18. avg_frequency_login_days"
      ],
      "id": "TSUImRtIKuKw"
    },
    {
      "cell_type": "code",
      "metadata": {
        "tags": [],
        "id": "UPWs420mKuKw",
        "colab": {
          "base_uri": "https://localhost:8080/"
        },
        "outputId": "ee4c82a3-63b5-49dd-ae82-bebb07c631a6"
      },
      "source": [
        "train['avg_frequency_login_days'].value_counts()"
      ],
      "id": "UPWs420mKuKw",
      "execution_count": 347,
      "outputs": [
        {
          "output_type": "execute_result",
          "data": {
            "text/plain": [
              "Error                  3522\n",
              "13.0                   1394\n",
              "19.0                   1365\n",
              "8.0                    1361\n",
              "14.0                   1355\n",
              "                       ... \n",
              "39.81654827965219         1\n",
              "52.371941621489285        1\n",
              "-12.317872985757603       1\n",
              "-1.527648918738869        1\n",
              "46.38772405096287         1\n",
              "Name: avg_frequency_login_days, Length: 1654, dtype: int64"
            ]
          },
          "metadata": {
            "tags": []
          },
          "execution_count": 347
        }
      ]
    },
    {
      "cell_type": "code",
      "metadata": {
        "id": "A0-24YLOKuKx",
        "colab": {
          "base_uri": "https://localhost:8080/"
        },
        "outputId": "e2f8957a-edcf-4039-d236-4ba364861d51"
      },
      "source": [
        "train.loc[(train.avg_frequency_login_days == 'Error'),'avg_frequency_login_days'] =  0\n",
        "\n",
        "train['avg_frequency_login_days'] = train['avg_frequency_login_days'].astype(str).astype(float)\n",
        "\n",
        "train.loc[train.avg_frequency_login_days < 0, 'avg_frequency_login_days'] = 0\n",
        "\n",
        "print(train['avg_frequency_login_days'].value_counts())\n",
        "\n",
        "\n",
        "test.loc[(test.avg_frequency_login_days == 'Error'),'avg_frequency_login_days'] =  0\n",
        "\n",
        "test['avg_frequency_login_days'] = test['avg_frequency_login_days'].astype(str).astype(float)\n",
        "\n",
        "test.loc[test.avg_frequency_login_days < 0, 'avg_frequency_login_days'] = 0"
      ],
      "id": "A0-24YLOKuKx",
      "execution_count": 348,
      "outputs": [
        {
          "output_type": "stream",
          "text": [
            "0.000000     4205\n",
            "13.000000    1394\n",
            "19.000000    1365\n",
            "8.000000     1361\n",
            "14.000000    1355\n",
            "             ... \n",
            "49.461645       1\n",
            "33.147512       1\n",
            "53.812360       1\n",
            "47.535629       1\n",
            "30.658806       1\n",
            "Name: avg_frequency_login_days, Length: 971, dtype: int64\n"
          ],
          "name": "stdout"
        }
      ]
    },
    {
      "cell_type": "code",
      "metadata": {
        "colab": {
          "base_uri": "https://localhost:8080/",
          "height": 269
        },
        "id": "aJaRAlV7bBKm",
        "outputId": "2c5797d2-23a4-4a79-b799-7891f98e2bcf"
      },
      "source": [
        "seaborn.boxplot(data=train, y = 'avg_frequency_login_days')\n",
        "pyplot.show()\n",
        "q_h = train['avg_frequency_login_days'].quantile(0.99)\n",
        "med = train['avg_frequency_login_days'].median()\n",
        "print(med)\n",
        "train.loc[train.avg_frequency_login_days > q_h, 'avg_frequency_login_days'] = med\n",
        "test.loc[test.avg_frequency_login_days > q_h, 'avg_frequency_login_days'] = med"
      ],
      "id": "aJaRAlV7bBKm",
      "execution_count": 349,
      "outputs": [
        {
          "output_type": "display_data",
          "data": {
            "image/png": "[encoded data removed]",
            "text/plain": [
              "<Figure size 432x288 with 1 Axes>"
            ]
          },
          "metadata": {
            "tags": [],
            "needs_background": "light"
          }
        },
        {
          "output_type": "stream",
          "text": [
            "14.0\n"
          ],
          "name": "stdout"
        }
      ]
    },
    {
      "cell_type": "code",
      "metadata": {
        "colab": {
          "base_uri": "https://localhost:8080/",
          "height": 280
        },
        "id": "ZEucOF4tfIQ3",
        "outputId": "f3492021-9296-40ce-b5f1-36af116c2d65"
      },
      "source": [
        "seaborn.violinplot(data =train, y = 'avg_frequency_login_days',x='churn_risk_score')\n",
        "pyplot.show()"
      ],
      "id": "ZEucOF4tfIQ3",
      "execution_count": 350,
      "outputs": [
        {
          "output_type": "display_data",
          "data": {
            "image/png": "[encoded data removed]",
            "text/plain": [
              "<Figure size 432x288 with 1 Axes>"
            ]
          },
          "metadata": {
            "tags": [],
            "needs_background": "light"
          }
        }
      ]
    },
    {
      "cell_type": "markdown",
      "metadata": {
        "id": "9FsUimMDiFeR"
      },
      "source": [
        "__conclusion__ : avg_frequency_login_days affects target."
      ],
      "id": "9FsUimMDiFeR"
    },
    {
      "cell_type": "markdown",
      "metadata": {
        "id": "5ixlJ8ZPKuKy"
      },
      "source": [
        "#### 19. points_in_wallet"
      ],
      "id": "5ixlJ8ZPKuKy"
    },
    {
      "cell_type": "code",
      "metadata": {
        "id": "bq4y1FtdKuKy",
        "colab": {
          "base_uri": "https://localhost:8080/"
        },
        "outputId": "3ce6856e-5a69-4da7-cf30-cab23b963f48"
      },
      "source": [
        "print(train['points_in_wallet'].isna().sum())\n",
        "train['points_in_wallet'].fillna(train['points_in_wallet'].mean(),inplace = True)\n",
        "print(train['points_in_wallet'].isna().sum())\n",
        "\n",
        "test['points_in_wallet'].fillna(test['points_in_wallet'].mean(),inplace = True)"
      ],
      "id": "bq4y1FtdKuKy",
      "execution_count": 351,
      "outputs": [
        {
          "output_type": "stream",
          "text": [
            "3443\n",
            "0\n"
          ],
          "name": "stdout"
        }
      ]
    },
    {
      "cell_type": "code",
      "metadata": {
        "colab": {
          "base_uri": "https://localhost:8080/",
          "height": 269
        },
        "id": "o6is25lNiRXt",
        "outputId": "a23402bc-f436-494f-fd18-2d140e5cc5a4"
      },
      "source": [
        "seaborn.boxplot(data =train, y = 'points_in_wallet')\n",
        "pyplot.show()\n",
        "q_h = train['points_in_wallet'].quantile(0.99)\n",
        "q_l = train['points_in_wallet'].quantile(0.01)\n",
        "med = train['points_in_wallet'].median()\n",
        "print(med)\n",
        "train.loc[(train.points_in_wallet > q_h) | (train.points_in_wallet < q_l), 'points_in_wallet'] = med\n",
        "test.loc[(test.points_in_wallet > q_h) | (test.points_in_wallet < q_l), 'points_in_wallet'] = med"
      ],
      "id": "o6is25lNiRXt",
      "execution_count": 352,
      "outputs": [
        {
          "output_type": "display_data",
          "data": {
            "image/png": "[encoded data removed]",
            "text/plain": [
              "<Figure size 432x288 with 1 Axes>"
            ]
          },
          "metadata": {
            "tags": [],
            "needs_background": "light"
          }
        },
        {
          "output_type": "stream",
          "text": [
            "686.882198742908\n"
          ],
          "name": "stdout"
        }
      ]
    },
    {
      "cell_type": "code",
      "metadata": {
        "colab": {
          "base_uri": "https://localhost:8080/",
          "height": 280
        },
        "id": "Low5iZ7vnDlN",
        "outputId": "e80dc505-8c26-44f4-a74c-eb547299fe46"
      },
      "source": [
        "seaborn.violinplot(data =train, y = 'points_in_wallet',x='churn_risk_score')\n",
        "pyplot.show()"
      ],
      "id": "Low5iZ7vnDlN",
      "execution_count": 353,
      "outputs": [
        {
          "output_type": "display_data",
          "data": {
            "image/png": "[encoded data removed]",
            "text/plain": [
              "<Figure size 432x288 with 1 Axes>"
            ]
          },
          "metadata": {
            "tags": [],
            "needs_background": "light"
          }
        }
      ]
    },
    {
      "cell_type": "markdown",
      "metadata": {
        "id": "Ma2c3-mopVha"
      },
      "source": [
        "__conclusion__ : points_in_wallet affects target."
      ],
      "id": "Ma2c3-mopVha"
    },
    {
      "cell_type": "markdown",
      "metadata": {
        "id": "Z13xg5IIKuKz"
      },
      "source": [
        "#### 20. used_special_discount"
      ],
      "id": "Z13xg5IIKuKz"
    },
    {
      "cell_type": "code",
      "metadata": {
        "id": "eD_b6QnSKuKz",
        "colab": {
          "base_uri": "https://localhost:8080/"
        },
        "outputId": "d5a4255f-79d1-4b0f-8f07-7c60f4101ad9"
      },
      "source": [
        "print(train['used_special_discount'].value_counts())\n",
        "train['used_special_discount'].replace(0,'No', inplace = True)\n",
        "print(train['used_special_discount'].value_counts())\n",
        "\n",
        "test['used_special_discount'].replace(0,'No', inplace = True)"
      ],
      "id": "eD_b6QnSKuKz",
      "execution_count": 354,
      "outputs": [
        {
          "output_type": "stream",
          "text": [
            "Yes    20342\n",
            "No     16650\n",
            "Name: used_special_discount, dtype: int64\n",
            "Yes    20342\n",
            "No     16650\n",
            "Name: used_special_discount, dtype: int64\n"
          ],
          "name": "stdout"
        }
      ]
    },
    {
      "cell_type": "code",
      "metadata": {
        "colab": {
          "base_uri": "https://localhost:8080/",
          "height": 305
        },
        "id": "iri7ue9ppqe3",
        "outputId": "5f7c872b-ecd2-4f1d-86f5-8f343653505d"
      },
      "source": [
        "pyplot.xticks(rotation = 75)\n",
        "seaborn.countplot(data = train, x = 'used_special_discount', hue ='churn_risk_score')"
      ],
      "id": "iri7ue9ppqe3",
      "execution_count": 355,
      "outputs": [
        {
          "output_type": "execute_result",
          "data": {
            "text/plain": [
              "<matplotlib.axes._subplots.AxesSubplot at 0x7fae7dbcc090>"
            ]
          },
          "metadata": {
            "tags": []
          },
          "execution_count": 355
        },
        {
          "output_type": "display_data",
          "data": {
            "image/png": "[encoded data removed]",
            "text/plain": [
              "<Figure size 432x288 with 1 Axes>"
            ]
          },
          "metadata": {
            "tags": [],
            "needs_background": "light"
          }
        }
      ]
    },
    {
      "cell_type": "markdown",
      "metadata": {
        "id": "kSsf8M5Lqa29"
      },
      "source": [
        "__conclusion__: used_special_discount affects target slightly"
      ],
      "id": "kSsf8M5Lqa29"
    },
    {
      "cell_type": "markdown",
      "metadata": {
        "id": "mBaLyI8nKuK0"
      },
      "source": [
        "#### 21. offer_application_preference"
      ],
      "id": "mBaLyI8nKuK0"
    },
    {
      "cell_type": "code",
      "metadata": {
        "id": "wHt4hBBRKuK0",
        "colab": {
          "base_uri": "https://localhost:8080/"
        },
        "outputId": "7af6ad5d-bed5-4071-ab16-dc3e745f04c0"
      },
      "source": [
        "print(train['offer_application_preference'].value_counts())\n",
        "train['offer_application_preference'].replace(0,'No',inplace = True)\n",
        "print(train['offer_application_preference'].value_counts())\n",
        "\n",
        "test['offer_application_preference'].replace(0,'No',inplace = True)"
      ],
      "id": "wHt4hBBRKuK0",
      "execution_count": 356,
      "outputs": [
        {
          "output_type": "stream",
          "text": [
            "Yes    20440\n",
            "No     16552\n",
            "Name: offer_application_preference, dtype: int64\n",
            "Yes    20440\n",
            "No     16552\n",
            "Name: offer_application_preference, dtype: int64\n"
          ],
          "name": "stdout"
        }
      ]
    },
    {
      "cell_type": "code",
      "metadata": {
        "colab": {
          "base_uri": "https://localhost:8080/",
          "height": 305
        },
        "id": "-ipY49vvrPWm",
        "outputId": "1aa390e8-22aa-46c8-8750-47849ed102bc"
      },
      "source": [
        "pyplot.xticks(rotation = 75)\n",
        "seaborn.countplot(data = train, x = 'offer_application_preference', hue ='churn_risk_score')"
      ],
      "id": "-ipY49vvrPWm",
      "execution_count": 357,
      "outputs": [
        {
          "output_type": "execute_result",
          "data": {
            "text/plain": [
              "<matplotlib.axes._subplots.AxesSubplot at 0x7fae7dc5afd0>"
            ]
          },
          "metadata": {
            "tags": []
          },
          "execution_count": 357
        },
        {
          "output_type": "display_data",
          "data": {
            "image/png": "[encoded data removed]",
            "text/plain": [
              "<Figure size 432x288 with 1 Axes>"
            ]
          },
          "metadata": {
            "tags": [],
            "needs_background": "light"
          }
        }
      ]
    },
    {
      "cell_type": "markdown",
      "metadata": {
        "id": "1giyhTFUrYWi"
      },
      "source": [
        "__conclusion__ : offer_application_preference affects slightly"
      ],
      "id": "1giyhTFUrYWi"
    },
    {
      "cell_type": "markdown",
      "metadata": {
        "id": "5ylG4nTmKuK1"
      },
      "source": [
        "#### 22. past_complaint"
      ],
      "id": "5ylG4nTmKuK1"
    },
    {
      "cell_type": "code",
      "metadata": {
        "id": "0wEXYnxMKuK1",
        "colab": {
          "base_uri": "https://localhost:8080/"
        },
        "outputId": "eebfed07-207d-4041-9735-92777e46d84f"
      },
      "source": [
        "print(train['past_complaint'].value_counts())\n",
        "train['past_complaint'].replace(0,'No',inplace = True)\n",
        "print(train['past_complaint'].value_counts())\n",
        "\n",
        "test['past_complaint'].replace(0,'No',inplace = True)"
      ],
      "id": "0wEXYnxMKuK1",
      "execution_count": 358,
      "outputs": [
        {
          "output_type": "stream",
          "text": [
            "No     18602\n",
            "Yes    18390\n",
            "Name: past_complaint, dtype: int64\n",
            "No     18602\n",
            "Yes    18390\n",
            "Name: past_complaint, dtype: int64\n"
          ],
          "name": "stdout"
        }
      ]
    },
    {
      "cell_type": "code",
      "metadata": {
        "colab": {
          "base_uri": "https://localhost:8080/",
          "height": 306
        },
        "id": "XjcOAmn_r7Ny",
        "outputId": "a934c044-6b08-43ca-8f95-203f1cf86bff"
      },
      "source": [
        "pyplot.xticks(rotation = 75)\n",
        "seaborn.countplot(data = train, x = 'past_complaint', hue ='churn_risk_score')"
      ],
      "id": "XjcOAmn_r7Ny",
      "execution_count": 359,
      "outputs": [
        {
          "output_type": "execute_result",
          "data": {
            "text/plain": [
              "<matplotlib.axes._subplots.AxesSubplot at 0x7fae7dd547d0>"
            ]
          },
          "metadata": {
            "tags": []
          },
          "execution_count": 359
        },
        {
          "output_type": "display_data",
          "data": {
            "image/png": "[encoded data removed]",
            "text/plain": [
              "<Figure size 432x288 with 1 Axes>"
            ]
          },
          "metadata": {
            "tags": [],
            "needs_background": "light"
          }
        }
      ]
    },
    {
      "cell_type": "markdown",
      "metadata": {
        "id": "OBckWzFBsCGz"
      },
      "source": [
        "__conclusion__ : past_complaints affect slightly."
      ],
      "id": "OBckWzFBsCGz"
    },
    {
      "cell_type": "markdown",
      "metadata": {
        "id": "bt5kaQZWKuK2"
      },
      "source": [
        "#### 23. complaint_status"
      ],
      "id": "bt5kaQZWKuK2"
    },
    {
      "cell_type": "code",
      "metadata": {
        "id": "pZTWJzsPKuK3",
        "colab": {
          "base_uri": "https://localhost:8080/"
        },
        "outputId": "c5936b8e-5952-4caa-dd1f-f8e5c009e5cb"
      },
      "source": [
        "print(train['complaint_status'].value_counts())\n",
        "train['complaint_status'].replace(0,'No Information Available',inplace = True)\n",
        "print(train['complaint_status'].value_counts())\n",
        "\n",
        "test['complaint_status'].replace(0,'No Information Available',inplace = True)"
      ],
      "id": "pZTWJzsPKuK3",
      "execution_count": 360,
      "outputs": [
        {
          "output_type": "stream",
          "text": [
            "Not Applicable              18602\n",
            "Unsolved                     4644\n",
            "Solved                       4619\n",
            "Solved in Follow-up          4577\n",
            "No Information Available     4550\n",
            "Name: complaint_status, dtype: int64\n",
            "Not Applicable              18602\n",
            "Unsolved                     4644\n",
            "Solved                       4619\n",
            "Solved in Follow-up          4577\n",
            "No Information Available     4550\n",
            "Name: complaint_status, dtype: int64\n"
          ],
          "name": "stdout"
        }
      ]
    },
    {
      "cell_type": "code",
      "metadata": {
        "colab": {
          "base_uri": "https://localhost:8080/",
          "height": 409
        },
        "id": "kZgd_i-PsPEj",
        "outputId": "e8fe2f8c-ec31-4468-d7ff-59618522457e"
      },
      "source": [
        "pyplot.xticks(rotation = 75)\n",
        "seaborn.countplot(data = train, x = 'complaint_status', hue ='churn_risk_score')"
      ],
      "id": "kZgd_i-PsPEj",
      "execution_count": 361,
      "outputs": [
        {
          "output_type": "execute_result",
          "data": {
            "text/plain": [
              "<matplotlib.axes._subplots.AxesSubplot at 0x7fae7d4c9610>"
            ]
          },
          "metadata": {
            "tags": []
          },
          "execution_count": 361
        },
        {
          "output_type": "display_data",
          "data": {
            "image/png": "[encoded data removed]",
            "text/plain": [
              "<Figure size 432x288 with 1 Axes>"
            ]
          },
          "metadata": {
            "tags": [],
            "needs_background": "light"
          }
        }
      ]
    },
    {
      "cell_type": "markdown",
      "metadata": {
        "id": "CkEoSuKkscjH"
      },
      "source": [
        "__conclusion__ : complaint_status affects slightly."
      ],
      "id": "CkEoSuKkscjH"
    },
    {
      "cell_type": "markdown",
      "metadata": {
        "id": "ctlyOb-qKuK3"
      },
      "source": [
        "#### 24. feedback"
      ],
      "id": "ctlyOb-qKuK3"
    },
    {
      "cell_type": "code",
      "metadata": {
        "id": "Nb6Y1T_pKuK4",
        "colab": {
          "base_uri": "https://localhost:8080/"
        },
        "outputId": "73a3d30d-d9d3-4a00-fa12-377411ee097b"
      },
      "source": [
        "print(train['feedback'].value_counts())\n",
        "train['feedback'].replace(0,'No reason specified', inplace = True)\n",
        "\n",
        "test['feedback'].replace(0,'No reason specified', inplace = True)"
      ],
      "id": "Nb6Y1T_pKuK4",
      "execution_count": 362,
      "outputs": [
        {
          "output_type": "stream",
          "text": [
            "Poor Product Quality        6350\n",
            "No reason specified         6290\n",
            "Too many ads                6279\n",
            "Poor Website                6271\n",
            "Poor Customer Service       6252\n",
            "Reasonable Price            1417\n",
            "User Friendly Website       1391\n",
            "Products always in Stock    1382\n",
            "Quality Customer Care       1360\n",
            "Name: feedback, dtype: int64\n"
          ],
          "name": "stdout"
        }
      ]
    },
    {
      "cell_type": "code",
      "metadata": {
        "colab": {
          "base_uri": "https://localhost:8080/",
          "height": 408
        },
        "id": "DhJk3u5RtnhD",
        "outputId": "a9ae5f04-addf-4d8d-f345-1e12feed1312"
      },
      "source": [
        "pyplot.xticks(rotation = 75)\n",
        "seaborn.countplot(data = train, x = 'feedback', hue ='churn_risk_score')"
      ],
      "id": "DhJk3u5RtnhD",
      "execution_count": 363,
      "outputs": [
        {
          "output_type": "execute_result",
          "data": {
            "text/plain": [
              "<matplotlib.axes._subplots.AxesSubplot at 0x7faedf25b190>"
            ]
          },
          "metadata": {
            "tags": []
          },
          "execution_count": 363
        },
        {
          "output_type": "display_data",
          "data": {
            "image/png": "[encoded data removed]",
            "text/plain": [
              "<Figure size 432x288 with 1 Axes>"
            ]
          },
          "metadata": {
            "tags": [],
            "needs_background": "light"
          }
        }
      ]
    },
    {
      "cell_type": "markdown",
      "metadata": {
        "id": "zVBbQ1-itwRv"
      },
      "source": [
        "__conclusion__: feedback majorly affects target."
      ],
      "id": "zVBbQ1-itwRv"
    },
    {
      "cell_type": "markdown",
      "metadata": {
        "id": "pWoEINZmzns4"
      },
      "source": [
        "## Other Visualizations\n",
        "### all Box Plots"
      ],
      "id": "pWoEINZmzns4"
    },
    {
      "cell_type": "code",
      "metadata": {
        "colab": {
          "base_uri": "https://localhost:8080/",
          "height": 0
        },
        "id": "vCt0_t1wzm6n",
        "outputId": "387c3c61-baf3-48cb-9a8b-2e36d531e9c7"
      },
      "source": [
        "cols = ['age', 'days_since_last_login',\t'avg_time_spent', 'avg_transaction_value','avg_frequency_login_days','points_in_wallet', 'churn_risk_score']\n",
        "train_numer = pandas.DataFrame(data = train, columns = cols)\n",
        "\n",
        "names = train_numer.columns;\n",
        "ncols = len(names)\n",
        "fig1 = pyplot.figure(figsize = (45,20))\n",
        "axes = fig1.subplots(2, int(ncols/2))\n",
        "\n",
        "for name, ax in zip(names, axes.flatten()):\n",
        "    seaborn.boxplot(y=name, data=train_numer, x = 'churn_risk_score', ax=ax)\n",
        "    \n",
        "pyplot.show()"
      ],
      "id": "vCt0_t1wzm6n",
      "execution_count": 364,
      "outputs": [
        {
          "output_type": "display_data",
          "data": {
            "image/png": "[encoded data removed]",
            "text/plain": [
              "<Figure size 3240x1440 with 6 Axes>"
            ]
          },
          "metadata": {
            "tags": [],
            "needs_background": "light"
          }
        }
      ]
    },
    {
      "cell_type": "markdown",
      "metadata": {
        "id": "-nRR5XuGIL6h"
      },
      "source": [
        "## Encoding Categorical data"
      ],
      "id": "-nRR5XuGIL6h"
    },
    {
      "cell_type": "code",
      "metadata": {
        "colab": {
          "base_uri": "https://localhost:8080/",
          "height": 478
        },
        "id": "l9lRbumAIRDP",
        "outputId": "25620849-8b4d-4944-bbbd-fedaf901d69e"
      },
      "source": [
        "cols = ['gender', 'region_category',\n",
        "       'membership_category', 'joined_through_referral',\n",
        "       'preferred_offer_types', 'medium_of_operation', 'internet_option',\n",
        "      'used_special_discount',\n",
        "       'offer_application_preference', 'past_complaint', 'complaint_status',\n",
        "       'feedback']\n",
        "train_dum = pandas.get_dummies(data = train, columns = cols, drop_first=True)\n",
        "test_dum = pandas.get_dummies(data = test, columns = cols, drop_first=True)\n",
        "train_dum"
      ],
      "id": "l9lRbumAIRDP",
      "execution_count": 365,
      "outputs": [
        {
          "output_type": "execute_result",
          "data": {
            "text/html": [
              "<div>\n",
              "<style scoped>\n",
              "    .dataframe tbody tr th:only-of-type {\n",
              "        vertical-align: middle;\n",
              "    }\n",
              "\n",
              "    .dataframe tbody tr th {\n",
              "        vertical-align: top;\n",
              "    }\n",
              "\n",
              "    .dataframe thead th {\n",
              "        text-align: right;\n",
              "    }\n",
              "</style>\n",
              "<table border=\"1\" class=\"dataframe\">\n",
              "  <thead>\n",
              "    <tr style=\"text-align: right;\">\n",
              "      <th></th>\n",
              "      <th>customer_id</th>\n",
              "      <th>age</th>\n",
              "      <th>days_since_last_login</th>\n",
              "      <th>avg_time_spent</th>\n",
              "      <th>avg_transaction_value</th>\n",
              "      <th>avg_frequency_login_days</th>\n",
              "      <th>points_in_wallet</th>\n",
              "      <th>churn_risk_score</th>\n",
              "      <th>gender_M</th>\n",
              "      <th>region_category_Town</th>\n",
              "      <th>region_category_Village</th>\n",
              "      <th>membership_category_Gold Membership</th>\n",
              "      <th>membership_category_No Membership</th>\n",
              "      <th>membership_category_Platinum Membership</th>\n",
              "      <th>membership_category_Premium Membership</th>\n",
              "      <th>membership_category_Silver Membership</th>\n",
              "      <th>joined_through_referral_Yes</th>\n",
              "      <th>preferred_offer_types_Gift Vouchers/Coupons</th>\n",
              "      <th>preferred_offer_types_Without Offers</th>\n",
              "      <th>medium_of_operation_Desktop</th>\n",
              "      <th>medium_of_operation_Smartphone</th>\n",
              "      <th>internet_option_Mobile_Data</th>\n",
              "      <th>internet_option_Wi-Fi</th>\n",
              "      <th>used_special_discount_Yes</th>\n",
              "      <th>offer_application_preference_Yes</th>\n",
              "      <th>past_complaint_Yes</th>\n",
              "      <th>complaint_status_Not Applicable</th>\n",
              "      <th>complaint_status_Solved</th>\n",
              "      <th>complaint_status_Solved in Follow-up</th>\n",
              "      <th>complaint_status_Unsolved</th>\n",
              "      <th>feedback_Poor Customer Service</th>\n",
              "      <th>feedback_Poor Product Quality</th>\n",
              "      <th>feedback_Poor Website</th>\n",
              "      <th>feedback_Products always in Stock</th>\n",
              "      <th>feedback_Quality Customer Care</th>\n",
              "      <th>feedback_Reasonable Price</th>\n",
              "      <th>feedback_Too many ads</th>\n",
              "      <th>feedback_User Friendly Website</th>\n",
              "    </tr>\n",
              "  </thead>\n",
              "  <tbody>\n",
              "    <tr>\n",
              "      <th>0</th>\n",
              "      <td>fffe4300490044003600300030003800</td>\n",
              "      <td>18</td>\n",
              "      <td>17</td>\n",
              "      <td>300.630000</td>\n",
              "      <td>53005.25</td>\n",
              "      <td>17.0</td>\n",
              "      <td>781.750000</td>\n",
              "      <td>2</td>\n",
              "      <td>0</td>\n",
              "      <td>0</td>\n",
              "      <td>1</td>\n",
              "      <td>0</td>\n",
              "      <td>0</td>\n",
              "      <td>1</td>\n",
              "      <td>0</td>\n",
              "      <td>0</td>\n",
              "      <td>0</td>\n",
              "      <td>1</td>\n",
              "      <td>0</td>\n",
              "      <td>1</td>\n",
              "      <td>0</td>\n",
              "      <td>0</td>\n",
              "      <td>1</td>\n",
              "      <td>1</td>\n",
              "      <td>1</td>\n",
              "      <td>0</td>\n",
              "      <td>1</td>\n",
              "      <td>0</td>\n",
              "      <td>0</td>\n",
              "      <td>0</td>\n",
              "      <td>0</td>\n",
              "      <td>0</td>\n",
              "      <td>0</td>\n",
              "      <td>1</td>\n",
              "      <td>0</td>\n",
              "      <td>0</td>\n",
              "      <td>0</td>\n",
              "      <td>0</td>\n",
              "    </tr>\n",
              "    <tr>\n",
              "      <th>1</th>\n",
              "      <td>fffe43004900440032003100300035003700</td>\n",
              "      <td>32</td>\n",
              "      <td>16</td>\n",
              "      <td>306.340000</td>\n",
              "      <td>12838.38</td>\n",
              "      <td>10.0</td>\n",
              "      <td>686.882199</td>\n",
              "      <td>1</td>\n",
              "      <td>0</td>\n",
              "      <td>0</td>\n",
              "      <td>0</td>\n",
              "      <td>0</td>\n",
              "      <td>0</td>\n",
              "      <td>0</td>\n",
              "      <td>1</td>\n",
              "      <td>0</td>\n",
              "      <td>1</td>\n",
              "      <td>1</td>\n",
              "      <td>0</td>\n",
              "      <td>1</td>\n",
              "      <td>0</td>\n",
              "      <td>1</td>\n",
              "      <td>0</td>\n",
              "      <td>1</td>\n",
              "      <td>0</td>\n",
              "      <td>1</td>\n",
              "      <td>0</td>\n",
              "      <td>1</td>\n",
              "      <td>0</td>\n",
              "      <td>0</td>\n",
              "      <td>0</td>\n",
              "      <td>0</td>\n",
              "      <td>0</td>\n",
              "      <td>0</td>\n",
              "      <td>1</td>\n",
              "      <td>0</td>\n",
              "      <td>0</td>\n",
              "      <td>0</td>\n",
              "    </tr>\n",
              "    <tr>\n",
              "      <th>2</th>\n",
              "      <td>fffe4300490044003100390032003600</td>\n",
              "      <td>44</td>\n",
              "      <td>14</td>\n",
              "      <td>516.160000</td>\n",
              "      <td>21027.00</td>\n",
              "      <td>22.0</td>\n",
              "      <td>500.690000</td>\n",
              "      <td>5</td>\n",
              "      <td>0</td>\n",
              "      <td>1</td>\n",
              "      <td>0</td>\n",
              "      <td>0</td>\n",
              "      <td>1</td>\n",
              "      <td>0</td>\n",
              "      <td>0</td>\n",
              "      <td>0</td>\n",
              "      <td>1</td>\n",
              "      <td>1</td>\n",
              "      <td>0</td>\n",
              "      <td>1</td>\n",
              "      <td>0</td>\n",
              "      <td>0</td>\n",
              "      <td>1</td>\n",
              "      <td>0</td>\n",
              "      <td>1</td>\n",
              "      <td>1</td>\n",
              "      <td>0</td>\n",
              "      <td>0</td>\n",
              "      <td>1</td>\n",
              "      <td>0</td>\n",
              "      <td>0</td>\n",
              "      <td>0</td>\n",
              "      <td>1</td>\n",
              "      <td>0</td>\n",
              "      <td>0</td>\n",
              "      <td>0</td>\n",
              "      <td>0</td>\n",
              "      <td>0</td>\n",
              "    </tr>\n",
              "    <tr>\n",
              "      <th>3</th>\n",
              "      <td>fffe43004900440036003000330031003600</td>\n",
              "      <td>37</td>\n",
              "      <td>11</td>\n",
              "      <td>53.270000</td>\n",
              "      <td>25239.56</td>\n",
              "      <td>6.0</td>\n",
              "      <td>567.660000</td>\n",
              "      <td>5</td>\n",
              "      <td>1</td>\n",
              "      <td>0</td>\n",
              "      <td>0</td>\n",
              "      <td>0</td>\n",
              "      <td>1</td>\n",
              "      <td>0</td>\n",
              "      <td>0</td>\n",
              "      <td>0</td>\n",
              "      <td>1</td>\n",
              "      <td>1</td>\n",
              "      <td>0</td>\n",
              "      <td>1</td>\n",
              "      <td>0</td>\n",
              "      <td>1</td>\n",
              "      <td>0</td>\n",
              "      <td>0</td>\n",
              "      <td>1</td>\n",
              "      <td>1</td>\n",
              "      <td>0</td>\n",
              "      <td>0</td>\n",
              "      <td>0</td>\n",
              "      <td>1</td>\n",
              "      <td>0</td>\n",
              "      <td>0</td>\n",
              "      <td>1</td>\n",
              "      <td>0</td>\n",
              "      <td>0</td>\n",
              "      <td>0</td>\n",
              "      <td>0</td>\n",
              "      <td>0</td>\n",
              "    </tr>\n",
              "    <tr>\n",
              "      <th>4</th>\n",
              "      <td>fffe43004900440031003900350030003600</td>\n",
              "      <td>31</td>\n",
              "      <td>20</td>\n",
              "      <td>113.130000</td>\n",
              "      <td>24483.66</td>\n",
              "      <td>16.0</td>\n",
              "      <td>663.060000</td>\n",
              "      <td>5</td>\n",
              "      <td>0</td>\n",
              "      <td>0</td>\n",
              "      <td>0</td>\n",
              "      <td>0</td>\n",
              "      <td>1</td>\n",
              "      <td>0</td>\n",
              "      <td>0</td>\n",
              "      <td>0</td>\n",
              "      <td>0</td>\n",
              "      <td>0</td>\n",
              "      <td>0</td>\n",
              "      <td>0</td>\n",
              "      <td>1</td>\n",
              "      <td>1</td>\n",
              "      <td>0</td>\n",
              "      <td>0</td>\n",
              "      <td>1</td>\n",
              "      <td>1</td>\n",
              "      <td>0</td>\n",
              "      <td>1</td>\n",
              "      <td>0</td>\n",
              "      <td>0</td>\n",
              "      <td>0</td>\n",
              "      <td>0</td>\n",
              "      <td>1</td>\n",
              "      <td>0</td>\n",
              "      <td>0</td>\n",
              "      <td>0</td>\n",
              "      <td>0</td>\n",
              "      <td>0</td>\n",
              "    </tr>\n",
              "    <tr>\n",
              "      <th>...</th>\n",
              "      <td>...</td>\n",
              "      <td>...</td>\n",
              "      <td>...</td>\n",
              "      <td>...</td>\n",
              "      <td>...</td>\n",
              "      <td>...</td>\n",
              "      <td>...</td>\n",
              "      <td>...</td>\n",
              "      <td>...</td>\n",
              "      <td>...</td>\n",
              "      <td>...</td>\n",
              "      <td>...</td>\n",
              "      <td>...</td>\n",
              "      <td>...</td>\n",
              "      <td>...</td>\n",
              "      <td>...</td>\n",
              "      <td>...</td>\n",
              "      <td>...</td>\n",
              "      <td>...</td>\n",
              "      <td>...</td>\n",
              "      <td>...</td>\n",
              "      <td>...</td>\n",
              "      <td>...</td>\n",
              "      <td>...</td>\n",
              "      <td>...</td>\n",
              "      <td>...</td>\n",
              "      <td>...</td>\n",
              "      <td>...</td>\n",
              "      <td>...</td>\n",
              "      <td>...</td>\n",
              "      <td>...</td>\n",
              "      <td>...</td>\n",
              "      <td>...</td>\n",
              "      <td>...</td>\n",
              "      <td>...</td>\n",
              "      <td>...</td>\n",
              "      <td>...</td>\n",
              "      <td>...</td>\n",
              "    </tr>\n",
              "    <tr>\n",
              "      <th>36987</th>\n",
              "      <td>fffe43004900440035003500390036003100</td>\n",
              "      <td>46</td>\n",
              "      <td>2</td>\n",
              "      <td>-650.682759</td>\n",
              "      <td>27277.68</td>\n",
              "      <td>6.0</td>\n",
              "      <td>639.510000</td>\n",
              "      <td>4</td>\n",
              "      <td>0</td>\n",
              "      <td>1</td>\n",
              "      <td>0</td>\n",
              "      <td>0</td>\n",
              "      <td>0</td>\n",
              "      <td>0</td>\n",
              "      <td>0</td>\n",
              "      <td>0</td>\n",
              "      <td>0</td>\n",
              "      <td>0</td>\n",
              "      <td>0</td>\n",
              "      <td>1</td>\n",
              "      <td>0</td>\n",
              "      <td>0</td>\n",
              "      <td>1</td>\n",
              "      <td>0</td>\n",
              "      <td>1</td>\n",
              "      <td>1</td>\n",
              "      <td>0</td>\n",
              "      <td>0</td>\n",
              "      <td>0</td>\n",
              "      <td>0</td>\n",
              "      <td>0</td>\n",
              "      <td>0</td>\n",
              "      <td>0</td>\n",
              "      <td>0</td>\n",
              "      <td>0</td>\n",
              "      <td>0</td>\n",
              "      <td>0</td>\n",
              "      <td>0</td>\n",
              "    </tr>\n",
              "    <tr>\n",
              "      <th>36988</th>\n",
              "      <td>fffe43004900440033003500380036003600</td>\n",
              "      <td>29</td>\n",
              "      <td>13</td>\n",
              "      <td>-638.123421</td>\n",
              "      <td>11069.71</td>\n",
              "      <td>28.0</td>\n",
              "      <td>527.990000</td>\n",
              "      <td>5</td>\n",
              "      <td>0</td>\n",
              "      <td>1</td>\n",
              "      <td>0</td>\n",
              "      <td>0</td>\n",
              "      <td>0</td>\n",
              "      <td>0</td>\n",
              "      <td>0</td>\n",
              "      <td>0</td>\n",
              "      <td>0</td>\n",
              "      <td>0</td>\n",
              "      <td>1</td>\n",
              "      <td>0</td>\n",
              "      <td>1</td>\n",
              "      <td>0</td>\n",
              "      <td>1</td>\n",
              "      <td>1</td>\n",
              "      <td>0</td>\n",
              "      <td>0</td>\n",
              "      <td>1</td>\n",
              "      <td>0</td>\n",
              "      <td>0</td>\n",
              "      <td>0</td>\n",
              "      <td>1</td>\n",
              "      <td>0</td>\n",
              "      <td>0</td>\n",
              "      <td>0</td>\n",
              "      <td>0</td>\n",
              "      <td>0</td>\n",
              "      <td>0</td>\n",
              "      <td>0</td>\n",
              "    </tr>\n",
              "    <tr>\n",
              "      <th>36989</th>\n",
              "      <td>fffe4300490044003500330034003100</td>\n",
              "      <td>23</td>\n",
              "      <td>12</td>\n",
              "      <td>154.940000</td>\n",
              "      <td>38127.56</td>\n",
              "      <td>0.0</td>\n",
              "      <td>680.470000</td>\n",
              "      <td>4</td>\n",
              "      <td>0</td>\n",
              "      <td>1</td>\n",
              "      <td>0</td>\n",
              "      <td>0</td>\n",
              "      <td>0</td>\n",
              "      <td>0</td>\n",
              "      <td>0</td>\n",
              "      <td>0</td>\n",
              "      <td>1</td>\n",
              "      <td>1</td>\n",
              "      <td>0</td>\n",
              "      <td>1</td>\n",
              "      <td>0</td>\n",
              "      <td>0</td>\n",
              "      <td>1</td>\n",
              "      <td>0</td>\n",
              "      <td>1</td>\n",
              "      <td>1</td>\n",
              "      <td>0</td>\n",
              "      <td>0</td>\n",
              "      <td>0</td>\n",
              "      <td>1</td>\n",
              "      <td>0</td>\n",
              "      <td>0</td>\n",
              "      <td>1</td>\n",
              "      <td>0</td>\n",
              "      <td>0</td>\n",
              "      <td>0</td>\n",
              "      <td>0</td>\n",
              "      <td>0</td>\n",
              "    </tr>\n",
              "    <tr>\n",
              "      <th>36990</th>\n",
              "      <td>fffe43004900440031003200390039003000</td>\n",
              "      <td>53</td>\n",
              "      <td>15</td>\n",
              "      <td>482.610000</td>\n",
              "      <td>2378.86</td>\n",
              "      <td>20.0</td>\n",
              "      <td>197.264414</td>\n",
              "      <td>3</td>\n",
              "      <td>1</td>\n",
              "      <td>0</td>\n",
              "      <td>1</td>\n",
              "      <td>0</td>\n",
              "      <td>0</td>\n",
              "      <td>1</td>\n",
              "      <td>0</td>\n",
              "      <td>0</td>\n",
              "      <td>0</td>\n",
              "      <td>1</td>\n",
              "      <td>0</td>\n",
              "      <td>0</td>\n",
              "      <td>1</td>\n",
              "      <td>1</td>\n",
              "      <td>0</td>\n",
              "      <td>1</td>\n",
              "      <td>1</td>\n",
              "      <td>0</td>\n",
              "      <td>1</td>\n",
              "      <td>0</td>\n",
              "      <td>0</td>\n",
              "      <td>0</td>\n",
              "      <td>0</td>\n",
              "      <td>0</td>\n",
              "      <td>0</td>\n",
              "      <td>0</td>\n",
              "      <td>0</td>\n",
              "      <td>0</td>\n",
              "      <td>0</td>\n",
              "      <td>0</td>\n",
              "    </tr>\n",
              "    <tr>\n",
              "      <th>36991</th>\n",
              "      <td>fffe43004900440033003600340034003200</td>\n",
              "      <td>35</td>\n",
              "      <td>15</td>\n",
              "      <td>79.180000</td>\n",
              "      <td>2189.68</td>\n",
              "      <td>0.0</td>\n",
              "      <td>719.970000</td>\n",
              "      <td>2</td>\n",
              "      <td>1</td>\n",
              "      <td>1</td>\n",
              "      <td>0</td>\n",
              "      <td>0</td>\n",
              "      <td>0</td>\n",
              "      <td>0</td>\n",
              "      <td>0</td>\n",
              "      <td>1</td>\n",
              "      <td>0</td>\n",
              "      <td>1</td>\n",
              "      <td>0</td>\n",
              "      <td>1</td>\n",
              "      <td>0</td>\n",
              "      <td>1</td>\n",
              "      <td>0</td>\n",
              "      <td>1</td>\n",
              "      <td>0</td>\n",
              "      <td>0</td>\n",
              "      <td>1</td>\n",
              "      <td>0</td>\n",
              "      <td>0</td>\n",
              "      <td>0</td>\n",
              "      <td>0</td>\n",
              "      <td>0</td>\n",
              "      <td>0</td>\n",
              "      <td>0</td>\n",
              "      <td>1</td>\n",
              "      <td>0</td>\n",
              "      <td>0</td>\n",
              "      <td>0</td>\n",
              "    </tr>\n",
              "  </tbody>\n",
              "</table>\n",
              "<p>36992 rows × 38 columns</p>\n",
              "</div>"
            ],
            "text/plain": [
              "                                customer_id  ...  feedback_User Friendly Website\n",
              "0          fffe4300490044003600300030003800  ...                               0\n",
              "1      fffe43004900440032003100300035003700  ...                               0\n",
              "2          fffe4300490044003100390032003600  ...                               0\n",
              "3      fffe43004900440036003000330031003600  ...                               0\n",
              "4      fffe43004900440031003900350030003600  ...                               0\n",
              "...                                     ...  ...                             ...\n",
              "36987  fffe43004900440035003500390036003100  ...                               0\n",
              "36988  fffe43004900440033003500380036003600  ...                               0\n",
              "36989      fffe4300490044003500330034003100  ...                               0\n",
              "36990  fffe43004900440031003200390039003000  ...                               0\n",
              "36991  fffe43004900440033003600340034003200  ...                               0\n",
              "\n",
              "[36992 rows x 38 columns]"
            ]
          },
          "metadata": {
            "tags": []
          },
          "execution_count": 365
        }
      ]
    },
    {
      "cell_type": "code",
      "metadata": {
        "id": "aSGGsoPsMouG",
        "colab": {
          "base_uri": "https://localhost:8080/"
        },
        "outputId": "bcfe01ff-0bfb-4eb8-dfe6-f6c058ac9ff7"
      },
      "source": [
        "train_dum.columns\n"
      ],
      "id": "aSGGsoPsMouG",
      "execution_count": 367,
      "outputs": [
        {
          "output_type": "execute_result",
          "data": {
            "text/plain": [
              "Index(['customer_id', 'age', 'days_since_last_login', 'avg_time_spent',\n",
              "       'avg_transaction_value', 'avg_frequency_login_days', 'points_in_wallet',\n",
              "       'churn_risk_score', 'gender_M', 'region_category_Town',\n",
              "       'region_category_Village', 'membership_category_Gold Membership',\n",
              "       'membership_category_No Membership',\n",
              "       'membership_category_Platinum Membership',\n",
              "       'membership_category_Premium Membership',\n",
              "       'membership_category_Silver Membership', 'joined_through_referral_Yes',\n",
              "       'preferred_offer_types_Gift Vouchers/Coupons',\n",
              "       'preferred_offer_types_Without Offers', 'medium_of_operation_Desktop',\n",
              "       'medium_of_operation_Smartphone', 'internet_option_Mobile_Data',\n",
              "       'internet_option_Wi-Fi', 'used_special_discount_Yes',\n",
              "       'offer_application_preference_Yes', 'past_complaint_Yes',\n",
              "       'complaint_status_Not Applicable', 'complaint_status_Solved',\n",
              "       'complaint_status_Solved in Follow-up', 'complaint_status_Unsolved',\n",
              "       'feedback_Poor Customer Service', 'feedback_Poor Product Quality',\n",
              "       'feedback_Poor Website', 'feedback_Products always in Stock',\n",
              "       'feedback_Quality Customer Care', 'feedback_Reasonable Price',\n",
              "       'feedback_Too many ads', 'feedback_User Friendly Website'],\n",
              "      dtype='object')"
            ]
          },
          "metadata": {
            "tags": []
          },
          "execution_count": 367
        }
      ]
    },
    {
      "cell_type": "markdown",
      "metadata": {
        "id": "-2w7Mhhg3bCK"
      },
      "source": [
        "## Train test split"
      ],
      "id": "-2w7Mhhg3bCK"
    },
    {
      "cell_type": "code",
      "metadata": {
        "id": "4PhbGVG-RVJv",
        "colab": {
          "base_uri": "https://localhost:8080/"
        },
        "outputId": "15000404-da61-424f-ff6b-d60ac49d7d5f"
      },
      "source": [
        "from sklearn.model_selection import train_test_split\n",
        "y = train_dum['churn_risk_score']\n",
        "x = train_dum.drop(columns = ['churn_risk_score'])\n",
        "x_train, x_test, y_train, y_test = train_test_split(x, y, test_size = 0.8, random_state = 42)\n",
        "# print(x_train,x_test,y_train,y_test, end= '\\n')\n",
        "\n",
        "train_cid = x_train['customer_id']\n",
        "test_cid = x_test['customer_id']\n",
        "x_train.drop(columns = ['customer_id'], inplace = True)\n",
        "x_test.drop(columns = ['customer_id'], inplace = True)\n",
        "\n",
        "valid_cid = test_dum['customer_id']\n",
        "x_valid = test_dum.drop(columns = ['customer_id'])\n",
        "# print(valid_cid,x_valid[:5])"
      ],
      "id": "4PhbGVG-RVJv",
      "execution_count": 368,
      "outputs": [
        {
          "output_type": "stream",
          "text": [
            "/usr/local/lib/python3.7/dist-packages/pandas/core/frame.py:4174: SettingWithCopyWarning: \n",
            "A value is trying to be set on a copy of a slice from a DataFrame\n",
            "\n",
            "See the caveats in the documentation: https://pandas.pydata.org/pandas-docs/stable/user_guide/indexing.html#returning-a-view-versus-a-copy\n",
            "  errors=errors,\n"
          ],
          "name": "stderr"
        }
      ]
    },
    {
      "cell_type": "markdown",
      "metadata": {
        "id": "7ctde04N-CY4"
      },
      "source": [
        "## Over Sampling using smote\n"
      ],
      "id": "7ctde04N-CY4"
    },
    {
      "cell_type": "code",
      "metadata": {
        "colab": {
          "base_uri": "https://localhost:8080/"
        },
        "id": "dj42FO2b-IX3",
        "outputId": "bddda0b9-2796-4846-87d5-4d31c90cdc64"
      },
      "source": [
        "from imblearn.over_sampling import SMOTE\n",
        "os = SMOTE(random_state=0)\n",
        "columns = x_train.columns\n",
        "os_data_x, os_data_y = os.fit_sample(x_train, y_train)\n",
        "x_train = pandas.DataFrame(data=os_data_x,columns=columns )\n",
        "y_train = pandas.DataFrame(data=os_data_y,columns=['y'])\n",
        "# we can Check the numbers of our data\n",
        "print(\"length of oversampled data is \",len(x_train))\n",
        "print(len(y_train))"
      ],
      "id": "dj42FO2b-IX3",
      "execution_count": 369,
      "outputs": [
        {
          "output_type": "stream",
          "text": [
            "length of oversampled data is  11730\n",
            "11730\n"
          ],
          "name": "stdout"
        },
        {
          "output_type": "stream",
          "text": [
            "/usr/local/lib/python3.7/dist-packages/sklearn/utils/deprecation.py:87: FutureWarning: Function safe_indexing is deprecated; safe_indexing is deprecated in version 0.22 and will be removed in version 0.24.\n",
            "  warnings.warn(msg, category=FutureWarning)\n",
            "/usr/local/lib/python3.7/dist-packages/sklearn/utils/deprecation.py:87: FutureWarning: Function safe_indexing is deprecated; safe_indexing is deprecated in version 0.22 and will be removed in version 0.24.\n",
            "  warnings.warn(msg, category=FutureWarning)\n",
            "/usr/local/lib/python3.7/dist-packages/sklearn/utils/deprecation.py:87: FutureWarning: Function safe_indexing is deprecated; safe_indexing is deprecated in version 0.22 and will be removed in version 0.24.\n",
            "  warnings.warn(msg, category=FutureWarning)\n",
            "/usr/local/lib/python3.7/dist-packages/sklearn/utils/deprecation.py:87: FutureWarning: Function safe_indexing is deprecated; safe_indexing is deprecated in version 0.22 and will be removed in version 0.24.\n",
            "  warnings.warn(msg, category=FutureWarning)\n"
          ],
          "name": "stderr"
        }
      ]
    },
    {
      "cell_type": "markdown",
      "metadata": {
        "id": "oWF8-6btQJqV"
      },
      "source": [
        "## Normalising dataset"
      ],
      "id": "oWF8-6btQJqV"
    },
    {
      "cell_type": "code",
      "metadata": {
        "colab": {
          "base_uri": "https://localhost:8080/",
          "height": 478
        },
        "id": "20NYjnrlQJTp",
        "outputId": "30a839d9-518b-41c7-ebf6-f302feb43759"
      },
      "source": [
        "from sklearn import preprocessing\n",
        "scaler = preprocessing.MinMaxScaler()\n",
        "cols = x_train.columns\n",
        "x_train = pandas.DataFrame(data = scaler.fit_transform(x_train),columns = cols)\n",
        "x_test = pandas.DataFrame(data = scaler.transform(x_test),columns = cols)\n",
        "\n",
        "x_valid = pandas.DataFrame(data = scaler.transform(x_valid), columns = cols)\n",
        "x_train"
      ],
      "id": "20NYjnrlQJTp",
      "execution_count": 370,
      "outputs": [
        {
          "output_type": "execute_result",
          "data": {
            "text/html": [
              "<div>\n",
              "<style scoped>\n",
              "    .dataframe tbody tr th:only-of-type {\n",
              "        vertical-align: middle;\n",
              "    }\n",
              "\n",
              "    .dataframe tbody tr th {\n",
              "        vertical-align: top;\n",
              "    }\n",
              "\n",
              "    .dataframe thead th {\n",
              "        text-align: right;\n",
              "    }\n",
              "</style>\n",
              "<table border=\"1\" class=\"dataframe\">\n",
              "  <thead>\n",
              "    <tr style=\"text-align: right;\">\n",
              "      <th></th>\n",
              "      <th>age</th>\n",
              "      <th>days_since_last_login</th>\n",
              "      <th>avg_time_spent</th>\n",
              "      <th>avg_transaction_value</th>\n",
              "      <th>avg_frequency_login_days</th>\n",
              "      <th>points_in_wallet</th>\n",
              "      <th>gender_M</th>\n",
              "      <th>region_category_Town</th>\n",
              "      <th>region_category_Village</th>\n",
              "      <th>membership_category_Gold Membership</th>\n",
              "      <th>membership_category_No Membership</th>\n",
              "      <th>membership_category_Platinum Membership</th>\n",
              "      <th>membership_category_Premium Membership</th>\n",
              "      <th>membership_category_Silver Membership</th>\n",
              "      <th>joined_through_referral_Yes</th>\n",
              "      <th>preferred_offer_types_Gift Vouchers/Coupons</th>\n",
              "      <th>preferred_offer_types_Without Offers</th>\n",
              "      <th>medium_of_operation_Desktop</th>\n",
              "      <th>medium_of_operation_Smartphone</th>\n",
              "      <th>internet_option_Mobile_Data</th>\n",
              "      <th>internet_option_Wi-Fi</th>\n",
              "      <th>used_special_discount_Yes</th>\n",
              "      <th>offer_application_preference_Yes</th>\n",
              "      <th>past_complaint_Yes</th>\n",
              "      <th>complaint_status_Not Applicable</th>\n",
              "      <th>complaint_status_Solved</th>\n",
              "      <th>complaint_status_Solved in Follow-up</th>\n",
              "      <th>complaint_status_Unsolved</th>\n",
              "      <th>feedback_Poor Customer Service</th>\n",
              "      <th>feedback_Poor Product Quality</th>\n",
              "      <th>feedback_Poor Website</th>\n",
              "      <th>feedback_Products always in Stock</th>\n",
              "      <th>feedback_Quality Customer Care</th>\n",
              "      <th>feedback_Reasonable Price</th>\n",
              "      <th>feedback_Too many ads</th>\n",
              "      <th>feedback_User Friendly Website</th>\n",
              "    </tr>\n",
              "  </thead>\n",
              "  <tbody>\n",
              "    <tr>\n",
              "      <th>0</th>\n",
              "      <td>0.666667</td>\n",
              "      <td>0.692308</td>\n",
              "      <td>0.511704</td>\n",
              "      <td>0.651220</td>\n",
              "      <td>0.315820</td>\n",
              "      <td>0.548198</td>\n",
              "      <td>1.000000</td>\n",
              "      <td>0.000000</td>\n",
              "      <td>0.000000</td>\n",
              "      <td>0.0</td>\n",
              "      <td>0.000000</td>\n",
              "      <td>1.0</td>\n",
              "      <td>0.0</td>\n",
              "      <td>0.0</td>\n",
              "      <td>0.000000</td>\n",
              "      <td>1.000000</td>\n",
              "      <td>0.000000</td>\n",
              "      <td>0.000000</td>\n",
              "      <td>0.000000</td>\n",
              "      <td>0.000000</td>\n",
              "      <td>0.000000</td>\n",
              "      <td>1.000000</td>\n",
              "      <td>1.000000</td>\n",
              "      <td>1.000000</td>\n",
              "      <td>0.000000</td>\n",
              "      <td>0.000000</td>\n",
              "      <td>1.000000</td>\n",
              "      <td>0.000000</td>\n",
              "      <td>0.000000</td>\n",
              "      <td>0.000000</td>\n",
              "      <td>0.0</td>\n",
              "      <td>1.0</td>\n",
              "      <td>0.0</td>\n",
              "      <td>0.0</td>\n",
              "      <td>0.000000</td>\n",
              "      <td>0.0</td>\n",
              "    </tr>\n",
              "    <tr>\n",
              "      <th>1</th>\n",
              "      <td>0.703704</td>\n",
              "      <td>0.538462</td>\n",
              "      <td>0.443750</td>\n",
              "      <td>0.058226</td>\n",
              "      <td>0.412996</td>\n",
              "      <td>0.559541</td>\n",
              "      <td>1.000000</td>\n",
              "      <td>1.000000</td>\n",
              "      <td>0.000000</td>\n",
              "      <td>0.0</td>\n",
              "      <td>0.000000</td>\n",
              "      <td>0.0</td>\n",
              "      <td>1.0</td>\n",
              "      <td>0.0</td>\n",
              "      <td>0.000000</td>\n",
              "      <td>0.000000</td>\n",
              "      <td>0.000000</td>\n",
              "      <td>0.000000</td>\n",
              "      <td>1.000000</td>\n",
              "      <td>1.000000</td>\n",
              "      <td>0.000000</td>\n",
              "      <td>0.000000</td>\n",
              "      <td>1.000000</td>\n",
              "      <td>1.000000</td>\n",
              "      <td>0.000000</td>\n",
              "      <td>0.000000</td>\n",
              "      <td>0.000000</td>\n",
              "      <td>0.000000</td>\n",
              "      <td>0.000000</td>\n",
              "      <td>0.000000</td>\n",
              "      <td>0.0</td>\n",
              "      <td>0.0</td>\n",
              "      <td>1.0</td>\n",
              "      <td>0.0</td>\n",
              "      <td>0.000000</td>\n",
              "      <td>0.0</td>\n",
              "    </tr>\n",
              "    <tr>\n",
              "      <th>2</th>\n",
              "      <td>0.925926</td>\n",
              "      <td>0.153846</td>\n",
              "      <td>0.449501</td>\n",
              "      <td>0.631336</td>\n",
              "      <td>0.000000</td>\n",
              "      <td>0.598371</td>\n",
              "      <td>1.000000</td>\n",
              "      <td>1.000000</td>\n",
              "      <td>0.000000</td>\n",
              "      <td>0.0</td>\n",
              "      <td>0.000000</td>\n",
              "      <td>1.0</td>\n",
              "      <td>0.0</td>\n",
              "      <td>0.0</td>\n",
              "      <td>0.000000</td>\n",
              "      <td>0.000000</td>\n",
              "      <td>1.000000</td>\n",
              "      <td>1.000000</td>\n",
              "      <td>0.000000</td>\n",
              "      <td>1.000000</td>\n",
              "      <td>0.000000</td>\n",
              "      <td>0.000000</td>\n",
              "      <td>1.000000</td>\n",
              "      <td>0.000000</td>\n",
              "      <td>1.000000</td>\n",
              "      <td>0.000000</td>\n",
              "      <td>0.000000</td>\n",
              "      <td>0.000000</td>\n",
              "      <td>0.000000</td>\n",
              "      <td>0.000000</td>\n",
              "      <td>0.0</td>\n",
              "      <td>0.0</td>\n",
              "      <td>0.0</td>\n",
              "      <td>0.0</td>\n",
              "      <td>0.000000</td>\n",
              "      <td>1.0</td>\n",
              "    </tr>\n",
              "    <tr>\n",
              "      <th>3</th>\n",
              "      <td>0.407407</td>\n",
              "      <td>0.884615</td>\n",
              "      <td>0.437962</td>\n",
              "      <td>0.194852</td>\n",
              "      <td>0.170057</td>\n",
              "      <td>0.501400</td>\n",
              "      <td>1.000000</td>\n",
              "      <td>1.000000</td>\n",
              "      <td>0.000000</td>\n",
              "      <td>0.0</td>\n",
              "      <td>1.000000</td>\n",
              "      <td>0.0</td>\n",
              "      <td>0.0</td>\n",
              "      <td>0.0</td>\n",
              "      <td>1.000000</td>\n",
              "      <td>1.000000</td>\n",
              "      <td>0.000000</td>\n",
              "      <td>0.000000</td>\n",
              "      <td>1.000000</td>\n",
              "      <td>0.000000</td>\n",
              "      <td>1.000000</td>\n",
              "      <td>1.000000</td>\n",
              "      <td>0.000000</td>\n",
              "      <td>1.000000</td>\n",
              "      <td>0.000000</td>\n",
              "      <td>1.000000</td>\n",
              "      <td>0.000000</td>\n",
              "      <td>0.000000</td>\n",
              "      <td>0.000000</td>\n",
              "      <td>0.000000</td>\n",
              "      <td>0.0</td>\n",
              "      <td>0.0</td>\n",
              "      <td>0.0</td>\n",
              "      <td>0.0</td>\n",
              "      <td>0.000000</td>\n",
              "      <td>0.0</td>\n",
              "    </tr>\n",
              "    <tr>\n",
              "      <th>4</th>\n",
              "      <td>0.259259</td>\n",
              "      <td>0.538462</td>\n",
              "      <td>0.566330</td>\n",
              "      <td>0.081397</td>\n",
              "      <td>0.194351</td>\n",
              "      <td>0.268067</td>\n",
              "      <td>0.000000</td>\n",
              "      <td>0.000000</td>\n",
              "      <td>1.000000</td>\n",
              "      <td>0.0</td>\n",
              "      <td>0.000000</td>\n",
              "      <td>0.0</td>\n",
              "      <td>1.0</td>\n",
              "      <td>0.0</td>\n",
              "      <td>1.000000</td>\n",
              "      <td>0.000000</td>\n",
              "      <td>1.000000</td>\n",
              "      <td>0.000000</td>\n",
              "      <td>1.000000</td>\n",
              "      <td>1.000000</td>\n",
              "      <td>0.000000</td>\n",
              "      <td>0.000000</td>\n",
              "      <td>1.000000</td>\n",
              "      <td>1.000000</td>\n",
              "      <td>0.000000</td>\n",
              "      <td>0.000000</td>\n",
              "      <td>1.000000</td>\n",
              "      <td>0.000000</td>\n",
              "      <td>0.000000</td>\n",
              "      <td>0.000000</td>\n",
              "      <td>0.0</td>\n",
              "      <td>0.0</td>\n",
              "      <td>0.0</td>\n",
              "      <td>1.0</td>\n",
              "      <td>0.000000</td>\n",
              "      <td>0.0</td>\n",
              "    </tr>\n",
              "    <tr>\n",
              "      <th>...</th>\n",
              "      <td>...</td>\n",
              "      <td>...</td>\n",
              "      <td>...</td>\n",
              "      <td>...</td>\n",
              "      <td>...</td>\n",
              "      <td>...</td>\n",
              "      <td>...</td>\n",
              "      <td>...</td>\n",
              "      <td>...</td>\n",
              "      <td>...</td>\n",
              "      <td>...</td>\n",
              "      <td>...</td>\n",
              "      <td>...</td>\n",
              "      <td>...</td>\n",
              "      <td>...</td>\n",
              "      <td>...</td>\n",
              "      <td>...</td>\n",
              "      <td>...</td>\n",
              "      <td>...</td>\n",
              "      <td>...</td>\n",
              "      <td>...</td>\n",
              "      <td>...</td>\n",
              "      <td>...</td>\n",
              "      <td>...</td>\n",
              "      <td>...</td>\n",
              "      <td>...</td>\n",
              "      <td>...</td>\n",
              "      <td>...</td>\n",
              "      <td>...</td>\n",
              "      <td>...</td>\n",
              "      <td>...</td>\n",
              "      <td>...</td>\n",
              "      <td>...</td>\n",
              "      <td>...</td>\n",
              "      <td>...</td>\n",
              "      <td>...</td>\n",
              "    </tr>\n",
              "    <tr>\n",
              "      <th>11725</th>\n",
              "      <td>0.817451</td>\n",
              "      <td>0.610266</td>\n",
              "      <td>0.252962</td>\n",
              "      <td>0.374654</td>\n",
              "      <td>0.139521</td>\n",
              "      <td>0.470504</td>\n",
              "      <td>0.876156</td>\n",
              "      <td>0.123844</td>\n",
              "      <td>0.000000</td>\n",
              "      <td>0.0</td>\n",
              "      <td>1.000000</td>\n",
              "      <td>0.0</td>\n",
              "      <td>0.0</td>\n",
              "      <td>0.0</td>\n",
              "      <td>0.876156</td>\n",
              "      <td>0.000000</td>\n",
              "      <td>0.123844</td>\n",
              "      <td>1.000000</td>\n",
              "      <td>0.000000</td>\n",
              "      <td>0.123844</td>\n",
              "      <td>0.876156</td>\n",
              "      <td>0.876156</td>\n",
              "      <td>1.000000</td>\n",
              "      <td>0.876156</td>\n",
              "      <td>0.123844</td>\n",
              "      <td>0.000000</td>\n",
              "      <td>0.000000</td>\n",
              "      <td>0.000000</td>\n",
              "      <td>0.000000</td>\n",
              "      <td>0.000000</td>\n",
              "      <td>0.0</td>\n",
              "      <td>0.0</td>\n",
              "      <td>0.0</td>\n",
              "      <td>0.0</td>\n",
              "      <td>0.876156</td>\n",
              "      <td>0.0</td>\n",
              "    </tr>\n",
              "    <tr>\n",
              "      <th>11726</th>\n",
              "      <td>0.449700</td>\n",
              "      <td>0.609980</td>\n",
              "      <td>0.438633</td>\n",
              "      <td>0.007072</td>\n",
              "      <td>0.624615</td>\n",
              "      <td>0.351279</td>\n",
              "      <td>1.000000</td>\n",
              "      <td>0.856755</td>\n",
              "      <td>0.000000</td>\n",
              "      <td>0.0</td>\n",
              "      <td>0.143245</td>\n",
              "      <td>0.0</td>\n",
              "      <td>0.0</td>\n",
              "      <td>0.0</td>\n",
              "      <td>0.143245</td>\n",
              "      <td>0.000000</td>\n",
              "      <td>1.000000</td>\n",
              "      <td>0.000000</td>\n",
              "      <td>1.000000</td>\n",
              "      <td>0.000000</td>\n",
              "      <td>0.856755</td>\n",
              "      <td>0.856755</td>\n",
              "      <td>0.143245</td>\n",
              "      <td>0.856755</td>\n",
              "      <td>0.143245</td>\n",
              "      <td>0.000000</td>\n",
              "      <td>0.000000</td>\n",
              "      <td>0.000000</td>\n",
              "      <td>0.000000</td>\n",
              "      <td>0.000000</td>\n",
              "      <td>1.0</td>\n",
              "      <td>0.0</td>\n",
              "      <td>0.0</td>\n",
              "      <td>0.0</td>\n",
              "      <td>0.000000</td>\n",
              "      <td>0.0</td>\n",
              "    </tr>\n",
              "    <tr>\n",
              "      <th>11727</th>\n",
              "      <td>0.840827</td>\n",
              "      <td>0.561487</td>\n",
              "      <td>0.731448</td>\n",
              "      <td>0.468175</td>\n",
              "      <td>0.573303</td>\n",
              "      <td>0.458039</td>\n",
              "      <td>1.000000</td>\n",
              "      <td>0.399667</td>\n",
              "      <td>0.000000</td>\n",
              "      <td>0.0</td>\n",
              "      <td>0.399667</td>\n",
              "      <td>0.0</td>\n",
              "      <td>0.0</td>\n",
              "      <td>0.0</td>\n",
              "      <td>0.600333</td>\n",
              "      <td>0.000000</td>\n",
              "      <td>0.000000</td>\n",
              "      <td>1.000000</td>\n",
              "      <td>0.000000</td>\n",
              "      <td>0.000000</td>\n",
              "      <td>0.000000</td>\n",
              "      <td>0.600333</td>\n",
              "      <td>0.399667</td>\n",
              "      <td>1.000000</td>\n",
              "      <td>0.000000</td>\n",
              "      <td>0.000000</td>\n",
              "      <td>0.600333</td>\n",
              "      <td>0.399667</td>\n",
              "      <td>0.399667</td>\n",
              "      <td>0.000000</td>\n",
              "      <td>0.0</td>\n",
              "      <td>0.0</td>\n",
              "      <td>0.0</td>\n",
              "      <td>0.0</td>\n",
              "      <td>0.000000</td>\n",
              "      <td>0.0</td>\n",
              "    </tr>\n",
              "    <tr>\n",
              "      <th>11728</th>\n",
              "      <td>0.814642</td>\n",
              "      <td>0.498032</td>\n",
              "      <td>0.470830</td>\n",
              "      <td>0.085221</td>\n",
              "      <td>0.211639</td>\n",
              "      <td>0.391030</td>\n",
              "      <td>0.618603</td>\n",
              "      <td>0.000000</td>\n",
              "      <td>0.000000</td>\n",
              "      <td>0.0</td>\n",
              "      <td>0.000000</td>\n",
              "      <td>0.0</td>\n",
              "      <td>0.0</td>\n",
              "      <td>0.0</td>\n",
              "      <td>1.000000</td>\n",
              "      <td>0.618603</td>\n",
              "      <td>0.381397</td>\n",
              "      <td>0.381397</td>\n",
              "      <td>0.618603</td>\n",
              "      <td>0.381397</td>\n",
              "      <td>0.000000</td>\n",
              "      <td>0.000000</td>\n",
              "      <td>1.000000</td>\n",
              "      <td>1.000000</td>\n",
              "      <td>0.000000</td>\n",
              "      <td>0.381397</td>\n",
              "      <td>0.618603</td>\n",
              "      <td>0.000000</td>\n",
              "      <td>0.000000</td>\n",
              "      <td>0.618603</td>\n",
              "      <td>0.0</td>\n",
              "      <td>0.0</td>\n",
              "      <td>0.0</td>\n",
              "      <td>0.0</td>\n",
              "      <td>0.000000</td>\n",
              "      <td>0.0</td>\n",
              "    </tr>\n",
              "    <tr>\n",
              "      <th>11729</th>\n",
              "      <td>0.715305</td>\n",
              "      <td>0.725698</td>\n",
              "      <td>0.443414</td>\n",
              "      <td>0.100151</td>\n",
              "      <td>0.300068</td>\n",
              "      <td>0.105951</td>\n",
              "      <td>0.000000</td>\n",
              "      <td>0.000000</td>\n",
              "      <td>0.021974</td>\n",
              "      <td>0.0</td>\n",
              "      <td>0.021974</td>\n",
              "      <td>0.0</td>\n",
              "      <td>0.0</td>\n",
              "      <td>0.0</td>\n",
              "      <td>1.000000</td>\n",
              "      <td>0.000000</td>\n",
              "      <td>0.000000</td>\n",
              "      <td>0.021974</td>\n",
              "      <td>0.978026</td>\n",
              "      <td>1.000000</td>\n",
              "      <td>0.000000</td>\n",
              "      <td>0.978026</td>\n",
              "      <td>0.021974</td>\n",
              "      <td>0.000000</td>\n",
              "      <td>1.000000</td>\n",
              "      <td>0.000000</td>\n",
              "      <td>0.000000</td>\n",
              "      <td>0.000000</td>\n",
              "      <td>0.021974</td>\n",
              "      <td>0.000000</td>\n",
              "      <td>0.0</td>\n",
              "      <td>0.0</td>\n",
              "      <td>0.0</td>\n",
              "      <td>0.0</td>\n",
              "      <td>0.000000</td>\n",
              "      <td>0.0</td>\n",
              "    </tr>\n",
              "  </tbody>\n",
              "</table>\n",
              "<p>11730 rows × 36 columns</p>\n",
              "</div>"
            ],
            "text/plain": [
              "            age  ...  feedback_User Friendly Website\n",
              "0      0.666667  ...                             0.0\n",
              "1      0.703704  ...                             0.0\n",
              "2      0.925926  ...                             1.0\n",
              "3      0.407407  ...                             0.0\n",
              "4      0.259259  ...                             0.0\n",
              "...         ...  ...                             ...\n",
              "11725  0.817451  ...                             0.0\n",
              "11726  0.449700  ...                             0.0\n",
              "11727  0.840827  ...                             0.0\n",
              "11728  0.814642  ...                             0.0\n",
              "11729  0.715305  ...                             0.0\n",
              "\n",
              "[11730 rows x 36 columns]"
            ]
          },
          "metadata": {
            "tags": []
          },
          "execution_count": 370
        }
      ]
    },
    {
      "cell_type": "markdown",
      "metadata": {
        "id": "vwDc_VoLArO6"
      },
      "source": [
        "## Recursive Feature Elimination"
      ],
      "id": "vwDc_VoLArO6"
    },
    {
      "cell_type": "markdown",
      "metadata": {
        "id": "7Qu95__FFU2c"
      },
      "source": [
        "result of RFE\n",
        "```\n",
        "age True 1\n",
        "days_since_last_login True 1\n",
        "avg_time_spent False 5\n",
        "avg_transaction_value True 1\n",
        "avg_frequency_login_days True 1\n",
        "points_in_wallet True 1\n",
        "gender_M True 1\n",
        "region_category_Town True 1\n",
        "region_category_Village False 6\n",
        "membership_category_Gold Membership True 1\n",
        "membership_category_No Membership True 1\n",
        "membership_category_Platinum Membership True 1\n",
        "membership_category_Premium Membership True 1\n",
        "membership_category_Silver Membership True 1\n",
        "joined_through_referral_Yes True 1\n",
        "preferred_offer_types_Gift Vouchers/Coupons False 3\n",
        "preferred_offer_types_Without Offers False 4\n",
        "medium_of_operation_Desktop True 1\n",
        "medium_of_operation_Smartphone True 1\n",
        "used_special_discount_Yes True 1\n",
        "offer_application_preference_Yes True 1\n",
        "past_complaint_Yes False 2\n",
        "complaint_status_Solved False 8\n",
        "complaint_status_Solved in Follow-up False 9\n",
        "complaint_status_Unsolved False 7\n",
        "feedback_Poor Product Quality True 1\n",
        "feedback_Poor Website True 1\n",
        "feedback_Products always in Stock True 1\n",
        "feedback_Quality Customer Care True 1\n",
        "feedback_Reasonable Price True 1\n",
        "feedback_Too many ads True 1\n",
        "feedback_User Friendly Website True 1\n",
        "```"
      ],
      "id": "7Qu95__FFU2c"
    },
    {
      "cell_type": "code",
      "metadata": {
        "id": "Sn4OvoGaAwNk",
        "colab": {
          "base_uri": "https://localhost:8080/"
        },
        "outputId": "e315d90a-8525-4231-d272-6c87e8065d0a"
      },
      "source": [
        "x = x_train.columns.values.tolist()\n",
        "y=['y']\n",
        "\n",
        "from sklearn.feature_selection import RFE\n",
        "from sklearn.linear_model import LogisticRegression\n",
        "logreg = LogisticRegression(max_iter=1000)\n",
        "rfe = RFE(logreg,24)\n",
        "rfe = rfe.fit(x_train, y_train.values.ravel())\n",
        "\n",
        "print()\n",
        "for col, support,rank in zip(x, rfe.support_, rfe.ranking_):\n",
        "    print(col,support,rank)"
      ],
      "id": "Sn4OvoGaAwNk",
      "execution_count": 373,
      "outputs": [
        {
          "output_type": "stream",
          "text": [
            "\n",
            "age True 1\n",
            "days_since_last_login True 1\n",
            "avg_time_spent True 1\n",
            "avg_transaction_value True 1\n",
            "avg_frequency_login_days True 1\n",
            "points_in_wallet True 1\n",
            "gender_M False 3\n",
            "region_category_Town True 1\n",
            "region_category_Village True 1\n",
            "membership_category_Gold Membership True 1\n",
            "membership_category_No Membership True 1\n",
            "membership_category_Platinum Membership True 1\n",
            "membership_category_Premium Membership True 1\n",
            "membership_category_Silver Membership True 1\n",
            "joined_through_referral_Yes True 1\n",
            "preferred_offer_types_Gift Vouchers/Coupons False 2\n",
            "preferred_offer_types_Without Offers False 4\n",
            "medium_of_operation_Desktop False 8\n",
            "medium_of_operation_Smartphone False 9\n",
            "internet_option_Mobile_Data False 12\n",
            "internet_option_Wi-Fi False 11\n",
            "used_special_discount_Yes True 1\n",
            "offer_application_preference_Yes True 1\n",
            "past_complaint_Yes False 13\n",
            "complaint_status_Not Applicable False 7\n",
            "complaint_status_Solved False 6\n",
            "complaint_status_Solved in Follow-up False 10\n",
            "complaint_status_Unsolved False 5\n",
            "feedback_Poor Customer Service True 1\n",
            "feedback_Poor Product Quality True 1\n",
            "feedback_Poor Website True 1\n",
            "feedback_Products always in Stock True 1\n",
            "feedback_Quality Customer Care True 1\n",
            "feedback_Reasonable Price True 1\n",
            "feedback_Too many ads True 1\n",
            "feedback_User Friendly Website True 1\n"
          ],
          "name": "stdout"
        }
      ]
    },
    {
      "cell_type": "markdown",
      "metadata": {
        "id": "oWB1329yGDnS"
      },
      "source": [
        "Removing Features suggested by RFE where all categorical variables can be removed."
      ],
      "id": "oWB1329yGDnS"
    },
    {
      "cell_type": "code",
      "metadata": {
        "id": "WTd3IXEkGV2h"
      },
      "source": [
        "cols = ['gender_M', \n",
        "        'preferred_offer_types_Gift Vouchers/Coupons',\n",
        "        'preferred_offer_types_Without Offers',\n",
        "        'medium_of_operation_Desktop',\n",
        "        'medium_of_operation_Smartphone',\n",
        "        'internet_option_Mobile_Data',\n",
        "        'internet_option_Wi-Fi',\n",
        "        'complaint_status_Not Applicable',\n",
        "        'complaint_status_Solved',\n",
        "        'complaint_status_Solved in Follow-up',\n",
        "        'complaint_status_Unsolved']\n",
        "x_train = x_train.drop(columns = cols)\n",
        "x_test = x_test.drop(columns = cols)\n",
        "x_valid = x_valid.drop(columns = cols)"
      ],
      "id": "WTd3IXEkGV2h",
      "execution_count": 374,
      "outputs": []
    },
    {
      "cell_type": "markdown",
      "metadata": {
        "id": "dpwZ5OeRH9jZ"
      },
      "source": [
        "Implementing model\n"
      ],
      "id": "dpwZ5OeRH9jZ"
    },
    {
      "cell_type": "code",
      "metadata": {
        "colab": {
          "base_uri": "https://localhost:8080/",
          "height": 478
        },
        "id": "jYg_wUMEK-MX",
        "outputId": "29bc90b2-c449-42a5-bf94-b1f8ac4cf334"
      },
      "source": [
        "x_train"
      ],
      "id": "jYg_wUMEK-MX",
      "execution_count": 375,
      "outputs": [
        {
          "output_type": "execute_result",
          "data": {
            "text/html": [
              "<div>\n",
              "<style scoped>\n",
              "    .dataframe tbody tr th:only-of-type {\n",
              "        vertical-align: middle;\n",
              "    }\n",
              "\n",
              "    .dataframe tbody tr th {\n",
              "        vertical-align: top;\n",
              "    }\n",
              "\n",
              "    .dataframe thead th {\n",
              "        text-align: right;\n",
              "    }\n",
              "</style>\n",
              "<table border=\"1\" class=\"dataframe\">\n",
              "  <thead>\n",
              "    <tr style=\"text-align: right;\">\n",
              "      <th></th>\n",
              "      <th>age</th>\n",
              "      <th>days_since_last_login</th>\n",
              "      <th>avg_time_spent</th>\n",
              "      <th>avg_transaction_value</th>\n",
              "      <th>avg_frequency_login_days</th>\n",
              "      <th>points_in_wallet</th>\n",
              "      <th>region_category_Town</th>\n",
              "      <th>region_category_Village</th>\n",
              "      <th>membership_category_Gold Membership</th>\n",
              "      <th>membership_category_No Membership</th>\n",
              "      <th>membership_category_Platinum Membership</th>\n",
              "      <th>membership_category_Premium Membership</th>\n",
              "      <th>membership_category_Silver Membership</th>\n",
              "      <th>joined_through_referral_Yes</th>\n",
              "      <th>used_special_discount_Yes</th>\n",
              "      <th>offer_application_preference_Yes</th>\n",
              "      <th>past_complaint_Yes</th>\n",
              "      <th>feedback_Poor Customer Service</th>\n",
              "      <th>feedback_Poor Product Quality</th>\n",
              "      <th>feedback_Poor Website</th>\n",
              "      <th>feedback_Products always in Stock</th>\n",
              "      <th>feedback_Quality Customer Care</th>\n",
              "      <th>feedback_Reasonable Price</th>\n",
              "      <th>feedback_Too many ads</th>\n",
              "      <th>feedback_User Friendly Website</th>\n",
              "    </tr>\n",
              "  </thead>\n",
              "  <tbody>\n",
              "    <tr>\n",
              "      <th>0</th>\n",
              "      <td>0.666667</td>\n",
              "      <td>0.692308</td>\n",
              "      <td>0.511704</td>\n",
              "      <td>0.651220</td>\n",
              "      <td>0.315820</td>\n",
              "      <td>0.548198</td>\n",
              "      <td>0.000000</td>\n",
              "      <td>0.000000</td>\n",
              "      <td>0.0</td>\n",
              "      <td>0.000000</td>\n",
              "      <td>1.0</td>\n",
              "      <td>0.0</td>\n",
              "      <td>0.0</td>\n",
              "      <td>0.000000</td>\n",
              "      <td>1.000000</td>\n",
              "      <td>1.000000</td>\n",
              "      <td>1.000000</td>\n",
              "      <td>0.000000</td>\n",
              "      <td>0.000000</td>\n",
              "      <td>0.0</td>\n",
              "      <td>1.0</td>\n",
              "      <td>0.0</td>\n",
              "      <td>0.0</td>\n",
              "      <td>0.000000</td>\n",
              "      <td>0.0</td>\n",
              "    </tr>\n",
              "    <tr>\n",
              "      <th>1</th>\n",
              "      <td>0.703704</td>\n",
              "      <td>0.538462</td>\n",
              "      <td>0.443750</td>\n",
              "      <td>0.058226</td>\n",
              "      <td>0.412996</td>\n",
              "      <td>0.559541</td>\n",
              "      <td>1.000000</td>\n",
              "      <td>0.000000</td>\n",
              "      <td>0.0</td>\n",
              "      <td>0.000000</td>\n",
              "      <td>0.0</td>\n",
              "      <td>1.0</td>\n",
              "      <td>0.0</td>\n",
              "      <td>0.000000</td>\n",
              "      <td>0.000000</td>\n",
              "      <td>1.000000</td>\n",
              "      <td>1.000000</td>\n",
              "      <td>0.000000</td>\n",
              "      <td>0.000000</td>\n",
              "      <td>0.0</td>\n",
              "      <td>0.0</td>\n",
              "      <td>1.0</td>\n",
              "      <td>0.0</td>\n",
              "      <td>0.000000</td>\n",
              "      <td>0.0</td>\n",
              "    </tr>\n",
              "    <tr>\n",
              "      <th>2</th>\n",
              "      <td>0.925926</td>\n",
              "      <td>0.153846</td>\n",
              "      <td>0.449501</td>\n",
              "      <td>0.631336</td>\n",
              "      <td>0.000000</td>\n",
              "      <td>0.598371</td>\n",
              "      <td>1.000000</td>\n",
              "      <td>0.000000</td>\n",
              "      <td>0.0</td>\n",
              "      <td>0.000000</td>\n",
              "      <td>1.0</td>\n",
              "      <td>0.0</td>\n",
              "      <td>0.0</td>\n",
              "      <td>0.000000</td>\n",
              "      <td>0.000000</td>\n",
              "      <td>1.000000</td>\n",
              "      <td>0.000000</td>\n",
              "      <td>0.000000</td>\n",
              "      <td>0.000000</td>\n",
              "      <td>0.0</td>\n",
              "      <td>0.0</td>\n",
              "      <td>0.0</td>\n",
              "      <td>0.0</td>\n",
              "      <td>0.000000</td>\n",
              "      <td>1.0</td>\n",
              "    </tr>\n",
              "    <tr>\n",
              "      <th>3</th>\n",
              "      <td>0.407407</td>\n",
              "      <td>0.884615</td>\n",
              "      <td>0.437962</td>\n",
              "      <td>0.194852</td>\n",
              "      <td>0.170057</td>\n",
              "      <td>0.501400</td>\n",
              "      <td>1.000000</td>\n",
              "      <td>0.000000</td>\n",
              "      <td>0.0</td>\n",
              "      <td>1.000000</td>\n",
              "      <td>0.0</td>\n",
              "      <td>0.0</td>\n",
              "      <td>0.0</td>\n",
              "      <td>1.000000</td>\n",
              "      <td>1.000000</td>\n",
              "      <td>0.000000</td>\n",
              "      <td>1.000000</td>\n",
              "      <td>0.000000</td>\n",
              "      <td>0.000000</td>\n",
              "      <td>0.0</td>\n",
              "      <td>0.0</td>\n",
              "      <td>0.0</td>\n",
              "      <td>0.0</td>\n",
              "      <td>0.000000</td>\n",
              "      <td>0.0</td>\n",
              "    </tr>\n",
              "    <tr>\n",
              "      <th>4</th>\n",
              "      <td>0.259259</td>\n",
              "      <td>0.538462</td>\n",
              "      <td>0.566330</td>\n",
              "      <td>0.081397</td>\n",
              "      <td>0.194351</td>\n",
              "      <td>0.268067</td>\n",
              "      <td>0.000000</td>\n",
              "      <td>1.000000</td>\n",
              "      <td>0.0</td>\n",
              "      <td>0.000000</td>\n",
              "      <td>0.0</td>\n",
              "      <td>1.0</td>\n",
              "      <td>0.0</td>\n",
              "      <td>1.000000</td>\n",
              "      <td>0.000000</td>\n",
              "      <td>1.000000</td>\n",
              "      <td>1.000000</td>\n",
              "      <td>0.000000</td>\n",
              "      <td>0.000000</td>\n",
              "      <td>0.0</td>\n",
              "      <td>0.0</td>\n",
              "      <td>0.0</td>\n",
              "      <td>1.0</td>\n",
              "      <td>0.000000</td>\n",
              "      <td>0.0</td>\n",
              "    </tr>\n",
              "    <tr>\n",
              "      <th>...</th>\n",
              "      <td>...</td>\n",
              "      <td>...</td>\n",
              "      <td>...</td>\n",
              "      <td>...</td>\n",
              "      <td>...</td>\n",
              "      <td>...</td>\n",
              "      <td>...</td>\n",
              "      <td>...</td>\n",
              "      <td>...</td>\n",
              "      <td>...</td>\n",
              "      <td>...</td>\n",
              "      <td>...</td>\n",
              "      <td>...</td>\n",
              "      <td>...</td>\n",
              "      <td>...</td>\n",
              "      <td>...</td>\n",
              "      <td>...</td>\n",
              "      <td>...</td>\n",
              "      <td>...</td>\n",
              "      <td>...</td>\n",
              "      <td>...</td>\n",
              "      <td>...</td>\n",
              "      <td>...</td>\n",
              "      <td>...</td>\n",
              "      <td>...</td>\n",
              "    </tr>\n",
              "    <tr>\n",
              "      <th>11725</th>\n",
              "      <td>0.817451</td>\n",
              "      <td>0.610266</td>\n",
              "      <td>0.252962</td>\n",
              "      <td>0.374654</td>\n",
              "      <td>0.139521</td>\n",
              "      <td>0.470504</td>\n",
              "      <td>0.123844</td>\n",
              "      <td>0.000000</td>\n",
              "      <td>0.0</td>\n",
              "      <td>1.000000</td>\n",
              "      <td>0.0</td>\n",
              "      <td>0.0</td>\n",
              "      <td>0.0</td>\n",
              "      <td>0.876156</td>\n",
              "      <td>0.876156</td>\n",
              "      <td>1.000000</td>\n",
              "      <td>0.876156</td>\n",
              "      <td>0.000000</td>\n",
              "      <td>0.000000</td>\n",
              "      <td>0.0</td>\n",
              "      <td>0.0</td>\n",
              "      <td>0.0</td>\n",
              "      <td>0.0</td>\n",
              "      <td>0.876156</td>\n",
              "      <td>0.0</td>\n",
              "    </tr>\n",
              "    <tr>\n",
              "      <th>11726</th>\n",
              "      <td>0.449700</td>\n",
              "      <td>0.609980</td>\n",
              "      <td>0.438633</td>\n",
              "      <td>0.007072</td>\n",
              "      <td>0.624615</td>\n",
              "      <td>0.351279</td>\n",
              "      <td>0.856755</td>\n",
              "      <td>0.000000</td>\n",
              "      <td>0.0</td>\n",
              "      <td>0.143245</td>\n",
              "      <td>0.0</td>\n",
              "      <td>0.0</td>\n",
              "      <td>0.0</td>\n",
              "      <td>0.143245</td>\n",
              "      <td>0.856755</td>\n",
              "      <td>0.143245</td>\n",
              "      <td>0.856755</td>\n",
              "      <td>0.000000</td>\n",
              "      <td>0.000000</td>\n",
              "      <td>1.0</td>\n",
              "      <td>0.0</td>\n",
              "      <td>0.0</td>\n",
              "      <td>0.0</td>\n",
              "      <td>0.000000</td>\n",
              "      <td>0.0</td>\n",
              "    </tr>\n",
              "    <tr>\n",
              "      <th>11727</th>\n",
              "      <td>0.840827</td>\n",
              "      <td>0.561487</td>\n",
              "      <td>0.731448</td>\n",
              "      <td>0.468175</td>\n",
              "      <td>0.573303</td>\n",
              "      <td>0.458039</td>\n",
              "      <td>0.399667</td>\n",
              "      <td>0.000000</td>\n",
              "      <td>0.0</td>\n",
              "      <td>0.399667</td>\n",
              "      <td>0.0</td>\n",
              "      <td>0.0</td>\n",
              "      <td>0.0</td>\n",
              "      <td>0.600333</td>\n",
              "      <td>0.600333</td>\n",
              "      <td>0.399667</td>\n",
              "      <td>1.000000</td>\n",
              "      <td>0.399667</td>\n",
              "      <td>0.000000</td>\n",
              "      <td>0.0</td>\n",
              "      <td>0.0</td>\n",
              "      <td>0.0</td>\n",
              "      <td>0.0</td>\n",
              "      <td>0.000000</td>\n",
              "      <td>0.0</td>\n",
              "    </tr>\n",
              "    <tr>\n",
              "      <th>11728</th>\n",
              "      <td>0.814642</td>\n",
              "      <td>0.498032</td>\n",
              "      <td>0.470830</td>\n",
              "      <td>0.085221</td>\n",
              "      <td>0.211639</td>\n",
              "      <td>0.391030</td>\n",
              "      <td>0.000000</td>\n",
              "      <td>0.000000</td>\n",
              "      <td>0.0</td>\n",
              "      <td>0.000000</td>\n",
              "      <td>0.0</td>\n",
              "      <td>0.0</td>\n",
              "      <td>0.0</td>\n",
              "      <td>1.000000</td>\n",
              "      <td>0.000000</td>\n",
              "      <td>1.000000</td>\n",
              "      <td>1.000000</td>\n",
              "      <td>0.000000</td>\n",
              "      <td>0.618603</td>\n",
              "      <td>0.0</td>\n",
              "      <td>0.0</td>\n",
              "      <td>0.0</td>\n",
              "      <td>0.0</td>\n",
              "      <td>0.000000</td>\n",
              "      <td>0.0</td>\n",
              "    </tr>\n",
              "    <tr>\n",
              "      <th>11729</th>\n",
              "      <td>0.715305</td>\n",
              "      <td>0.725698</td>\n",
              "      <td>0.443414</td>\n",
              "      <td>0.100151</td>\n",
              "      <td>0.300068</td>\n",
              "      <td>0.105951</td>\n",
              "      <td>0.000000</td>\n",
              "      <td>0.021974</td>\n",
              "      <td>0.0</td>\n",
              "      <td>0.021974</td>\n",
              "      <td>0.0</td>\n",
              "      <td>0.0</td>\n",
              "      <td>0.0</td>\n",
              "      <td>1.000000</td>\n",
              "      <td>0.978026</td>\n",
              "      <td>0.021974</td>\n",
              "      <td>0.000000</td>\n",
              "      <td>0.021974</td>\n",
              "      <td>0.000000</td>\n",
              "      <td>0.0</td>\n",
              "      <td>0.0</td>\n",
              "      <td>0.0</td>\n",
              "      <td>0.0</td>\n",
              "      <td>0.000000</td>\n",
              "      <td>0.0</td>\n",
              "    </tr>\n",
              "  </tbody>\n",
              "</table>\n",
              "<p>11730 rows × 25 columns</p>\n",
              "</div>"
            ],
            "text/plain": [
              "            age  ...  feedback_User Friendly Website\n",
              "0      0.666667  ...                             0.0\n",
              "1      0.703704  ...                             0.0\n",
              "2      0.925926  ...                             1.0\n",
              "3      0.407407  ...                             0.0\n",
              "4      0.259259  ...                             0.0\n",
              "...         ...  ...                             ...\n",
              "11725  0.817451  ...                             0.0\n",
              "11726  0.449700  ...                             0.0\n",
              "11727  0.840827  ...                             0.0\n",
              "11728  0.814642  ...                             0.0\n",
              "11729  0.715305  ...                             0.0\n",
              "\n",
              "[11730 rows x 25 columns]"
            ]
          },
          "metadata": {
            "tags": []
          },
          "execution_count": 375
        }
      ]
    },
    {
      "cell_type": "code",
      "metadata": {
        "colab": {
          "base_uri": "https://localhost:8080/"
        },
        "id": "bUgCKxaXIDvT",
        "outputId": "264f5ca0-8a4c-4760-ea84-711a7a3bbb11"
      },
      "source": [
        "y_train_unit = y_train.divide(5)\n",
        "import statsmodels.api as sm\n",
        "# print(y_train.shape,x_train.shape)\n",
        "logit_model = sm.Logit(y_train_unit,x_train)\n",
        "result = logit_model.fit()\n",
        "print(result.summary2())"
      ],
      "id": "bUgCKxaXIDvT",
      "execution_count": 376,
      "outputs": [
        {
          "output_type": "stream",
          "text": [
            "Optimization terminated successfully.\n",
            "         Current function value: 0.431550\n",
            "         Iterations 7\n",
            "                                     Results: Logit\n",
            "========================================================================================\n",
            "Model:                       Logit                   Pseudo R-squared:        0.321     \n",
            "Dependent Variable:          y                       AIC:                     10174.1553\n",
            "Date:                        2021-04-01 06:44        BIC:                     10358.4030\n",
            "No. Observations:            11730                   Log-Likelihood:          -5062.1   \n",
            "Df Model:                    24                      LL-Null:                 -7453.5   \n",
            "Df Residuals:                11705                   LLR p-value:             0.0000    \n",
            "Converged:                   1.0000                  Scale:                   1.0000    \n",
            "No. Iterations:              7.0000                                                     \n",
            "----------------------------------------------------------------------------------------\n",
            "                                         Coef.  Std.Err.    z     P>|z|   [0.025  0.975]\n",
            "----------------------------------------------------------------------------------------\n",
            "age                                      0.2176   0.0786   2.7695 0.0056  0.0636  0.3716\n",
            "days_since_last_login                    0.4029   0.0971   4.1493 0.0000  0.2126  0.5932\n",
            "avg_time_spent                           1.0459   0.1734   6.0304 0.0000  0.7059  1.3858\n",
            "avg_transaction_value                    0.0736   0.0990   0.7436 0.4571 -0.1204  0.2677\n",
            "avg_frequency_login_days                 0.4096   0.1167   3.5105 0.0004  0.1809  0.6382\n",
            "points_in_wallet                         0.4660   0.1660   2.8079 0.0050  0.1407  0.7912\n",
            "region_category_Town                     0.1862   0.0519   3.5855 0.0003  0.0844  0.2880\n",
            "region_category_Village                  0.1475   0.0767   1.9234 0.0544 -0.0028  0.2978\n",
            "membership_category_Gold Membership     -1.3954   0.0900 -15.5091 0.0000 -1.5718 -1.2191\n",
            "membership_category_No Membership        0.5819   0.1165   4.9954 0.0000  0.3536  0.8103\n",
            "membership_category_Platinum Membership -1.5637   0.0970 -16.1270 0.0000 -1.7538 -1.3737\n",
            "membership_category_Premium Membership  -1.6106   0.0976 -16.5031 0.0000 -1.8019 -1.4193\n",
            "membership_category_Silver Membership   -1.0707   0.0931 -11.5001 0.0000 -1.2532 -0.8883\n",
            "joined_through_referral_Yes              0.0657   0.0488   1.3461 0.1783 -0.0299  0.1613\n",
            "used_special_discount_Yes                0.2919   0.0749   3.8962 0.0001  0.1450  0.4387\n",
            "offer_application_preference_Yes         0.2906   0.0760   3.8226 0.0001  0.1416  0.4396\n",
            "past_complaint_Yes                       0.1099   0.0477   2.3046 0.0212  0.0164  0.2033\n",
            "feedback_Poor Customer Service           0.4534   0.0956   4.7443 0.0000  0.2661  0.6408\n",
            "feedback_Poor Product Quality            0.4281   0.0951   4.5013 0.0000  0.2417  0.6145\n",
            "feedback_Poor Website                    0.3557   0.0937   3.7941 0.0001  0.1719  0.5394\n",
            "feedback_Products always in Stock       -1.1136   0.1062 -10.4830 0.0000 -1.3218 -0.9054\n",
            "feedback_Quality Customer Care          -1.0848   0.1068 -10.1624 0.0000 -1.2941 -0.8756\n",
            "feedback_Reasonable Price               -1.1221   0.1035 -10.8434 0.0000 -1.3249 -0.9193\n",
            "feedback_Too many ads                    0.3788   0.0931   4.0702 0.0000  0.1964  0.5612\n",
            "feedback_User Friendly Website          -1.2283   0.1081 -11.3585 0.0000 -1.4403 -1.0164\n",
            "========================================================================================\n",
            "\n"
          ],
          "name": "stdout"
        }
      ]
    },
    {
      "cell_type": "markdown",
      "metadata": {
        "id": "61TyP623MTgE"
      },
      "source": [
        "__conclusion__ : p(> 0.05) for \n",
        "avg_transaction_value,\n",
        "gender_M, feedback_Poor Website, feedback_Too many ads"
      ],
      "id": "61TyP623MTgE"
    },
    {
      "cell_type": "code",
      "metadata": {
        "colab": {
          "base_uri": "https://localhost:8080/"
        },
        "id": "NCh45HtKMTJe",
        "outputId": "76393311-9773-4e7f-b0b1-cdfa712a5755"
      },
      "source": [
        "cols=['avg_transaction_value','joined_through_referral_Yes']\n",
        "\n",
        "x_train.drop(columns = cols,inplace =True)\n",
        "x_test.drop(columns = cols,inplace =True)\n",
        "x_valid.drop(columns = cols,inplace =True)\n",
        "\n",
        "logit_model=sm.Logit(y_train_unit,x_train)\n",
        "result=logit_model.fit()\n",
        "print(result.summary2())"
      ],
      "id": "NCh45HtKMTJe",
      "execution_count": 378,
      "outputs": [
        {
          "output_type": "stream",
          "text": [
            "Optimization terminated successfully.\n",
            "         Current function value: 0.431664\n",
            "         Iterations 7\n",
            "                                     Results: Logit\n",
            "========================================================================================\n",
            "Model:                       Logit                   Pseudo R-squared:        0.321     \n",
            "Dependent Variable:          y                       AIC:                     10172.8309\n",
            "Date:                        2021-04-01 06:46        BIC:                     10342.3387\n",
            "No. Observations:            11730                   Log-Likelihood:          -5063.4   \n",
            "Df Model:                    22                      LL-Null:                 -7453.5   \n",
            "Df Residuals:                11707                   LLR p-value:             0.0000    \n",
            "Converged:                   1.0000                  Scale:                   1.0000    \n",
            "No. Iterations:              7.0000                                                     \n",
            "----------------------------------------------------------------------------------------\n",
            "                                         Coef.  Std.Err.    z     P>|z|   [0.025  0.975]\n",
            "----------------------------------------------------------------------------------------\n",
            "age                                      0.2218   0.0785   2.8259 0.0047  0.0680  0.3756\n",
            "days_since_last_login                    0.4032   0.0970   4.1577 0.0000  0.2132  0.5933\n",
            "avg_time_spent                           1.0889   0.1711   6.3657 0.0000  0.7536  1.4242\n",
            "avg_frequency_login_days                 0.4146   0.1166   3.5559 0.0004  0.1861  0.6432\n",
            "points_in_wallet                         0.4894   0.1652   2.9632 0.0030  0.1657  0.8132\n",
            "region_category_Town                     0.1873   0.0519   3.6069 0.0003  0.0855  0.2890\n",
            "region_category_Village                  0.1522   0.0766   1.9882 0.0468  0.0022  0.3023\n",
            "membership_category_Gold Membership     -1.3923   0.0899 -15.4950 0.0000 -1.5684 -1.2162\n",
            "membership_category_No Membership        0.5874   0.1164   5.0476 0.0000  0.3593  0.8155\n",
            "membership_category_Platinum Membership -1.5616   0.0969 -16.1153 0.0000 -1.7515 -1.3717\n",
            "membership_category_Premium Membership  -1.6079   0.0975 -16.4874 0.0000 -1.7991 -1.4168\n",
            "membership_category_Silver Membership   -1.0671   0.0930 -11.4727 0.0000 -1.2494 -0.8848\n",
            "used_special_discount_Yes                0.3021   0.0746   4.0492 0.0001  0.1559  0.4484\n",
            "offer_application_preference_Yes         0.3019   0.0756   3.9904 0.0001  0.1536  0.4501\n",
            "past_complaint_Yes                       0.1096   0.0477   2.2990 0.0215  0.0162  0.2030\n",
            "feedback_Poor Customer Service           0.4584   0.0955   4.8017 0.0000  0.2713  0.6455\n",
            "feedback_Poor Product Quality            0.4309   0.0950   4.5337 0.0000  0.2446  0.6171\n",
            "feedback_Poor Website                    0.3592   0.0937   3.8332 0.0001  0.1755  0.5428\n",
            "feedback_Products always in Stock       -1.1043   0.1027 -10.7474 0.0000 -1.3057 -0.9029\n",
            "feedback_Quality Customer Care          -1.0725   0.1027 -10.4436 0.0000 -1.2737 -0.8712\n",
            "feedback_Reasonable Price               -1.1032   0.0989 -11.1533 0.0000 -1.2971 -0.9093\n",
            "feedback_Too many ads                    0.3816   0.0930   4.1035 0.0000  0.1994  0.5639\n",
            "feedback_User Friendly Website          -1.2144   0.1042 -11.6491 0.0000 -1.4187 -1.0101\n",
            "========================================================================================\n",
            "\n"
          ],
          "name": "stdout"
        }
      ]
    },
    {
      "cell_type": "code",
      "metadata": {
        "colab": {
          "base_uri": "https://localhost:8080/"
        },
        "id": "cEPeLh_POdmM",
        "outputId": "038876e2-7a59-41cc-c8b7-69e3c2655b3e"
      },
      "source": [
        "print(x_train.columns)\n",
        "print(len(x_train.columns))"
      ],
      "id": "cEPeLh_POdmM",
      "execution_count": 380,
      "outputs": [
        {
          "output_type": "stream",
          "text": [
            "Index(['age', 'days_since_last_login', 'avg_time_spent',\n",
            "       'avg_frequency_login_days', 'points_in_wallet', 'region_category_Town',\n",
            "       'region_category_Village', 'membership_category_Gold Membership',\n",
            "       'membership_category_No Membership',\n",
            "       'membership_category_Platinum Membership',\n",
            "       'membership_category_Premium Membership',\n",
            "       'membership_category_Silver Membership', 'used_special_discount_Yes',\n",
            "       'offer_application_preference_Yes', 'past_complaint_Yes',\n",
            "       'feedback_Poor Customer Service', 'feedback_Poor Product Quality',\n",
            "       'feedback_Poor Website', 'feedback_Products always in Stock',\n",
            "       'feedback_Quality Customer Care', 'feedback_Reasonable Price',\n",
            "       'feedback_Too many ads', 'feedback_User Friendly Website'],\n",
            "      dtype='object')\n",
            "23\n"
          ],
          "name": "stdout"
        }
      ]
    },
    {
      "cell_type": "markdown",
      "metadata": {
        "id": "Asgd7ww-7DEn"
      },
      "source": [
        "# Building Models\n",
        "## 1. Logistic Regression"
      ],
      "id": "Asgd7ww-7DEn"
    },
    {
      "cell_type": "code",
      "metadata": {
        "colab": {
          "base_uri": "https://localhost:8080/"
        },
        "id": "tmTMBKuv7L5j",
        "outputId": "636a8900-af27-4528-c97b-96dbd0954aa1"
      },
      "source": [
        "# for normalized data\n",
        "from sklearn.linear_model import LogisticRegression\n",
        "logreg = LogisticRegression(fit_intercept= True,max_iter = 1000)\n",
        "logreg.fit(x_train,y_train)\n",
        "\n",
        "print('\\nAccuracy of train: {:.2f}'\n",
        "     .format(logreg.score(x_train, y_train)))\n",
        "\n",
        "y_pred = logreg.predict(x_test)\n",
        "print('\\nAccuracy of test: {:.2f}\\n'\n",
        "     .format(logreg.score(x_test, y_test)))"
      ],
      "id": "tmTMBKuv7L5j",
      "execution_count": 381,
      "outputs": [
        {
          "output_type": "stream",
          "text": [
            "/usr/local/lib/python3.7/dist-packages/sklearn/utils/validation.py:760: DataConversionWarning: A column-vector y was passed when a 1d array was expected. Please change the shape of y to (n_samples, ), for example using ravel().\n",
            "  y = column_or_1d(y, warn=True)\n"
          ],
          "name": "stderr"
        },
        {
          "output_type": "stream",
          "text": [
            "\n",
            "Accuracy of train: 0.73\n",
            "\n",
            "Accuracy of test: 0.69\n",
            "\n"
          ],
          "name": "stdout"
        }
      ]
    },
    {
      "cell_type": "markdown",
      "metadata": {
        "id": "qmWFIRBCX33-"
      },
      "source": [
        "##2. Stochastic Gradient Descent"
      ],
      "id": "qmWFIRBCX33-"
    },
    {
      "cell_type": "code",
      "metadata": {
        "colab": {
          "base_uri": "https://localhost:8080/"
        },
        "id": "-a5QjK1EX3hE",
        "outputId": "d51e4b91-a790-4dae-f02c-244423168342"
      },
      "source": [
        "from sklearn.linear_model import SGDClassifier\n",
        "sgd = SGDClassifier(loss = 'modified_huber',shuffle = False)\n",
        "sgd.fit(x_train, y_train)\n",
        "print('\\nAccuracy on training set: {:.2f}'\n",
        "     .format(sgd.score(x_train, y_train)))\n",
        "print('\\nAccuracy on test set: {:.2f}\\n'\n",
        "     .format(sgd.score(x_test, y_test)))"
      ],
      "id": "-a5QjK1EX3hE",
      "execution_count": 383,
      "outputs": [
        {
          "output_type": "stream",
          "text": [
            "/usr/local/lib/python3.7/dist-packages/sklearn/utils/validation.py:760: DataConversionWarning: A column-vector y was passed when a 1d array was expected. Please change the shape of y to (n_samples, ), for example using ravel().\n",
            "  y = column_or_1d(y, warn=True)\n"
          ],
          "name": "stderr"
        },
        {
          "output_type": "stream",
          "text": [
            "\n",
            "Accuracy on training set: 0.54\n",
            "\n",
            "Accuracy on test set: 0.55\n",
            "\n"
          ],
          "name": "stdout"
        }
      ]
    },
    {
      "cell_type": "markdown",
      "metadata": {
        "id": "-juklZ2DV8LJ"
      },
      "source": [
        "##3. Gaussian Naive Bayes"
      ],
      "id": "-juklZ2DV8LJ"
    },
    {
      "cell_type": "code",
      "metadata": {
        "colab": {
          "base_uri": "https://localhost:8080/"
        },
        "id": "laNg_yspV70z",
        "outputId": "d8c47883-a77d-4649-f8d2-0633ec748aa2"
      },
      "source": [
        "from sklearn.naive_bayes import GaussianNB\n",
        "gnb = GaussianNB()\n",
        "gnb.fit(x_train, y_train)\n",
        "print('Accuracy of GNB classifier on training set: {:.2f}'\n",
        "     .format(gnb.score(x_train, y_train)))\n",
        "print('Accuracy of GNB classifier on test set: {:.2f}'\n",
        "     .format(gnb.score(x_test, y_test)))"
      ],
      "id": "laNg_yspV70z",
      "execution_count": 382,
      "outputs": [
        {
          "output_type": "stream",
          "text": [
            "Accuracy of GNB classifier on training set: 0.67\n",
            "Accuracy of GNB classifier on test set: 0.61\n"
          ],
          "name": "stdout"
        },
        {
          "output_type": "stream",
          "text": [
            "/usr/local/lib/python3.7/dist-packages/sklearn/naive_bayes.py:206: DataConversionWarning: A column-vector y was passed when a 1d array was expected. Please change the shape of y to (n_samples, ), for example using ravel().\n",
            "  y = column_or_1d(y, warn=True)\n"
          ],
          "name": "stderr"
        }
      ]
    },
    {
      "cell_type": "markdown",
      "metadata": {
        "id": "9IGmfTVDU5qo"
      },
      "source": [
        "##4. K Nearest Neighbours"
      ],
      "id": "9IGmfTVDU5qo"
    },
    {
      "cell_type": "code",
      "metadata": {
        "colab": {
          "base_uri": "https://localhost:8080/"
        },
        "id": "twMsVTzLVBJC",
        "outputId": "d1c95d74-0dec-4a3a-ca36-57d6b20a71bd"
      },
      "source": [
        "from sklearn.neighbors import KNeighborsClassifier\n",
        "knn = KNeighborsClassifier()\n",
        "knn.fit(x_train, y_train)\n",
        "print('\\nAccuracy of K-NN classifier on training set: {:.2f}'\n",
        "     .format(knn.score(x_train, y_train)))\n",
        "print('\\nAccuracy of K-NN classifier on test set: {:.2f}\\n'\n",
        "     .format(knn.score(x_test, y_test)))"
      ],
      "id": "twMsVTzLVBJC",
      "execution_count": 384,
      "outputs": [
        {
          "output_type": "stream",
          "text": [
            "/usr/local/lib/python3.7/dist-packages/ipykernel_launcher.py:3: DataConversionWarning: A column-vector y was passed when a 1d array was expected. Please change the shape of y to (n_samples, ), for example using ravel().\n",
            "  This is separate from the ipykernel package so we can avoid doing imports until\n"
          ],
          "name": "stderr"
        },
        {
          "output_type": "stream",
          "text": [
            "\n",
            "Accuracy of K-NN classifier on training set: 0.82\n",
            "\n",
            "Accuracy of K-NN classifier on test set: 0.61\n",
            "\n"
          ],
          "name": "stdout"
        }
      ]
    },
    {
      "cell_type": "markdown",
      "metadata": {
        "id": "vhwt8t-gVYEp"
      },
      "source": [
        "##5. Linear Discriminant Analysis"
      ],
      "id": "vhwt8t-gVYEp"
    },
    {
      "cell_type": "code",
      "metadata": {
        "colab": {
          "base_uri": "https://localhost:8080/"
        },
        "id": "fzpOsvRnVdxf",
        "outputId": "c87ee3e3-63e3-4125-f67e-584e76d84225"
      },
      "source": [
        "from sklearn.discriminant_analysis import LinearDiscriminantAnalysis\n",
        "lda = LinearDiscriminantAnalysis()\n",
        "lda.fit(x_train, y_train)\n",
        "print('Accuracy of LDA classifier on training set: {:.2f}'\n",
        "     .format(lda.score(x_train, y_train)))\n",
        "print('Accuracy of LDA classifier on test set: {:.2f}'\n",
        "     .format(lda.score(x_test, y_test)))"
      ],
      "id": "fzpOsvRnVdxf",
      "execution_count": 385,
      "outputs": [
        {
          "output_type": "stream",
          "text": [
            "Accuracy of LDA classifier on training set: 0.68\n",
            "Accuracy of LDA classifier on test set: 0.65\n"
          ],
          "name": "stdout"
        },
        {
          "output_type": "stream",
          "text": [
            "/usr/local/lib/python3.7/dist-packages/sklearn/utils/validation.py:760: DataConversionWarning: A column-vector y was passed when a 1d array was expected. Please change the shape of y to (n_samples, ), for example using ravel().\n",
            "  y = column_or_1d(y, warn=True)\n"
          ],
          "name": "stderr"
        }
      ]
    },
    {
      "cell_type": "markdown",
      "metadata": {
        "id": "2dqZSKDqWeZ9"
      },
      "source": [
        "##6. Support Vector Machine"
      ],
      "id": "2dqZSKDqWeZ9"
    },
    {
      "cell_type": "code",
      "metadata": {
        "colab": {
          "base_uri": "https://localhost:8080/"
        },
        "id": "Yrfv2cksWd1F",
        "outputId": "96b20397-608b-4b91-f464-fe15743d494a"
      },
      "source": [
        "from sklearn.svm import SVC\n",
        "svm = SVC()\n",
        "svm.fit(x_train, y_train)\n",
        "print('Accuracy of SVM classifier on training set: {:.2f}'\n",
        "     .format(svm.score(x_train, y_train)))\n",
        "print('Accuracy of SVM classifier on test set: {:.2f}'\n",
        "     .format(svm.score(x_test, y_test)))"
      ],
      "id": "Yrfv2cksWd1F",
      "execution_count": 386,
      "outputs": [
        {
          "output_type": "stream",
          "text": [
            "/usr/local/lib/python3.7/dist-packages/sklearn/utils/validation.py:760: DataConversionWarning: A column-vector y was passed when a 1d array was expected. Please change the shape of y to (n_samples, ), for example using ravel().\n",
            "  y = column_or_1d(y, warn=True)\n"
          ],
          "name": "stderr"
        },
        {
          "output_type": "stream",
          "text": [
            "Accuracy of SVM classifier on training set: 0.75\n",
            "Accuracy of SVM classifier on test set: 0.66\n"
          ],
          "name": "stdout"
        }
      ]
    },
    {
      "cell_type": "markdown",
      "metadata": {
        "id": "WdTTUAYhUhiT"
      },
      "source": [
        "##7. Decision Tree"
      ],
      "id": "WdTTUAYhUhiT"
    },
    {
      "cell_type": "code",
      "metadata": {
        "colab": {
          "base_uri": "https://localhost:8080/"
        },
        "id": "Hx0SpYxMUgkh",
        "outputId": "5e392cf3-c48d-4015-c1bd-ad8d31779da6"
      },
      "source": [
        "from sklearn.tree import DecisionTreeClassifier\n",
        "clf = DecisionTreeClassifier().fit(x_train, y_train)\n",
        "print('\\nAccuracy of Decision Tree classifier on training set: {:.2f}'\n",
        "     .format(clf.score(x_train, y_train)))\n",
        "print('\\nAccuracy of Decision Tree classifier on test set: {:.2f}\\n'\n",
        "     .format(clf.score(x_test, y_test)))"
      ],
      "id": "Hx0SpYxMUgkh",
      "execution_count": 387,
      "outputs": [
        {
          "output_type": "stream",
          "text": [
            "\n",
            "Accuracy of Decision Tree classifier on training set: 1.00\n",
            "\n",
            "Accuracy of Decision Tree classifier on test set: 0.73\n",
            "\n"
          ],
          "name": "stdout"
        }
      ]
    },
    {
      "cell_type": "markdown",
      "metadata": {
        "id": "-dfrP49dYrQx"
      },
      "source": [
        "##8. Random Forest\n"
      ],
      "id": "-dfrP49dYrQx"
    },
    {
      "cell_type": "code",
      "metadata": {
        "colab": {
          "base_uri": "https://localhost:8080/"
        },
        "id": "QPfI-k6JYupr",
        "outputId": "2ca0c74c-cf5d-4ff4-f471-bbb1ea61fd3f"
      },
      "source": [
        "from sklearn.ensemble import RandomForestClassifier\n",
        "rfm = RandomForestClassifier()\n",
        "rfm.fit(x_train,y_train)\n",
        "print('\\nAccuracy on training set: {:.2f}'\n",
        "     .format(rfm.score(x_train, y_train)))\n",
        "print('\\nAccuracy on test set: {:.2f}\\n'\n",
        "     .format(rfm.score(x_test, y_test)))"
      ],
      "id": "QPfI-k6JYupr",
      "execution_count": 413,
      "outputs": [
        {
          "output_type": "stream",
          "text": [
            "/usr/local/lib/python3.7/dist-packages/ipykernel_launcher.py:3: DataConversionWarning: A column-vector y was passed when a 1d array was expected. Please change the shape of y to (n_samples,), for example using ravel().\n",
            "  This is separate from the ipykernel package so we can avoid doing imports until\n"
          ],
          "name": "stderr"
        },
        {
          "output_type": "stream",
          "text": [
            "\n",
            "Accuracy on training set: 1.00\n",
            "\n",
            "Accuracy on test set: 0.75\n",
            "\n"
          ],
          "name": "stdout"
        }
      ]
    },
    {
      "cell_type": "markdown",
      "metadata": {
        "id": "7P2JENEUMmNx"
      },
      "source": [
        "### Neural Network"
      ],
      "id": "7P2JENEUMmNx"
    },
    {
      "cell_type": "code",
      "metadata": {
        "colab": {
          "base_uri": "https://localhost:8080/"
        },
        "id": "zTLkT__iMlPD",
        "outputId": "ce033671-1e31-45c5-d2c8-aa6ebfe63ba5"
      },
      "source": [
        "y_train_m =y_train.sub(1)"
      ],
      "id": "zTLkT__iMlPD",
      "execution_count": 396,
      "outputs": [
        {
          "output_type": "execute_result",
          "data": {
            "text/plain": [
              "y    0\n",
              "dtype: int64"
            ]
          },
          "metadata": {
            "tags": []
          },
          "execution_count": 396
        }
      ]
    },
    {
      "cell_type": "code",
      "metadata": {
        "colab": {
          "base_uri": "https://localhost:8080/"
        },
        "id": "FeV7wq07QCWo",
        "outputId": "83fbf6ab-0b16-4311-b900-e6d4722b12b3"
      },
      "source": [
        "from keras.models import Sequential\n",
        "from keras.layers import Dense\n",
        "import keras.losses as kloss\n",
        "model = Sequential()\n",
        "model.add(Dense(24, activation='relu', input_shape =(23,)))\n",
        "model.add(Dense(48, activation='relu'))\n",
        "model.add(Dense(5, activation ='sigmoid'))\n",
        "\n",
        "model.compile(loss =kloss.SparseCategoricalCrossentropy(),optimizer='sgd', metrics=['accuracy'])\n",
        "\n",
        "model.fit(x_train, y_train_m, epochs= 83, batch_size = 1, verbose = 1)"
      ],
      "id": "FeV7wq07QCWo",
      "execution_count": 407,
      "outputs": [
        {
          "output_type": "stream",
          "text": [
            "Epoch 1/90\n",
            "11730/11730 [==============================] - 11s 896us/step - loss: 0.9221 - accuracy: 0.5551\n",
            "Epoch 2/90\n",
            "11730/11730 [==============================] - 11s 907us/step - loss: 0.6124 - accuracy: 0.6752\n",
            "Epoch 3/90\n",
            "11730/11730 [==============================] - 10s 895us/step - loss: 0.5918 - accuracy: 0.6883\n",
            "Epoch 4/90\n",
            "11730/11730 [==============================] - 11s 898us/step - loss: 0.5824 - accuracy: 0.7003\n",
            "Epoch 5/90\n",
            "11730/11730 [==============================] - 11s 899us/step - loss: 0.5823 - accuracy: 0.6930\n",
            "Epoch 6/90\n",
            "11730/11730 [==============================] - 10s 893us/step - loss: 0.5750 - accuracy: 0.6996\n",
            "Epoch 7/90\n",
            "11730/11730 [==============================] - 11s 901us/step - loss: 0.5780 - accuracy: 0.6931\n",
            "Epoch 8/90\n",
            "11730/11730 [==============================] - 11s 896us/step - loss: 0.5637 - accuracy: 0.7137\n",
            "Epoch 9/90\n",
            "11730/11730 [==============================] - 11s 905us/step - loss: 0.5676 - accuracy: 0.7053\n",
            "Epoch 10/90\n",
            "11730/11730 [==============================] - 10s 894us/step - loss: 0.5575 - accuracy: 0.7143\n",
            "Epoch 11/90\n",
            "11730/11730 [==============================] - 10s 895us/step - loss: 0.5583 - accuracy: 0.7139\n",
            "Epoch 12/90\n",
            "11730/11730 [==============================] - 11s 903us/step - loss: 0.5466 - accuracy: 0.7232\n",
            "Epoch 13/90\n",
            "11730/11730 [==============================] - 10s 894us/step - loss: 0.5482 - accuracy: 0.7133\n",
            "Epoch 14/90\n",
            "11730/11730 [==============================] - 11s 899us/step - loss: 0.5478 - accuracy: 0.7237\n",
            "Epoch 15/90\n",
            "11730/11730 [==============================] - 11s 902us/step - loss: 0.5454 - accuracy: 0.7220\n",
            "Epoch 16/90\n",
            "11730/11730 [==============================] - 11s 903us/step - loss: 0.5377 - accuracy: 0.7254\n",
            "Epoch 17/90\n",
            "11730/11730 [==============================] - 11s 906us/step - loss: 0.5362 - accuracy: 0.7302\n",
            "Epoch 18/90\n",
            "11730/11730 [==============================] - 11s 900us/step - loss: 0.5450 - accuracy: 0.7293\n",
            "Epoch 19/90\n",
            "11730/11730 [==============================] - 11s 908us/step - loss: 0.5253 - accuracy: 0.7374\n",
            "Epoch 20/90\n",
            "11730/11730 [==============================] - 11s 911us/step - loss: 0.5258 - accuracy: 0.7416\n",
            "Epoch 21/90\n",
            "11730/11730 [==============================] - 11s 902us/step - loss: 0.5271 - accuracy: 0.7435\n",
            "Epoch 22/90\n",
            "11730/11730 [==============================] - 11s 904us/step - loss: 0.5076 - accuracy: 0.7609\n",
            "Epoch 23/90\n",
            "11730/11730 [==============================] - 11s 911us/step - loss: 0.5080 - accuracy: 0.7607\n",
            "Epoch 24/90\n",
            "11730/11730 [==============================] - 11s 906us/step - loss: 0.5018 - accuracy: 0.7617\n",
            "Epoch 25/90\n",
            "11730/11730 [==============================] - 11s 908us/step - loss: 0.4950 - accuracy: 0.7694\n",
            "Epoch 26/90\n",
            "11730/11730 [==============================] - 11s 903us/step - loss: 0.4878 - accuracy: 0.7733\n",
            "Epoch 27/90\n",
            "11730/11730 [==============================] - 11s 906us/step - loss: 0.4951 - accuracy: 0.7686\n",
            "Epoch 28/90\n",
            "11730/11730 [==============================] - 11s 924us/step - loss: 0.4770 - accuracy: 0.7767\n",
            "Epoch 29/90\n",
            "11730/11730 [==============================] - 11s 929us/step - loss: 0.4705 - accuracy: 0.7794\n",
            "Epoch 30/90\n",
            "11730/11730 [==============================] - 11s 905us/step - loss: 0.4694 - accuracy: 0.7804\n",
            "Epoch 31/90\n",
            "11730/11730 [==============================] - 11s 898us/step - loss: 0.4539 - accuracy: 0.7880\n",
            "Epoch 32/90\n",
            "11730/11730 [==============================] - 11s 900us/step - loss: 0.4437 - accuracy: 0.7904\n",
            "Epoch 33/90\n",
            "11730/11730 [==============================] - 11s 909us/step - loss: 0.4452 - accuracy: 0.7871\n",
            "Epoch 34/90\n",
            "11730/11730 [==============================] - 11s 900us/step - loss: 0.4484 - accuracy: 0.7901\n",
            "Epoch 35/90\n",
            "11730/11730 [==============================] - 11s 908us/step - loss: 0.4480 - accuracy: 0.7837\n",
            "Epoch 36/90\n",
            "11730/11730 [==============================] - 11s 907us/step - loss: 0.4467 - accuracy: 0.7891\n",
            "Epoch 37/90\n",
            "11730/11730 [==============================] - 11s 901us/step - loss: 0.4452 - accuracy: 0.7924\n",
            "Epoch 38/90\n",
            "11730/11730 [==============================] - 11s 911us/step - loss: 0.4349 - accuracy: 0.8030\n",
            "Epoch 39/90\n",
            "11730/11730 [==============================] - 11s 913us/step - loss: 0.4348 - accuracy: 0.7986\n",
            "Epoch 40/90\n",
            "11730/11730 [==============================] - 11s 905us/step - loss: 0.4344 - accuracy: 0.7977\n",
            "Epoch 41/90\n",
            "11730/11730 [==============================] - 11s 915us/step - loss: 0.4191 - accuracy: 0.8060\n",
            "Epoch 42/90\n",
            "11730/11730 [==============================] - 11s 902us/step - loss: 0.4318 - accuracy: 0.7996\n",
            "Epoch 43/90\n",
            "11730/11730 [==============================] - 11s 907us/step - loss: 0.4245 - accuracy: 0.8088\n",
            "Epoch 44/90\n",
            "11730/11730 [==============================] - 11s 913us/step - loss: 0.4241 - accuracy: 0.8023\n",
            "Epoch 45/90\n",
            "11730/11730 [==============================] - 11s 903us/step - loss: 0.4211 - accuracy: 0.8012\n",
            "Epoch 46/90\n",
            "11730/11730 [==============================] - 11s 901us/step - loss: 0.4225 - accuracy: 0.8069\n",
            "Epoch 47/90\n",
            "11730/11730 [==============================] - 11s 915us/step - loss: 0.4180 - accuracy: 0.8087\n",
            "Epoch 48/90\n",
            "11730/11730 [==============================] - 11s 911us/step - loss: 0.4145 - accuracy: 0.8127\n",
            "Epoch 49/90\n",
            "11730/11730 [==============================] - 11s 908us/step - loss: 0.4070 - accuracy: 0.8103\n",
            "Epoch 50/90\n",
            "11730/11730 [==============================] - 11s 922us/step - loss: 0.4104 - accuracy: 0.8107\n",
            "Epoch 51/90\n",
            "11730/11730 [==============================] - 11s 917us/step - loss: 0.3981 - accuracy: 0.8147\n",
            "Epoch 52/90\n",
            "11730/11730 [==============================] - 11s 910us/step - loss: 0.4132 - accuracy: 0.8086\n",
            "Epoch 53/90\n",
            "11730/11730 [==============================] - 11s 926us/step - loss: 0.4030 - accuracy: 0.8169\n",
            "Epoch 54/90\n",
            "11730/11730 [==============================] - 11s 911us/step - loss: 0.4135 - accuracy: 0.8073\n",
            "Epoch 55/90\n",
            "11730/11730 [==============================] - 11s 923us/step - loss: 0.4084 - accuracy: 0.8106\n",
            "Epoch 56/90\n",
            "11730/11730 [==============================] - 11s 933us/step - loss: 0.4022 - accuracy: 0.8188\n",
            "Epoch 57/90\n",
            "11730/11730 [==============================] - 11s 935us/step - loss: 0.4057 - accuracy: 0.8169\n",
            "Epoch 58/90\n",
            "11730/11730 [==============================] - 11s 936us/step - loss: 0.3940 - accuracy: 0.8247\n",
            "Epoch 59/90\n",
            "11730/11730 [==============================] - 11s 923us/step - loss: 0.3971 - accuracy: 0.8219\n",
            "Epoch 60/90\n",
            "11730/11730 [==============================] - 11s 918us/step - loss: 0.3925 - accuracy: 0.8247\n",
            "Epoch 61/90\n",
            "11730/11730 [==============================] - 11s 919us/step - loss: 0.3905 - accuracy: 0.8234\n",
            "Epoch 62/90\n",
            "11730/11730 [==============================] - 11s 911us/step - loss: 0.3982 - accuracy: 0.8189\n",
            "Epoch 63/90\n",
            "11730/11730 [==============================] - 11s 909us/step - loss: 0.3954 - accuracy: 0.8119\n",
            "Epoch 64/90\n",
            "11730/11730 [==============================] - 11s 924us/step - loss: 0.4040 - accuracy: 0.8150\n",
            "Epoch 65/90\n",
            "11730/11730 [==============================] - 11s 923us/step - loss: 0.3810 - accuracy: 0.8274\n",
            "Epoch 66/90\n",
            "11730/11730 [==============================] - 11s 927us/step - loss: 0.3942 - accuracy: 0.8212\n",
            "Epoch 67/90\n",
            "11730/11730 [==============================] - 11s 923us/step - loss: 0.3833 - accuracy: 0.8249\n",
            "Epoch 68/90\n",
            "11730/11730 [==============================] - 11s 914us/step - loss: 0.3960 - accuracy: 0.8175\n",
            "Epoch 69/90\n",
            "11730/11730 [==============================] - 11s 918us/step - loss: 0.3776 - accuracy: 0.8273\n",
            "Epoch 70/90\n",
            "11730/11730 [==============================] - 11s 920us/step - loss: 0.3875 - accuracy: 0.8244\n",
            "Epoch 71/90\n",
            "11730/11730 [==============================] - 11s 919us/step - loss: 0.3937 - accuracy: 0.8170\n",
            "Epoch 72/90\n",
            "11730/11730 [==============================] - 11s 920us/step - loss: 0.3819 - accuracy: 0.8268\n",
            "Epoch 73/90\n",
            "11730/11730 [==============================] - 11s 920us/step - loss: 0.3908 - accuracy: 0.8187\n",
            "Epoch 74/90\n",
            "11730/11730 [==============================] - 11s 920us/step - loss: 0.3807 - accuracy: 0.8292\n",
            "Epoch 75/90\n",
            "11730/11730 [==============================] - 11s 920us/step - loss: 0.3711 - accuracy: 0.8327\n",
            "Epoch 76/90\n",
            "11730/11730 [==============================] - 11s 921us/step - loss: 0.3865 - accuracy: 0.8253\n",
            "Epoch 77/90\n",
            "11730/11730 [==============================] - 11s 910us/step - loss: 0.3743 - accuracy: 0.8254\n",
            "Epoch 78/90\n",
            "11730/11730 [==============================] - 11s 924us/step - loss: 0.3712 - accuracy: 0.8328\n",
            "Epoch 79/90\n",
            "11730/11730 [==============================] - 11s 917us/step - loss: 0.3771 - accuracy: 0.8268\n",
            "Epoch 80/90\n",
            "11730/11730 [==============================] - 11s 915us/step - loss: 0.3849 - accuracy: 0.8257\n",
            "Epoch 81/90\n",
            "11730/11730 [==============================] - 11s 923us/step - loss: 0.3622 - accuracy: 0.8327\n",
            "Epoch 82/90\n",
            "11730/11730 [==============================] - 11s 923us/step - loss: 0.3692 - accuracy: 0.8313\n",
            "Epoch 83/90\n",
            "11730/11730 [==============================] - 11s 924us/step - loss: 0.3553 - accuracy: 0.8380\n",
            "Epoch 84/90\n",
            "11730/11730 [==============================] - 11s 919us/step - loss: 0.3747 - accuracy: 0.8328\n",
            "Epoch 85/90\n",
            "11730/11730 [==============================] - 11s 920us/step - loss: 0.3807 - accuracy: 0.8295\n",
            "Epoch 86/90\n",
            "11730/11730 [==============================] - 11s 938us/step - loss: 0.3711 - accuracy: 0.8301\n",
            "Epoch 87/90\n",
            "11730/11730 [==============================] - 11s 948us/step - loss: 0.3685 - accuracy: 0.8305\n",
            "Epoch 88/90\n",
            "11730/11730 [==============================] - 11s 928us/step - loss: 0.3767 - accuracy: 0.8307\n",
            "Epoch 89/90\n",
            "11730/11730 [==============================] - 11s 916us/step - loss: 0.3677 - accuracy: 0.8302\n",
            "Epoch 90/90\n",
            "11730/11730 [==============================] - 11s 925us/step - loss: 0.3671 - accuracy: 0.8353\n"
          ],
          "name": "stdout"
        },
        {
          "output_type": "execute_result",
          "data": {
            "text/plain": [
              "<tensorflow.python.keras.callbacks.History at 0x7fae6e6fae50>"
            ]
          },
          "metadata": {
            "tags": []
          },
          "execution_count": 407
        }
      ]
    },
    {
      "cell_type": "code",
      "metadata": {
        "colab": {
          "base_uri": "https://localhost:8080/"
        },
        "id": "t_XDYAI7Y8Jx",
        "outputId": "6c7ac59a-18a9-419e-d1c8-7fd6219934a5"
      },
      "source": [
        "y_test_m = y_test.sub(1)\n",
        "score = model.evaluate(x_test,y_test_m, verbose = 1)\n",
        "print(score)\n",
        "\n",
        "y_pred = model.predict_classes(x_test)\n",
        "from sklearn.metrics import classification_report\n",
        "\n",
        "# Confusion matrix\n",
        "print(classification_report(y_test_m, y_pred))"
      ],
      "id": "t_XDYAI7Y8Jx",
      "execution_count": 412,
      "outputs": [
        {
          "output_type": "stream",
          "text": [
            "925/925 [==============================] - 1s 845us/step - loss: 0.6986 - accuracy: 0.7175\n",
            "[0.6985943913459778, 0.717476487159729]\n"
          ],
          "name": "stdout"
        },
        {
          "output_type": "stream",
          "text": [
            "/usr/local/lib/python3.7/dist-packages/tensorflow/python/keras/engine/sequential.py:450: UserWarning: `model.predict_classes()` is deprecated and will be removed after 2021-01-01. Please use instead:* `np.argmax(model.predict(x), axis=-1)`,   if your model does multi-class classification   (e.g. if it uses a `softmax` last-layer activation).* `(model.predict(x) > 0.5).astype(\"int32\")`,   if your model does binary classification   (e.g. if it uses a `sigmoid` last-layer activation).\n",
            "  warnings.warn('`model.predict_classes()` is deprecated and '\n"
          ],
          "name": "stderr"
        },
        {
          "output_type": "stream",
          "text": [
            "              precision    recall  f1-score   support\n",
            "\n",
            "           0       0.62      0.70      0.66      2076\n",
            "           1       0.68      0.62      0.65      2221\n",
            "           2       0.94      0.77      0.85      9241\n",
            "           3       0.60      0.63      0.61      8207\n",
            "           4       0.68      0.79      0.73      7849\n",
            "\n",
            "    accuracy                           0.72     29594\n",
            "   macro avg       0.70      0.70      0.70     29594\n",
            "weighted avg       0.73      0.72      0.72     29594\n",
            "\n"
          ],
          "name": "stdout"
        }
      ]
    },
    {
      "cell_type": "markdown",
      "metadata": {
        "id": "Hz8GcuTEbQc8"
      },
      "source": [
        "# Conclusion\n",
        "Random Forest has high accurarcy over training and test set.\n"
      ],
      "id": "Hz8GcuTEbQc8"
    },
    {
      "cell_type": "code",
      "metadata": {
        "colab": {
          "base_uri": "https://localhost:8080/"
        },
        "id": "dK0aOxqFbPzY",
        "outputId": "38537add-5bb3-45a6-b91d-99d7f172034e"
      },
      "source": [
        "y_valid = rfm.predict(x_valid)\n",
        "y_valid"
      ],
      "id": "dK0aOxqFbPzY",
      "execution_count": 424,
      "outputs": [
        {
          "output_type": "execute_result",
          "data": {
            "text/plain": [
              "array([3, 3, 4, ..., 5, 4, 3])"
            ]
          },
          "metadata": {
            "tags": []
          },
          "execution_count": 424
        }
      ]
    },
    {
      "cell_type": "code",
      "metadata": {
        "colab": {
          "base_uri": "https://localhost:8080/",
          "height": 297
        },
        "id": "3U9HqE6ob5hw",
        "outputId": "0abbd210-5074-4a07-cc6d-a940d07a04e9"
      },
      "source": [
        "y_valid = pandas.DataFrame(data = y_valid, columns=['churn_risk_score'])\n",
        "seaborn.countplot(data = y_valid, x= 'churn_risk_score')"
      ],
      "id": "3U9HqE6ob5hw",
      "execution_count": 426,
      "outputs": [
        {
          "output_type": "execute_result",
          "data": {
            "text/plain": [
              "<matplotlib.axes._subplots.AxesSubplot at 0x7fae65f09690>"
            ]
          },
          "metadata": {
            "tags": []
          },
          "execution_count": 426
        },
        {
          "output_type": "display_data",
          "data": {
            "image/png": "[encoded data removed]",
            "text/plain": [
              "<Figure size 432x288 with 1 Axes>"
            ]
          },
          "metadata": {
            "tags": [],
            "needs_background": "light"
          }
        }
      ]
    },
    {
      "cell_type": "code",
      "metadata": {
        "colab": {
          "base_uri": "https://localhost:8080/",
          "height": 424
        },
        "id": "gvWYx24QcwyN",
        "outputId": "57bff481-9047-4caf-f4ec-b70179a5faf7"
      },
      "source": [
        "submission = pandas.concat([valid_cid,y_valid],axis = 1)\n",
        "submission"
      ],
      "id": "gvWYx24QcwyN",
      "execution_count": 427,
      "outputs": [
        {
          "output_type": "execute_result",
          "data": {
            "text/html": [
              "<div>\n",
              "<style scoped>\n",
              "    .dataframe tbody tr th:only-of-type {\n",
              "        vertical-align: middle;\n",
              "    }\n",
              "\n",
              "    .dataframe tbody tr th {\n",
              "        vertical-align: top;\n",
              "    }\n",
              "\n",
              "    .dataframe thead th {\n",
              "        text-align: right;\n",
              "    }\n",
              "</style>\n",
              "<table border=\"1\" class=\"dataframe\">\n",
              "  <thead>\n",
              "    <tr style=\"text-align: right;\">\n",
              "      <th></th>\n",
              "      <th>customer_id</th>\n",
              "      <th>churn_risk_score</th>\n",
              "    </tr>\n",
              "  </thead>\n",
              "  <tbody>\n",
              "    <tr>\n",
              "      <th>0</th>\n",
              "      <td>fffe43004900440031003700300030003400</td>\n",
              "      <td>3</td>\n",
              "    </tr>\n",
              "    <tr>\n",
              "      <th>1</th>\n",
              "      <td>fffe43004900440031003900370037003300</td>\n",
              "      <td>3</td>\n",
              "    </tr>\n",
              "    <tr>\n",
              "      <th>2</th>\n",
              "      <td>fffe43004900440034003800360037003000</td>\n",
              "      <td>4</td>\n",
              "    </tr>\n",
              "    <tr>\n",
              "      <th>3</th>\n",
              "      <td>fffe43004900440036003200370033003400</td>\n",
              "      <td>3</td>\n",
              "    </tr>\n",
              "    <tr>\n",
              "      <th>4</th>\n",
              "      <td>fffe43004900440035003000370031003900</td>\n",
              "      <td>5</td>\n",
              "    </tr>\n",
              "    <tr>\n",
              "      <th>...</th>\n",
              "      <td>...</td>\n",
              "      <td>...</td>\n",
              "    </tr>\n",
              "    <tr>\n",
              "      <th>19914</th>\n",
              "      <td>fffe43004900440035003600330037003800</td>\n",
              "      <td>3</td>\n",
              "    </tr>\n",
              "    <tr>\n",
              "      <th>19915</th>\n",
              "      <td>fffe43004900440032003900370037003100</td>\n",
              "      <td>5</td>\n",
              "    </tr>\n",
              "    <tr>\n",
              "      <th>19916</th>\n",
              "      <td>fffe43004900440036003100310036003700</td>\n",
              "      <td>5</td>\n",
              "    </tr>\n",
              "    <tr>\n",
              "      <th>19917</th>\n",
              "      <td>fffe43004900440034003200330033003600</td>\n",
              "      <td>4</td>\n",
              "    </tr>\n",
              "    <tr>\n",
              "      <th>19918</th>\n",
              "      <td>fffe43004900440036003200340030003100</td>\n",
              "      <td>3</td>\n",
              "    </tr>\n",
              "  </tbody>\n",
              "</table>\n",
              "<p>19919 rows × 2 columns</p>\n",
              "</div>"
            ],
            "text/plain": [
              "                                customer_id  churn_risk_score\n",
              "0      fffe43004900440031003700300030003400                 3\n",
              "1      fffe43004900440031003900370037003300                 3\n",
              "2      fffe43004900440034003800360037003000                 4\n",
              "3      fffe43004900440036003200370033003400                 3\n",
              "4      fffe43004900440035003000370031003900                 5\n",
              "...                                     ...               ...\n",
              "19914  fffe43004900440035003600330037003800                 3\n",
              "19915  fffe43004900440032003900370037003100                 5\n",
              "19916  fffe43004900440036003100310036003700                 5\n",
              "19917  fffe43004900440034003200330033003600                 4\n",
              "19918  fffe43004900440036003200340030003100                 3\n",
              "\n",
              "[19919 rows x 2 columns]"
            ]
          },
          "metadata": {
            "tags": []
          },
          "execution_count": 427
        }
      ]
    },
    {
      "cell_type": "code",
      "metadata": {
        "id": "druTS2lYd5zl"
      },
      "source": [
        "submission.to_csv('submission.csv')"
      ],
      "id": "druTS2lYd5zl",
      "execution_count": 428,
      "outputs": []
    }
  ]
}