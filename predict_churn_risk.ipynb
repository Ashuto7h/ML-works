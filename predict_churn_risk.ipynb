{
  "nbformat": 4,
  "nbformat_minor": 5,
  "metadata": {
    "kernelspec": {
      "display_name": "Python 3",
      "language": "python",
      "name": "python3"
    },
    "language_info": {
      "codemirror_mode": {
        "name": "ipython",
        "version": 3
      },
      "file_extension": ".py",
      "mimetype": "text/x-python",
      "name": "python",
      "nbconvert_exporter": "python",
      "pygments_lexer": "ipython3",
      "version": "3.8.5-final"
    },
    "colab": {
      "name": "Copy of predict_churn_risk.ipynb",
      "provenance": [],
      "collapsed_sections": [
        "knowing-precipitation",
        "pWoEINZmzns4",
        "-nRR5XuGIL6h"
      ],
      "include_colab_link": true
    }
  },
  "cells": [
    {
      "cell_type": "markdown",
      "metadata": {
        "id": "view-in-github",
        "colab_type": "text"
      },
      "source": [
        "<a href=\"https://colab.research.google.com/github/Ashuto7h/ML-works/blob/main/predict_churn_risk.ipynb\" target=\"_parent\"><img src=\"https://colab.research.google.com/assets/colab-badge.svg\" alt=\"Open In Colab\"/></a>"
      ]
    },
    {
      "cell_type": "code",
      "metadata": {
        "id": "increased-registrar"
      },
      "source": [
        "import pandas\n",
        "import numpy\n",
        "import matplotlib.pyplot as pyplot\n",
        "import seaborn\n",
        "\n",
        "train = pandas.read_csv('https://raw.githubusercontent.com/Ashuto7h/ML-works/main/churn_dataset/train.csv')\n",
        "test = pandas.read_csv('https://raw.githubusercontent.com/Ashuto7h/ML-works/main/churn_dataset/test.csv')"
      ],
      "id": "increased-registrar",
      "execution_count": 506,
      "outputs": []
    },
    {
      "cell_type": "code",
      "metadata": {
        "id": "fixed-travel",
        "colab": {
          "base_uri": "https://localhost:8080/",
          "height": 320
        },
        "outputId": "1dd28541-86de-4263-fac4-a15d8144b9ef"
      },
      "source": [
        "train.describe()\n",
        "# print(test.describe())"
      ],
      "id": "fixed-travel",
      "execution_count": 507,
      "outputs": [
        {
          "output_type": "execute_result",
          "data": {
            "text/html": [
              "<div>\n",
              "<style scoped>\n",
              "    .dataframe tbody tr th:only-of-type {\n",
              "        vertical-align: middle;\n",
              "    }\n",
              "\n",
              "    .dataframe tbody tr th {\n",
              "        vertical-align: top;\n",
              "    }\n",
              "\n",
              "    .dataframe thead th {\n",
              "        text-align: right;\n",
              "    }\n",
              "</style>\n",
              "<table border=\"1\" class=\"dataframe\">\n",
              "  <thead>\n",
              "    <tr style=\"text-align: right;\">\n",
              "      <th></th>\n",
              "      <th>age</th>\n",
              "      <th>days_since_last_login</th>\n",
              "      <th>avg_time_spent</th>\n",
              "      <th>avg_transaction_value</th>\n",
              "      <th>points_in_wallet</th>\n",
              "      <th>churn_risk_score</th>\n",
              "    </tr>\n",
              "  </thead>\n",
              "  <tbody>\n",
              "    <tr>\n",
              "      <th>count</th>\n",
              "      <td>36992.000000</td>\n",
              "      <td>36992.000000</td>\n",
              "      <td>36992.000000</td>\n",
              "      <td>36992.000000</td>\n",
              "      <td>33549.000000</td>\n",
              "      <td>36992.000000</td>\n",
              "    </tr>\n",
              "    <tr>\n",
              "      <th>mean</th>\n",
              "      <td>37.118161</td>\n",
              "      <td>-41.915576</td>\n",
              "      <td>243.472334</td>\n",
              "      <td>29271.194003</td>\n",
              "      <td>686.882199</td>\n",
              "      <td>3.463397</td>\n",
              "    </tr>\n",
              "    <tr>\n",
              "      <th>std</th>\n",
              "      <td>15.867412</td>\n",
              "      <td>228.819900</td>\n",
              "      <td>398.289149</td>\n",
              "      <td>19444.806226</td>\n",
              "      <td>194.063624</td>\n",
              "      <td>1.409661</td>\n",
              "    </tr>\n",
              "    <tr>\n",
              "      <th>min</th>\n",
              "      <td>10.000000</td>\n",
              "      <td>-999.000000</td>\n",
              "      <td>-2814.109110</td>\n",
              "      <td>800.460000</td>\n",
              "      <td>-760.661236</td>\n",
              "      <td>-1.000000</td>\n",
              "    </tr>\n",
              "    <tr>\n",
              "      <th>25%</th>\n",
              "      <td>23.000000</td>\n",
              "      <td>8.000000</td>\n",
              "      <td>60.102500</td>\n",
              "      <td>14177.540000</td>\n",
              "      <td>616.150000</td>\n",
              "      <td>3.000000</td>\n",
              "    </tr>\n",
              "    <tr>\n",
              "      <th>50%</th>\n",
              "      <td>37.000000</td>\n",
              "      <td>12.000000</td>\n",
              "      <td>161.765000</td>\n",
              "      <td>27554.485000</td>\n",
              "      <td>697.620000</td>\n",
              "      <td>4.000000</td>\n",
              "    </tr>\n",
              "    <tr>\n",
              "      <th>75%</th>\n",
              "      <td>51.000000</td>\n",
              "      <td>16.000000</td>\n",
              "      <td>356.515000</td>\n",
              "      <td>40855.110000</td>\n",
              "      <td>763.950000</td>\n",
              "      <td>5.000000</td>\n",
              "    </tr>\n",
              "    <tr>\n",
              "      <th>max</th>\n",
              "      <td>64.000000</td>\n",
              "      <td>26.000000</td>\n",
              "      <td>3235.578521</td>\n",
              "      <td>99914.050000</td>\n",
              "      <td>2069.069761</td>\n",
              "      <td>5.000000</td>\n",
              "    </tr>\n",
              "  </tbody>\n",
              "</table>\n",
              "</div>"
            ],
            "text/plain": [
              "                age  days_since_last_login  ...  points_in_wallet  churn_risk_score\n",
              "count  36992.000000           36992.000000  ...      33549.000000      36992.000000\n",
              "mean      37.118161             -41.915576  ...        686.882199          3.463397\n",
              "std       15.867412             228.819900  ...        194.063624          1.409661\n",
              "min       10.000000            -999.000000  ...       -760.661236         -1.000000\n",
              "25%       23.000000               8.000000  ...        616.150000          3.000000\n",
              "50%       37.000000              12.000000  ...        697.620000          4.000000\n",
              "75%       51.000000              16.000000  ...        763.950000          5.000000\n",
              "max       64.000000              26.000000  ...       2069.069761          5.000000\n",
              "\n",
              "[8 rows x 6 columns]"
            ]
          },
          "metadata": {
            "tags": []
          },
          "execution_count": 507
        }
      ]
    },
    {
      "cell_type": "code",
      "metadata": {
        "id": "everyday-worship",
        "colab": {
          "base_uri": "https://localhost:8080/"
        },
        "outputId": "21c4c40a-9324-40f2-8638-acfcb443d85a"
      },
      "source": [
        "train.info()\n",
        "test.info()"
      ],
      "id": "everyday-worship",
      "execution_count": 508,
      "outputs": [
        {
          "output_type": "stream",
          "text": [
            "<class 'pandas.core.frame.DataFrame'>\n",
            "RangeIndex: 36992 entries, 0 to 36991\n",
            "Data columns (total 25 columns):\n",
            " #   Column                        Non-Null Count  Dtype  \n",
            "---  ------                        --------------  -----  \n",
            " 0   customer_id                   36992 non-null  object \n",
            " 1   Name                          36992 non-null  object \n",
            " 2   age                           36992 non-null  int64  \n",
            " 3   gender                        36992 non-null  object \n",
            " 4   security_no                   36992 non-null  object \n",
            " 5   region_category               31564 non-null  object \n",
            " 6   membership_category           36992 non-null  object \n",
            " 7   joining_date                  36992 non-null  object \n",
            " 8   joined_through_referral       36992 non-null  object \n",
            " 9   referral_id                   36992 non-null  object \n",
            " 10  preferred_offer_types         36704 non-null  object \n",
            " 11  medium_of_operation           36992 non-null  object \n",
            " 12  internet_option               36992 non-null  object \n",
            " 13  last_visit_time               36992 non-null  object \n",
            " 14  days_since_last_login         36992 non-null  int64  \n",
            " 15  avg_time_spent                36992 non-null  float64\n",
            " 16  avg_transaction_value         36992 non-null  float64\n",
            " 17  avg_frequency_login_days      36992 non-null  object \n",
            " 18  points_in_wallet              33549 non-null  float64\n",
            " 19  used_special_discount         36992 non-null  object \n",
            " 20  offer_application_preference  36992 non-null  object \n",
            " 21  past_complaint                36992 non-null  object \n",
            " 22  complaint_status              36992 non-null  object \n",
            " 23  feedback                      36992 non-null  object \n",
            " 24  churn_risk_score              36992 non-null  int64  \n",
            "dtypes: float64(3), int64(3), object(19)\n",
            "memory usage: 7.1+ MB\n",
            "<class 'pandas.core.frame.DataFrame'>\n",
            "RangeIndex: 19919 entries, 0 to 19918\n",
            "Data columns (total 24 columns):\n",
            " #   Column                        Non-Null Count  Dtype  \n",
            "---  ------                        --------------  -----  \n",
            " 0   customer_id                   19919 non-null  object \n",
            " 1   Name                          19919 non-null  object \n",
            " 2   age                           19919 non-null  int64  \n",
            " 3   gender                        19919 non-null  object \n",
            " 4   security_no                   19919 non-null  object \n",
            " 5   region_category               16971 non-null  object \n",
            " 6   membership_category           19919 non-null  object \n",
            " 7   joining_date                  19919 non-null  object \n",
            " 8   joined_through_referral       19919 non-null  object \n",
            " 9   referral_id                   19919 non-null  object \n",
            " 10  preferred_offer_types         19760 non-null  object \n",
            " 11  medium_of_operation           19919 non-null  object \n",
            " 12  internet_option               19919 non-null  object \n",
            " 13  last_visit_time               19919 non-null  object \n",
            " 14  days_since_last_login         19919 non-null  int64  \n",
            " 15  avg_time_spent                19919 non-null  float64\n",
            " 16  avg_transaction_value         19919 non-null  float64\n",
            " 17  avg_frequency_login_days      19919 non-null  object \n",
            " 18  points_in_wallet              17956 non-null  float64\n",
            " 19  used_special_discount         19919 non-null  object \n",
            " 20  offer_application_preference  19919 non-null  object \n",
            " 21  past_complaint                19919 non-null  object \n",
            " 22  complaint_status              19919 non-null  object \n",
            " 23  feedback                      19919 non-null  object \n",
            "dtypes: float64(3), int64(2), object(19)\n",
            "memory usage: 3.6+ MB\n"
          ],
          "name": "stdout"
        }
      ]
    },
    {
      "cell_type": "markdown",
      "metadata": {
        "id": "declared-conservative"
      },
      "source": [
        "## Univariate and Bivariate analysis\n",
        "#### 1. Customer Id\n",
        "total 36992 unique values. "
      ],
      "id": "declared-conservative"
    },
    {
      "cell_type": "markdown",
      "metadata": {
        "id": "knowing-precipitation"
      },
      "source": [
        "#### 2. Name - This field is not necessary\n"
      ],
      "id": "knowing-precipitation"
    },
    {
      "cell_type": "code",
      "metadata": {
        "id": "cutting-parts"
      },
      "source": [
        "del train['Name']\n",
        "del test['Name']"
      ],
      "id": "cutting-parts",
      "execution_count": 509,
      "outputs": []
    },
    {
      "cell_type": "markdown",
      "metadata": {
        "id": "mhh_e59jKuKV"
      },
      "source": [
        "#### 25. churn_risk_score"
      ],
      "id": "mhh_e59jKuKV"
    },
    {
      "cell_type": "code",
      "metadata": {
        "id": "UoqPryx9KuKW",
        "colab": {
          "base_uri": "https://localhost:8080/"
        },
        "outputId": "48c03896-0020-41fe-bb78-e13c154219ee"
      },
      "source": [
        "print(train['churn_risk_score'].value_counts())\n",
        "train['churn_risk_score'].replace(0,3,inplace=True)\n",
        "train['churn_risk_score'].replace(-1,3,inplace=True)\n",
        "train['churn_risk_score'].value_counts()"
      ],
      "id": "UoqPryx9KuKW",
      "execution_count": 510,
      "outputs": [
        {
          "output_type": "stream",
          "text": [
            " 3    10424\n",
            " 4    10185\n",
            " 5     9827\n",
            " 2     2741\n",
            " 1     2652\n",
            "-1     1163\n",
            "Name: churn_risk_score, dtype: int64\n"
          ],
          "name": "stdout"
        },
        {
          "output_type": "execute_result",
          "data": {
            "text/plain": [
              "3    11587\n",
              "4    10185\n",
              "5     9827\n",
              "2     2741\n",
              "1     2652\n",
              "Name: churn_risk_score, dtype: int64"
            ]
          },
          "metadata": {
            "tags": []
          },
          "execution_count": 510
        }
      ]
    },
    {
      "cell_type": "code",
      "metadata": {
        "colab": {
          "base_uri": "https://localhost:8080/",
          "height": 298
        },
        "id": "vuJEBYzyBi_4",
        "outputId": "ef707f38-3b51-488e-d490-d71e5f17a733"
      },
      "source": [
        "seaborn.countplot(data = train, x = 'churn_risk_score')"
      ],
      "id": "vuJEBYzyBi_4",
      "execution_count": 511,
      "outputs": [
        {
          "output_type": "execute_result",
          "data": {
            "text/plain": [
              "<matplotlib.axes._subplots.AxesSubplot at 0x7f9020ab2c90>"
            ]
          },
          "metadata": {
            "tags": []
          },
          "execution_count": 511
        },
        {
          "output_type": "display_data",
          "data": {
            "image/png": "[encoded data removed]",
            "text/plain": [
              "<Figure size 432x288 with 1 Axes>"
            ]
          },
          "metadata": {
            "tags": [],
            "needs_background": "light"
          }
        }
      ]
    },
    {
      "cell_type": "markdown",
      "metadata": {
        "id": "neither-tobago"
      },
      "source": [
        "#### 3. age "
      ],
      "id": "neither-tobago"
    },
    {
      "cell_type": "code",
      "metadata": {
        "id": "2Iyjrnu8KuKZ"
      },
      "source": [
        "train['age'].replace(0,int(train['age'].mean()),inplace=True)\n",
        "\n",
        "test['age'].replace(0,int(test['age'].mean()),inplace=True)"
      ],
      "id": "2Iyjrnu8KuKZ",
      "execution_count": 512,
      "outputs": []
    },
    {
      "cell_type": "code",
      "metadata": {
        "id": "Q8U1bJBMKuKZ",
        "colab": {
          "base_uri": "https://localhost:8080/",
          "height": 297
        },
        "outputId": "1d9cb839-89b3-418a-f49d-ebbb4606a17a"
      },
      "source": [
        "seaborn.violinplot(data = train, x = 'churn_risk_score', y = 'age')"
      ],
      "id": "Q8U1bJBMKuKZ",
      "execution_count": 513,
      "outputs": [
        {
          "output_type": "execute_result",
          "data": {
            "text/plain": [
              "<matplotlib.axes._subplots.AxesSubplot at 0x7f901f758210>"
            ]
          },
          "metadata": {
            "tags": []
          },
          "execution_count": 513
        },
        {
          "output_type": "display_data",
          "data": {
            "image/png": "[encoded data removed]",
            "text/plain": [
              "<Figure size 432x288 with 1 Axes>"
            ]
          },
          "metadata": {
            "tags": [],
            "needs_background": "light"
          }
        }
      ]
    },
    {
      "cell_type": "markdown",
      "metadata": {
        "id": "4cg8cvO7Ffq5"
      },
      "source": [
        "__Conclusion__ : age doesn't have a major effect on target."
      ],
      "id": "4cg8cvO7Ffq5"
    },
    {
      "cell_type": "markdown",
      "metadata": {
        "id": "iXQ2ZOMjKuKc"
      },
      "source": [
        "#### 4. Gender"
      ],
      "id": "iXQ2ZOMjKuKc"
    },
    {
      "cell_type": "code",
      "metadata": {
        "id": "zSfmpzy9KuKd",
        "colab": {
          "base_uri": "https://localhost:8080/"
        },
        "outputId": "3b7c9954-4d27-416e-a9a7-a8ab0b5787dc"
      },
      "source": [
        "print(train['gender'].value_counts())\n",
        "train['gender'].replace('Unknown','F', inplace = True)\n",
        "print(train['gender'].value_counts())\n",
        "\n",
        "test['gender'].replace('Unknown','F', inplace = True)"
      ],
      "id": "zSfmpzy9KuKd",
      "execution_count": 514,
      "outputs": [
        {
          "output_type": "stream",
          "text": [
            "F          18490\n",
            "M          18443\n",
            "Unknown       59\n",
            "Name: gender, dtype: int64\n",
            "F    18549\n",
            "M    18443\n",
            "Name: gender, dtype: int64\n"
          ],
          "name": "stdout"
        }
      ]
    },
    {
      "cell_type": "code",
      "metadata": {
        "id": "DGxex1FyKuKf",
        "colab": {
          "base_uri": "https://localhost:8080/",
          "height": 297
        },
        "outputId": "9bc2d10a-e999-4bbd-99dd-7489147cd633"
      },
      "source": [
        "seaborn.countplot(data=train, x = 'gender', hue = 'churn_risk_score')"
      ],
      "id": "DGxex1FyKuKf",
      "execution_count": 515,
      "outputs": [
        {
          "output_type": "execute_result",
          "data": {
            "text/plain": [
              "<matplotlib.axes._subplots.AxesSubplot at 0x7f901f77ae10>"
            ]
          },
          "metadata": {
            "tags": []
          },
          "execution_count": 515
        },
        {
          "output_type": "display_data",
          "data": {
            "image/png": "[encoded data removed]",
            "text/plain": [
              "<Figure size 432x288 with 1 Axes>"
            ]
          },
          "metadata": {
            "tags": [],
            "needs_background": "light"
          }
        }
      ]
    },
    {
      "cell_type": "markdown",
      "metadata": {
        "id": "c7XNI2soFxGv"
      },
      "source": [
        "__Conclusion__ :  gender doesn't affects the target."
      ],
      "id": "c7XNI2soFxGv"
    },
    {
      "cell_type": "markdown",
      "metadata": {
        "id": "w5JzL5byKuKg"
      },
      "source": [
        "#### 5. security_no -\n",
        "(Useless) a unique security_no used to identify a person\n"
      ],
      "id": "w5JzL5byKuKg"
    },
    {
      "cell_type": "code",
      "metadata": {
        "id": "mBBMUXBkKuKg"
      },
      "source": [
        "del train['security_no']\n",
        "del test['security_no']"
      ],
      "id": "mBBMUXBkKuKg",
      "execution_count": 516,
      "outputs": []
    },
    {
      "cell_type": "markdown",
      "metadata": {
        "id": "1LBjooSqKuKg"
      },
      "source": [
        "#### 6. region_category\n"
      ],
      "id": "1LBjooSqKuKg"
    },
    {
      "cell_type": "code",
      "metadata": {
        "id": "cXjYNP24KuKh",
        "colab": {
          "base_uri": "https://localhost:8080/"
        },
        "outputId": "05474f29-af33-4ed9-907f-c46f02b8299c"
      },
      "source": [
        "print(train['region_category'].unique())\n",
        "print(train['region_category'].value_counts())\n",
        "print(train['region_category'].isna().sum())\n",
        "train['region_category'].fillna('Town',inplace = True)\n",
        "print(train['region_category'].value_counts())\n",
        "\n",
        "test['region_category'].fillna('Town',inplace = True)"
      ],
      "id": "cXjYNP24KuKh",
      "execution_count": 517,
      "outputs": [
        {
          "output_type": "stream",
          "text": [
            "['Village' 'City' 'Town' nan]\n",
            "Town       14128\n",
            "City       12737\n",
            "Village     4699\n",
            "Name: region_category, dtype: int64\n",
            "5428\n",
            "Town       19556\n",
            "City       12737\n",
            "Village     4699\n",
            "Name: region_category, dtype: int64\n"
          ],
          "name": "stdout"
        }
      ]
    },
    {
      "cell_type": "code",
      "metadata": {
        "colab": {
          "base_uri": "https://localhost:8080/",
          "height": 297
        },
        "id": "INehKElhHL6_",
        "outputId": "12fbc31f-59fa-4005-e532-96832e72455c"
      },
      "source": [
        "seaborn.countplot(data = train, x = 'region_category',hue = 'churn_risk_score')"
      ],
      "id": "INehKElhHL6_",
      "execution_count": 518,
      "outputs": [
        {
          "output_type": "execute_result",
          "data": {
            "text/plain": [
              "<matplotlib.axes._subplots.AxesSubplot at 0x7f901f726a10>"
            ]
          },
          "metadata": {
            "tags": []
          },
          "execution_count": 518
        },
        {
          "output_type": "display_data",
          "data": {
            "image/png": "[encoded data removed]",
            "text/plain": [
              "<Figure size 432x288 with 1 Axes>"
            ]
          },
          "metadata": {
            "tags": [],
            "needs_background": "light"
          }
        }
      ]
    },
    {
      "cell_type": "markdown",
      "metadata": {
        "id": "vaUC9Od9ICK7"
      },
      "source": [
        "__conclusion__ : region_category affects target."
      ],
      "id": "vaUC9Od9ICK7"
    },
    {
      "cell_type": "markdown",
      "metadata": {
        "id": "fcI5W8LsKuKi"
      },
      "source": [
        "#### 7. membership_category\n"
      ],
      "id": "fcI5W8LsKuKi"
    },
    {
      "cell_type": "code",
      "metadata": {
        "colab": {
          "base_uri": "https://localhost:8080/",
          "height": 395
        },
        "id": "04Of5gh4IR1k",
        "outputId": "c23bc9a6-bb9e-492b-aec8-da4619da8dae"
      },
      "source": [
        "seaborn.countplot(data = train, x = 'membership_category', hue='churn_risk_score')\n",
        "pyplot.xticks(rotation= 75)"
      ],
      "id": "04Of5gh4IR1k",
      "execution_count": 519,
      "outputs": [
        {
          "output_type": "execute_result",
          "data": {
            "text/plain": [
              "(array([0, 1, 2, 3, 4, 5]), <a list of 6 Text major ticklabel objects>)"
            ]
          },
          "metadata": {
            "tags": []
          },
          "execution_count": 519
        },
        {
          "output_type": "display_data",
          "data": {
            "image/png": "[encoded data removed]",
            "text/plain": [
              "<Figure size 432x288 with 1 Axes>"
            ]
          },
          "metadata": {
            "tags": [],
            "needs_background": "light"
          }
        }
      ]
    },
    {
      "cell_type": "markdown",
      "metadata": {
        "id": "DyKnGoUGJG5C"
      },
      "source": [
        "__conclusion__ : membership_category affects churn risk score."
      ],
      "id": "DyKnGoUGJG5C"
    },
    {
      "cell_type": "markdown",
      "metadata": {
        "id": "2KyNwp27KuKk"
      },
      "source": [
        "#### 8. joining_date\n",
        "1096 unique dates.\n",
        "\n",
        "from 2015-01-01 to 2017-12-31\n",
        "\n",
        "not affects much, not required."
      ],
      "id": "2KyNwp27KuKk"
    },
    {
      "cell_type": "code",
      "metadata": {
        "id": "zFyvQ112JWj1"
      },
      "source": [
        "del train['joining_date']\n",
        "del test['joining_date']"
      ],
      "id": "zFyvQ112JWj1",
      "execution_count": 520,
      "outputs": []
    },
    {
      "cell_type": "markdown",
      "metadata": {
        "id": "Jablj_JHKuKk"
      },
      "source": [
        "#### 9. joined_through_referral\n",
        "there are some users who's `joined_through_referral = ?` but they have a unique `referral_id`.\n"
      ],
      "id": "Jablj_JHKuKk"
    },
    {
      "cell_type": "code",
      "metadata": {
        "id": "TEZ0QZudKuKl",
        "colab": {
          "base_uri": "https://localhost:8080/"
        },
        "outputId": "ed57f37a-a455-4d46-9083-064d20cc174f"
      },
      "source": [
        "print(train['joined_through_referral'].value_counts())\n",
        "print(test['joined_through_referral'].value_counts())"
      ],
      "id": "TEZ0QZudKuKl",
      "execution_count": 521,
      "outputs": [
        {
          "output_type": "stream",
          "text": [
            "No     15839\n",
            "Yes    15715\n",
            "?       5438\n",
            "Name: joined_through_referral, dtype: int64\n",
            "Yes    8617\n",
            "No     8304\n",
            "?      2998\n",
            "Name: joined_through_referral, dtype: int64\n"
          ],
          "name": "stdout"
        }
      ]
    },
    {
      "cell_type": "code",
      "metadata": {
        "id": "-0jWEQUEKuKl",
        "colab": {
          "base_uri": "https://localhost:8080/"
        },
        "outputId": "5189985f-d550-4c4d-d5b7-ad8345653b73"
      },
      "source": [
        "train.loc[(train.referral_id == 'xxxxxxxx') & (train.joined_through_referral == '?'), 'joined_through_referral'] = 'No'\n",
        "\n",
        "train.loc[(train.referral_id != 'xxxxxxxx') & (train.joined_through_referral == '?'),'joined_through_referral'] = 'Yes'\n",
        "\n",
        "test.loc[(test.referral_id == 'xxxxxxxx') & (test.joined_through_referral == '?'), 'joined_through_referral'] = 'No'\n",
        "\n",
        "test.loc[(test.referral_id != 'xxxxxxxx') & (test.joined_through_referral == '?'),'joined_through_referral'] = 'Yes'\n",
        "\n",
        "print(train['joined_through_referral'].value_counts())\n",
        "print(test['joined_through_referral'].value_counts())\n"
      ],
      "id": "-0jWEQUEKuKl",
      "execution_count": 522,
      "outputs": [
        {
          "output_type": "stream",
          "text": [
            "Yes    20592\n",
            "No     16400\n",
            "Name: joined_through_referral, dtype: int64\n",
            "Yes    11305\n",
            "No      8614\n",
            "Name: joined_through_referral, dtype: int64\n"
          ],
          "name": "stdout"
        }
      ]
    },
    {
      "cell_type": "code",
      "metadata": {
        "colab": {
          "base_uri": "https://localhost:8080/",
          "height": 297
        },
        "id": "wbip3royJnGe",
        "outputId": "127b1b6e-46e2-4878-b5ef-0233cf75abce"
      },
      "source": [
        "seaborn.countplot(data =train, x = 'joined_through_referral', hue = 'churn_risk_score')"
      ],
      "id": "wbip3royJnGe",
      "execution_count": 523,
      "outputs": [
        {
          "output_type": "execute_result",
          "data": {
            "text/plain": [
              "<matplotlib.axes._subplots.AxesSubplot at 0x7f901f696490>"
            ]
          },
          "metadata": {
            "tags": []
          },
          "execution_count": 523
        },
        {
          "output_type": "display_data",
          "data": {
            "image/png": "[encoded data removed]",
            "text/plain": [
              "<Figure size 432x288 with 1 Axes>"
            ]
          },
          "metadata": {
            "tags": [],
            "needs_background": "light"
          }
        }
      ]
    },
    {
      "cell_type": "markdown",
      "metadata": {
        "id": "0PD2lgq5KOW5"
      },
      "source": [
        "__conclusion__ : joined_through_referral affects churn_risk_score."
      ],
      "id": "0PD2lgq5KOW5"
    },
    {
      "cell_type": "markdown",
      "metadata": {
        "id": "JG_CdMCdKuKm"
      },
      "source": [
        "#### 10. referral_id\n",
        "it doesn't play a major role, because mostly one referral_id is used for only one referral. so it can be removed.\n"
      ],
      "id": "JG_CdMCdKuKm"
    },
    {
      "cell_type": "code",
      "metadata": {
        "id": "f0IBtx7pKuKm",
        "colab": {
          "base_uri": "https://localhost:8080/"
        },
        "outputId": "61d78928-28c5-492b-9e40-e82b79373318"
      },
      "source": [
        "print('len' ,len(train['referral_id'].unique()))\n",
        "print(train['referral_id'].value_counts())\n",
        "\n",
        "del train['referral_id']\n",
        "del test['referral_id']"
      ],
      "id": "f0IBtx7pKuKm",
      "execution_count": 524,
      "outputs": [
        {
          "output_type": "stream",
          "text": [
            "len 11359\n",
            "xxxxxxxx    17846\n",
            "CID43705       12\n",
            "CID3979        11\n",
            "CID49601       10\n",
            "CID40797        9\n",
            "            ...  \n",
            "CID3712         1\n",
            "CID316          1\n",
            "CID18968        1\n",
            "CID62087        1\n",
            "CID62724        1\n",
            "Name: referral_id, Length: 11359, dtype: int64\n"
          ],
          "name": "stdout"
        }
      ]
    },
    {
      "cell_type": "markdown",
      "metadata": {
        "id": "BG3P1Q5SKuKn"
      },
      "source": [
        "#### 11. preffered_offer_types"
      ],
      "id": "BG3P1Q5SKuKn"
    },
    {
      "cell_type": "code",
      "metadata": {
        "id": "hSa_CSIZKuKn",
        "colab": {
          "base_uri": "https://localhost:8080/"
        },
        "outputId": "53f7f7bb-79ff-4ff3-ff81-bfd7d24c31b2"
      },
      "source": [
        "print(train['preferred_offer_types'].unique())\n",
        "print(train['preferred_offer_types'].value_counts())\n",
        "print('nan count  : ',  train['preferred_offer_types'].isna().sum())\n",
        "print('nan count  : ',  test['preferred_offer_types'].isna().sum())"
      ],
      "id": "hSa_CSIZKuKn",
      "execution_count": 525,
      "outputs": [
        {
          "output_type": "stream",
          "text": [
            "['Gift Vouchers/Coupons' 'Credit/Debit Card Offers' 'Without Offers' nan]\n",
            "Gift Vouchers/Coupons       12349\n",
            "Credit/Debit Card Offers    12274\n",
            "Without Offers              12081\n",
            "Name: preferred_offer_types, dtype: int64\n",
            "nan count  :  288\n",
            "nan count  :  159\n"
          ],
          "name": "stdout"
        }
      ]
    },
    {
      "cell_type": "markdown",
      "metadata": {
        "id": "3N7JaD9bKuKp"
      },
      "source": [
        "replacing nan values with 'Gift Vouchers/Coupons'"
      ],
      "id": "3N7JaD9bKuKp"
    },
    {
      "cell_type": "code",
      "metadata": {
        "id": "52a52vxAKuKq",
        "colab": {
          "base_uri": "https://localhost:8080/"
        },
        "outputId": "a8b7e34e-21a1-4ae3-bb3c-1b107dc1175d"
      },
      "source": [
        "train['preferred_offer_types'].fillna('Gift Vouchers/Coupons',inplace =True)\n",
        "print(train['preferred_offer_types'].value_counts())\n",
        "\n",
        "test['preferred_offer_types'].fillna('Gift Vouchers/Coupons',inplace =True)\n",
        "print(test['preferred_offer_types'].value_counts())"
      ],
      "id": "52a52vxAKuKq",
      "execution_count": 526,
      "outputs": [
        {
          "output_type": "stream",
          "text": [
            "Gift Vouchers/Coupons       12637\n",
            "Credit/Debit Card Offers    12274\n",
            "Without Offers              12081\n",
            "Name: preferred_offer_types, dtype: int64\n",
            "Without Offers              6663\n",
            "Gift Vouchers/Coupons       6654\n",
            "Credit/Debit Card Offers    6602\n",
            "Name: preferred_offer_types, dtype: int64\n"
          ],
          "name": "stdout"
        }
      ]
    },
    {
      "cell_type": "code",
      "metadata": {
        "colab": {
          "base_uri": "https://localhost:8080/",
          "height": 406
        },
        "id": "hUSJjP_ZKvZM",
        "outputId": "c9f8a97e-34ca-4558-916c-ddf83703c372"
      },
      "source": [
        "pyplot.xticks(rotation = 75)\n",
        "seaborn.countplot(data = train, x = 'preferred_offer_types', hue ='churn_risk_score')"
      ],
      "id": "hUSJjP_ZKvZM",
      "execution_count": 527,
      "outputs": [
        {
          "output_type": "execute_result",
          "data": {
            "text/plain": [
              "<matplotlib.axes._subplots.AxesSubplot at 0x7f901f724810>"
            ]
          },
          "metadata": {
            "tags": []
          },
          "execution_count": 527
        },
        {
          "output_type": "display_data",
          "data": {
            "image/png": "[encoded data removed]",
            "text/plain": [
              "<Figure size 432x288 with 1 Axes>"
            ]
          },
          "metadata": {
            "tags": [],
            "needs_background": "light"
          }
        }
      ]
    },
    {
      "cell_type": "markdown",
      "metadata": {
        "id": "L3teWSkTLalu"
      },
      "source": [
        "__conclusion__: preferred_offer_types affect target slightly."
      ],
      "id": "L3teWSkTLalu"
    },
    {
      "cell_type": "markdown",
      "metadata": {
        "id": "dsvufQF1KuKq"
      },
      "source": [
        "#### 12. medium_of_operation"
      ],
      "id": "dsvufQF1KuKq"
    },
    {
      "cell_type": "code",
      "metadata": {
        "id": "x-jJ1w7oKuKq",
        "colab": {
          "base_uri": "https://localhost:8080/"
        },
        "outputId": "0552c7d1-fac8-42cb-f455-67c2f3184113"
      },
      "source": [
        "print(train['medium_of_operation'].unique())\n",
        "print(train['medium_of_operation'].value_counts())\n",
        "print()\n",
        "print(test['medium_of_operation'].value_counts())\n"
      ],
      "id": "x-jJ1w7oKuKq",
      "execution_count": 528,
      "outputs": [
        {
          "output_type": "stream",
          "text": [
            "['?' 'Desktop' 'Smartphone' 'Both']\n",
            "Desktop       13913\n",
            "Smartphone    13876\n",
            "?              5393\n",
            "Both           3810\n",
            "Name: medium_of_operation, dtype: int64\n",
            "\n",
            "Desktop       7463\n",
            "Smartphone    7405\n",
            "?             2964\n",
            "Both          2087\n",
            "Name: medium_of_operation, dtype: int64\n"
          ],
          "name": "stdout"
        }
      ]
    },
    {
      "cell_type": "markdown",
      "metadata": {
        "id": "nYroEFlaKuKq"
      },
      "source": [
        "replacing all '?' with 'Desktop'"
      ],
      "id": "nYroEFlaKuKq"
    },
    {
      "cell_type": "code",
      "metadata": {
        "id": "SAG9NGcpKuKr",
        "colab": {
          "base_uri": "https://localhost:8080/"
        },
        "outputId": "08bd3a0c-4404-4e6a-82c7-acbe8c135396"
      },
      "source": [
        "train['medium_of_operation'].replace('?','Desktop',inplace = True)\n",
        "print(train['medium_of_operation'].value_counts())\n",
        "\n",
        "test['medium_of_operation'].replace('?','Desktop',inplace = True)\n",
        "print(test['medium_of_operation'].value_counts())"
      ],
      "id": "SAG9NGcpKuKr",
      "execution_count": 529,
      "outputs": [
        {
          "output_type": "stream",
          "text": [
            "Desktop       19306\n",
            "Smartphone    13876\n",
            "Both           3810\n",
            "Name: medium_of_operation, dtype: int64\n",
            "Desktop       10427\n",
            "Smartphone     7405\n",
            "Both           2087\n",
            "Name: medium_of_operation, dtype: int64\n"
          ],
          "name": "stdout"
        }
      ]
    },
    {
      "cell_type": "code",
      "metadata": {
        "colab": {
          "base_uri": "https://localhost:8080/",
          "height": 349
        },
        "id": "jk7fVlFaLmI2",
        "outputId": "df2f2afe-678d-4490-c54a-01ad7676ddf5"
      },
      "source": [
        "pyplot.xticks(rotation = 75)\n",
        "seaborn.countplot(data = train, x = 'medium_of_operation', hue ='churn_risk_score')"
      ],
      "id": "jk7fVlFaLmI2",
      "execution_count": 530,
      "outputs": [
        {
          "output_type": "execute_result",
          "data": {
            "text/plain": [
              "<matplotlib.axes._subplots.AxesSubplot at 0x7f901f691b10>"
            ]
          },
          "metadata": {
            "tags": []
          },
          "execution_count": 530
        },
        {
          "output_type": "display_data",
          "data": {
            "image/png": "[encoded data removed]",
            "text/plain": [
              "<Figure size 432x288 with 1 Axes>"
            ]
          },
          "metadata": {
            "tags": [],
            "needs_background": "light"
          }
        }
      ]
    },
    {
      "cell_type": "markdown",
      "metadata": {
        "id": "usxi_ymKL72l"
      },
      "source": [
        "__conclusion__ : medium of operation affects churn_risk_score"
      ],
      "id": "usxi_ymKL72l"
    },
    {
      "cell_type": "markdown",
      "metadata": {
        "id": "6bPQGNNGKuKs"
      },
      "source": [
        "#### 13. internet_option\n"
      ],
      "id": "6bPQGNNGKuKs"
    },
    {
      "cell_type": "code",
      "metadata": {
        "id": "iPhQzJTQKuKt",
        "colab": {
          "base_uri": "https://localhost:8080/"
        },
        "outputId": "d0a8ea09-e44f-46d8-a348-625c1fd00996"
      },
      "source": [
        "train['internet_option'].value_counts()"
      ],
      "id": "iPhQzJTQKuKt",
      "execution_count": 531,
      "outputs": [
        {
          "output_type": "execute_result",
          "data": {
            "text/plain": [
              "Wi-Fi          12413\n",
              "Mobile_Data    12343\n",
              "Fiber_Optic    12236\n",
              "Name: internet_option, dtype: int64"
            ]
          },
          "metadata": {
            "tags": []
          },
          "execution_count": 531
        }
      ]
    },
    {
      "cell_type": "code",
      "metadata": {
        "colab": {
          "base_uri": "https://localhost:8080/",
          "height": 350
        },
        "id": "omfaPYETMGfC",
        "outputId": "579662e5-d2fe-4c23-a6fa-6b5ea8f1b662"
      },
      "source": [
        "pyplot.xticks(rotation = 75)\n",
        "seaborn.countplot(data = train, x = 'internet_option', hue ='churn_risk_score')"
      ],
      "id": "omfaPYETMGfC",
      "execution_count": 532,
      "outputs": [
        {
          "output_type": "execute_result",
          "data": {
            "text/plain": [
              "<matplotlib.axes._subplots.AxesSubplot at 0x7f903402db10>"
            ]
          },
          "metadata": {
            "tags": []
          },
          "execution_count": 532
        },
        {
          "output_type": "display_data",
          "data": {
            "image/png": "[encoded data removed]",
            "text/plain": [
              "<Figure size 432x288 with 1 Axes>"
            ]
          },
          "metadata": {
            "tags": [],
            "needs_background": "light"
          }
        }
      ]
    },
    {
      "cell_type": "markdown",
      "metadata": {
        "id": "pO9ppcHhMoIv"
      },
      "source": [
        "__conclusion__ : internet_option affects very slightly over the taget variable"
      ],
      "id": "pO9ppcHhMoIv"
    },
    {
      "cell_type": "markdown",
      "metadata": {
        "id": "8lIDh5BPKuKt"
      },
      "source": [
        "#### 14. last_visit_time - not required"
      ],
      "id": "8lIDh5BPKuKt"
    },
    {
      "cell_type": "code",
      "metadata": {
        "id": "VaRJg1QGKuKt"
      },
      "source": [
        "del train['last_visit_time']\n",
        "del test['last_visit_time']"
      ],
      "id": "VaRJg1QGKuKt",
      "execution_count": 533,
      "outputs": []
    },
    {
      "cell_type": "markdown",
      "metadata": {
        "id": "ghiMlZamKuKt"
      },
      "source": [
        "#### 15. days_since_last_login"
      ],
      "id": "ghiMlZamKuKt"
    },
    {
      "cell_type": "code",
      "metadata": {
        "id": "7Hq0LT9iKuKu",
        "colab": {
          "base_uri": "https://localhost:8080/"
        },
        "outputId": "da00e8cb-89d7-4ece-b8f8-48e45d2eb1dd"
      },
      "source": [
        "print(train['days_since_last_login'].unique())\n",
        "\n",
        "# replacing all negetive values with 0\n",
        "train.loc[train.days_since_last_login < 0] = 0\n",
        "test.loc[test.days_since_last_login < 0] = 0\n",
        "\n",
        "train['days_since_last_login'].unique()\n"
      ],
      "id": "7Hq0LT9iKuKu",
      "execution_count": 534,
      "outputs": [
        {
          "output_type": "stream",
          "text": [
            "[  17   16   14   11   20   23   10   19   15   13 -999    5   12    9\n",
            "   21   18    1   22    4    8    3    6    2   24    7   26   25]\n"
          ],
          "name": "stdout"
        },
        {
          "output_type": "execute_result",
          "data": {
            "text/plain": [
              "array([17, 16, 14, 11, 20, 23, 10, 19, 15, 13,  0,  5, 12,  9, 21, 18,  1,\n",
              "       22,  4,  8,  3,  6,  2, 24,  7, 26, 25])"
            ]
          },
          "metadata": {
            "tags": []
          },
          "execution_count": 534
        }
      ]
    },
    {
      "cell_type": "code",
      "metadata": {
        "colab": {
          "base_uri": "https://localhost:8080/",
          "height": 280
        },
        "id": "Oj5-6Y3yM1eO",
        "outputId": "0d00c7e3-4b8d-4888-eae9-76f5baf0d574"
      },
      "source": [
        "seaborn.violinplot(data =train, y = 'days_since_last_login',x='churn_risk_score')\n",
        "pyplot.show()"
      ],
      "id": "Oj5-6Y3yM1eO",
      "execution_count": 535,
      "outputs": [
        {
          "output_type": "display_data",
          "data": {
            "image/png": "[encoded data removed]",
            "text/plain": [
              "<Figure size 432x288 with 1 Axes>"
            ]
          },
          "metadata": {
            "tags": [],
            "needs_background": "light"
          }
        }
      ]
    },
    {
      "cell_type": "markdown",
      "metadata": {
        "id": "eRAGKpKaODQu"
      },
      "source": [
        "__conclusion__ : days_since_last_login affects churn_risk_score."
      ],
      "id": "eRAGKpKaODQu"
    },
    {
      "cell_type": "markdown",
      "metadata": {
        "id": "ejD2AqTqKuKu"
      },
      "source": [
        "#### 16. avg_time_spent\n",
        "many values are negetive. replacing them with median"
      ],
      "id": "ejD2AqTqKuKu"
    },
    {
      "cell_type": "code",
      "metadata": {
        "colab": {
          "base_uri": "https://localhost:8080/",
          "height": 595
        },
        "id": "CWtvY81gRxRT",
        "outputId": "1f2341aa-df01-4cde-95e1-927e42f1c03d"
      },
      "source": [
        "pyplot.figure(figsize = (10,10))\n",
        "seaborn.boxplot(data= train, y = 'avg_time_spent',hue ='churn_risk_score')"
      ],
      "id": "CWtvY81gRxRT",
      "execution_count": 536,
      "outputs": [
        {
          "output_type": "execute_result",
          "data": {
            "text/plain": [
              "<matplotlib.axes._subplots.AxesSubplot at 0x7f903344dfd0>"
            ]
          },
          "metadata": {
            "tags": []
          },
          "execution_count": 536
        },
        {
          "output_type": "display_data",
          "data": {
            "image/png": "[encoded data removed]",
            "text/plain": [
              "<Figure size 720x720 with 1 Axes>"
            ]
          },
          "metadata": {
            "tags": [],
            "needs_background": "light"
          }
        }
      ]
    },
    {
      "cell_type": "code",
      "metadata": {
        "id": "onG2-ycTRXH4"
      },
      "source": [
        "# imputing outliers.\n",
        "q_l = train['avg_time_spent'].quantile(0.01)\n",
        "q_h = train['avg_time_spent'].quantile(0.99)\n",
        "med = train['avg_time_spent'].median()\n",
        "\n",
        "train.loc[(train.avg_time_spent < q_l) | (train.avg_time_spent > q_h),'avg_time_spent'] = med\n",
        "\n",
        "test.loc[(test.avg_time_spent < q_l) | (test.avg_time_spent > q_h),'avg_time_spent'] = med"
      ],
      "id": "onG2-ycTRXH4",
      "execution_count": 537,
      "outputs": []
    },
    {
      "cell_type": "code",
      "metadata": {
        "colab": {
          "base_uri": "https://localhost:8080/",
          "height": 280
        },
        "id": "f1iQnJKwWAhu",
        "outputId": "5bc63cb7-c7d0-442e-9879-1124870aa743"
      },
      "source": [
        "seaborn.violinplot(data =train, y = 'avg_time_spent',x='churn_risk_score')\n",
        "pyplot.show()"
      ],
      "id": "f1iQnJKwWAhu",
      "execution_count": 538,
      "outputs": [
        {
          "output_type": "display_data",
          "data": {
            "image/png": "[encoded data removed]",
            "text/plain": [
              "<Figure size 432x288 with 1 Axes>"
            ]
          },
          "metadata": {
            "tags": [],
            "needs_background": "light"
          }
        }
      ]
    },
    {
      "cell_type": "markdown",
      "metadata": {
        "id": "vE09C02oKuKw"
      },
      "source": [
        "#### 17. avg_transaction_value\n",
        "discrete values in range 0 to 99914.05"
      ],
      "id": "vE09C02oKuKw"
    },
    {
      "cell_type": "code",
      "metadata": {
        "colab": {
          "base_uri": "https://localhost:8080/",
          "height": 280
        },
        "id": "am19JdwlWTMc",
        "outputId": "e458e1e1-fe16-4517-9414-cb9dc7428e6a"
      },
      "source": [
        "seaborn.violinplot(data =train, y = 'avg_transaction_value',x='churn_risk_score')\n",
        "pyplot.show()"
      ],
      "id": "am19JdwlWTMc",
      "execution_count": 539,
      "outputs": [
        {
          "output_type": "display_data",
          "data": {
            "image/png": "[encoded data removed]",
            "text/plain": [
              "<Figure size 432x288 with 1 Axes>"
            ]
          },
          "metadata": {
            "tags": [],
            "needs_background": "light"
          }
        }
      ]
    },
    {
      "cell_type": "markdown",
      "metadata": {
        "id": "TSUImRtIKuKw"
      },
      "source": [
        "#### 18. avg_frequency_login_days"
      ],
      "id": "TSUImRtIKuKw"
    },
    {
      "cell_type": "code",
      "metadata": {
        "tags": [],
        "id": "UPWs420mKuKw",
        "colab": {
          "base_uri": "https://localhost:8080/"
        },
        "outputId": "44c4997c-187c-4438-bd4b-92ebc5ffb1fc"
      },
      "source": [
        "train['avg_frequency_login_days'].value_counts()"
      ],
      "id": "UPWs420mKuKw",
      "execution_count": 540,
      "outputs": [
        {
          "output_type": "execute_result",
          "data": {
            "text/plain": [
              "Error                  3340\n",
              "0                      1999\n",
              "13.0                   1312\n",
              "8.0                    1289\n",
              "14.0                   1288\n",
              "                       ... \n",
              "31.627609933736142        1\n",
              "35.50632877778205         1\n",
              "-10.347267798197393       1\n",
              "29.545210737119877        1\n",
              "2.7586445823691506        1\n",
              "Name: avg_frequency_login_days, Length: 1568, dtype: int64"
            ]
          },
          "metadata": {
            "tags": []
          },
          "execution_count": 540
        }
      ]
    },
    {
      "cell_type": "code",
      "metadata": {
        "id": "A0-24YLOKuKx",
        "colab": {
          "base_uri": "https://localhost:8080/"
        },
        "outputId": "27c73d34-4204-434a-8a4c-86c5ecbfe1fd"
      },
      "source": [
        "train.loc[(train.avg_frequency_login_days == 'Error'),'avg_frequency_login_days'] =  0\n",
        "\n",
        "train['avg_frequency_login_days'] = train['avg_frequency_login_days'].astype(str).astype(float)\n",
        "\n",
        "train.loc[train.avg_frequency_login_days < 0, 'avg_frequency_login_days'] = 0\n",
        "\n",
        "print(train['avg_frequency_login_days'].value_counts())\n",
        "\n",
        "\n",
        "test.loc[(test.avg_frequency_login_days == 'Error'),'avg_frequency_login_days'] =  0\n",
        "\n",
        "test['avg_frequency_login_days'] = test['avg_frequency_login_days'].astype(str).astype(float)\n",
        "\n",
        "test.loc[test.avg_frequency_login_days < 0, 'avg_frequency_login_days'] = 0"
      ],
      "id": "A0-24YLOKuKx",
      "execution_count": 541,
      "outputs": [
        {
          "output_type": "stream",
          "text": [
            "0.000000     5984\n",
            "13.000000    1312\n",
            "8.000000     1289\n",
            "14.000000    1288\n",
            "17.000000    1286\n",
            "             ... \n",
            "33.147512       1\n",
            "53.812360       1\n",
            "47.535629       1\n",
            "1.618919        1\n",
            "0.642723        1\n",
            "Name: avg_frequency_login_days, Length: 922, dtype: int64\n"
          ],
          "name": "stdout"
        }
      ]
    },
    {
      "cell_type": "code",
      "metadata": {
        "colab": {
          "base_uri": "https://localhost:8080/",
          "height": 272
        },
        "id": "aJaRAlV7bBKm",
        "outputId": "d54865cf-d8cf-4194-a21b-f5216613cd1f"
      },
      "source": [
        "seaborn.boxplot(data=train, y = 'avg_frequency_login_days')\n",
        "pyplot.show()\n",
        "q_h = train['avg_frequency_login_days'].quantile(0.99)\n",
        "med = train['avg_frequency_login_days'].median()\n",
        "print(med)\n",
        "train.loc[train.avg_frequency_login_days > q_h, 'avg_frequency_login_days'] = med\n",
        "test.loc[test.avg_frequency_login_days > q_h, 'avg_frequency_login_days'] = med"
      ],
      "id": "aJaRAlV7bBKm",
      "execution_count": 542,
      "outputs": [
        {
          "output_type": "display_data",
          "data": {
            "image/png": "[encoded data removed]",
            "text/plain": [
              "<Figure size 432x288 with 1 Axes>"
            ]
          },
          "metadata": {
            "tags": [],
            "needs_background": "light"
          }
        },
        {
          "output_type": "stream",
          "text": [
            "14.0\n"
          ],
          "name": "stdout"
        }
      ]
    },
    {
      "cell_type": "code",
      "metadata": {
        "colab": {
          "base_uri": "https://localhost:8080/",
          "height": 280
        },
        "id": "ZEucOF4tfIQ3",
        "outputId": "7e94e0fc-e80f-4580-e852-3e3bd295328c"
      },
      "source": [
        "seaborn.violinplot(data =train, y = 'avg_frequency_login_days',x='churn_risk_score')\n",
        "pyplot.show()"
      ],
      "id": "ZEucOF4tfIQ3",
      "execution_count": 543,
      "outputs": [
        {
          "output_type": "display_data",
          "data": {
            "image/png": "[encoded data removed]",
            "text/plain": [
              "<Figure size 432x288 with 1 Axes>"
            ]
          },
          "metadata": {
            "tags": [],
            "needs_background": "light"
          }
        }
      ]
    },
    {
      "cell_type": "markdown",
      "metadata": {
        "id": "9FsUimMDiFeR"
      },
      "source": [
        "__conclusion__ : avg_frequency_login_days affects target."
      ],
      "id": "9FsUimMDiFeR"
    },
    {
      "cell_type": "markdown",
      "metadata": {
        "id": "5ixlJ8ZPKuKy"
      },
      "source": [
        "#### 19. points_in_wallet"
      ],
      "id": "5ixlJ8ZPKuKy"
    },
    {
      "cell_type": "code",
      "metadata": {
        "id": "bq4y1FtdKuKy",
        "colab": {
          "base_uri": "https://localhost:8080/"
        },
        "outputId": "285ec616-3fde-4916-a12d-afe4fa063a5e"
      },
      "source": [
        "print(train['points_in_wallet'].isna().sum())\n",
        "train['points_in_wallet'].fillna(train['points_in_wallet'].mean(),inplace = True)\n",
        "print(train['points_in_wallet'].isna().sum())\n",
        "\n",
        "test['points_in_wallet'].fillna(test['points_in_wallet'].mean(),inplace = True)"
      ],
      "id": "bq4y1FtdKuKy",
      "execution_count": 544,
      "outputs": [
        {
          "output_type": "stream",
          "text": [
            "3276\n",
            "0\n"
          ],
          "name": "stdout"
        }
      ]
    },
    {
      "cell_type": "code",
      "metadata": {
        "colab": {
          "base_uri": "https://localhost:8080/",
          "height": 269
        },
        "id": "o6is25lNiRXt",
        "outputId": "df28e48d-5ce2-4c22-fa48-51e9cc7e0810"
      },
      "source": [
        "seaborn.boxplot(data =train, y = 'points_in_wallet')\n",
        "pyplot.show()\n",
        "q_h = train['points_in_wallet'].quantile(0.99)\n",
        "q_l = train['points_in_wallet'].quantile(0.01)\n",
        "med = train['points_in_wallet'].median()\n",
        "print(med)\n",
        "train.loc[(train.points_in_wallet > q_h) | (train.points_in_wallet < q_l), 'points_in_wallet'] = med\n",
        "test.loc[(test.points_in_wallet > q_h) | (test.points_in_wallet < q_l), 'points_in_wallet'] = med"
      ],
      "id": "o6is25lNiRXt",
      "execution_count": 545,
      "outputs": [
        {
          "output_type": "display_data",
          "data": {
            "image/png": "[encoded data removed]",
            "text/plain": [
              "<Figure size 432x288 with 1 Axes>"
            ]
          },
          "metadata": {
            "tags": [],
            "needs_background": "light"
          }
        },
        {
          "output_type": "stream",
          "text": [
            "670.885\n"
          ],
          "name": "stdout"
        }
      ]
    },
    {
      "cell_type": "code",
      "metadata": {
        "colab": {
          "base_uri": "https://localhost:8080/",
          "height": 280
        },
        "id": "Low5iZ7vnDlN",
        "outputId": "d03085aa-e6b7-4237-9d5b-dc689192df70"
      },
      "source": [
        "seaborn.violinplot(data =train, y = 'points_in_wallet',x='churn_risk_score')\n",
        "pyplot.show()"
      ],
      "id": "Low5iZ7vnDlN",
      "execution_count": 546,
      "outputs": [
        {
          "output_type": "display_data",
          "data": {
            "image/png": "[encoded data removed]",
            "text/plain": [
              "<Figure size 432x288 with 1 Axes>"
            ]
          },
          "metadata": {
            "tags": [],
            "needs_background": "light"
          }
        }
      ]
    },
    {
      "cell_type": "markdown",
      "metadata": {
        "id": "Ma2c3-mopVha"
      },
      "source": [
        "__conclusion__ : points_in_wallet affects target."
      ],
      "id": "Ma2c3-mopVha"
    },
    {
      "cell_type": "markdown",
      "metadata": {
        "id": "Z13xg5IIKuKz"
      },
      "source": [
        "#### 20. used_special_discount"
      ],
      "id": "Z13xg5IIKuKz"
    },
    {
      "cell_type": "code",
      "metadata": {
        "id": "eD_b6QnSKuKz",
        "colab": {
          "base_uri": "https://localhost:8080/"
        },
        "outputId": "07824891-1a1b-40d6-db3c-54f1a38bced4"
      },
      "source": [
        "print(train['used_special_discount'].value_counts())\n",
        "train['used_special_discount'].replace(0,'No', inplace = True)\n",
        "print(train['used_special_discount'].value_counts())\n",
        "\n",
        "test['used_special_discount'].replace(0,'No', inplace = True)"
      ],
      "id": "eD_b6QnSKuKz",
      "execution_count": 547,
      "outputs": [
        {
          "output_type": "stream",
          "text": [
            "Yes    19238\n",
            "No     15755\n",
            "0       1999\n",
            "Name: used_special_discount, dtype: int64\n",
            "Yes    19238\n",
            "No     17754\n",
            "Name: used_special_discount, dtype: int64\n"
          ],
          "name": "stdout"
        }
      ]
    },
    {
      "cell_type": "code",
      "metadata": {
        "colab": {
          "base_uri": "https://localhost:8080/",
          "height": 305
        },
        "id": "iri7ue9ppqe3",
        "outputId": "042ed803-4e47-4829-8d63-5547e6636c63"
      },
      "source": [
        "pyplot.xticks(rotation = 75)\n",
        "seaborn.countplot(data = train, x = 'used_special_discount', hue ='churn_risk_score')"
      ],
      "id": "iri7ue9ppqe3",
      "execution_count": 548,
      "outputs": [
        {
          "output_type": "execute_result",
          "data": {
            "text/plain": [
              "<matplotlib.axes._subplots.AxesSubplot at 0x7f9034348610>"
            ]
          },
          "metadata": {
            "tags": []
          },
          "execution_count": 548
        },
        {
          "output_type": "display_data",
          "data": {
            "image/png": "[encoded data removed]",
            "text/plain": [
              "<Figure size 432x288 with 1 Axes>"
            ]
          },
          "metadata": {
            "tags": [],
            "needs_background": "light"
          }
        }
      ]
    },
    {
      "cell_type": "markdown",
      "metadata": {
        "id": "kSsf8M5Lqa29"
      },
      "source": [
        "__conclusion__: used_special_discount affects target slightly"
      ],
      "id": "kSsf8M5Lqa29"
    },
    {
      "cell_type": "markdown",
      "metadata": {
        "id": "mBaLyI8nKuK0"
      },
      "source": [
        "#### 21. offer_application_preference"
      ],
      "id": "mBaLyI8nKuK0"
    },
    {
      "cell_type": "code",
      "metadata": {
        "id": "wHt4hBBRKuK0",
        "colab": {
          "base_uri": "https://localhost:8080/"
        },
        "outputId": "14957d6f-1c28-4138-c306-26654a651711"
      },
      "source": [
        "print(train['offer_application_preference'].value_counts())\n",
        "train['offer_application_preference'].replace(0,'No',inplace = True)\n",
        "print(train['offer_application_preference'].value_counts())\n",
        "\n",
        "test['offer_application_preference'].replace(0,'No',inplace = True)"
      ],
      "id": "wHt4hBBRKuK0",
      "execution_count": 549,
      "outputs": [
        {
          "output_type": "stream",
          "text": [
            "Yes    19330\n",
            "No     15663\n",
            "0       1999\n",
            "Name: offer_application_preference, dtype: int64\n",
            "Yes    19330\n",
            "No     17662\n",
            "Name: offer_application_preference, dtype: int64\n"
          ],
          "name": "stdout"
        }
      ]
    },
    {
      "cell_type": "code",
      "metadata": {
        "colab": {
          "base_uri": "https://localhost:8080/",
          "height": 305
        },
        "id": "-ipY49vvrPWm",
        "outputId": "67388d96-367b-45a5-b1b9-05cf9682009c"
      },
      "source": [
        "pyplot.xticks(rotation = 75)\n",
        "seaborn.countplot(data = train, x = 'offer_application_preference', hue ='churn_risk_score')"
      ],
      "id": "-ipY49vvrPWm",
      "execution_count": 550,
      "outputs": [
        {
          "output_type": "execute_result",
          "data": {
            "text/plain": [
              "<matplotlib.axes._subplots.AxesSubplot at 0x7f903301ae10>"
            ]
          },
          "metadata": {
            "tags": []
          },
          "execution_count": 550
        },
        {
          "output_type": "display_data",
          "data": {
            "image/png": "[encoded data removed]",
            "text/plain": [
              "<Figure size 432x288 with 1 Axes>"
            ]
          },
          "metadata": {
            "tags": [],
            "needs_background": "light"
          }
        }
      ]
    },
    {
      "cell_type": "markdown",
      "metadata": {
        "id": "1giyhTFUrYWi"
      },
      "source": [
        "__conclusion__ : offer_application_preference affects slightly"
      ],
      "id": "1giyhTFUrYWi"
    },
    {
      "cell_type": "markdown",
      "metadata": {
        "id": "5ylG4nTmKuK1"
      },
      "source": [
        "#### 22. past_complaint"
      ],
      "id": "5ylG4nTmKuK1"
    },
    {
      "cell_type": "code",
      "metadata": {
        "id": "0wEXYnxMKuK1",
        "colab": {
          "base_uri": "https://localhost:8080/"
        },
        "outputId": "332af7ac-a11b-421d-9055-3de8628769a8"
      },
      "source": [
        "print(train['past_complaint'].value_counts())\n",
        "train['past_complaint'].replace(0,'No',inplace = True)\n",
        "print(train['past_complaint'].value_counts())\n",
        "\n",
        "test['past_complaint'].replace(0,'No',inplace = True)"
      ],
      "id": "0wEXYnxMKuK1",
      "execution_count": 551,
      "outputs": [
        {
          "output_type": "stream",
          "text": [
            "No     17615\n",
            "Yes    17378\n",
            "0       1999\n",
            "Name: past_complaint, dtype: int64\n",
            "No     19614\n",
            "Yes    17378\n",
            "Name: past_complaint, dtype: int64\n"
          ],
          "name": "stdout"
        }
      ]
    },
    {
      "cell_type": "code",
      "metadata": {
        "colab": {
          "base_uri": "https://localhost:8080/",
          "height": 305
        },
        "id": "XjcOAmn_r7Ny",
        "outputId": "7645bc5f-465d-45e9-c907-cbbbaa33ea84"
      },
      "source": [
        "pyplot.xticks(rotation = 75)\n",
        "seaborn.countplot(data = train, x = 'past_complaint', hue ='churn_risk_score')"
      ],
      "id": "XjcOAmn_r7Ny",
      "execution_count": 552,
      "outputs": [
        {
          "output_type": "execute_result",
          "data": {
            "text/plain": [
              "<matplotlib.axes._subplots.AxesSubplot at 0x7f9033462f90>"
            ]
          },
          "metadata": {
            "tags": []
          },
          "execution_count": 552
        },
        {
          "output_type": "display_data",
          "data": {
            "image/png": "[encoded data removed]",
            "text/plain": [
              "<Figure size 432x288 with 1 Axes>"
            ]
          },
          "metadata": {
            "tags": [],
            "needs_background": "light"
          }
        }
      ]
    },
    {
      "cell_type": "markdown",
      "metadata": {
        "id": "OBckWzFBsCGz"
      },
      "source": [
        "__conclusion__ : past_complaints affect slightly."
      ],
      "id": "OBckWzFBsCGz"
    },
    {
      "cell_type": "markdown",
      "metadata": {
        "id": "bt5kaQZWKuK2"
      },
      "source": [
        "#### 23. complaint_status"
      ],
      "id": "bt5kaQZWKuK2"
    },
    {
      "cell_type": "code",
      "metadata": {
        "id": "pZTWJzsPKuK3",
        "colab": {
          "base_uri": "https://localhost:8080/"
        },
        "outputId": "3d7dc5fa-aaa3-4329-9e3c-67df49d8e241"
      },
      "source": [
        "print(train['complaint_status'].value_counts())\n",
        "train['complaint_status'].replace(0,'No Information Available',inplace = True)\n",
        "print(train['complaint_status'].value_counts())\n",
        "\n",
        "test['complaint_status'].replace(0,'No Information Available',inplace = True)"
      ],
      "id": "pZTWJzsPKuK3",
      "execution_count": 553,
      "outputs": [
        {
          "output_type": "stream",
          "text": [
            "Not Applicable              17615\n",
            "Solved                       4401\n",
            "Unsolved                     4378\n",
            "Solved in Follow-up          4328\n",
            "No Information Available     4271\n",
            "0                            1999\n",
            "Name: complaint_status, dtype: int64\n",
            "Not Applicable              17615\n",
            "No Information Available     6270\n",
            "Solved                       4401\n",
            "Unsolved                     4378\n",
            "Solved in Follow-up          4328\n",
            "Name: complaint_status, dtype: int64\n"
          ],
          "name": "stdout"
        }
      ]
    },
    {
      "cell_type": "code",
      "metadata": {
        "colab": {
          "base_uri": "https://localhost:8080/",
          "height": 409
        },
        "id": "kZgd_i-PsPEj",
        "outputId": "384ddf39-d721-430b-c139-a5b87c1bd288"
      },
      "source": [
        "pyplot.xticks(rotation = 75)\n",
        "seaborn.countplot(data = train, x = 'complaint_status', hue ='churn_risk_score')"
      ],
      "id": "kZgd_i-PsPEj",
      "execution_count": 554,
      "outputs": [
        {
          "output_type": "execute_result",
          "data": {
            "text/plain": [
              "<matplotlib.axes._subplots.AxesSubplot at 0x7f9021fcf290>"
            ]
          },
          "metadata": {
            "tags": []
          },
          "execution_count": 554
        },
        {
          "output_type": "display_data",
          "data": {
            "image/png": "[encoded data removed]",
            "text/plain": [
              "<Figure size 432x288 with 1 Axes>"
            ]
          },
          "metadata": {
            "tags": [],
            "needs_background": "light"
          }
        }
      ]
    },
    {
      "cell_type": "markdown",
      "metadata": {
        "id": "CkEoSuKkscjH"
      },
      "source": [
        "__conclusion__ : complaint_status affects slightly."
      ],
      "id": "CkEoSuKkscjH"
    },
    {
      "cell_type": "markdown",
      "metadata": {
        "id": "ctlyOb-qKuK3"
      },
      "source": [
        "#### 24. feedback"
      ],
      "id": "ctlyOb-qKuK3"
    },
    {
      "cell_type": "code",
      "metadata": {
        "id": "Nb6Y1T_pKuK4",
        "colab": {
          "base_uri": "https://localhost:8080/"
        },
        "outputId": "02cb12f2-1ef9-4e6b-aa6a-c32091e67194"
      },
      "source": [
        "print(train['feedback'].value_counts())\n",
        "train['feedback'].replace(0,'No reason specified', inplace = True)\n",
        "\n",
        "test['feedback'].replace(0,'No reason specified', inplace = True)"
      ],
      "id": "Nb6Y1T_pKuK4",
      "execution_count": 555,
      "outputs": [
        {
          "output_type": "stream",
          "text": [
            "Poor Product Quality        6028\n",
            "Poor Website                5954\n",
            "Too many ads                5929\n",
            "No reason specified         5924\n",
            "Poor Customer Service       5879\n",
            "0                           1999\n",
            "Reasonable Price            1344\n",
            "User Friendly Website       1331\n",
            "Products always in Stock    1313\n",
            "Quality Customer Care       1291\n",
            "Name: feedback, dtype: int64\n"
          ],
          "name": "stdout"
        }
      ]
    },
    {
      "cell_type": "code",
      "metadata": {
        "colab": {
          "base_uri": "https://localhost:8080/",
          "height": 408
        },
        "id": "DhJk3u5RtnhD",
        "outputId": "7989669b-1ad8-4622-809a-3913322a7a2b"
      },
      "source": [
        "pyplot.xticks(rotation = 75)\n",
        "seaborn.countplot(data = train, x = 'feedback', hue ='churn_risk_score')"
      ],
      "id": "DhJk3u5RtnhD",
      "execution_count": 556,
      "outputs": [
        {
          "output_type": "execute_result",
          "data": {
            "text/plain": [
              "<matplotlib.axes._subplots.AxesSubplot at 0x7f90397dc1d0>"
            ]
          },
          "metadata": {
            "tags": []
          },
          "execution_count": 556
        },
        {
          "output_type": "display_data",
          "data": {
            "image/png": "[encoded data removed]",
            "text/plain": [
              "<Figure size 432x288 with 1 Axes>"
            ]
          },
          "metadata": {
            "tags": [],
            "needs_background": "light"
          }
        }
      ]
    },
    {
      "cell_type": "markdown",
      "metadata": {
        "id": "zVBbQ1-itwRv"
      },
      "source": [
        "__conclusion__: feedback majorly affects target."
      ],
      "id": "zVBbQ1-itwRv"
    },
    {
      "cell_type": "markdown",
      "metadata": {
        "id": "pWoEINZmzns4"
      },
      "source": [
        "## Other Visualizations\n",
        "### all Box Plots"
      ],
      "id": "pWoEINZmzns4"
    },
    {
      "cell_type": "code",
      "metadata": {
        "colab": {
          "base_uri": "https://localhost:8080/",
          "height": 0
        },
        "id": "vCt0_t1wzm6n",
        "outputId": "6f70f59a-82ef-4914-9935-5966a0b879a3"
      },
      "source": [
        "cols = ['age', 'days_since_last_login',\t'avg_time_spent', 'avg_transaction_value','avg_frequency_login_days','points_in_wallet', 'churn_risk_score']\n",
        "train_numer = pandas.DataFrame(data = train, columns = cols)\n",
        "\n",
        "names = train_numer.columns;\n",
        "ncols = len(names)\n",
        "fig1 = pyplot.figure(figsize = (45,20))\n",
        "axes = fig1.subplots(2, int(ncols/2))\n",
        "\n",
        "for name, ax in zip(names, axes.flatten()):\n",
        "    seaborn.boxplot(y=name, data=train_numer, x = 'churn_risk_score', ax=ax)\n",
        "    \n",
        "pyplot.show()"
      ],
      "id": "vCt0_t1wzm6n",
      "execution_count": 557,
      "outputs": [
        {
          "output_type": "display_data",
          "data": {
            "image/png": "[encoded data removed]",
            "text/plain": [
              "<Figure size 3240x1440 with 6 Axes>"
            ]
          },
          "metadata": {
            "tags": [],
            "needs_background": "light"
          }
        }
      ]
    },
    {
      "cell_type": "markdown",
      "metadata": {
        "id": "-nRR5XuGIL6h"
      },
      "source": [
        "## Encoding Categorical data"
      ],
      "id": "-nRR5XuGIL6h"
    },
    {
      "cell_type": "code",
      "metadata": {
        "colab": {
          "base_uri": "https://localhost:8080/",
          "height": 0
        },
        "id": "l9lRbumAIRDP",
        "outputId": "711c14b6-63c5-4e93-9caf-ce2cd31e53d7"
      },
      "source": [
        "cols = ['gender', 'region_category',\n",
        "       'membership_category', 'joined_through_referral',\n",
        "       'preferred_offer_types', 'medium_of_operation', 'internet_option',\n",
        "      'used_special_discount',\n",
        "       'offer_application_preference', 'past_complaint', 'complaint_status',\n",
        "       'feedback']\n",
        "train_dum = pandas.get_dummies(data = train, columns = cols, drop_first=True)\n",
        "test_dum = pandas.get_dummies(data = test, columns = cols, drop_first=True)\n",
        "train_dum"
      ],
      "id": "l9lRbumAIRDP",
      "execution_count": 558,
      "outputs": [
        {
          "output_type": "execute_result",
          "data": {
            "text/html": [
              "<div>\n",
              "<style scoped>\n",
              "    .dataframe tbody tr th:only-of-type {\n",
              "        vertical-align: middle;\n",
              "    }\n",
              "\n",
              "    .dataframe tbody tr th {\n",
              "        vertical-align: top;\n",
              "    }\n",
              "\n",
              "    .dataframe thead th {\n",
              "        text-align: right;\n",
              "    }\n",
              "</style>\n",
              "<table border=\"1\" class=\"dataframe\">\n",
              "  <thead>\n",
              "    <tr style=\"text-align: right;\">\n",
              "      <th></th>\n",
              "      <th>customer_id</th>\n",
              "      <th>age</th>\n",
              "      <th>days_since_last_login</th>\n",
              "      <th>avg_time_spent</th>\n",
              "      <th>avg_transaction_value</th>\n",
              "      <th>avg_frequency_login_days</th>\n",
              "      <th>points_in_wallet</th>\n",
              "      <th>churn_risk_score</th>\n",
              "      <th>gender_F</th>\n",
              "      <th>gender_M</th>\n",
              "      <th>region_category_City</th>\n",
              "      <th>region_category_Town</th>\n",
              "      <th>region_category_Village</th>\n",
              "      <th>membership_category_Basic Membership</th>\n",
              "      <th>membership_category_Gold Membership</th>\n",
              "      <th>membership_category_No Membership</th>\n",
              "      <th>membership_category_Platinum Membership</th>\n",
              "      <th>membership_category_Premium Membership</th>\n",
              "      <th>membership_category_Silver Membership</th>\n",
              "      <th>joined_through_referral_No</th>\n",
              "      <th>joined_through_referral_Yes</th>\n",
              "      <th>preferred_offer_types_Credit/Debit Card Offers</th>\n",
              "      <th>preferred_offer_types_Gift Vouchers/Coupons</th>\n",
              "      <th>preferred_offer_types_Without Offers</th>\n",
              "      <th>medium_of_operation_Both</th>\n",
              "      <th>medium_of_operation_Desktop</th>\n",
              "      <th>medium_of_operation_Smartphone</th>\n",
              "      <th>internet_option_Fiber_Optic</th>\n",
              "      <th>internet_option_Mobile_Data</th>\n",
              "      <th>internet_option_Wi-Fi</th>\n",
              "      <th>used_special_discount_Yes</th>\n",
              "      <th>offer_application_preference_Yes</th>\n",
              "      <th>past_complaint_Yes</th>\n",
              "      <th>complaint_status_Not Applicable</th>\n",
              "      <th>complaint_status_Solved</th>\n",
              "      <th>complaint_status_Solved in Follow-up</th>\n",
              "      <th>complaint_status_Unsolved</th>\n",
              "      <th>feedback_Poor Customer Service</th>\n",
              "      <th>feedback_Poor Product Quality</th>\n",
              "      <th>feedback_Poor Website</th>\n",
              "      <th>feedback_Products always in Stock</th>\n",
              "      <th>feedback_Quality Customer Care</th>\n",
              "      <th>feedback_Reasonable Price</th>\n",
              "      <th>feedback_Too many ads</th>\n",
              "      <th>feedback_User Friendly Website</th>\n",
              "    </tr>\n",
              "  </thead>\n",
              "  <tbody>\n",
              "    <tr>\n",
              "      <th>0</th>\n",
              "      <td>fffe4300490044003600300030003800</td>\n",
              "      <td>18</td>\n",
              "      <td>17</td>\n",
              "      <td>300.630000</td>\n",
              "      <td>53005.25</td>\n",
              "      <td>17.0</td>\n",
              "      <td>781.750000</td>\n",
              "      <td>2</td>\n",
              "      <td>1</td>\n",
              "      <td>0</td>\n",
              "      <td>0</td>\n",
              "      <td>0</td>\n",
              "      <td>1</td>\n",
              "      <td>0</td>\n",
              "      <td>0</td>\n",
              "      <td>0</td>\n",
              "      <td>1</td>\n",
              "      <td>0</td>\n",
              "      <td>0</td>\n",
              "      <td>1</td>\n",
              "      <td>0</td>\n",
              "      <td>0</td>\n",
              "      <td>1</td>\n",
              "      <td>0</td>\n",
              "      <td>0</td>\n",
              "      <td>1</td>\n",
              "      <td>0</td>\n",
              "      <td>0</td>\n",
              "      <td>0</td>\n",
              "      <td>1</td>\n",
              "      <td>1</td>\n",
              "      <td>1</td>\n",
              "      <td>0</td>\n",
              "      <td>1</td>\n",
              "      <td>0</td>\n",
              "      <td>0</td>\n",
              "      <td>0</td>\n",
              "      <td>0</td>\n",
              "      <td>0</td>\n",
              "      <td>0</td>\n",
              "      <td>1</td>\n",
              "      <td>0</td>\n",
              "      <td>0</td>\n",
              "      <td>0</td>\n",
              "      <td>0</td>\n",
              "    </tr>\n",
              "    <tr>\n",
              "      <th>1</th>\n",
              "      <td>fffe43004900440032003100300035003700</td>\n",
              "      <td>32</td>\n",
              "      <td>16</td>\n",
              "      <td>306.340000</td>\n",
              "      <td>12838.38</td>\n",
              "      <td>10.0</td>\n",
              "      <td>646.551539</td>\n",
              "      <td>1</td>\n",
              "      <td>1</td>\n",
              "      <td>0</td>\n",
              "      <td>1</td>\n",
              "      <td>0</td>\n",
              "      <td>0</td>\n",
              "      <td>0</td>\n",
              "      <td>0</td>\n",
              "      <td>0</td>\n",
              "      <td>0</td>\n",
              "      <td>1</td>\n",
              "      <td>0</td>\n",
              "      <td>0</td>\n",
              "      <td>1</td>\n",
              "      <td>0</td>\n",
              "      <td>1</td>\n",
              "      <td>0</td>\n",
              "      <td>0</td>\n",
              "      <td>1</td>\n",
              "      <td>0</td>\n",
              "      <td>0</td>\n",
              "      <td>1</td>\n",
              "      <td>0</td>\n",
              "      <td>1</td>\n",
              "      <td>0</td>\n",
              "      <td>1</td>\n",
              "      <td>0</td>\n",
              "      <td>1</td>\n",
              "      <td>0</td>\n",
              "      <td>0</td>\n",
              "      <td>0</td>\n",
              "      <td>0</td>\n",
              "      <td>0</td>\n",
              "      <td>0</td>\n",
              "      <td>1</td>\n",
              "      <td>0</td>\n",
              "      <td>0</td>\n",
              "      <td>0</td>\n",
              "    </tr>\n",
              "    <tr>\n",
              "      <th>2</th>\n",
              "      <td>fffe4300490044003100390032003600</td>\n",
              "      <td>44</td>\n",
              "      <td>14</td>\n",
              "      <td>516.160000</td>\n",
              "      <td>21027.00</td>\n",
              "      <td>22.0</td>\n",
              "      <td>500.690000</td>\n",
              "      <td>5</td>\n",
              "      <td>1</td>\n",
              "      <td>0</td>\n",
              "      <td>0</td>\n",
              "      <td>1</td>\n",
              "      <td>0</td>\n",
              "      <td>0</td>\n",
              "      <td>0</td>\n",
              "      <td>1</td>\n",
              "      <td>0</td>\n",
              "      <td>0</td>\n",
              "      <td>0</td>\n",
              "      <td>0</td>\n",
              "      <td>1</td>\n",
              "      <td>0</td>\n",
              "      <td>1</td>\n",
              "      <td>0</td>\n",
              "      <td>0</td>\n",
              "      <td>1</td>\n",
              "      <td>0</td>\n",
              "      <td>0</td>\n",
              "      <td>0</td>\n",
              "      <td>1</td>\n",
              "      <td>0</td>\n",
              "      <td>1</td>\n",
              "      <td>1</td>\n",
              "      <td>0</td>\n",
              "      <td>0</td>\n",
              "      <td>1</td>\n",
              "      <td>0</td>\n",
              "      <td>0</td>\n",
              "      <td>0</td>\n",
              "      <td>1</td>\n",
              "      <td>0</td>\n",
              "      <td>0</td>\n",
              "      <td>0</td>\n",
              "      <td>0</td>\n",
              "      <td>0</td>\n",
              "    </tr>\n",
              "    <tr>\n",
              "      <th>3</th>\n",
              "      <td>fffe43004900440036003000330031003600</td>\n",
              "      <td>37</td>\n",
              "      <td>11</td>\n",
              "      <td>53.270000</td>\n",
              "      <td>25239.56</td>\n",
              "      <td>6.0</td>\n",
              "      <td>567.660000</td>\n",
              "      <td>5</td>\n",
              "      <td>0</td>\n",
              "      <td>1</td>\n",
              "      <td>1</td>\n",
              "      <td>0</td>\n",
              "      <td>0</td>\n",
              "      <td>0</td>\n",
              "      <td>0</td>\n",
              "      <td>1</td>\n",
              "      <td>0</td>\n",
              "      <td>0</td>\n",
              "      <td>0</td>\n",
              "      <td>0</td>\n",
              "      <td>1</td>\n",
              "      <td>0</td>\n",
              "      <td>1</td>\n",
              "      <td>0</td>\n",
              "      <td>0</td>\n",
              "      <td>1</td>\n",
              "      <td>0</td>\n",
              "      <td>0</td>\n",
              "      <td>1</td>\n",
              "      <td>0</td>\n",
              "      <td>0</td>\n",
              "      <td>1</td>\n",
              "      <td>1</td>\n",
              "      <td>0</td>\n",
              "      <td>0</td>\n",
              "      <td>0</td>\n",
              "      <td>1</td>\n",
              "      <td>0</td>\n",
              "      <td>0</td>\n",
              "      <td>1</td>\n",
              "      <td>0</td>\n",
              "      <td>0</td>\n",
              "      <td>0</td>\n",
              "      <td>0</td>\n",
              "      <td>0</td>\n",
              "    </tr>\n",
              "    <tr>\n",
              "      <th>4</th>\n",
              "      <td>fffe43004900440031003900350030003600</td>\n",
              "      <td>31</td>\n",
              "      <td>20</td>\n",
              "      <td>113.130000</td>\n",
              "      <td>24483.66</td>\n",
              "      <td>16.0</td>\n",
              "      <td>663.060000</td>\n",
              "      <td>5</td>\n",
              "      <td>1</td>\n",
              "      <td>0</td>\n",
              "      <td>1</td>\n",
              "      <td>0</td>\n",
              "      <td>0</td>\n",
              "      <td>0</td>\n",
              "      <td>0</td>\n",
              "      <td>1</td>\n",
              "      <td>0</td>\n",
              "      <td>0</td>\n",
              "      <td>0</td>\n",
              "      <td>1</td>\n",
              "      <td>0</td>\n",
              "      <td>1</td>\n",
              "      <td>0</td>\n",
              "      <td>0</td>\n",
              "      <td>0</td>\n",
              "      <td>0</td>\n",
              "      <td>1</td>\n",
              "      <td>0</td>\n",
              "      <td>1</td>\n",
              "      <td>0</td>\n",
              "      <td>0</td>\n",
              "      <td>1</td>\n",
              "      <td>1</td>\n",
              "      <td>0</td>\n",
              "      <td>1</td>\n",
              "      <td>0</td>\n",
              "      <td>0</td>\n",
              "      <td>0</td>\n",
              "      <td>0</td>\n",
              "      <td>1</td>\n",
              "      <td>0</td>\n",
              "      <td>0</td>\n",
              "      <td>0</td>\n",
              "      <td>0</td>\n",
              "      <td>0</td>\n",
              "    </tr>\n",
              "    <tr>\n",
              "      <th>...</th>\n",
              "      <td>...</td>\n",
              "      <td>...</td>\n",
              "      <td>...</td>\n",
              "      <td>...</td>\n",
              "      <td>...</td>\n",
              "      <td>...</td>\n",
              "      <td>...</td>\n",
              "      <td>...</td>\n",
              "      <td>...</td>\n",
              "      <td>...</td>\n",
              "      <td>...</td>\n",
              "      <td>...</td>\n",
              "      <td>...</td>\n",
              "      <td>...</td>\n",
              "      <td>...</td>\n",
              "      <td>...</td>\n",
              "      <td>...</td>\n",
              "      <td>...</td>\n",
              "      <td>...</td>\n",
              "      <td>...</td>\n",
              "      <td>...</td>\n",
              "      <td>...</td>\n",
              "      <td>...</td>\n",
              "      <td>...</td>\n",
              "      <td>...</td>\n",
              "      <td>...</td>\n",
              "      <td>...</td>\n",
              "      <td>...</td>\n",
              "      <td>...</td>\n",
              "      <td>...</td>\n",
              "      <td>...</td>\n",
              "      <td>...</td>\n",
              "      <td>...</td>\n",
              "      <td>...</td>\n",
              "      <td>...</td>\n",
              "      <td>...</td>\n",
              "      <td>...</td>\n",
              "      <td>...</td>\n",
              "      <td>...</td>\n",
              "      <td>...</td>\n",
              "      <td>...</td>\n",
              "      <td>...</td>\n",
              "      <td>...</td>\n",
              "      <td>...</td>\n",
              "      <td>...</td>\n",
              "    </tr>\n",
              "    <tr>\n",
              "      <th>36987</th>\n",
              "      <td>fffe43004900440035003500390036003100</td>\n",
              "      <td>46</td>\n",
              "      <td>2</td>\n",
              "      <td>-650.682759</td>\n",
              "      <td>27277.68</td>\n",
              "      <td>6.0</td>\n",
              "      <td>639.510000</td>\n",
              "      <td>4</td>\n",
              "      <td>1</td>\n",
              "      <td>0</td>\n",
              "      <td>0</td>\n",
              "      <td>1</td>\n",
              "      <td>0</td>\n",
              "      <td>1</td>\n",
              "      <td>0</td>\n",
              "      <td>0</td>\n",
              "      <td>0</td>\n",
              "      <td>0</td>\n",
              "      <td>0</td>\n",
              "      <td>1</td>\n",
              "      <td>0</td>\n",
              "      <td>1</td>\n",
              "      <td>0</td>\n",
              "      <td>0</td>\n",
              "      <td>0</td>\n",
              "      <td>1</td>\n",
              "      <td>0</td>\n",
              "      <td>0</td>\n",
              "      <td>0</td>\n",
              "      <td>1</td>\n",
              "      <td>0</td>\n",
              "      <td>1</td>\n",
              "      <td>1</td>\n",
              "      <td>0</td>\n",
              "      <td>0</td>\n",
              "      <td>0</td>\n",
              "      <td>0</td>\n",
              "      <td>0</td>\n",
              "      <td>0</td>\n",
              "      <td>0</td>\n",
              "      <td>0</td>\n",
              "      <td>0</td>\n",
              "      <td>0</td>\n",
              "      <td>0</td>\n",
              "      <td>0</td>\n",
              "    </tr>\n",
              "    <tr>\n",
              "      <th>36988</th>\n",
              "      <td>fffe43004900440033003500380036003600</td>\n",
              "      <td>29</td>\n",
              "      <td>13</td>\n",
              "      <td>-638.123421</td>\n",
              "      <td>11069.71</td>\n",
              "      <td>28.0</td>\n",
              "      <td>527.990000</td>\n",
              "      <td>5</td>\n",
              "      <td>1</td>\n",
              "      <td>0</td>\n",
              "      <td>0</td>\n",
              "      <td>1</td>\n",
              "      <td>0</td>\n",
              "      <td>1</td>\n",
              "      <td>0</td>\n",
              "      <td>0</td>\n",
              "      <td>0</td>\n",
              "      <td>0</td>\n",
              "      <td>0</td>\n",
              "      <td>1</td>\n",
              "      <td>0</td>\n",
              "      <td>0</td>\n",
              "      <td>0</td>\n",
              "      <td>1</td>\n",
              "      <td>0</td>\n",
              "      <td>0</td>\n",
              "      <td>1</td>\n",
              "      <td>0</td>\n",
              "      <td>0</td>\n",
              "      <td>1</td>\n",
              "      <td>1</td>\n",
              "      <td>0</td>\n",
              "      <td>0</td>\n",
              "      <td>1</td>\n",
              "      <td>0</td>\n",
              "      <td>0</td>\n",
              "      <td>0</td>\n",
              "      <td>1</td>\n",
              "      <td>0</td>\n",
              "      <td>0</td>\n",
              "      <td>0</td>\n",
              "      <td>0</td>\n",
              "      <td>0</td>\n",
              "      <td>0</td>\n",
              "      <td>0</td>\n",
              "    </tr>\n",
              "    <tr>\n",
              "      <th>36989</th>\n",
              "      <td>fffe4300490044003500330034003100</td>\n",
              "      <td>23</td>\n",
              "      <td>12</td>\n",
              "      <td>154.940000</td>\n",
              "      <td>38127.56</td>\n",
              "      <td>0.0</td>\n",
              "      <td>680.470000</td>\n",
              "      <td>4</td>\n",
              "      <td>1</td>\n",
              "      <td>0</td>\n",
              "      <td>0</td>\n",
              "      <td>1</td>\n",
              "      <td>0</td>\n",
              "      <td>1</td>\n",
              "      <td>0</td>\n",
              "      <td>0</td>\n",
              "      <td>0</td>\n",
              "      <td>0</td>\n",
              "      <td>0</td>\n",
              "      <td>0</td>\n",
              "      <td>1</td>\n",
              "      <td>0</td>\n",
              "      <td>1</td>\n",
              "      <td>0</td>\n",
              "      <td>0</td>\n",
              "      <td>1</td>\n",
              "      <td>0</td>\n",
              "      <td>0</td>\n",
              "      <td>0</td>\n",
              "      <td>1</td>\n",
              "      <td>0</td>\n",
              "      <td>1</td>\n",
              "      <td>1</td>\n",
              "      <td>0</td>\n",
              "      <td>0</td>\n",
              "      <td>0</td>\n",
              "      <td>1</td>\n",
              "      <td>0</td>\n",
              "      <td>0</td>\n",
              "      <td>1</td>\n",
              "      <td>0</td>\n",
              "      <td>0</td>\n",
              "      <td>0</td>\n",
              "      <td>0</td>\n",
              "      <td>0</td>\n",
              "    </tr>\n",
              "    <tr>\n",
              "      <th>36990</th>\n",
              "      <td>fffe43004900440031003200390039003000</td>\n",
              "      <td>53</td>\n",
              "      <td>15</td>\n",
              "      <td>482.610000</td>\n",
              "      <td>2378.86</td>\n",
              "      <td>20.0</td>\n",
              "      <td>197.264414</td>\n",
              "      <td>3</td>\n",
              "      <td>0</td>\n",
              "      <td>1</td>\n",
              "      <td>0</td>\n",
              "      <td>0</td>\n",
              "      <td>1</td>\n",
              "      <td>0</td>\n",
              "      <td>0</td>\n",
              "      <td>0</td>\n",
              "      <td>1</td>\n",
              "      <td>0</td>\n",
              "      <td>0</td>\n",
              "      <td>1</td>\n",
              "      <td>0</td>\n",
              "      <td>0</td>\n",
              "      <td>1</td>\n",
              "      <td>0</td>\n",
              "      <td>0</td>\n",
              "      <td>0</td>\n",
              "      <td>1</td>\n",
              "      <td>0</td>\n",
              "      <td>1</td>\n",
              "      <td>0</td>\n",
              "      <td>1</td>\n",
              "      <td>1</td>\n",
              "      <td>0</td>\n",
              "      <td>1</td>\n",
              "      <td>0</td>\n",
              "      <td>0</td>\n",
              "      <td>0</td>\n",
              "      <td>0</td>\n",
              "      <td>0</td>\n",
              "      <td>0</td>\n",
              "      <td>0</td>\n",
              "      <td>0</td>\n",
              "      <td>0</td>\n",
              "      <td>0</td>\n",
              "      <td>0</td>\n",
              "    </tr>\n",
              "    <tr>\n",
              "      <th>36991</th>\n",
              "      <td>fffe43004900440033003600340034003200</td>\n",
              "      <td>35</td>\n",
              "      <td>15</td>\n",
              "      <td>79.180000</td>\n",
              "      <td>2189.68</td>\n",
              "      <td>0.0</td>\n",
              "      <td>719.970000</td>\n",
              "      <td>2</td>\n",
              "      <td>0</td>\n",
              "      <td>1</td>\n",
              "      <td>0</td>\n",
              "      <td>1</td>\n",
              "      <td>0</td>\n",
              "      <td>0</td>\n",
              "      <td>0</td>\n",
              "      <td>0</td>\n",
              "      <td>0</td>\n",
              "      <td>0</td>\n",
              "      <td>1</td>\n",
              "      <td>1</td>\n",
              "      <td>0</td>\n",
              "      <td>0</td>\n",
              "      <td>1</td>\n",
              "      <td>0</td>\n",
              "      <td>0</td>\n",
              "      <td>1</td>\n",
              "      <td>0</td>\n",
              "      <td>0</td>\n",
              "      <td>1</td>\n",
              "      <td>0</td>\n",
              "      <td>1</td>\n",
              "      <td>0</td>\n",
              "      <td>0</td>\n",
              "      <td>1</td>\n",
              "      <td>0</td>\n",
              "      <td>0</td>\n",
              "      <td>0</td>\n",
              "      <td>0</td>\n",
              "      <td>0</td>\n",
              "      <td>0</td>\n",
              "      <td>0</td>\n",
              "      <td>1</td>\n",
              "      <td>0</td>\n",
              "      <td>0</td>\n",
              "      <td>0</td>\n",
              "    </tr>\n",
              "  </tbody>\n",
              "</table>\n",
              "<p>36992 rows × 45 columns</p>\n",
              "</div>"
            ],
            "text/plain": [
              "                                customer_id  ...  feedback_User Friendly Website\n",
              "0          fffe4300490044003600300030003800  ...                               0\n",
              "1      fffe43004900440032003100300035003700  ...                               0\n",
              "2          fffe4300490044003100390032003600  ...                               0\n",
              "3      fffe43004900440036003000330031003600  ...                               0\n",
              "4      fffe43004900440031003900350030003600  ...                               0\n",
              "...                                     ...  ...                             ...\n",
              "36987  fffe43004900440035003500390036003100  ...                               0\n",
              "36988  fffe43004900440033003500380036003600  ...                               0\n",
              "36989      fffe4300490044003500330034003100  ...                               0\n",
              "36990  fffe43004900440031003200390039003000  ...                               0\n",
              "36991  fffe43004900440033003600340034003200  ...                               0\n",
              "\n",
              "[36992 rows x 45 columns]"
            ]
          },
          "metadata": {
            "tags": []
          },
          "execution_count": 558
        }
      ]
    },
    {
      "cell_type": "code",
      "metadata": {
        "id": "aSGGsoPsMouG"
      },
      "source": [
        "train_dum.columns\n",
        "dum_cols = [ 'gender_F','region_category_City',\n",
        "       'membership_category_Basic Membership',\n",
        "       'joined_through_referral_No',\n",
        "       'preferred_offer_types_Credit/Debit Card Offers',\n",
        "        'medium_of_operation_Both',\n",
        "       'internet_option_Fiber_Optic', 'internet_option_Mobile_Data',\n",
        "       'internet_option_Wi-Fi',\n",
        "       'complaint_status_Not Applicable', \n",
        "       'feedback_Poor Customer Service']\n",
        "\n",
        "train_dum.drop(columns = dum_cols, inplace = True)\n",
        "test_dum.drop(columns = dum_cols, inplace = True)"
      ],
      "id": "aSGGsoPsMouG",
      "execution_count": 559,
      "outputs": []
    },
    {
      "cell_type": "markdown",
      "metadata": {
        "id": "-2w7Mhhg3bCK"
      },
      "source": [
        "## Train test split"
      ],
      "id": "-2w7Mhhg3bCK"
    },
    {
      "cell_type": "code",
      "metadata": {
        "id": "4PhbGVG-RVJv",
        "colab": {
          "base_uri": "https://localhost:8080/"
        },
        "outputId": "6bc601cf-e78b-43ea-a9e2-d3c459c00640"
      },
      "source": [
        "\n",
        "from sklearn.model_selection import train_test_split\n",
        "y = train_dum['churn_risk_score']\n",
        "x = train_dum.drop(columns = ['churn_risk_score'])\n",
        "x_train, x_test, y_train, y_test = train_test_split(x, y, test_size = 0.8, random_state = 42)\n",
        "# print(x_train,x_test,y_train,y_test, end= '\\n')\n",
        "\n",
        "train_cid = x_train['customer_id']\n",
        "test_cid = x_test['customer_id']\n",
        "x_train.drop(columns = ['customer_id'], inplace = True)\n",
        "x_test.drop(columns = ['customer_id'], inplace = True)\n",
        "\n",
        "valid_cid = test_dum['customer_id']\n",
        "x_valid = test_dum.drop(columns = ['customer_id'])\n",
        "# print(valid_cid,x_valid[:5])"
      ],
      "id": "4PhbGVG-RVJv",
      "execution_count": 560,
      "outputs": [
        {
          "output_type": "stream",
          "text": [
            "/usr/local/lib/python3.7/dist-packages/pandas/core/frame.py:4174: SettingWithCopyWarning: \n",
            "A value is trying to be set on a copy of a slice from a DataFrame\n",
            "\n",
            "See the caveats in the documentation: https://pandas.pydata.org/pandas-docs/stable/user_guide/indexing.html#returning-a-view-versus-a-copy\n",
            "  errors=errors,\n"
          ],
          "name": "stderr"
        }
      ]
    },
    {
      "cell_type": "markdown",
      "metadata": {
        "id": "7ctde04N-CY4"
      },
      "source": [
        "## Over Sampling using smote\n"
      ],
      "id": "7ctde04N-CY4"
    },
    {
      "cell_type": "code",
      "metadata": {
        "colab": {
          "base_uri": "https://localhost:8080/"
        },
        "id": "dj42FO2b-IX3",
        "outputId": "94027552-a40a-4c00-e40d-5b817624ef0e"
      },
      "source": [
        "from imblearn.over_sampling import SMOTE\n",
        "os = SMOTE(random_state=0)\n",
        "columns = x_train.columns\n",
        "os_data_x, os_data_y = os.fit_sample(x_train, y_train)\n",
        "x_train = pandas.DataFrame(data=os_data_x,columns=columns )\n",
        "y_train = pandas.DataFrame(data=os_data_y,columns=['y'])\n",
        "# we can Check the numbers of our data\n",
        "print(\"length of oversampled data is \",len(x_train))\n",
        "print(len(y_train))"
      ],
      "id": "dj42FO2b-IX3",
      "execution_count": 561,
      "outputs": [
        {
          "output_type": "stream",
          "text": [
            "length of oversampled data is  13302\n",
            "13302\n"
          ],
          "name": "stdout"
        },
        {
          "output_type": "stream",
          "text": [
            "/usr/local/lib/python3.7/dist-packages/sklearn/utils/deprecation.py:87: FutureWarning: Function safe_indexing is deprecated; safe_indexing is deprecated in version 0.22 and will be removed in version 0.24.\n",
            "  warnings.warn(msg, category=FutureWarning)\n",
            "/usr/local/lib/python3.7/dist-packages/sklearn/utils/deprecation.py:87: FutureWarning: Function safe_indexing is deprecated; safe_indexing is deprecated in version 0.22 and will be removed in version 0.24.\n",
            "  warnings.warn(msg, category=FutureWarning)\n",
            "/usr/local/lib/python3.7/dist-packages/sklearn/utils/deprecation.py:87: FutureWarning: Function safe_indexing is deprecated; safe_indexing is deprecated in version 0.22 and will be removed in version 0.24.\n",
            "  warnings.warn(msg, category=FutureWarning)\n",
            "/usr/local/lib/python3.7/dist-packages/sklearn/utils/deprecation.py:87: FutureWarning: Function safe_indexing is deprecated; safe_indexing is deprecated in version 0.22 and will be removed in version 0.24.\n",
            "  warnings.warn(msg, category=FutureWarning)\n",
            "/usr/local/lib/python3.7/dist-packages/sklearn/utils/deprecation.py:87: FutureWarning: Function safe_indexing is deprecated; safe_indexing is deprecated in version 0.22 and will be removed in version 0.24.\n",
            "  warnings.warn(msg, category=FutureWarning)\n"
          ],
          "name": "stderr"
        }
      ]
    },
    {
      "cell_type": "markdown",
      "metadata": {
        "id": "oWF8-6btQJqV"
      },
      "source": [
        "## Normalising dataset"
      ],
      "id": "oWF8-6btQJqV"
    },
    {
      "cell_type": "code",
      "metadata": {
        "colab": {
          "base_uri": "https://localhost:8080/",
          "height": 478
        },
        "id": "20NYjnrlQJTp",
        "outputId": "5876cec3-d11d-49b6-dddc-401a433b2072"
      },
      "source": [
        "from sklearn import preprocessing\n",
        "scaler = preprocessing.MinMaxScaler()\n",
        "cols = x_train.columns\n",
        "x_train = pandas.DataFrame(data = scaler.fit_transform(x_train),columns = cols)\n",
        "x_test = pandas.DataFrame(data = scaler.transform(x_test),columns = cols)\n",
        "\n",
        "x_valid = pandas.DataFrame(data = scaler.transform(x_valid), columns = cols)\n",
        "x_train"
      ],
      "id": "20NYjnrlQJTp",
      "execution_count": 562,
      "outputs": [
        {
          "output_type": "execute_result",
          "data": {
            "text/html": [
              "<div>\n",
              "<style scoped>\n",
              "    .dataframe tbody tr th:only-of-type {\n",
              "        vertical-align: middle;\n",
              "    }\n",
              "\n",
              "    .dataframe tbody tr th {\n",
              "        vertical-align: top;\n",
              "    }\n",
              "\n",
              "    .dataframe thead th {\n",
              "        text-align: right;\n",
              "    }\n",
              "</style>\n",
              "<table border=\"1\" class=\"dataframe\">\n",
              "  <thead>\n",
              "    <tr style=\"text-align: right;\">\n",
              "      <th></th>\n",
              "      <th>age</th>\n",
              "      <th>days_since_last_login</th>\n",
              "      <th>avg_time_spent</th>\n",
              "      <th>avg_transaction_value</th>\n",
              "      <th>avg_frequency_login_days</th>\n",
              "      <th>points_in_wallet</th>\n",
              "      <th>gender_M</th>\n",
              "      <th>region_category_Town</th>\n",
              "      <th>region_category_Village</th>\n",
              "      <th>membership_category_Gold Membership</th>\n",
              "      <th>membership_category_No Membership</th>\n",
              "      <th>membership_category_Platinum Membership</th>\n",
              "      <th>membership_category_Premium Membership</th>\n",
              "      <th>membership_category_Silver Membership</th>\n",
              "      <th>joined_through_referral_Yes</th>\n",
              "      <th>preferred_offer_types_Gift Vouchers/Coupons</th>\n",
              "      <th>preferred_offer_types_Without Offers</th>\n",
              "      <th>medium_of_operation_Desktop</th>\n",
              "      <th>medium_of_operation_Smartphone</th>\n",
              "      <th>used_special_discount_Yes</th>\n",
              "      <th>offer_application_preference_Yes</th>\n",
              "      <th>past_complaint_Yes</th>\n",
              "      <th>complaint_status_Solved</th>\n",
              "      <th>complaint_status_Solved in Follow-up</th>\n",
              "      <th>complaint_status_Unsolved</th>\n",
              "      <th>feedback_Poor Product Quality</th>\n",
              "      <th>feedback_Poor Website</th>\n",
              "      <th>feedback_Products always in Stock</th>\n",
              "      <th>feedback_Quality Customer Care</th>\n",
              "      <th>feedback_Reasonable Price</th>\n",
              "      <th>feedback_Too many ads</th>\n",
              "      <th>feedback_User Friendly Website</th>\n",
              "    </tr>\n",
              "  </thead>\n",
              "  <tbody>\n",
              "    <tr>\n",
              "      <th>0</th>\n",
              "      <td>0.718750</td>\n",
              "      <td>0.692308</td>\n",
              "      <td>0.510475</td>\n",
              "      <td>0.654038</td>\n",
              "      <td>0.320449</td>\n",
              "      <td>0.596043</td>\n",
              "      <td>1.000000</td>\n",
              "      <td>0.000000</td>\n",
              "      <td>0.000000</td>\n",
              "      <td>0.0</td>\n",
              "      <td>0.000000</td>\n",
              "      <td>1.0</td>\n",
              "      <td>0.0</td>\n",
              "      <td>0.0</td>\n",
              "      <td>0.000000</td>\n",
              "      <td>1.000000</td>\n",
              "      <td>0.000000</td>\n",
              "      <td>0.000000</td>\n",
              "      <td>0.000000</td>\n",
              "      <td>1.000000</td>\n",
              "      <td>1.000000</td>\n",
              "      <td>1.000000</td>\n",
              "      <td>0.000000</td>\n",
              "      <td>1.000000</td>\n",
              "      <td>0.0</td>\n",
              "      <td>0.000000</td>\n",
              "      <td>0.000000</td>\n",
              "      <td>1.0</td>\n",
              "      <td>0.0</td>\n",
              "      <td>0.0</td>\n",
              "      <td>0.000000</td>\n",
              "      <td>0.0</td>\n",
              "    </tr>\n",
              "    <tr>\n",
              "      <th>1</th>\n",
              "      <td>0.750000</td>\n",
              "      <td>0.538462</td>\n",
              "      <td>0.442350</td>\n",
              "      <td>0.065834</td>\n",
              "      <td>0.419049</td>\n",
              "      <td>0.606290</td>\n",
              "      <td>1.000000</td>\n",
              "      <td>1.000000</td>\n",
              "      <td>0.000000</td>\n",
              "      <td>0.0</td>\n",
              "      <td>0.000000</td>\n",
              "      <td>0.0</td>\n",
              "      <td>1.0</td>\n",
              "      <td>0.0</td>\n",
              "      <td>0.000000</td>\n",
              "      <td>0.000000</td>\n",
              "      <td>0.000000</td>\n",
              "      <td>0.000000</td>\n",
              "      <td>1.000000</td>\n",
              "      <td>0.000000</td>\n",
              "      <td>1.000000</td>\n",
              "      <td>1.000000</td>\n",
              "      <td>0.000000</td>\n",
              "      <td>0.000000</td>\n",
              "      <td>0.0</td>\n",
              "      <td>0.000000</td>\n",
              "      <td>0.000000</td>\n",
              "      <td>0.0</td>\n",
              "      <td>1.0</td>\n",
              "      <td>0.0</td>\n",
              "      <td>0.000000</td>\n",
              "      <td>0.0</td>\n",
              "    </tr>\n",
              "    <tr>\n",
              "      <th>2</th>\n",
              "      <td>0.937500</td>\n",
              "      <td>0.153846</td>\n",
              "      <td>0.448116</td>\n",
              "      <td>0.634314</td>\n",
              "      <td>0.000000</td>\n",
              "      <td>0.641367</td>\n",
              "      <td>1.000000</td>\n",
              "      <td>1.000000</td>\n",
              "      <td>0.000000</td>\n",
              "      <td>0.0</td>\n",
              "      <td>0.000000</td>\n",
              "      <td>1.0</td>\n",
              "      <td>0.0</td>\n",
              "      <td>0.0</td>\n",
              "      <td>0.000000</td>\n",
              "      <td>0.000000</td>\n",
              "      <td>1.000000</td>\n",
              "      <td>1.000000</td>\n",
              "      <td>0.000000</td>\n",
              "      <td>0.000000</td>\n",
              "      <td>1.000000</td>\n",
              "      <td>0.000000</td>\n",
              "      <td>0.000000</td>\n",
              "      <td>0.000000</td>\n",
              "      <td>0.0</td>\n",
              "      <td>0.000000</td>\n",
              "      <td>0.000000</td>\n",
              "      <td>0.0</td>\n",
              "      <td>0.0</td>\n",
              "      <td>0.0</td>\n",
              "      <td>0.000000</td>\n",
              "      <td>1.0</td>\n",
              "    </tr>\n",
              "    <tr>\n",
              "      <th>3</th>\n",
              "      <td>0.500000</td>\n",
              "      <td>0.884615</td>\n",
              "      <td>0.436547</td>\n",
              "      <td>0.201356</td>\n",
              "      <td>0.172549</td>\n",
              "      <td>0.540870</td>\n",
              "      <td>1.000000</td>\n",
              "      <td>1.000000</td>\n",
              "      <td>0.000000</td>\n",
              "      <td>0.0</td>\n",
              "      <td>1.000000</td>\n",
              "      <td>0.0</td>\n",
              "      <td>0.0</td>\n",
              "      <td>0.0</td>\n",
              "      <td>1.000000</td>\n",
              "      <td>1.000000</td>\n",
              "      <td>0.000000</td>\n",
              "      <td>0.000000</td>\n",
              "      <td>1.000000</td>\n",
              "      <td>1.000000</td>\n",
              "      <td>0.000000</td>\n",
              "      <td>1.000000</td>\n",
              "      <td>1.000000</td>\n",
              "      <td>0.000000</td>\n",
              "      <td>0.0</td>\n",
              "      <td>0.000000</td>\n",
              "      <td>0.000000</td>\n",
              "      <td>0.0</td>\n",
              "      <td>0.0</td>\n",
              "      <td>0.0</td>\n",
              "      <td>0.000000</td>\n",
              "      <td>0.0</td>\n",
              "    </tr>\n",
              "    <tr>\n",
              "      <th>4</th>\n",
              "      <td>0.375000</td>\n",
              "      <td>0.538462</td>\n",
              "      <td>0.565239</td>\n",
              "      <td>0.088818</td>\n",
              "      <td>0.197199</td>\n",
              "      <td>0.342981</td>\n",
              "      <td>0.000000</td>\n",
              "      <td>0.000000</td>\n",
              "      <td>1.000000</td>\n",
              "      <td>0.0</td>\n",
              "      <td>0.000000</td>\n",
              "      <td>0.0</td>\n",
              "      <td>1.0</td>\n",
              "      <td>0.0</td>\n",
              "      <td>1.000000</td>\n",
              "      <td>0.000000</td>\n",
              "      <td>1.000000</td>\n",
              "      <td>0.000000</td>\n",
              "      <td>1.000000</td>\n",
              "      <td>0.000000</td>\n",
              "      <td>1.000000</td>\n",
              "      <td>1.000000</td>\n",
              "      <td>0.000000</td>\n",
              "      <td>1.000000</td>\n",
              "      <td>0.0</td>\n",
              "      <td>0.000000</td>\n",
              "      <td>0.000000</td>\n",
              "      <td>0.0</td>\n",
              "      <td>0.0</td>\n",
              "      <td>1.0</td>\n",
              "      <td>0.000000</td>\n",
              "      <td>0.0</td>\n",
              "    </tr>\n",
              "    <tr>\n",
              "      <th>...</th>\n",
              "      <td>...</td>\n",
              "      <td>...</td>\n",
              "      <td>...</td>\n",
              "      <td>...</td>\n",
              "      <td>...</td>\n",
              "      <td>...</td>\n",
              "      <td>...</td>\n",
              "      <td>...</td>\n",
              "      <td>...</td>\n",
              "      <td>...</td>\n",
              "      <td>...</td>\n",
              "      <td>...</td>\n",
              "      <td>...</td>\n",
              "      <td>...</td>\n",
              "      <td>...</td>\n",
              "      <td>...</td>\n",
              "      <td>...</td>\n",
              "      <td>...</td>\n",
              "      <td>...</td>\n",
              "      <td>...</td>\n",
              "      <td>...</td>\n",
              "      <td>...</td>\n",
              "      <td>...</td>\n",
              "      <td>...</td>\n",
              "      <td>...</td>\n",
              "      <td>...</td>\n",
              "      <td>...</td>\n",
              "      <td>...</td>\n",
              "      <td>...</td>\n",
              "      <td>...</td>\n",
              "      <td>...</td>\n",
              "      <td>...</td>\n",
              "    </tr>\n",
              "    <tr>\n",
              "      <th>13297</th>\n",
              "      <td>0.412727</td>\n",
              "      <td>0.262398</td>\n",
              "      <td>0.413286</td>\n",
              "      <td>0.021955</td>\n",
              "      <td>0.419049</td>\n",
              "      <td>0.532879</td>\n",
              "      <td>1.000000</td>\n",
              "      <td>0.059218</td>\n",
              "      <td>0.000000</td>\n",
              "      <td>0.0</td>\n",
              "      <td>0.000000</td>\n",
              "      <td>0.0</td>\n",
              "      <td>0.0</td>\n",
              "      <td>0.0</td>\n",
              "      <td>1.000000</td>\n",
              "      <td>0.940782</td>\n",
              "      <td>0.059218</td>\n",
              "      <td>0.000000</td>\n",
              "      <td>1.000000</td>\n",
              "      <td>0.940782</td>\n",
              "      <td>0.059218</td>\n",
              "      <td>0.059218</td>\n",
              "      <td>0.000000</td>\n",
              "      <td>0.059218</td>\n",
              "      <td>0.0</td>\n",
              "      <td>0.000000</td>\n",
              "      <td>0.000000</td>\n",
              "      <td>0.0</td>\n",
              "      <td>0.0</td>\n",
              "      <td>0.0</td>\n",
              "      <td>1.000000</td>\n",
              "      <td>0.0</td>\n",
              "    </tr>\n",
              "    <tr>\n",
              "      <th>13298</th>\n",
              "      <td>0.350350</td>\n",
              "      <td>0.876537</td>\n",
              "      <td>0.522223</td>\n",
              "      <td>0.401120</td>\n",
              "      <td>0.303565</td>\n",
              "      <td>0.471524</td>\n",
              "      <td>1.000000</td>\n",
              "      <td>0.947492</td>\n",
              "      <td>0.052508</td>\n",
              "      <td>0.0</td>\n",
              "      <td>0.947492</td>\n",
              "      <td>0.0</td>\n",
              "      <td>0.0</td>\n",
              "      <td>0.0</td>\n",
              "      <td>0.052508</td>\n",
              "      <td>0.947492</td>\n",
              "      <td>0.052508</td>\n",
              "      <td>0.947492</td>\n",
              "      <td>0.052508</td>\n",
              "      <td>1.000000</td>\n",
              "      <td>0.000000</td>\n",
              "      <td>1.000000</td>\n",
              "      <td>0.947492</td>\n",
              "      <td>0.000000</td>\n",
              "      <td>0.0</td>\n",
              "      <td>0.000000</td>\n",
              "      <td>0.947492</td>\n",
              "      <td>0.0</td>\n",
              "      <td>0.0</td>\n",
              "      <td>0.0</td>\n",
              "      <td>0.052508</td>\n",
              "      <td>0.0</td>\n",
              "    </tr>\n",
              "    <tr>\n",
              "      <th>13299</th>\n",
              "      <td>0.535783</td>\n",
              "      <td>0.262559</td>\n",
              "      <td>0.474958</td>\n",
              "      <td>0.259230</td>\n",
              "      <td>0.376827</td>\n",
              "      <td>0.521252</td>\n",
              "      <td>0.403789</td>\n",
              "      <td>1.000000</td>\n",
              "      <td>0.000000</td>\n",
              "      <td>0.0</td>\n",
              "      <td>0.596211</td>\n",
              "      <td>0.0</td>\n",
              "      <td>0.0</td>\n",
              "      <td>0.0</td>\n",
              "      <td>1.000000</td>\n",
              "      <td>0.000000</td>\n",
              "      <td>0.403789</td>\n",
              "      <td>1.000000</td>\n",
              "      <td>0.000000</td>\n",
              "      <td>0.403789</td>\n",
              "      <td>1.000000</td>\n",
              "      <td>0.596211</td>\n",
              "      <td>0.596211</td>\n",
              "      <td>0.000000</td>\n",
              "      <td>0.0</td>\n",
              "      <td>0.596211</td>\n",
              "      <td>0.000000</td>\n",
              "      <td>0.0</td>\n",
              "      <td>0.0</td>\n",
              "      <td>0.0</td>\n",
              "      <td>0.403789</td>\n",
              "      <td>0.0</td>\n",
              "    </tr>\n",
              "    <tr>\n",
              "      <th>13300</th>\n",
              "      <td>0.780788</td>\n",
              "      <td>0.198615</td>\n",
              "      <td>0.408894</td>\n",
              "      <td>0.138485</td>\n",
              "      <td>0.630230</td>\n",
              "      <td>0.416814</td>\n",
              "      <td>1.000000</td>\n",
              "      <td>1.000000</td>\n",
              "      <td>0.000000</td>\n",
              "      <td>0.0</td>\n",
              "      <td>0.108199</td>\n",
              "      <td>0.0</td>\n",
              "      <td>0.0</td>\n",
              "      <td>0.0</td>\n",
              "      <td>1.000000</td>\n",
              "      <td>0.000000</td>\n",
              "      <td>1.000000</td>\n",
              "      <td>0.108199</td>\n",
              "      <td>0.891801</td>\n",
              "      <td>0.108199</td>\n",
              "      <td>0.891801</td>\n",
              "      <td>0.891801</td>\n",
              "      <td>0.000000</td>\n",
              "      <td>0.000000</td>\n",
              "      <td>0.0</td>\n",
              "      <td>0.000000</td>\n",
              "      <td>0.000000</td>\n",
              "      <td>0.0</td>\n",
              "      <td>0.0</td>\n",
              "      <td>0.0</td>\n",
              "      <td>0.000000</td>\n",
              "      <td>0.0</td>\n",
              "    </tr>\n",
              "    <tr>\n",
              "      <th>13301</th>\n",
              "      <td>0.569186</td>\n",
              "      <td>0.740287</td>\n",
              "      <td>0.824959</td>\n",
              "      <td>0.450543</td>\n",
              "      <td>0.454499</td>\n",
              "      <td>0.471722</td>\n",
              "      <td>0.000000</td>\n",
              "      <td>0.000000</td>\n",
              "      <td>0.780931</td>\n",
              "      <td>0.0</td>\n",
              "      <td>0.780931</td>\n",
              "      <td>0.0</td>\n",
              "      <td>0.0</td>\n",
              "      <td>0.0</td>\n",
              "      <td>0.780931</td>\n",
              "      <td>0.780931</td>\n",
              "      <td>0.000000</td>\n",
              "      <td>0.219069</td>\n",
              "      <td>0.780931</td>\n",
              "      <td>1.000000</td>\n",
              "      <td>0.219069</td>\n",
              "      <td>0.000000</td>\n",
              "      <td>0.000000</td>\n",
              "      <td>0.000000</td>\n",
              "      <td>0.0</td>\n",
              "      <td>0.000000</td>\n",
              "      <td>1.000000</td>\n",
              "      <td>0.0</td>\n",
              "      <td>0.0</td>\n",
              "      <td>0.0</td>\n",
              "      <td>0.000000</td>\n",
              "      <td>0.0</td>\n",
              "    </tr>\n",
              "  </tbody>\n",
              "</table>\n",
              "<p>13302 rows × 32 columns</p>\n",
              "</div>"
            ],
            "text/plain": [
              "            age  ...  feedback_User Friendly Website\n",
              "0      0.718750  ...                             0.0\n",
              "1      0.750000  ...                             0.0\n",
              "2      0.937500  ...                             1.0\n",
              "3      0.500000  ...                             0.0\n",
              "4      0.375000  ...                             0.0\n",
              "...         ...  ...                             ...\n",
              "13297  0.412727  ...                             0.0\n",
              "13298  0.350350  ...                             0.0\n",
              "13299  0.535783  ...                             0.0\n",
              "13300  0.780788  ...                             0.0\n",
              "13301  0.569186  ...                             0.0\n",
              "\n",
              "[13302 rows x 32 columns]"
            ]
          },
          "metadata": {
            "tags": []
          },
          "execution_count": 562
        }
      ]
    },
    {
      "cell_type": "markdown",
      "metadata": {
        "id": "vwDc_VoLArO6"
      },
      "source": [
        "## Recursive Feature Elimination"
      ],
      "id": "vwDc_VoLArO6"
    },
    {
      "cell_type": "markdown",
      "metadata": {
        "id": "7Qu95__FFU2c"
      },
      "source": [
        "result of RFE\n",
        "```\n",
        "age True 1\n",
        "days_since_last_login True 1\n",
        "avg_time_spent False 5\n",
        "avg_transaction_value True 1\n",
        "avg_frequency_login_days True 1\n",
        "points_in_wallet True 1\n",
        "gender_M True 1\n",
        "region_category_Town True 1\n",
        "region_category_Village False 6\n",
        "membership_category_Gold Membership True 1\n",
        "membership_category_No Membership True 1\n",
        "membership_category_Platinum Membership True 1\n",
        "membership_category_Premium Membership True 1\n",
        "membership_category_Silver Membership True 1\n",
        "joined_through_referral_Yes True 1\n",
        "preferred_offer_types_Gift Vouchers/Coupons False 3\n",
        "preferred_offer_types_Without Offers False 4\n",
        "medium_of_operation_Desktop True 1\n",
        "medium_of_operation_Smartphone True 1\n",
        "used_special_discount_Yes True 1\n",
        "offer_application_preference_Yes True 1\n",
        "past_complaint_Yes False 2\n",
        "complaint_status_Solved False 8\n",
        "complaint_status_Solved in Follow-up False 9\n",
        "complaint_status_Unsolved False 7\n",
        "feedback_Poor Product Quality True 1\n",
        "feedback_Poor Website True 1\n",
        "feedback_Products always in Stock True 1\n",
        "feedback_Quality Customer Care True 1\n",
        "feedback_Reasonable Price True 1\n",
        "feedback_Too many ads True 1\n",
        "feedback_User Friendly Website True 1\n",
        "```"
      ],
      "id": "7Qu95__FFU2c"
    },
    {
      "cell_type": "code",
      "metadata": {
        "id": "Sn4OvoGaAwNk"
      },
      "source": [
        "# x = x_train.columns.values.tolist()\n",
        "# y=['y']\n",
        "\n",
        "# from sklearn.feature_selection import RFE\n",
        "# from sklearn.linear_model import LogisticRegression\n",
        "# logreg = LogisticRegression()\n",
        "# rfe = RFE(logreg,24)\n",
        "# rfe = rfe.fit(x_train, y_train.values.ravel())\n",
        "\n",
        "# print()\n",
        "# for col, support,rank in zip(train_cols, rfe.support_, rfe.ranking_):\n",
        "#     print(col,support,rank)"
      ],
      "id": "Sn4OvoGaAwNk",
      "execution_count": 563,
      "outputs": []
    },
    {
      "cell_type": "markdown",
      "metadata": {
        "id": "oWB1329yGDnS"
      },
      "source": [
        "Removing Features suggested by RFE"
      ],
      "id": "oWB1329yGDnS"
    },
    {
      "cell_type": "code",
      "metadata": {
        "id": "WTd3IXEkGV2h"
      },
      "source": [
        "cols = ['age','days_since_last_login',\n",
        "'avg_transaction_value',\n",
        "'avg_frequency_login_days',\n",
        "'points_in_wallet',\n",
        "'gender_M',\n",
        "'region_category_Town',\n",
        "'membership_category_Gold Membership',\n",
        "'membership_category_No Membership',\n",
        "'membership_category_Platinum Membership',\n",
        "'membership_category_Premium Membership',\n",
        "'membership_category_Silver Membership',\n",
        "'joined_through_referral_Yes',\n",
        "'medium_of_operation_Desktop',\n",
        "'medium_of_operation_Smartphone',\n",
        "'used_special_discount_Yes',\n",
        "'offer_application_preference_Yes',\n",
        "'feedback_Poor Product Quality',\n",
        "'feedback_Poor Website',\n",
        "'feedback_Products always in Stock',\n",
        "'feedback_Quality Customer Care',\n",
        "'feedback_Reasonable Price',\n",
        "'feedback_Too many ads',\n",
        "'feedback_User Friendly Website']\n",
        "x_train = x_train[cols]\n",
        "x_test = x_test[cols]\n",
        "x_valid = x_valid[cols]"
      ],
      "id": "WTd3IXEkGV2h",
      "execution_count": 564,
      "outputs": []
    },
    {
      "cell_type": "markdown",
      "metadata": {
        "id": "dpwZ5OeRH9jZ"
      },
      "source": [
        "Implementing model\n"
      ],
      "id": "dpwZ5OeRH9jZ"
    },
    {
      "cell_type": "code",
      "metadata": {
        "colab": {
          "base_uri": "https://localhost:8080/",
          "height": 478
        },
        "id": "jYg_wUMEK-MX",
        "outputId": "031faf5c-43bc-41c3-f5d7-dfef131283bf"
      },
      "source": [
        "x_train"
      ],
      "id": "jYg_wUMEK-MX",
      "execution_count": 565,
      "outputs": [
        {
          "output_type": "execute_result",
          "data": {
            "text/html": [
              "<div>\n",
              "<style scoped>\n",
              "    .dataframe tbody tr th:only-of-type {\n",
              "        vertical-align: middle;\n",
              "    }\n",
              "\n",
              "    .dataframe tbody tr th {\n",
              "        vertical-align: top;\n",
              "    }\n",
              "\n",
              "    .dataframe thead th {\n",
              "        text-align: right;\n",
              "    }\n",
              "</style>\n",
              "<table border=\"1\" class=\"dataframe\">\n",
              "  <thead>\n",
              "    <tr style=\"text-align: right;\">\n",
              "      <th></th>\n",
              "      <th>age</th>\n",
              "      <th>days_since_last_login</th>\n",
              "      <th>avg_transaction_value</th>\n",
              "      <th>avg_frequency_login_days</th>\n",
              "      <th>points_in_wallet</th>\n",
              "      <th>gender_M</th>\n",
              "      <th>region_category_Town</th>\n",
              "      <th>membership_category_Gold Membership</th>\n",
              "      <th>membership_category_No Membership</th>\n",
              "      <th>membership_category_Platinum Membership</th>\n",
              "      <th>membership_category_Premium Membership</th>\n",
              "      <th>membership_category_Silver Membership</th>\n",
              "      <th>joined_through_referral_Yes</th>\n",
              "      <th>medium_of_operation_Desktop</th>\n",
              "      <th>medium_of_operation_Smartphone</th>\n",
              "      <th>used_special_discount_Yes</th>\n",
              "      <th>offer_application_preference_Yes</th>\n",
              "      <th>feedback_Poor Product Quality</th>\n",
              "      <th>feedback_Poor Website</th>\n",
              "      <th>feedback_Products always in Stock</th>\n",
              "      <th>feedback_Quality Customer Care</th>\n",
              "      <th>feedback_Reasonable Price</th>\n",
              "      <th>feedback_Too many ads</th>\n",
              "      <th>feedback_User Friendly Website</th>\n",
              "    </tr>\n",
              "  </thead>\n",
              "  <tbody>\n",
              "    <tr>\n",
              "      <th>0</th>\n",
              "      <td>0.718750</td>\n",
              "      <td>0.692308</td>\n",
              "      <td>0.654038</td>\n",
              "      <td>0.320449</td>\n",
              "      <td>0.596043</td>\n",
              "      <td>1.000000</td>\n",
              "      <td>0.000000</td>\n",
              "      <td>0.0</td>\n",
              "      <td>0.000000</td>\n",
              "      <td>1.0</td>\n",
              "      <td>0.0</td>\n",
              "      <td>0.0</td>\n",
              "      <td>0.000000</td>\n",
              "      <td>0.000000</td>\n",
              "      <td>0.000000</td>\n",
              "      <td>1.000000</td>\n",
              "      <td>1.000000</td>\n",
              "      <td>0.000000</td>\n",
              "      <td>0.000000</td>\n",
              "      <td>1.0</td>\n",
              "      <td>0.0</td>\n",
              "      <td>0.0</td>\n",
              "      <td>0.000000</td>\n",
              "      <td>0.0</td>\n",
              "    </tr>\n",
              "    <tr>\n",
              "      <th>1</th>\n",
              "      <td>0.750000</td>\n",
              "      <td>0.538462</td>\n",
              "      <td>0.065834</td>\n",
              "      <td>0.419049</td>\n",
              "      <td>0.606290</td>\n",
              "      <td>1.000000</td>\n",
              "      <td>1.000000</td>\n",
              "      <td>0.0</td>\n",
              "      <td>0.000000</td>\n",
              "      <td>0.0</td>\n",
              "      <td>1.0</td>\n",
              "      <td>0.0</td>\n",
              "      <td>0.000000</td>\n",
              "      <td>0.000000</td>\n",
              "      <td>1.000000</td>\n",
              "      <td>0.000000</td>\n",
              "      <td>1.000000</td>\n",
              "      <td>0.000000</td>\n",
              "      <td>0.000000</td>\n",
              "      <td>0.0</td>\n",
              "      <td>1.0</td>\n",
              "      <td>0.0</td>\n",
              "      <td>0.000000</td>\n",
              "      <td>0.0</td>\n",
              "    </tr>\n",
              "    <tr>\n",
              "      <th>2</th>\n",
              "      <td>0.937500</td>\n",
              "      <td>0.153846</td>\n",
              "      <td>0.634314</td>\n",
              "      <td>0.000000</td>\n",
              "      <td>0.641367</td>\n",
              "      <td>1.000000</td>\n",
              "      <td>1.000000</td>\n",
              "      <td>0.0</td>\n",
              "      <td>0.000000</td>\n",
              "      <td>1.0</td>\n",
              "      <td>0.0</td>\n",
              "      <td>0.0</td>\n",
              "      <td>0.000000</td>\n",
              "      <td>1.000000</td>\n",
              "      <td>0.000000</td>\n",
              "      <td>0.000000</td>\n",
              "      <td>1.000000</td>\n",
              "      <td>0.000000</td>\n",
              "      <td>0.000000</td>\n",
              "      <td>0.0</td>\n",
              "      <td>0.0</td>\n",
              "      <td>0.0</td>\n",
              "      <td>0.000000</td>\n",
              "      <td>1.0</td>\n",
              "    </tr>\n",
              "    <tr>\n",
              "      <th>3</th>\n",
              "      <td>0.500000</td>\n",
              "      <td>0.884615</td>\n",
              "      <td>0.201356</td>\n",
              "      <td>0.172549</td>\n",
              "      <td>0.540870</td>\n",
              "      <td>1.000000</td>\n",
              "      <td>1.000000</td>\n",
              "      <td>0.0</td>\n",
              "      <td>1.000000</td>\n",
              "      <td>0.0</td>\n",
              "      <td>0.0</td>\n",
              "      <td>0.0</td>\n",
              "      <td>1.000000</td>\n",
              "      <td>0.000000</td>\n",
              "      <td>1.000000</td>\n",
              "      <td>1.000000</td>\n",
              "      <td>0.000000</td>\n",
              "      <td>0.000000</td>\n",
              "      <td>0.000000</td>\n",
              "      <td>0.0</td>\n",
              "      <td>0.0</td>\n",
              "      <td>0.0</td>\n",
              "      <td>0.000000</td>\n",
              "      <td>0.0</td>\n",
              "    </tr>\n",
              "    <tr>\n",
              "      <th>4</th>\n",
              "      <td>0.375000</td>\n",
              "      <td>0.538462</td>\n",
              "      <td>0.088818</td>\n",
              "      <td>0.197199</td>\n",
              "      <td>0.342981</td>\n",
              "      <td>0.000000</td>\n",
              "      <td>0.000000</td>\n",
              "      <td>0.0</td>\n",
              "      <td>0.000000</td>\n",
              "      <td>0.0</td>\n",
              "      <td>1.0</td>\n",
              "      <td>0.0</td>\n",
              "      <td>1.000000</td>\n",
              "      <td>0.000000</td>\n",
              "      <td>1.000000</td>\n",
              "      <td>0.000000</td>\n",
              "      <td>1.000000</td>\n",
              "      <td>0.000000</td>\n",
              "      <td>0.000000</td>\n",
              "      <td>0.0</td>\n",
              "      <td>0.0</td>\n",
              "      <td>1.0</td>\n",
              "      <td>0.000000</td>\n",
              "      <td>0.0</td>\n",
              "    </tr>\n",
              "    <tr>\n",
              "      <th>...</th>\n",
              "      <td>...</td>\n",
              "      <td>...</td>\n",
              "      <td>...</td>\n",
              "      <td>...</td>\n",
              "      <td>...</td>\n",
              "      <td>...</td>\n",
              "      <td>...</td>\n",
              "      <td>...</td>\n",
              "      <td>...</td>\n",
              "      <td>...</td>\n",
              "      <td>...</td>\n",
              "      <td>...</td>\n",
              "      <td>...</td>\n",
              "      <td>...</td>\n",
              "      <td>...</td>\n",
              "      <td>...</td>\n",
              "      <td>...</td>\n",
              "      <td>...</td>\n",
              "      <td>...</td>\n",
              "      <td>...</td>\n",
              "      <td>...</td>\n",
              "      <td>...</td>\n",
              "      <td>...</td>\n",
              "      <td>...</td>\n",
              "    </tr>\n",
              "    <tr>\n",
              "      <th>13297</th>\n",
              "      <td>0.412727</td>\n",
              "      <td>0.262398</td>\n",
              "      <td>0.021955</td>\n",
              "      <td>0.419049</td>\n",
              "      <td>0.532879</td>\n",
              "      <td>1.000000</td>\n",
              "      <td>0.059218</td>\n",
              "      <td>0.0</td>\n",
              "      <td>0.000000</td>\n",
              "      <td>0.0</td>\n",
              "      <td>0.0</td>\n",
              "      <td>0.0</td>\n",
              "      <td>1.000000</td>\n",
              "      <td>0.000000</td>\n",
              "      <td>1.000000</td>\n",
              "      <td>0.940782</td>\n",
              "      <td>0.059218</td>\n",
              "      <td>0.000000</td>\n",
              "      <td>0.000000</td>\n",
              "      <td>0.0</td>\n",
              "      <td>0.0</td>\n",
              "      <td>0.0</td>\n",
              "      <td>1.000000</td>\n",
              "      <td>0.0</td>\n",
              "    </tr>\n",
              "    <tr>\n",
              "      <th>13298</th>\n",
              "      <td>0.350350</td>\n",
              "      <td>0.876537</td>\n",
              "      <td>0.401120</td>\n",
              "      <td>0.303565</td>\n",
              "      <td>0.471524</td>\n",
              "      <td>1.000000</td>\n",
              "      <td>0.947492</td>\n",
              "      <td>0.0</td>\n",
              "      <td>0.947492</td>\n",
              "      <td>0.0</td>\n",
              "      <td>0.0</td>\n",
              "      <td>0.0</td>\n",
              "      <td>0.052508</td>\n",
              "      <td>0.947492</td>\n",
              "      <td>0.052508</td>\n",
              "      <td>1.000000</td>\n",
              "      <td>0.000000</td>\n",
              "      <td>0.000000</td>\n",
              "      <td>0.947492</td>\n",
              "      <td>0.0</td>\n",
              "      <td>0.0</td>\n",
              "      <td>0.0</td>\n",
              "      <td>0.052508</td>\n",
              "      <td>0.0</td>\n",
              "    </tr>\n",
              "    <tr>\n",
              "      <th>13299</th>\n",
              "      <td>0.535783</td>\n",
              "      <td>0.262559</td>\n",
              "      <td>0.259230</td>\n",
              "      <td>0.376827</td>\n",
              "      <td>0.521252</td>\n",
              "      <td>0.403789</td>\n",
              "      <td>1.000000</td>\n",
              "      <td>0.0</td>\n",
              "      <td>0.596211</td>\n",
              "      <td>0.0</td>\n",
              "      <td>0.0</td>\n",
              "      <td>0.0</td>\n",
              "      <td>1.000000</td>\n",
              "      <td>1.000000</td>\n",
              "      <td>0.000000</td>\n",
              "      <td>0.403789</td>\n",
              "      <td>1.000000</td>\n",
              "      <td>0.596211</td>\n",
              "      <td>0.000000</td>\n",
              "      <td>0.0</td>\n",
              "      <td>0.0</td>\n",
              "      <td>0.0</td>\n",
              "      <td>0.403789</td>\n",
              "      <td>0.0</td>\n",
              "    </tr>\n",
              "    <tr>\n",
              "      <th>13300</th>\n",
              "      <td>0.780788</td>\n",
              "      <td>0.198615</td>\n",
              "      <td>0.138485</td>\n",
              "      <td>0.630230</td>\n",
              "      <td>0.416814</td>\n",
              "      <td>1.000000</td>\n",
              "      <td>1.000000</td>\n",
              "      <td>0.0</td>\n",
              "      <td>0.108199</td>\n",
              "      <td>0.0</td>\n",
              "      <td>0.0</td>\n",
              "      <td>0.0</td>\n",
              "      <td>1.000000</td>\n",
              "      <td>0.108199</td>\n",
              "      <td>0.891801</td>\n",
              "      <td>0.108199</td>\n",
              "      <td>0.891801</td>\n",
              "      <td>0.000000</td>\n",
              "      <td>0.000000</td>\n",
              "      <td>0.0</td>\n",
              "      <td>0.0</td>\n",
              "      <td>0.0</td>\n",
              "      <td>0.000000</td>\n",
              "      <td>0.0</td>\n",
              "    </tr>\n",
              "    <tr>\n",
              "      <th>13301</th>\n",
              "      <td>0.569186</td>\n",
              "      <td>0.740287</td>\n",
              "      <td>0.450543</td>\n",
              "      <td>0.454499</td>\n",
              "      <td>0.471722</td>\n",
              "      <td>0.000000</td>\n",
              "      <td>0.000000</td>\n",
              "      <td>0.0</td>\n",
              "      <td>0.780931</td>\n",
              "      <td>0.0</td>\n",
              "      <td>0.0</td>\n",
              "      <td>0.0</td>\n",
              "      <td>0.780931</td>\n",
              "      <td>0.219069</td>\n",
              "      <td>0.780931</td>\n",
              "      <td>1.000000</td>\n",
              "      <td>0.219069</td>\n",
              "      <td>0.000000</td>\n",
              "      <td>1.000000</td>\n",
              "      <td>0.0</td>\n",
              "      <td>0.0</td>\n",
              "      <td>0.0</td>\n",
              "      <td>0.000000</td>\n",
              "      <td>0.0</td>\n",
              "    </tr>\n",
              "  </tbody>\n",
              "</table>\n",
              "<p>13302 rows × 24 columns</p>\n",
              "</div>"
            ],
            "text/plain": [
              "            age  ...  feedback_User Friendly Website\n",
              "0      0.718750  ...                             0.0\n",
              "1      0.750000  ...                             0.0\n",
              "2      0.937500  ...                             1.0\n",
              "3      0.500000  ...                             0.0\n",
              "4      0.375000  ...                             0.0\n",
              "...         ...  ...                             ...\n",
              "13297  0.412727  ...                             0.0\n",
              "13298  0.350350  ...                             0.0\n",
              "13299  0.535783  ...                             0.0\n",
              "13300  0.780788  ...                             0.0\n",
              "13301  0.569186  ...                             0.0\n",
              "\n",
              "[13302 rows x 24 columns]"
            ]
          },
          "metadata": {
            "tags": []
          },
          "execution_count": 565
        }
      ]
    },
    {
      "cell_type": "code",
      "metadata": {
        "id": "_M9tTIOKNKcU"
      },
      "source": [
        ""
      ],
      "id": "_M9tTIOKNKcU",
      "execution_count": 565,
      "outputs": []
    },
    {
      "cell_type": "code",
      "metadata": {
        "colab": {
          "base_uri": "https://localhost:8080/"
        },
        "id": "bUgCKxaXIDvT",
        "outputId": "aedf7e8b-b2d5-427b-a268-639ed0a82827"
      },
      "source": [
        "y_train_unit = y_train.divide(5)\n",
        "import statsmodels.api as sm\n",
        "# print(y_train.shape,x_train.shape)\n",
        "logit_model = sm.Logit(y_train_unit,x_train)\n",
        "result = logit_model.fit()\n",
        "print(result.summary2())"
      ],
      "id": "bUgCKxaXIDvT",
      "execution_count": 566,
      "outputs": [
        {
          "output_type": "stream",
          "text": [
            "Optimization terminated successfully.\n",
            "         Current function value: 0.474972\n",
            "         Iterations 7\n",
            "                                     Results: Logit\n",
            "========================================================================================\n",
            "Model:                       Logit                   Pseudo R-squared:        0.315     \n",
            "Dependent Variable:          y                       AIC:                     12684.1525\n",
            "Date:                        2021-03-31 12:17        BIC:                     12864.0485\n",
            "No. Observations:            13302                   Log-Likelihood:          -6318.1   \n",
            "Df Model:                    23                      LL-Null:                 -9220.2   \n",
            "Df Residuals:                13278                   LLR p-value:             0.0000    \n",
            "Converged:                   1.0000                  Scale:                   1.0000    \n",
            "No. Iterations:              7.0000                                                     \n",
            "----------------------------------------------------------------------------------------\n",
            "                                         Coef.  Std.Err.    z     P>|z|   [0.025  0.975]\n",
            "----------------------------------------------------------------------------------------\n",
            "age                                      0.2943   0.0953   3.0885 0.0020  0.1075  0.4810\n",
            "days_since_last_login                    0.4098   0.1104   3.7104 0.0002  0.1933  0.6263\n",
            "avg_transaction_value                    0.1323   0.1019   1.2981 0.1942 -0.0674  0.3320\n",
            "avg_frequency_login_days                 0.3668   0.1192   3.0772 0.0021  0.1332  0.6005\n",
            "points_in_wallet                         0.6538   0.1777   3.6781 0.0002  0.3054  1.0022\n",
            "gender_M                                 0.0642   0.0491   1.3086 0.1907 -0.0320  0.1604\n",
            "region_category_Town                     0.1333   0.0488   2.7301 0.0063  0.0376  0.2290\n",
            "membership_category_Gold Membership     -1.4034   0.0931 -15.0691 0.0000 -1.5859 -1.2208\n",
            "membership_category_No Membership        0.5834   0.1216   4.7966 0.0000  0.3450  0.8218\n",
            "membership_category_Platinum Membership -1.6134   0.1009 -15.9957 0.0000 -1.8111 -1.4157\n",
            "membership_category_Premium Membership  -1.6548   0.1019 -16.2353 0.0000 -1.8545 -1.4550\n",
            "membership_category_Silver Membership   -1.1244   0.0968 -11.6102 0.0000 -1.3143 -0.9346\n",
            "joined_through_referral_Yes              0.1237   0.0494   2.5064 0.0122  0.0270  0.2205\n",
            "medium_of_operation_Desktop              0.4715   0.0746   6.3177 0.0000  0.3252  0.6177\n",
            "medium_of_operation_Smartphone           0.4752   0.0779   6.1017 0.0000  0.3225  0.6278\n",
            "used_special_discount_Yes                0.4598   0.0707   6.5076 0.0000  0.3213  0.5982\n",
            "offer_application_preference_Yes         0.4441   0.0728   6.1041 0.0000  0.3015  0.5867\n",
            "feedback_Poor Product Quality            0.2003   0.0899   2.2265 0.0260  0.0240  0.3766\n",
            "feedback_Poor Website                    0.1414   0.0868   1.6293 0.1033 -0.0287  0.3115\n",
            "feedback_Products always in Stock       -1.3549   0.0999 -13.5601 0.0000 -1.5507 -1.1591\n",
            "feedback_Quality Customer Care          -1.2928   0.1006 -12.8449 0.0000 -1.4901 -1.0955\n",
            "feedback_Reasonable Price               -1.3619   0.0977 -13.9425 0.0000 -1.5533 -1.1704\n",
            "feedback_Too many ads                    0.1559   0.0877   1.7773 0.0755 -0.0160  0.3278\n",
            "feedback_User Friendly Website          -1.4501   0.1002 -14.4705 0.0000 -1.6465 -1.2537\n",
            "========================================================================================\n",
            "\n"
          ],
          "name": "stdout"
        }
      ]
    },
    {
      "cell_type": "code",
      "metadata": {
        "id": "bvbGE5aONYn4"
      },
      "source": [
        ""
      ],
      "id": "bvbGE5aONYn4",
      "execution_count": 566,
      "outputs": []
    },
    {
      "cell_type": "markdown",
      "metadata": {
        "id": "61TyP623MTgE"
      },
      "source": [
        "__conclusion__ : p(> 0.05) for \n",
        "avg_transaction_value,\n",
        "gender_M, feedback_Poor Website, feedback_Too many ads"
      ],
      "id": "61TyP623MTgE"
    },
    {
      "cell_type": "code",
      "metadata": {
        "colab": {
          "base_uri": "https://localhost:8080/"
        },
        "id": "NCh45HtKMTJe",
        "outputId": "13f1df1f-cadf-41ff-d517-5397ec2400ee"
      },
      "source": [
        "cols=['avg_transaction_value','gender_M', 'feedback_Poor Website', 'feedback_Too many ads']\n",
        "x_train.drop(columns = cols,inplace =True)\n",
        "logit_model=sm.Logit(y_train_unit,x_train)\n",
        "result=logit_model.fit()\n",
        "print(result.summary2())"
      ],
      "id": "NCh45HtKMTJe",
      "execution_count": 567,
      "outputs": [
        {
          "output_type": "stream",
          "text": [
            "Optimization terminated successfully.\n",
            "         Current function value: 0.475293\n",
            "         Iterations 7\n",
            "                                     Results: Logit\n",
            "========================================================================================\n",
            "Model:                       Logit                   Pseudo R-squared:        0.314     \n",
            "Dependent Variable:          y                       AIC:                     12684.6975\n",
            "Date:                        2021-03-31 12:17        BIC:                     12834.6109\n",
            "No. Observations:            13302                   Log-Likelihood:          -6322.3   \n",
            "Df Model:                    19                      LL-Null:                 -9220.2   \n",
            "Df Residuals:                13282                   LLR p-value:             0.0000    \n",
            "Converged:                   1.0000                  Scale:                   1.0000    \n",
            "No. Iterations:              7.0000                                                     \n",
            "----------------------------------------------------------------------------------------\n",
            "                                         Coef.  Std.Err.    z     P>|z|   [0.025  0.975]\n",
            "----------------------------------------------------------------------------------------\n",
            "age                                      0.3132   0.0949   3.2998 0.0010  0.1272  0.4993\n",
            "days_since_last_login                    0.4341   0.1101   3.9437 0.0001  0.2183  0.6498\n",
            "avg_frequency_login_days                 0.3847   0.1189   3.2353 0.0012  0.1517  0.6178\n",
            "points_in_wallet                         0.7227   0.1761   4.1032 0.0000  0.3775  1.0679\n",
            "region_category_Town                     0.1396   0.0487   2.8648 0.0042  0.0441  0.2352\n",
            "membership_category_Gold Membership     -1.3839   0.0925 -14.9643 0.0000 -1.5651 -1.2026\n",
            "membership_category_No Membership        0.6060   0.1211   5.0037 0.0000  0.3686  0.8434\n",
            "membership_category_Platinum Membership -1.6036   0.1004 -15.9691 0.0000 -1.8004 -1.4068\n",
            "membership_category_Premium Membership  -1.6383   0.1014 -16.1578 0.0000 -1.8371 -1.4396\n",
            "membership_category_Silver Membership   -1.1053   0.0963 -11.4820 0.0000 -1.2940 -0.9166\n",
            "joined_through_referral_Yes              0.1264   0.0493   2.5627 0.0104  0.0297  0.2231\n",
            "medium_of_operation_Desktop              0.4901   0.0743   6.5959 0.0000  0.3445  0.6358\n",
            "medium_of_operation_Smartphone           0.5003   0.0774   6.4669 0.0000  0.3486  0.6519\n",
            "used_special_discount_Yes                0.4871   0.0700   6.9596 0.0000  0.3499  0.6243\n",
            "offer_application_preference_Yes         0.4735   0.0720   6.5732 0.0000  0.3323  0.6146\n",
            "feedback_Poor Product Quality            0.1310   0.0833   1.5725 0.1158 -0.0323  0.2943\n",
            "feedback_Products always in Stock       -1.3978   0.0894 -15.6398 0.0000 -1.5730 -1.2226\n",
            "feedback_Quality Customer Care          -1.3319   0.0897 -14.8497 0.0000 -1.5077 -1.1561\n",
            "feedback_Reasonable Price               -1.3958   0.0849 -16.4415 0.0000 -1.5622 -1.2294\n",
            "feedback_User Friendly Website          -1.4933   0.0900 -16.5890 0.0000 -1.6697 -1.3168\n",
            "========================================================================================\n",
            "\n"
          ],
          "name": "stdout"
        },
        {
          "output_type": "stream",
          "text": [
            "/usr/local/lib/python3.7/dist-packages/pandas/core/frame.py:4174: SettingWithCopyWarning: \n",
            "A value is trying to be set on a copy of a slice from a DataFrame\n",
            "\n",
            "See the caveats in the documentation: https://pandas.pydata.org/pandas-docs/stable/user_guide/indexing.html#returning-a-view-versus-a-copy\n",
            "  errors=errors,\n"
          ],
          "name": "stderr"
        }
      ]
    },
    {
      "cell_type": "code",
      "metadata": {
        "colab": {
          "base_uri": "https://localhost:8080/"
        },
        "id": "VmTOuskaOD9O",
        "outputId": "2e33e23b-bbb8-4c34-e082-c18c79083b6b"
      },
      "source": [
        "cols=['feedback_Poor Product Quality']\n",
        "x_train.drop(columns = cols,inplace =True)\n",
        "logit_model=sm.Logit(y_train_unit,x_train)\n",
        "result=logit_model.fit()\n",
        "print(result.summary2())"
      ],
      "id": "VmTOuskaOD9O",
      "execution_count": 569,
      "outputs": [
        {
          "output_type": "stream",
          "text": [
            "Optimization terminated successfully.\n",
            "         Current function value: 0.475380\n",
            "         Iterations 7\n",
            "                                     Results: Logit\n",
            "========================================================================================\n",
            "Model:                       Logit                   Pseudo R-squared:        0.314     \n",
            "Dependent Variable:          y                       AIC:                     12685.0045\n",
            "Date:                        2021-03-31 12:19        BIC:                     12827.4222\n",
            "No. Observations:            13302                   Log-Likelihood:          -6323.5   \n",
            "Df Model:                    18                      LL-Null:                 -9220.2   \n",
            "Df Residuals:                13283                   LLR p-value:             0.0000    \n",
            "Converged:                   1.0000                  Scale:                   1.0000    \n",
            "No. Iterations:              7.0000                                                     \n",
            "----------------------------------------------------------------------------------------\n",
            "                                         Coef.  Std.Err.    z     P>|z|   [0.025  0.975]\n",
            "----------------------------------------------------------------------------------------\n",
            "age                                      0.3178   0.0948   3.3506 0.0008  0.1319  0.5037\n",
            "days_since_last_login                    0.4363   0.1101   3.9638 0.0001  0.2206  0.6520\n",
            "avg_frequency_login_days                 0.3869   0.1189   3.2531 0.0011  0.1538  0.6200\n",
            "points_in_wallet                         0.7381   0.1758   4.1973 0.0000  0.3934  1.0827\n",
            "region_category_Town                     0.1404   0.0487   2.8800 0.0040  0.0448  0.2359\n",
            "membership_category_Gold Membership     -1.3829   0.0924 -14.9633 0.0000 -1.5640 -1.2018\n",
            "membership_category_No Membership        0.6076   0.1211   5.0187 0.0000  0.3703  0.8448\n",
            "membership_category_Platinum Membership -1.6021   0.1004 -15.9645 0.0000 -1.7988 -1.4054\n",
            "membership_category_Premium Membership  -1.6377   0.1013 -16.1606 0.0000 -1.8363 -1.4391\n",
            "membership_category_Silver Membership   -1.1038   0.0962 -11.4741 0.0000 -1.2923 -0.9152\n",
            "joined_through_referral_Yes              0.1258   0.0493   2.5506 0.0108  0.0291  0.2225\n",
            "medium_of_operation_Desktop              0.4960   0.0742   6.6837 0.0000  0.3505  0.6414\n",
            "medium_of_operation_Smartphone           0.5043   0.0773   6.5227 0.0000  0.3528  0.6559\n",
            "used_special_discount_Yes                0.4928   0.0699   7.0528 0.0000  0.3559  0.6298\n",
            "offer_application_preference_Yes         0.4784   0.0719   6.6501 0.0000  0.3374  0.6194\n",
            "feedback_Products always in Stock       -1.4237   0.0879 -16.1960 0.0000 -1.5960 -1.2514\n",
            "feedback_Quality Customer Care          -1.3579   0.0882 -15.3926 0.0000 -1.5308 -1.1850\n",
            "feedback_Reasonable Price               -1.4209   0.0834 -17.0294 0.0000 -1.5844 -1.2574\n",
            "feedback_User Friendly Website          -1.5190   0.0886 -17.1485 0.0000 -1.6926 -1.3454\n",
            "========================================================================================\n",
            "\n"
          ],
          "name": "stdout"
        },
        {
          "output_type": "stream",
          "text": [
            "/usr/local/lib/python3.7/dist-packages/pandas/core/frame.py:4174: SettingWithCopyWarning: \n",
            "A value is trying to be set on a copy of a slice from a DataFrame\n",
            "\n",
            "See the caveats in the documentation: https://pandas.pydata.org/pandas-docs/stable/user_guide/indexing.html#returning-a-view-versus-a-copy\n",
            "  errors=errors,\n"
          ],
          "name": "stderr"
        }
      ]
    },
    {
      "cell_type": "code",
      "metadata": {
        "colab": {
          "base_uri": "https://localhost:8080/"
        },
        "id": "cEPeLh_POdmM",
        "outputId": "f6f91406-62aa-4fbf-9542-5ed669ee1602"
      },
      "source": [
        "x_train.columns"
      ],
      "id": "cEPeLh_POdmM",
      "execution_count": 570,
      "outputs": [
        {
          "output_type": "execute_result",
          "data": {
            "text/plain": [
              "Index(['age', 'days_since_last_login', 'avg_frequency_login_days',\n",
              "       'points_in_wallet', 'region_category_Town',\n",
              "       'membership_category_Gold Membership',\n",
              "       'membership_category_No Membership',\n",
              "       'membership_category_Platinum Membership',\n",
              "       'membership_category_Premium Membership',\n",
              "       'membership_category_Silver Membership', 'joined_through_referral_Yes',\n",
              "       'medium_of_operation_Desktop', 'medium_of_operation_Smartphone',\n",
              "       'used_special_discount_Yes', 'offer_application_preference_Yes',\n",
              "       'feedback_Products always in Stock', 'feedback_Quality Customer Care',\n",
              "       'feedback_Reasonable Price', 'feedback_User Friendly Website'],\n",
              "      dtype='object')"
            ]
          },
          "metadata": {
            "tags": []
          },
          "execution_count": 570
        }
      ]
    },
    {
      "cell_type": "code",
      "metadata": {
        "id": "zsEMyM3lOreU"
      },
      "source": [
        "# finalizing datasets\n",
        "cols = ['age', 'days_since_last_login', 'avg_frequency_login_days',\n",
        "       'points_in_wallet', 'region_category_Town',\n",
        "       'membership_category_Gold Membership',\n",
        "       'membership_category_No Membership',\n",
        "       'membership_category_Platinum Membership',\n",
        "       'membership_category_Premium Membership',\n",
        "       'membership_category_Silver Membership', 'joined_through_referral_Yes',\n",
        "       'medium_of_operation_Desktop', 'medium_of_operation_Smartphone',\n",
        "       'used_special_discount_Yes', 'offer_application_preference_Yes',\n",
        "       'feedback_Products always in Stock', 'feedback_Quality Customer Care',\n",
        "       'feedback_Reasonable Price', 'feedback_User Friendly Website']\n",
        "\n",
        "x_test = x_test[cols]\n",
        "x_valid = x_valid[cols]\n"
      ],
      "id": "zsEMyM3lOreU",
      "execution_count": 571,
      "outputs": []
    },
    {
      "cell_type": "markdown",
      "metadata": {
        "id": "Asgd7ww-7DEn"
      },
      "source": [
        "# Building Models\n",
        "## 1. Logistic Regression"
      ],
      "id": "Asgd7ww-7DEn"
    },
    {
      "cell_type": "code",
      "metadata": {
        "colab": {
          "base_uri": "https://localhost:8080/"
        },
        "id": "tmTMBKuv7L5j",
        "outputId": "29a6c435-83cc-4243-839c-6fab71ec613c"
      },
      "source": [
        "# for normalized data\n",
        "from sklearn.linear_model import LogisticRegression\n",
        "logreg = LogisticRegression()\n",
        "logreg.fit(x_train,y_train)\n",
        "\n",
        "print('\\nAccuracy of train: {:.2f}'\n",
        "     .format(logreg.score(x_train, y_train)))\n",
        "\n",
        "y_pred = logreg.predict(x_test)\n",
        "print('\\nAccuracy of test: {:.2f}\\n'\n",
        "     .format(logreg.score(x_test, y_test)))"
      ],
      "id": "tmTMBKuv7L5j",
      "execution_count": 577,
      "outputs": [
        {
          "output_type": "stream",
          "text": [
            "/usr/local/lib/python3.7/dist-packages/sklearn/utils/validation.py:760: DataConversionWarning: A column-vector y was passed when a 1d array was expected. Please change the shape of y to (n_samples, ), for example using ravel().\n",
            "  y = column_or_1d(y, warn=True)\n"
          ],
          "name": "stderr"
        },
        {
          "output_type": "stream",
          "text": [
            "\n",
            "Accuracy of train: 0.77\n",
            "\n",
            "Accuracy of test: 0.72\n",
            "\n"
          ],
          "name": "stdout"
        },
        {
          "output_type": "stream",
          "text": [
            "/usr/local/lib/python3.7/dist-packages/sklearn/linear_model/_logistic.py:940: ConvergenceWarning: lbfgs failed to converge (status=1):\n",
            "STOP: TOTAL NO. of ITERATIONS REACHED LIMIT.\n",
            "\n",
            "Increase the number of iterations (max_iter) or scale the data as shown in:\n",
            "    https://scikit-learn.org/stable/modules/preprocessing.html\n",
            "Please also refer to the documentation for alternative solver options:\n",
            "    https://scikit-learn.org/stable/modules/linear_model.html#logistic-regression\n",
            "  extra_warning_msg=_LOGISTIC_SOLVER_CONVERGENCE_MSG)\n"
          ],
          "name": "stderr"
        }
      ]
    }
  ]
}