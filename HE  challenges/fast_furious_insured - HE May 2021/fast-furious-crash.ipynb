{
 "cells": [
  {
   "source": [
    "# Competition Details\n",
    "\n",
    "Hosted by - HackerEarth - June 2021\n",
    "\n",
    "Dataset and Problem - https://www.kaggle.com/infernape/fast-furious-and-insured\n",
    "\n",
    "__notebooks__:\n",
    "- https://www.kaggle.com/ashuto7h/fast-furious-crash\n",
    "\n",
    "- https://www.kaggle.com/ashuto7h/2-fast-furious-regression\n",
    "\n",
    "My final Score - 46.875\n",
    "\n",
    "Winner Final Score - 58.359  "
   ],
   "cell_type": "markdown",
   "metadata": {}
  },
  {
   "cell_type": "code",
   "execution_count": 1,
   "id": "fifth-berkeley",
   "metadata": {
    "_cell_guid": "b1076dfc-b9ad-4769-8c92-a6c4dae69d19",
    "_uuid": "8f2839f25d086af736a60e9eeb907d3b93b6e0e5",
    "execution": {
     "iopub.execute_input": "2021-06-04T04:53:06.579117Z",
     "iopub.status.busy": "2021-06-04T04:53:06.577434Z",
     "iopub.status.idle": "2021-06-04T04:53:06.787779Z",
     "shell.execute_reply": "2021-06-04T04:53:06.786892Z",
     "shell.execute_reply.started": "2021-06-04T04:38:29.134640Z"
    },
    "jupyter": {
     "source_hidden": true
    },
    "papermill": {
     "duration": 0.236356,
     "end_time": "2021-06-04T04:53:06.787967",
     "exception": false,
     "start_time": "2021-06-04T04:53:06.551611",
     "status": "completed"
    },
    "tags": []
   },
   "outputs": [
    {
     "name": "stdout",
     "output_type": "stream",
     "text": [
      "/kaggle/input\n",
      "/kaggle/input/fast-furious-and-insured\n",
      "/kaggle/input/fast-furious-and-insured/Fast_Furious_Insured\n",
      "/kaggle/input/fast-furious-and-insured/Fast_Furious_Insured/testImages\n",
      "/kaggle/input/fast-furious-and-insured/Fast_Furious_Insured/trainImages\n"
     ]
    }
   ],
   "source": [
    "# This Python 3 environment comes with many helpful analytics libraries installed\n",
    "# It is defined by the kaggle/python Docker image: https://github.com/kaggle/docker-python\n",
    "# For example, here's several helpful packages to load\n",
    "\n",
    "import numpy # linear algebra\n",
    "import pandas # data processing, CSV file I/O (e.g. pd.read_csv)\n",
    "\n",
    "# Input data files are available in the read-only \"../input/\" directory\n",
    "# For example, running this (by clicking run or pressing Shift+Enter) will list all files under the input directory\n",
    "\n",
    "import os\n",
    "for dirname, _, filenames in os.walk('/kaggle/input'):\n",
    "    print(dirname)        \n",
    "        # You can write up to 20GB to the current directory (/kaggle/working/) that gets preserved as output when you create a version using \"Save & Run All\" \n",
    "# You can also write temporary files to /kaggle/temp/, but they won't be saved outside of the current session"
   ]
  },
  {
   "cell_type": "code",
   "execution_count": 2,
   "id": "different-sussex",
   "metadata": {
    "execution": {
     "iopub.execute_input": "2021-06-04T04:53:06.834309Z",
     "iopub.status.busy": "2021-06-04T04:53:06.833706Z",
     "iopub.status.idle": "2021-06-04T04:53:06.875196Z",
     "shell.execute_reply": "2021-06-04T04:53:06.875632Z",
     "shell.execute_reply.started": "2021-06-04T04:38:30.294272Z"
    },
    "jupyter": {
     "source_hidden": true
    },
    "papermill": {
     "duration": 0.066539,
     "end_time": "2021-06-04T04:53:06.875772",
     "exception": false,
     "start_time": "2021-06-04T04:53:06.809233",
     "status": "completed"
    },
    "tags": []
   },
   "outputs": [
    {
     "data": {
      "text/html": [
       "<div>\n",
       "<style scoped>\n",
       "    .dataframe tbody tr th:only-of-type {\n",
       "        vertical-align: middle;\n",
       "    }\n",
       "\n",
       "    .dataframe tbody tr th {\n",
       "        vertical-align: top;\n",
       "    }\n",
       "\n",
       "    .dataframe thead th {\n",
       "        text-align: right;\n",
       "    }\n",
       "</style>\n",
       "<table border=\"1\" class=\"dataframe\">\n",
       "  <thead>\n",
       "    <tr style=\"text-align: right;\">\n",
       "      <th></th>\n",
       "      <th>Image_path</th>\n",
       "      <th>Insurance_company</th>\n",
       "      <th>Cost_of_vehicle</th>\n",
       "      <th>Min_coverage</th>\n",
       "      <th>Expiry_date</th>\n",
       "      <th>Max_coverage</th>\n",
       "      <th>Condition</th>\n",
       "      <th>Amount</th>\n",
       "    </tr>\n",
       "  </thead>\n",
       "  <tbody>\n",
       "    <tr>\n",
       "      <th>0</th>\n",
       "      <td>img_4513976.jpg</td>\n",
       "      <td>BQ</td>\n",
       "      <td>41500.0</td>\n",
       "      <td>1037.5</td>\n",
       "      <td>2026-12-03</td>\n",
       "      <td>36142.68</td>\n",
       "      <td>0</td>\n",
       "      <td>0.0</td>\n",
       "    </tr>\n",
       "    <tr>\n",
       "      <th>1</th>\n",
       "      <td>img_7764995.jpg</td>\n",
       "      <td>BQ</td>\n",
       "      <td>50700.0</td>\n",
       "      <td>1267.5</td>\n",
       "      <td>2025-07-10</td>\n",
       "      <td>12753.00</td>\n",
       "      <td>1</td>\n",
       "      <td>6194.0</td>\n",
       "    </tr>\n",
       "    <tr>\n",
       "      <th>2</th>\n",
       "      <td>img_451308.jpg</td>\n",
       "      <td>A</td>\n",
       "      <td>49500.0</td>\n",
       "      <td>1237.5</td>\n",
       "      <td>2022-08-11</td>\n",
       "      <td>43102.68</td>\n",
       "      <td>0</td>\n",
       "      <td>0.0</td>\n",
       "    </tr>\n",
       "    <tr>\n",
       "      <th>3</th>\n",
       "      <td>img_7768372.jpg</td>\n",
       "      <td>A</td>\n",
       "      <td>33500.0</td>\n",
       "      <td>837.5</td>\n",
       "      <td>2022-08-02</td>\n",
       "      <td>8453.00</td>\n",
       "      <td>1</td>\n",
       "      <td>7699.0</td>\n",
       "    </tr>\n",
       "    <tr>\n",
       "      <th>4</th>\n",
       "      <td>img_7765274.jpg</td>\n",
       "      <td>AC</td>\n",
       "      <td>27600.0</td>\n",
       "      <td>690.0</td>\n",
       "      <td>2026-05-01</td>\n",
       "      <td>6978.00</td>\n",
       "      <td>1</td>\n",
       "      <td>8849.0</td>\n",
       "    </tr>\n",
       "    <tr>\n",
       "      <th>...</th>\n",
       "      <td>...</td>\n",
       "      <td>...</td>\n",
       "      <td>...</td>\n",
       "      <td>...</td>\n",
       "      <td>...</td>\n",
       "      <td>...</td>\n",
       "      <td>...</td>\n",
       "      <td>...</td>\n",
       "    </tr>\n",
       "    <tr>\n",
       "      <th>1394</th>\n",
       "      <td>img_4637237.jpg</td>\n",
       "      <td>DA</td>\n",
       "      <td>52300.0</td>\n",
       "      <td>1307.5</td>\n",
       "      <td>2025-02-17</td>\n",
       "      <td>13153.00</td>\n",
       "      <td>1</td>\n",
       "      <td>4565.0</td>\n",
       "    </tr>\n",
       "    <tr>\n",
       "      <th>1395</th>\n",
       "      <td>img_4637000.jpg</td>\n",
       "      <td>BQ</td>\n",
       "      <td>41500.0</td>\n",
       "      <td>1037.5</td>\n",
       "      <td>2023-12-30</td>\n",
       "      <td>10453.00</td>\n",
       "      <td>1</td>\n",
       "      <td>3363.0</td>\n",
       "    </tr>\n",
       "    <tr>\n",
       "      <th>1396</th>\n",
       "      <td>img_4637503.jpg</td>\n",
       "      <td>AA</td>\n",
       "      <td>31400.0</td>\n",
       "      <td>785.0</td>\n",
       "      <td>2022-11-25</td>\n",
       "      <td>7928.00</td>\n",
       "      <td>1</td>\n",
       "      <td>5336.0</td>\n",
       "    </tr>\n",
       "    <tr>\n",
       "      <th>1397</th>\n",
       "      <td>img_4515101.jpg</td>\n",
       "      <td>A</td>\n",
       "      <td>33200.0</td>\n",
       "      <td>830.0</td>\n",
       "      <td>2022-10-10</td>\n",
       "      <td>8378.00</td>\n",
       "      <td>1</td>\n",
       "      <td>8734.0</td>\n",
       "    </tr>\n",
       "    <tr>\n",
       "      <th>1398</th>\n",
       "      <td>img_4636333.jpg</td>\n",
       "      <td>B</td>\n",
       "      <td>NaN</td>\n",
       "      <td>NaN</td>\n",
       "      <td>2024-10-30</td>\n",
       "      <td>NaN</td>\n",
       "      <td>1</td>\n",
       "      <td>NaN</td>\n",
       "    </tr>\n",
       "  </tbody>\n",
       "</table>\n",
       "<p>1399 rows × 8 columns</p>\n",
       "</div>"
      ],
      "text/plain": [
       "           Image_path Insurance_company  Cost_of_vehicle  Min_coverage  \\\n",
       "0     img_4513976.jpg                BQ          41500.0        1037.5   \n",
       "1     img_7764995.jpg                BQ          50700.0        1267.5   \n",
       "2      img_451308.jpg                 A          49500.0        1237.5   \n",
       "3     img_7768372.jpg                 A          33500.0         837.5   \n",
       "4     img_7765274.jpg                AC          27600.0         690.0   \n",
       "...               ...               ...              ...           ...   \n",
       "1394  img_4637237.jpg                DA          52300.0        1307.5   \n",
       "1395  img_4637000.jpg                BQ          41500.0        1037.5   \n",
       "1396  img_4637503.jpg                AA          31400.0         785.0   \n",
       "1397  img_4515101.jpg                 A          33200.0         830.0   \n",
       "1398  img_4636333.jpg                 B              NaN           NaN   \n",
       "\n",
       "     Expiry_date  Max_coverage  Condition  Amount  \n",
       "0     2026-12-03      36142.68          0     0.0  \n",
       "1     2025-07-10      12753.00          1  6194.0  \n",
       "2     2022-08-11      43102.68          0     0.0  \n",
       "3     2022-08-02       8453.00          1  7699.0  \n",
       "4     2026-05-01       6978.00          1  8849.0  \n",
       "...          ...           ...        ...     ...  \n",
       "1394  2025-02-17      13153.00          1  4565.0  \n",
       "1395  2023-12-30      10453.00          1  3363.0  \n",
       "1396  2022-11-25       7928.00          1  5336.0  \n",
       "1397  2022-10-10       8378.00          1  8734.0  \n",
       "1398  2024-10-30           NaN          1     NaN  \n",
       "\n",
       "[1399 rows x 8 columns]"
      ]
     },
     "execution_count": 2,
     "metadata": {},
     "output_type": "execute_result"
    }
   ],
   "source": [
    "train_df = pandas.read_csv('/kaggle/input/fast-furious-and-insured/Fast_Furious_Insured/train.csv')\n",
    "train_df"
   ]
  },
  {
   "cell_type": "code",
   "execution_count": 3,
   "id": "educated-bracket",
   "metadata": {
    "execution": {
     "iopub.execute_input": "2021-06-04T04:53:06.924769Z",
     "iopub.status.busy": "2021-06-04T04:53:06.924084Z",
     "iopub.status.idle": "2021-06-04T04:53:06.944360Z",
     "shell.execute_reply": "2021-06-04T04:53:06.943809Z",
     "shell.execute_reply.started": "2021-06-04T04:38:30.338291Z"
    },
    "jupyter": {
     "source_hidden": true
    },
    "papermill": {
     "duration": 0.045409,
     "end_time": "2021-06-04T04:53:06.944469",
     "exception": false,
     "start_time": "2021-06-04T04:53:06.899060",
     "status": "completed"
    },
    "tags": []
   },
   "outputs": [],
   "source": [
    "%%bash\n",
    "mkdir /kaggle/working/train/damaged -p\n",
    "mkdir /kaggle/working/train/undamaged -p\n",
    "mkdir /kaggle/working/test/damaged -p\n",
    "mkdir /kaggle/working/test/undamaged -p"
   ]
  },
  {
   "cell_type": "code",
   "execution_count": 4,
   "id": "confirmed-methodology",
   "metadata": {
    "execution": {
     "iopub.execute_input": "2021-06-04T04:53:06.991716Z",
     "iopub.status.busy": "2021-06-04T04:53:06.990997Z",
     "iopub.status.idle": "2021-06-04T04:53:20.863133Z",
     "shell.execute_reply": "2021-06-04T04:53:20.862661Z",
     "shell.execute_reply.started": "2021-06-04T04:38:30.364465Z"
    },
    "jupyter": {
     "source_hidden": true
    },
    "papermill": {
     "duration": 13.898128,
     "end_time": "2021-06-04T04:53:20.863271",
     "exception": false,
     "start_time": "2021-06-04T04:53:06.965143",
     "status": "completed"
    },
    "tags": []
   },
   "outputs": [
    {
     "data": {
      "application/vnd.jupyter.widget-view+json": {
       "model_id": "f28a7c5a3a7a406bb1957e96277834c3",
       "version_major": 2,
       "version_minor": 0
      },
      "text/plain": [
       "0it [00:00, ?it/s]"
      ]
     },
     "metadata": {},
     "output_type": "display_data"
    }
   ],
   "source": [
    "from tqdm.notebook import tqdm\n",
    "for dirname,_,filenames in tqdm(os.walk('/kaggle/input/fast-furious-and-insured/Fast_Furious_Insured/trainImages')):\n",
    "    for file in filenames:\n",
    "        condition = train_df.loc[train_df['Image_path'] == file, 'Condition']\n",
    "        if condition.iloc[0] == 0:\n",
    "            os.system(f'cp {dirname}/{file} /kaggle/working/train/undamaged')\n",
    "        else:\n",
    "            os.system(f'cp {dirname}/{file} /kaggle/working/train/damaged')"
   ]
  },
  {
   "cell_type": "code",
   "execution_count": 5,
   "id": "according-massage",
   "metadata": {
    "execution": {
     "iopub.execute_input": "2021-06-04T04:53:20.911560Z",
     "iopub.status.busy": "2021-06-04T04:53:20.911045Z",
     "iopub.status.idle": "2021-06-04T04:53:26.677395Z",
     "shell.execute_reply": "2021-06-04T04:53:26.676483Z",
     "shell.execute_reply.started": "2021-06-04T04:38:47.424246Z"
    },
    "jupyter": {
     "source_hidden": true
    },
    "papermill": {
     "duration": 5.792645,
     "end_time": "2021-06-04T04:53:26.677540",
     "exception": false,
     "start_time": "2021-06-04T04:53:20.884895",
     "status": "completed"
    },
    "tags": []
   },
   "outputs": [],
   "source": [
    "import matplotlib.pyplot as pyplot\n",
    "import seaborn\n",
    "\n",
    "import keras\n",
    "from keras.models import Sequential\n",
    "from keras.layers import Dense, Conv2D , MaxPool2D , Flatten , Dropout \n",
    "from keras.preprocessing.image import ImageDataGenerator\n",
    "from keras.optimizers import Adam\n",
    "from sklearn.metrics import classification_report,confusion_matrix\n",
    "\n",
    "import tensorflow as tflow\n",
    "import cv2\n",
    "import os\n",
    "import numpy "
   ]
  },
  {
   "cell_type": "code",
   "execution_count": 6,
   "id": "naughty-penetration",
   "metadata": {
    "execution": {
     "iopub.execute_input": "2021-06-04T04:53:26.727106Z",
     "iopub.status.busy": "2021-06-04T04:53:26.726550Z",
     "iopub.status.idle": "2021-06-04T04:53:36.774622Z",
     "shell.execute_reply": "2021-06-04T04:53:36.775216Z",
     "shell.execute_reply.started": "2021-06-04T04:38:52.988674Z"
    },
    "jupyter": {
     "source_hidden": true
    },
    "papermill": {
     "duration": 10.07615,
     "end_time": "2021-06-04T04:53:36.775417",
     "exception": false,
     "start_time": "2021-06-04T04:53:26.699267",
     "status": "completed"
    },
    "tags": []
   },
   "outputs": [
    {
     "name": "stderr",
     "output_type": "stream",
     "text": [
      "/opt/conda/lib/python3.7/site-packages/ipykernel_launcher.py:15: VisibleDeprecationWarning: Creating an ndarray from ragged nested sequences (which is a list-or-tuple of lists-or-tuples-or ndarrays with different lengths or shapes) is deprecated. If you meant to do this, you must specify 'dtype=object' when creating the ndarray\n",
      "  from ipykernel import kernelapp as app\n"
     ]
    }
   ],
   "source": [
    "labels = ['damaged','undamaged']\n",
    "img_size = 224\n",
    "def get_data(data_dir):\n",
    "    data = [] \n",
    "    for label in labels: \n",
    "        path = os.path.join(data_dir, label)\n",
    "        class_num = labels.index(label)\n",
    "        for img in os.listdir(path):\n",
    "            try:\n",
    "                img_arr = cv2.imread(os.path.join(path, img))[...,::-1] #convert BGR to RGB format\n",
    "                resized_arr = cv2.resize(img_arr, (img_size, img_size)) # Reshaping images to preferred size\n",
    "                data.append([resized_arr, class_num])\n",
    "            except Exception as e:\n",
    "                print(e)\n",
    "    return numpy.array(data)\n",
    "\n",
    "train = get_data('/kaggle/working/train')"
   ]
  },
  {
   "cell_type": "code",
   "execution_count": 7,
   "id": "genetic-burner",
   "metadata": {
    "execution": {
     "iopub.execute_input": "2021-06-04T04:53:36.827152Z",
     "iopub.status.busy": "2021-06-04T04:53:36.826327Z",
     "iopub.status.idle": "2021-06-04T04:53:36.969108Z",
     "shell.execute_reply": "2021-06-04T04:53:36.968659Z",
     "shell.execute_reply.started": "2021-06-04T04:39:02.901621Z"
    },
    "jupyter": {
     "source_hidden": true
    },
    "papermill": {
     "duration": 0.17061,
     "end_time": "2021-06-04T04:53:36.969233",
     "exception": false,
     "start_time": "2021-06-04T04:53:36.798623",
     "status": "completed"
    },
    "tags": []
   },
   "outputs": [
    {
     "name": "stderr",
     "output_type": "stream",
     "text": [
      "/opt/conda/lib/python3.7/site-packages/seaborn/_decorators.py:43: FutureWarning: Pass the following variable as a keyword arg: x. From version 0.12, the only valid positional argument will be `data`, and passing other arguments without an explicit keyword will result in an error or misinterpretation.\n",
      "  FutureWarning\n"
     ]
    },
    {
     "data": {
      "text/plain": [
       "<AxesSubplot:ylabel='count'>"
      ]
     },
     "execution_count": 7,
     "metadata": {},
     "output_type": "execute_result"
    },
    {
     "data": {
      "image/png": "[encoded data removed]",
      "text/plain": [
       "<Figure size 432x288 with 1 Axes>"
      ]
     },
     "metadata": {},
     "output_type": "display_data"
    }
   ],
   "source": [
    "l = []\n",
    "for i in train:\n",
    "    if(i[1] == 0):\n",
    "        l.append(\"damaged\")\n",
    "    else:\n",
    "        l.append(\"undamaged\")\n",
    "seaborn.set_style('darkgrid')\n",
    "seaborn.countplot(l)"
   ]
  },
  {
   "cell_type": "code",
   "execution_count": 8,
   "id": "restricted-madison",
   "metadata": {
    "execution": {
     "iopub.execute_input": "2021-06-04T04:53:37.023264Z",
     "iopub.status.busy": "2021-06-04T04:53:37.022086Z",
     "iopub.status.idle": "2021-06-04T04:53:37.613716Z",
     "shell.execute_reply": "2021-06-04T04:53:37.614160Z",
     "shell.execute_reply.started": "2021-06-04T04:39:03.046803Z"
    },
    "papermill": {
     "duration": 0.622094,
     "end_time": "2021-06-04T04:53:37.614326",
     "exception": false,
     "start_time": "2021-06-04T04:53:36.992232",
     "status": "completed"
    },
    "tags": []
   },
   "outputs": [],
   "source": [
    "x_train = []\n",
    "y_train = []\n",
    "\n",
    "for feature, label in train:\n",
    "  x_train.append(feature)\n",
    "  y_train.append(label)\n",
    "\n",
    "# Normalize the data\n",
    "x_train = numpy.array(x_train) / 255\n",
    "\n",
    "x_train.reshape(-1, img_size, img_size, 1)\n",
    "y_train = numpy.array(y_train)"
   ]
  },
  {
   "cell_type": "code",
   "execution_count": 9,
   "id": "horizontal-orbit",
   "metadata": {
    "execution": {
     "iopub.execute_input": "2021-06-04T04:53:37.665317Z",
     "iopub.status.busy": "2021-06-04T04:53:37.664512Z",
     "iopub.status.idle": "2021-06-04T04:53:37.667743Z",
     "shell.execute_reply": "2021-06-04T04:53:37.668195Z",
     "shell.execute_reply.started": "2021-06-04T04:46:19.755525Z"
    },
    "papermill": {
     "duration": 0.030763,
     "end_time": "2021-06-04T04:53:37.668321",
     "exception": false,
     "start_time": "2021-06-04T04:53:37.637558",
     "status": "completed"
    },
    "tags": []
   },
   "outputs": [
    {
     "data": {
      "text/plain": [
       "array([0, 1])"
      ]
     },
     "execution_count": 9,
     "metadata": {},
     "output_type": "execute_result"
    }
   ],
   "source": [
    "numpy.unique(y_train)"
   ]
  },
  {
   "cell_type": "markdown",
   "id": "expressed-brooklyn",
   "metadata": {
    "papermill": {
     "duration": 0.023356,
     "end_time": "2021-06-04T04:53:37.714578",
     "exception": false,
     "start_time": "2021-06-04T04:53:37.691222",
     "status": "completed"
    },
    "tags": []
   },
   "source": [
    "### Smote Oversampling"
   ]
  },
  {
   "cell_type": "code",
   "execution_count": 10,
   "id": "quantitative-standing",
   "metadata": {
    "execution": {
     "iopub.execute_input": "2021-06-04T04:53:37.765056Z",
     "iopub.status.busy": "2021-06-04T04:53:37.764322Z",
     "iopub.status.idle": "2021-06-04T04:53:37.767851Z",
     "shell.execute_reply": "2021-06-04T04:53:37.767445Z",
     "shell.execute_reply.started": "2021-06-04T04:39:03.645363Z"
    },
    "jupyter": {
     "source_hidden": true
    },
    "papermill": {
     "duration": 0.030094,
     "end_time": "2021-06-04T04:53:37.767958",
     "exception": false,
     "start_time": "2021-06-04T04:53:37.737864",
     "status": "completed"
    },
    "tags": []
   },
   "outputs": [
    {
     "data": {
      "text/plain": [
       "(1399, 224, 224, 3)"
      ]
     },
     "execution_count": 10,
     "metadata": {},
     "output_type": "execute_result"
    }
   ],
   "source": [
    "x_train.shape"
   ]
  },
  {
   "cell_type": "code",
   "execution_count": 11,
   "id": "extraordinary-karen",
   "metadata": {
    "execution": {
     "iopub.execute_input": "2021-06-04T04:53:37.819897Z",
     "iopub.status.busy": "2021-06-04T04:53:37.819297Z",
     "iopub.status.idle": "2021-06-04T04:53:37.822396Z",
     "shell.execute_reply": "2021-06-04T04:53:37.822780Z",
     "shell.execute_reply.started": "2021-06-04T04:39:03.659691Z"
    },
    "jupyter": {
     "source_hidden": true
    },
    "papermill": {
     "duration": 0.03121,
     "end_time": "2021-06-04T04:53:37.822911",
     "exception": false,
     "start_time": "2021-06-04T04:53:37.791701",
     "status": "completed"
    },
    "tags": []
   },
   "outputs": [
    {
     "data": {
      "text/plain": [
       "(1399, 150528)"
      ]
     },
     "execution_count": 11,
     "metadata": {},
     "output_type": "execute_result"
    }
   ],
   "source": [
    "ReX_train = x_train.reshape(1399, 224 * 224 * 3)\n",
    "ReX_train.shape"
   ]
  },
  {
   "cell_type": "code",
   "execution_count": 12,
   "id": "alien-theta",
   "metadata": {
    "execution": {
     "iopub.execute_input": "2021-06-04T04:53:37.876922Z",
     "iopub.status.busy": "2021-06-04T04:53:37.876233Z",
     "iopub.status.idle": "2021-06-04T04:53:43.051552Z",
     "shell.execute_reply": "2021-06-04T04:53:43.051106Z",
     "shell.execute_reply.started": "2021-06-04T04:39:03.670458Z"
    },
    "papermill": {
     "duration": 5.203751,
     "end_time": "2021-06-04T04:53:43.051677",
     "exception": false,
     "start_time": "2021-06-04T04:53:37.847926",
     "status": "completed"
    },
    "tags": []
   },
   "outputs": [
    {
     "data": {
      "text/plain": [
       "((2600, 150528), (2600,))"
      ]
     },
     "execution_count": 12,
     "metadata": {},
     "output_type": "execute_result"
    }
   ],
   "source": [
    "from imblearn.over_sampling import SMOTE\n",
    "smote = SMOTE(random_state = 42)\n",
    "x_train2, y_train2 = smote.fit_resample(ReX_train,y_train)\n",
    "x_train2.shape,y_train2.shape"
   ]
  },
  {
   "cell_type": "code",
   "execution_count": 13,
   "id": "liked-costume",
   "metadata": {
    "execution": {
     "iopub.execute_input": "2021-06-04T04:53:43.108343Z",
     "iopub.status.busy": "2021-06-04T04:53:43.106907Z",
     "iopub.status.idle": "2021-06-04T04:53:43.112521Z",
     "shell.execute_reply": "2021-06-04T04:53:43.112117Z",
     "shell.execute_reply.started": "2021-06-04T04:39:08.921239Z"
    },
    "papermill": {
     "duration": 0.036158,
     "end_time": "2021-06-04T04:53:43.112633",
     "exception": false,
     "start_time": "2021-06-04T04:53:43.076475",
     "status": "completed"
    },
    "tags": []
   },
   "outputs": [
    {
     "data": {
      "text/plain": [
       "(2600, 224, 224, 3)"
      ]
     },
     "execution_count": 13,
     "metadata": {},
     "output_type": "execute_result"
    }
   ],
   "source": [
    "x_train2 = x_train2.reshape(-1,224,224,3)\n",
    "x_train2.shape"
   ]
  },
  {
   "cell_type": "code",
   "execution_count": 14,
   "id": "finished-heavy",
   "metadata": {
    "execution": {
     "iopub.execute_input": "2021-06-04T04:53:43.167813Z",
     "iopub.status.busy": "2021-06-04T04:53:43.167336Z",
     "iopub.status.idle": "2021-06-04T04:53:43.297037Z",
     "shell.execute_reply": "2021-06-04T04:53:43.297505Z",
     "shell.execute_reply.started": "2021-06-04T04:39:08.930318Z"
    },
    "papermill": {
     "duration": 0.160619,
     "end_time": "2021-06-04T04:53:43.297676",
     "exception": false,
     "start_time": "2021-06-04T04:53:43.137057",
     "status": "completed"
    },
    "tags": []
   },
   "outputs": [
    {
     "name": "stderr",
     "output_type": "stream",
     "text": [
      "/opt/conda/lib/python3.7/site-packages/seaborn/_decorators.py:43: FutureWarning: Pass the following variable as a keyword arg: x. From version 0.12, the only valid positional argument will be `data`, and passing other arguments without an explicit keyword will result in an error or misinterpretation.\n",
      "  FutureWarning\n"
     ]
    },
    {
     "data": {
      "text/plain": [
       "<AxesSubplot:ylabel='count'>"
      ]
     },
     "execution_count": 14,
     "metadata": {},
     "output_type": "execute_result"
    },
    {
     "data": {
      "image/png": "[encoded data removed]",
      "text/plain": [
       "<Figure size 432x288 with 1 Axes>"
      ]
     },
     "metadata": {},
     "output_type": "display_data"
    }
   ],
   "source": [
    "l = []\n",
    "for i in y_train2:\n",
    "    if(i == 0):\n",
    "        l.append(\"damaged\")\n",
    "    else:\n",
    "        l.append(\"undamaged\")\n",
    "seaborn.set_style('darkgrid')\n",
    "seaborn.countplot(l)"
   ]
  },
  {
   "cell_type": "markdown",
   "id": "configured-respondent",
   "metadata": {
    "papermill": {
     "duration": 0.026188,
     "end_time": "2021-06-04T04:53:43.350936",
     "exception": false,
     "start_time": "2021-06-04T04:53:43.324748",
     "status": "completed"
    },
    "tags": []
   },
   "source": [
    "# Models"
   ]
  },
  {
   "cell_type": "code",
   "execution_count": 15,
   "id": "increased-azerbaijan",
   "metadata": {
    "execution": {
     "iopub.execute_input": "2021-06-04T04:53:43.410103Z",
     "iopub.status.busy": "2021-06-04T04:53:43.409234Z",
     "iopub.status.idle": "2021-06-04T04:53:43.412311Z",
     "shell.execute_reply": "2021-06-04T04:53:43.411903Z",
     "shell.execute_reply.started": "2021-06-04T04:39:09.058831Z"
    },
    "jupyter": {
     "source_hidden": true
    },
    "papermill": {
     "duration": 0.035159,
     "end_time": "2021-06-04T04:53:43.412422",
     "exception": false,
     "start_time": "2021-06-04T04:53:43.377263",
     "status": "completed"
    },
    "tags": []
   },
   "outputs": [],
   "source": [
    "def simple_model():\n",
    "    model = Sequential()\n",
    "    model.add(Conv2D(32,3,padding=\"same\", activation=\"relu\", input_shape=(224,224,3)))\n",
    "    model.add(MaxPool2D())\n",
    "\n",
    "    model.add(Conv2D(32, 3, padding=\"same\", activation=\"relu\"))\n",
    "    model.add(MaxPool2D())\n",
    "\n",
    "    model.add(Conv2D(64, 3, padding=\"same\", activation=\"relu\"))\n",
    "    model.add(MaxPool2D())\n",
    "    model.add(Dropout(0.4))\n",
    "\n",
    "    model.add(Flatten())\n",
    "    model.add(Dense(128,activation=\"relu\"))\n",
    "    model.add(Dense(2, activation=\"softmax\"))\n",
    "    print('Simple Model')\n",
    "    model.summary()\n",
    "    return model"
   ]
  },
  {
   "cell_type": "code",
   "execution_count": 16,
   "id": "polished-judge",
   "metadata": {
    "execution": {
     "iopub.execute_input": "2021-06-04T04:53:43.482251Z",
     "iopub.status.busy": "2021-06-04T04:53:43.481492Z",
     "iopub.status.idle": "2021-06-04T04:53:43.483677Z",
     "shell.execute_reply": "2021-06-04T04:53:43.484111Z",
     "shell.execute_reply.started": "2021-06-04T04:39:09.068034Z"
    },
    "papermill": {
     "duration": 0.046837,
     "end_time": "2021-06-04T04:53:43.484239",
     "exception": false,
     "start_time": "2021-06-04T04:53:43.437402",
     "status": "completed"
    },
    "tags": []
   },
   "outputs": [],
   "source": [
    "# xception model\n",
    "\n",
    "import tensorflow as tf\n",
    "from tensorflow.keras.layers import Input,Dense,Conv2D,Add\n",
    "from tensorflow.keras.layers import SeparableConv2D,ReLU\n",
    "from tensorflow.keras.layers import BatchNormalization,MaxPool2D\n",
    "from tensorflow.keras.layers import GlobalAvgPool2D\n",
    "from tensorflow.keras import Model\n",
    "# creating the Conv-Batch Norm block\n",
    "\n",
    "def conv_bn(x, filters, kernel_size, strides=1):\n",
    "    \n",
    "    x = Conv2D(filters=filters, \n",
    "               kernel_size = kernel_size, \n",
    "               strides=strides, \n",
    "               padding = 'same', \n",
    "               use_bias = False)(x)\n",
    "    x = BatchNormalization()(x)\n",
    "    return x\n",
    "\n",
    "# creating separableConv-Batch Norm block\n",
    "\n",
    "def sep_bn(x, filters, kernel_size, strides=1):\n",
    "    \n",
    "    x = SeparableConv2D(filters=filters, \n",
    "                        kernel_size = kernel_size, \n",
    "                        strides=strides, \n",
    "                        padding = 'same', \n",
    "                        use_bias = False)(x)\n",
    "    x = BatchNormalization()(x)\n",
    "    return x\n",
    "\n",
    "# entry flow\n",
    "\n",
    "def entry_flow(x):\n",
    "    \n",
    "    x = conv_bn(x, filters =32, kernel_size =3, strides=2)\n",
    "    x = ReLU()(x)\n",
    "    x = conv_bn(x, filters =64, kernel_size =3, strides=1)\n",
    "    tensor = ReLU()(x)\n",
    "    \n",
    "    x = sep_bn(tensor, filters = 128, kernel_size =3)\n",
    "    x = ReLU()(x)\n",
    "    x = sep_bn(x, filters = 128, kernel_size =3)\n",
    "    x = MaxPool2D(pool_size=3, strides=2, padding = 'same')(x)\n",
    "    \n",
    "    tensor = conv_bn(tensor, filters=128, kernel_size = 1,strides=2)\n",
    "    x = Add()([tensor,x])\n",
    "    \n",
    "    x = ReLU()(x)\n",
    "    x = sep_bn(x, filters =256, kernel_size=3)\n",
    "    x = ReLU()(x)\n",
    "    x = sep_bn(x, filters =256, kernel_size=3)\n",
    "    x = MaxPool2D(pool_size=3, strides=2, padding = 'same')(x)\n",
    "    \n",
    "    tensor = conv_bn(tensor, filters=256, kernel_size = 1,strides=2)\n",
    "    x = Add()([tensor,x])\n",
    "    \n",
    "    x = ReLU()(x)\n",
    "    x = sep_bn(x, filters =728, kernel_size=3)\n",
    "    x = ReLU()(x)\n",
    "    x = sep_bn(x, filters =728, kernel_size=3)\n",
    "    x = MaxPool2D(pool_size=3, strides=2, padding = 'same')(x)\n",
    "    \n",
    "    tensor = conv_bn(tensor, filters=728, kernel_size = 1,strides=2)\n",
    "    x = Add()([tensor,x])\n",
    "    return x\n",
    "\n",
    "# middle flow\n",
    "\n",
    "def middle_flow(tensor):\n",
    "    \n",
    "    for _ in range(8):\n",
    "        x = ReLU()(tensor)\n",
    "        x = sep_bn(x, filters = 728, kernel_size = 3)\n",
    "        x = ReLU()(x)\n",
    "        x = sep_bn(x, filters = 728, kernel_size = 3)\n",
    "        x = ReLU()(x)\n",
    "        x = sep_bn(x, filters = 728, kernel_size = 3)\n",
    "        x = ReLU()(x)\n",
    "        tensor = Add()([tensor,x])\n",
    "        \n",
    "    return tensor\n",
    "\n",
    "def exit_flow(tensor):\n",
    "    \n",
    "    x = ReLU()(tensor)\n",
    "    x = sep_bn(x, filters = 728,  kernel_size=3)\n",
    "    x = ReLU()(x)\n",
    "    x = sep_bn(x, filters = 1024,  kernel_size=3)\n",
    "    x = MaxPool2D(pool_size = 3, strides = 2, padding ='same')(x)\n",
    "    \n",
    "    tensor = conv_bn(tensor, filters =1024, kernel_size=1, strides =2)\n",
    "    x = Add()([tensor,x])\n",
    "    \n",
    "    x = sep_bn(x, filters = 1536,  kernel_size=3)\n",
    "    x = ReLU()(x)\n",
    "    x = sep_bn(x, filters = 2048,  kernel_size=3)\n",
    "    x = GlobalAvgPool2D()(x)\n",
    "    \n",
    "    x = Dense (units = 2, activation = 'softmax')(x)\n",
    "    \n",
    "    return x\n",
    "\n",
    "def xception_model():\n",
    "#     shape = 299 preferred\n",
    "    input = Input(shape = (224,224,3))\n",
    "    x = entry_flow(input)\n",
    "    x = middle_flow(x)\n",
    "    output = exit_flow(x)\n",
    "\n",
    "    model = Model (inputs=input, outputs=output)\n",
    "#     model.summary()\n",
    "    return model"
   ]
  },
  {
   "cell_type": "markdown",
   "id": "accepted-routine",
   "metadata": {
    "papermill": {
     "duration": 0.024792,
     "end_time": "2021-06-04T04:53:43.533900",
     "exception": false,
     "start_time": "2021-06-04T04:53:43.509108",
     "status": "completed"
    },
    "tags": []
   },
   "source": [
    "## Training"
   ]
  },
  {
   "cell_type": "code",
   "execution_count": 17,
   "id": "coral-bubble",
   "metadata": {
    "execution": {
     "iopub.execute_input": "2021-06-04T04:53:43.588233Z",
     "iopub.status.busy": "2021-06-04T04:53:43.587681Z",
     "iopub.status.idle": "2021-06-04T06:25:12.423995Z",
     "shell.execute_reply": "2021-06-04T06:25:12.424862Z",
     "shell.execute_reply.started": "2021-06-04T04:39:09.093815Z"
    },
    "papermill": {
     "duration": 5488.866308,
     "end_time": "2021-06-04T06:25:12.425030",
     "exception": false,
     "start_time": "2021-06-04T04:53:43.558722",
     "status": "completed"
    },
    "tags": []
   },
   "outputs": [
    {
     "name": "stdout",
     "output_type": "stream",
     "text": [
      "Epoch 1/200\n",
      "65/65 [==============================] - 37s 448ms/step - loss: 1.1236 - accuracy: 0.6622 - val_loss: 1.1975 - val_accuracy: 0.0000e+00\n",
      "Epoch 2/200\n",
      "65/65 [==============================] - 27s 421ms/step - loss: 0.4321 - accuracy: 0.8096 - val_loss: 1.3253 - val_accuracy: 0.0000e+00\n",
      "Epoch 3/200\n",
      "65/65 [==============================] - 27s 422ms/step - loss: 0.2618 - accuracy: 0.8996 - val_loss: 1.2470 - val_accuracy: 0.0000e+00\n",
      "Epoch 4/200\n",
      "65/65 [==============================] - 27s 421ms/step - loss: 0.1950 - accuracy: 0.9291 - val_loss: 1.5364 - val_accuracy: 0.0000e+00\n",
      "Epoch 5/200\n",
      "65/65 [==============================] - 27s 422ms/step - loss: 0.1143 - accuracy: 0.9642 - val_loss: 1.5894 - val_accuracy: 0.0000e+00\n",
      "Epoch 6/200\n",
      "65/65 [==============================] - 27s 423ms/step - loss: 0.1053 - accuracy: 0.9598 - val_loss: 1.7968 - val_accuracy: 0.0000e+00\n",
      "Epoch 7/200\n",
      "65/65 [==============================] - 27s 422ms/step - loss: 0.0615 - accuracy: 0.9754 - val_loss: 0.8072 - val_accuracy: 0.3673\n",
      "Epoch 8/200\n",
      "65/65 [==============================] - 27s 422ms/step - loss: 0.0887 - accuracy: 0.9669 - val_loss: 0.0421 - val_accuracy: 0.9904\n",
      "Epoch 9/200\n",
      "65/65 [==============================] - 27s 422ms/step - loss: 0.0624 - accuracy: 0.9758 - val_loss: 1.4415 - val_accuracy: 0.4865\n",
      "Epoch 10/200\n",
      "65/65 [==============================] - 27s 423ms/step - loss: 0.0375 - accuracy: 0.9885 - val_loss: 0.9558 - val_accuracy: 0.6288\n",
      "Epoch 11/200\n",
      "65/65 [==============================] - 27s 422ms/step - loss: 0.0317 - accuracy: 0.9916 - val_loss: 1.7076 - val_accuracy: 0.5385\n",
      "Epoch 12/200\n",
      "65/65 [==============================] - 27s 421ms/step - loss: 0.0453 - accuracy: 0.9898 - val_loss: 8.4611e-04 - val_accuracy: 1.0000\n",
      "Epoch 13/200\n",
      "65/65 [==============================] - 27s 421ms/step - loss: 0.0216 - accuracy: 0.9944 - val_loss: 1.3384 - val_accuracy: 0.6365\n",
      "Epoch 14/200\n",
      "65/65 [==============================] - 27s 422ms/step - loss: 0.0327 - accuracy: 0.9908 - val_loss: 1.8093 - val_accuracy: 0.4500\n",
      "Epoch 15/200\n",
      "65/65 [==============================] - 27s 421ms/step - loss: 0.0100 - accuracy: 0.9981 - val_loss: 0.2808 - val_accuracy: 0.9000\n",
      "Epoch 16/200\n",
      "65/65 [==============================] - 27s 422ms/step - loss: 0.0059 - accuracy: 0.9982 - val_loss: 1.1091e-04 - val_accuracy: 1.0000\n",
      "Epoch 17/200\n",
      "65/65 [==============================] - 27s 421ms/step - loss: 0.0155 - accuracy: 0.9939 - val_loss: 0.6908 - val_accuracy: 0.8058\n",
      "Epoch 18/200\n",
      "65/65 [==============================] - 27s 421ms/step - loss: 0.0878 - accuracy: 0.9748 - val_loss: 0.5246 - val_accuracy: 0.8096\n",
      "Epoch 19/200\n",
      "65/65 [==============================] - 27s 420ms/step - loss: 0.0170 - accuracy: 0.9942 - val_loss: 0.2060 - val_accuracy: 0.9250\n",
      "Epoch 20/200\n",
      "65/65 [==============================] - 27s 420ms/step - loss: 0.0251 - accuracy: 0.9918 - val_loss: 0.5090 - val_accuracy: 0.8731\n",
      "Epoch 21/200\n",
      "65/65 [==============================] - 27s 421ms/step - loss: 0.0227 - accuracy: 0.9904 - val_loss: 0.0274 - val_accuracy: 0.9923\n",
      "Epoch 22/200\n",
      "65/65 [==============================] - 27s 421ms/step - loss: 0.0237 - accuracy: 0.9953 - val_loss: 6.8020e-05 - val_accuracy: 1.0000\n",
      "Epoch 23/200\n",
      "65/65 [==============================] - 27s 422ms/step - loss: 0.0035 - accuracy: 0.9995 - val_loss: 0.0366 - val_accuracy: 0.9904\n",
      "Epoch 24/200\n",
      "65/65 [==============================] - 27s 421ms/step - loss: 0.0399 - accuracy: 0.9938 - val_loss: 0.0202 - val_accuracy: 0.9904\n",
      "Epoch 25/200\n",
      "65/65 [==============================] - 27s 420ms/step - loss: 0.0027 - accuracy: 0.9997 - val_loss: 0.0383 - val_accuracy: 0.9865\n",
      "Epoch 26/200\n",
      "65/65 [==============================] - 27s 422ms/step - loss: 0.0016 - accuracy: 1.0000 - val_loss: 0.0854 - val_accuracy: 0.9750\n",
      "Epoch 27/200\n",
      "65/65 [==============================] - 27s 420ms/step - loss: 0.0150 - accuracy: 0.9966 - val_loss: 0.0149 - val_accuracy: 0.9904\n",
      "Epoch 28/200\n",
      "65/65 [==============================] - 27s 421ms/step - loss: 0.0057 - accuracy: 0.9988 - val_loss: 0.3145 - val_accuracy: 0.9038\n",
      "Epoch 29/200\n",
      "65/65 [==============================] - 27s 422ms/step - loss: 0.0259 - accuracy: 0.9889 - val_loss: 0.2244 - val_accuracy: 0.9058\n",
      "Epoch 30/200\n",
      "65/65 [==============================] - 27s 422ms/step - loss: 0.0215 - accuracy: 0.9904 - val_loss: 0.1716 - val_accuracy: 0.9308\n",
      "Epoch 31/200\n",
      "65/65 [==============================] - 27s 421ms/step - loss: 0.0270 - accuracy: 0.9925 - val_loss: 0.8241 - val_accuracy: 0.7981\n",
      "Epoch 32/200\n",
      "65/65 [==============================] - 27s 422ms/step - loss: 0.0199 - accuracy: 0.9951 - val_loss: 0.0213 - val_accuracy: 0.9904\n",
      "Epoch 33/200\n",
      "65/65 [==============================] - 27s 421ms/step - loss: 0.0123 - accuracy: 0.9974 - val_loss: 3.4763e-05 - val_accuracy: 1.0000\n",
      "Epoch 34/200\n",
      "65/65 [==============================] - 27s 421ms/step - loss: 0.0076 - accuracy: 0.9979 - val_loss: 0.0022 - val_accuracy: 1.0000\n",
      "Epoch 35/200\n",
      "65/65 [==============================] - 27s 421ms/step - loss: 0.0063 - accuracy: 0.9985 - val_loss: 2.3610e-04 - val_accuracy: 1.0000\n",
      "Epoch 36/200\n",
      "65/65 [==============================] - 28s 424ms/step - loss: 0.0012 - accuracy: 0.9998 - val_loss: 0.0016 - val_accuracy: 0.9981\n",
      "Epoch 37/200\n",
      "65/65 [==============================] - 27s 421ms/step - loss: 6.5258e-04 - accuracy: 1.0000 - val_loss: 4.9324e-04 - val_accuracy: 1.0000\n",
      "Epoch 38/200\n",
      "65/65 [==============================] - 27s 421ms/step - loss: 0.0059 - accuracy: 0.9996 - val_loss: 0.0317 - val_accuracy: 0.9923\n",
      "Epoch 39/200\n",
      "65/65 [==============================] - 27s 422ms/step - loss: 0.0036 - accuracy: 0.9992 - val_loss: 3.7868e-04 - val_accuracy: 1.0000\n",
      "Epoch 40/200\n",
      "65/65 [==============================] - 27s 422ms/step - loss: 0.0012 - accuracy: 0.9994 - val_loss: 1.5360e-04 - val_accuracy: 1.0000\n",
      "Epoch 41/200\n",
      "65/65 [==============================] - 27s 422ms/step - loss: 0.0017 - accuracy: 0.9999 - val_loss: 0.0042 - val_accuracy: 1.0000\n",
      "Epoch 42/200\n",
      "65/65 [==============================] - 27s 421ms/step - loss: 0.0047 - accuracy: 0.9988 - val_loss: 1.8657e-04 - val_accuracy: 1.0000\n",
      "Epoch 43/200\n",
      "65/65 [==============================] - 27s 420ms/step - loss: 0.0119 - accuracy: 0.9959 - val_loss: 8.5540e-04 - val_accuracy: 1.0000\n",
      "Epoch 44/200\n",
      "65/65 [==============================] - 27s 421ms/step - loss: 0.0388 - accuracy: 0.9898 - val_loss: 6.2434 - val_accuracy: 0.2346\n",
      "Epoch 45/200\n",
      "65/65 [==============================] - 27s 421ms/step - loss: 0.0593 - accuracy: 0.9817 - val_loss: 1.1101 - val_accuracy: 0.7673\n",
      "Epoch 46/200\n",
      "65/65 [==============================] - 27s 422ms/step - loss: 0.0123 - accuracy: 0.9951 - val_loss: 2.1237 - val_accuracy: 0.5385\n",
      "Epoch 47/200\n",
      "65/65 [==============================] - 27s 420ms/step - loss: 0.0203 - accuracy: 0.9934 - val_loss: 0.6103 - val_accuracy: 0.8077\n",
      "Epoch 48/200\n",
      "65/65 [==============================] - 27s 421ms/step - loss: 0.0258 - accuracy: 0.9943 - val_loss: 0.0372 - val_accuracy: 0.9923\n",
      "Epoch 49/200\n",
      "65/65 [==============================] - 27s 422ms/step - loss: 0.0202 - accuracy: 0.9971 - val_loss: 0.0490 - val_accuracy: 0.9865\n",
      "Epoch 50/200\n",
      "65/65 [==============================] - 27s 421ms/step - loss: 0.0049 - accuracy: 0.9988 - val_loss: 0.0117 - val_accuracy: 0.9981\n",
      "Epoch 51/200\n",
      "65/65 [==============================] - 27s 421ms/step - loss: 0.0449 - accuracy: 0.9811 - val_loss: 0.4388 - val_accuracy: 0.8385\n",
      "Epoch 52/200\n",
      "65/65 [==============================] - 27s 421ms/step - loss: 0.0123 - accuracy: 0.9946 - val_loss: 1.0784 - val_accuracy: 0.7827\n",
      "Epoch 53/200\n",
      "65/65 [==============================] - 27s 420ms/step - loss: 0.0152 - accuracy: 0.9935 - val_loss: 0.2656 - val_accuracy: 0.9250\n",
      "Epoch 54/200\n",
      "65/65 [==============================] - 27s 420ms/step - loss: 0.0226 - accuracy: 0.9963 - val_loss: 4.3646e-05 - val_accuracy: 1.0000\n",
      "Epoch 55/200\n",
      "65/65 [==============================] - 27s 423ms/step - loss: 0.0040 - accuracy: 0.9987 - val_loss: 0.0276 - val_accuracy: 0.9904\n",
      "Epoch 56/200\n",
      "65/65 [==============================] - 27s 420ms/step - loss: 0.0039 - accuracy: 0.9986 - val_loss: 0.0105 - val_accuracy: 0.9962\n",
      "Epoch 57/200\n",
      "65/65 [==============================] - 27s 421ms/step - loss: 6.8478e-04 - accuracy: 0.9998 - val_loss: 5.7120e-04 - val_accuracy: 1.0000\n",
      "Epoch 58/200\n",
      "65/65 [==============================] - 27s 421ms/step - loss: 0.0230 - accuracy: 0.9963 - val_loss: 0.0186 - val_accuracy: 0.9923\n",
      "Epoch 59/200\n",
      "65/65 [==============================] - 27s 421ms/step - loss: 0.0082 - accuracy: 0.9987 - val_loss: 0.0226 - val_accuracy: 0.9981\n",
      "Epoch 60/200\n",
      "65/65 [==============================] - 27s 420ms/step - loss: 0.0124 - accuracy: 0.9948 - val_loss: 0.4051 - val_accuracy: 0.8404\n",
      "Epoch 61/200\n",
      "65/65 [==============================] - 27s 421ms/step - loss: 0.0077 - accuracy: 0.9992 - val_loss: 0.0091 - val_accuracy: 1.0000\n",
      "Epoch 62/200\n",
      "65/65 [==============================] - 27s 422ms/step - loss: 0.0036 - accuracy: 0.9996 - val_loss: 0.0013 - val_accuracy: 1.0000\n",
      "Epoch 63/200\n",
      "65/65 [==============================] - 27s 420ms/step - loss: 0.0014 - accuracy: 0.9997 - val_loss: 0.0027 - val_accuracy: 1.0000\n",
      "Epoch 64/200\n",
      "65/65 [==============================] - 27s 421ms/step - loss: 0.0020 - accuracy: 0.9997 - val_loss: 0.0069 - val_accuracy: 0.9962\n",
      "Epoch 65/200\n",
      "65/65 [==============================] - 27s 421ms/step - loss: 8.9523e-04 - accuracy: 1.0000 - val_loss: 0.0017 - val_accuracy: 1.0000\n",
      "Epoch 66/200\n",
      "65/65 [==============================] - 27s 421ms/step - loss: 0.0038 - accuracy: 0.9986 - val_loss: 7.7327e-04 - val_accuracy: 1.0000\n",
      "Epoch 67/200\n",
      "65/65 [==============================] - 27s 421ms/step - loss: 0.0030 - accuracy: 0.9994 - val_loss: 0.0017 - val_accuracy: 1.0000\n",
      "Epoch 68/200\n",
      "65/65 [==============================] - 27s 420ms/step - loss: 0.0010 - accuracy: 0.9995 - val_loss: 3.0967e-04 - val_accuracy: 1.0000\n",
      "Epoch 69/200\n",
      "65/65 [==============================] - 27s 420ms/step - loss: 5.2461e-04 - accuracy: 1.0000 - val_loss: 2.0800e-04 - val_accuracy: 1.0000\n",
      "Epoch 70/200\n",
      "65/65 [==============================] - 27s 421ms/step - loss: 0.0011 - accuracy: 0.9994 - val_loss: 0.0030 - val_accuracy: 0.9981\n",
      "Epoch 71/200\n",
      "65/65 [==============================] - 27s 420ms/step - loss: 0.0016 - accuracy: 0.9996 - val_loss: 0.0047 - val_accuracy: 1.0000\n",
      "Epoch 72/200\n",
      "65/65 [==============================] - 27s 421ms/step - loss: 7.1699e-04 - accuracy: 1.0000 - val_loss: 0.0011 - val_accuracy: 1.0000\n",
      "Epoch 73/200\n",
      "65/65 [==============================] - 27s 421ms/step - loss: 0.0019 - accuracy: 0.9998 - val_loss: 0.0225 - val_accuracy: 0.9885\n",
      "Epoch 74/200\n",
      "65/65 [==============================] - 27s 421ms/step - loss: 0.0036 - accuracy: 0.9983 - val_loss: 8.9500e-04 - val_accuracy: 1.0000\n",
      "Epoch 75/200\n",
      "65/65 [==============================] - 27s 421ms/step - loss: 5.1251e-04 - accuracy: 0.9999 - val_loss: 0.0011 - val_accuracy: 1.0000\n",
      "Epoch 76/200\n",
      "65/65 [==============================] - 27s 420ms/step - loss: 0.0029 - accuracy: 0.9995 - val_loss: 0.0353 - val_accuracy: 0.9846\n",
      "Epoch 77/200\n",
      "65/65 [==============================] - 27s 422ms/step - loss: 0.0032 - accuracy: 0.9992 - val_loss: 0.0040 - val_accuracy: 1.0000\n",
      "Epoch 78/200\n",
      "65/65 [==============================] - 27s 421ms/step - loss: 0.0014 - accuracy: 0.9993 - val_loss: 9.1132e-04 - val_accuracy: 1.0000\n",
      "Epoch 79/200\n",
      "65/65 [==============================] - 27s 423ms/step - loss: 0.0057 - accuracy: 0.9984 - val_loss: 5.5614e-04 - val_accuracy: 1.0000\n",
      "Epoch 80/200\n",
      "65/65 [==============================] - 27s 422ms/step - loss: 3.6470e-04 - accuracy: 1.0000 - val_loss: 2.7097e-04 - val_accuracy: 1.0000\n",
      "Epoch 81/200\n",
      "65/65 [==============================] - 27s 420ms/step - loss: 0.0021 - accuracy: 0.9998 - val_loss: 0.0140 - val_accuracy: 0.9942\n",
      "Epoch 82/200\n",
      "65/65 [==============================] - 27s 421ms/step - loss: 0.0022 - accuracy: 0.9996 - val_loss: 0.0016 - val_accuracy: 1.0000\n",
      "Epoch 83/200\n",
      "65/65 [==============================] - 27s 423ms/step - loss: 0.0011 - accuracy: 0.9999 - val_loss: 0.0016 - val_accuracy: 1.0000\n",
      "Epoch 84/200\n",
      "65/65 [==============================] - 27s 423ms/step - loss: 9.3058e-04 - accuracy: 0.9995 - val_loss: 0.0081 - val_accuracy: 0.9981\n",
      "Epoch 85/200\n",
      "65/65 [==============================] - 27s 421ms/step - loss: 0.0080 - accuracy: 0.9984 - val_loss: 3.6431e-04 - val_accuracy: 1.0000\n",
      "Epoch 86/200\n",
      "65/65 [==============================] - 27s 422ms/step - loss: 0.0026 - accuracy: 0.9987 - val_loss: 3.5985e-05 - val_accuracy: 1.0000\n",
      "Epoch 87/200\n",
      "65/65 [==============================] - 27s 420ms/step - loss: 0.0086 - accuracy: 0.9990 - val_loss: 5.0504e-04 - val_accuracy: 1.0000\n",
      "Epoch 88/200\n",
      "65/65 [==============================] - 27s 422ms/step - loss: 9.5458e-04 - accuracy: 0.9999 - val_loss: 6.1210e-04 - val_accuracy: 1.0000\n",
      "Epoch 89/200\n",
      "65/65 [==============================] - 27s 422ms/step - loss: 0.0026 - accuracy: 0.9992 - val_loss: 0.0261 - val_accuracy: 0.9904\n",
      "Epoch 90/200\n",
      "65/65 [==============================] - 27s 422ms/step - loss: 0.0099 - accuracy: 0.9988 - val_loss: 0.0022 - val_accuracy: 1.0000\n",
      "Epoch 91/200\n",
      "65/65 [==============================] - 27s 422ms/step - loss: 0.0018 - accuracy: 0.9991 - val_loss: 8.3263e-04 - val_accuracy: 1.0000\n",
      "Epoch 92/200\n",
      "65/65 [==============================] - 27s 423ms/step - loss: 0.0016 - accuracy: 0.9994 - val_loss: 0.0987 - val_accuracy: 0.9692\n",
      "Epoch 93/200\n",
      "65/65 [==============================] - 27s 420ms/step - loss: 0.0025 - accuracy: 0.9994 - val_loss: 0.3074 - val_accuracy: 0.8923\n",
      "Epoch 94/200\n",
      "65/65 [==============================] - 27s 421ms/step - loss: 0.0076 - accuracy: 0.9970 - val_loss: 1.8442 - val_accuracy: 0.5712\n",
      "Epoch 95/200\n",
      "65/65 [==============================] - 27s 420ms/step - loss: 0.0691 - accuracy: 0.9756 - val_loss: 0.8649 - val_accuracy: 0.7558\n",
      "Epoch 96/200\n",
      "65/65 [==============================] - 27s 420ms/step - loss: 0.0978 - accuracy: 0.9640 - val_loss: 0.2890 - val_accuracy: 0.9250\n",
      "Epoch 97/200\n",
      "65/65 [==============================] - 27s 420ms/step - loss: 0.0369 - accuracy: 0.9895 - val_loss: 3.0024 - val_accuracy: 0.4731\n",
      "Epoch 98/200\n",
      "65/65 [==============================] - 27s 422ms/step - loss: 0.0125 - accuracy: 0.9968 - val_loss: 0.2402 - val_accuracy: 0.9519\n",
      "Epoch 99/200\n",
      "65/65 [==============================] - 27s 420ms/step - loss: 0.0156 - accuracy: 0.9947 - val_loss: 1.5156 - val_accuracy: 0.6673\n",
      "Epoch 100/200\n",
      "65/65 [==============================] - 27s 422ms/step - loss: 0.0059 - accuracy: 0.9994 - val_loss: 0.0604 - val_accuracy: 0.9788\n",
      "Epoch 101/200\n",
      "65/65 [==============================] - 27s 421ms/step - loss: 0.0056 - accuracy: 0.9984 - val_loss: 2.4746e-05 - val_accuracy: 1.0000\n",
      "Epoch 102/200\n",
      "65/65 [==============================] - 27s 421ms/step - loss: 0.0108 - accuracy: 0.9975 - val_loss: 0.0119 - val_accuracy: 0.9942\n",
      "Epoch 103/200\n",
      "65/65 [==============================] - 27s 420ms/step - loss: 0.0173 - accuracy: 0.9975 - val_loss: 1.3338e-04 - val_accuracy: 1.0000\n",
      "Epoch 104/200\n",
      "65/65 [==============================] - 27s 421ms/step - loss: 3.5970e-04 - accuracy: 1.0000 - val_loss: 5.0183e-05 - val_accuracy: 1.0000\n",
      "Epoch 105/200\n",
      "65/65 [==============================] - 27s 422ms/step - loss: 0.0030 - accuracy: 0.9989 - val_loss: 0.0028 - val_accuracy: 1.0000\n",
      "Epoch 106/200\n",
      "65/65 [==============================] - 27s 422ms/step - loss: 0.0013 - accuracy: 0.9999 - val_loss: 0.0021 - val_accuracy: 1.0000\n",
      "Epoch 107/200\n",
      "65/65 [==============================] - 27s 421ms/step - loss: 0.0030 - accuracy: 0.9990 - val_loss: 0.0065 - val_accuracy: 0.9962\n",
      "Epoch 108/200\n",
      "65/65 [==============================] - 27s 421ms/step - loss: 0.0044 - accuracy: 0.9987 - val_loss: 0.0029 - val_accuracy: 1.0000\n",
      "Epoch 109/200\n",
      "65/65 [==============================] - 27s 420ms/step - loss: 9.9129e-04 - accuracy: 0.9995 - val_loss: 5.7336e-04 - val_accuracy: 1.0000\n",
      "Epoch 110/200\n",
      "65/65 [==============================] - 27s 420ms/step - loss: 0.0023 - accuracy: 0.9995 - val_loss: 0.0019 - val_accuracy: 1.0000\n",
      "Epoch 111/200\n",
      "65/65 [==============================] - 27s 419ms/step - loss: 6.0293e-04 - accuracy: 0.9998 - val_loss: 8.4968e-04 - val_accuracy: 1.0000\n",
      "Epoch 112/200\n",
      "65/65 [==============================] - 27s 420ms/step - loss: 0.0017 - accuracy: 0.9998 - val_loss: 6.5009e-04 - val_accuracy: 1.0000\n",
      "Epoch 113/200\n",
      "65/65 [==============================] - 27s 420ms/step - loss: 0.0048 - accuracy: 0.9991 - val_loss: 6.1298e-04 - val_accuracy: 1.0000\n",
      "Epoch 114/200\n",
      "65/65 [==============================] - 27s 421ms/step - loss: 0.0025 - accuracy: 0.9996 - val_loss: 0.0770 - val_accuracy: 0.9712\n",
      "Epoch 115/200\n",
      "65/65 [==============================] - 27s 422ms/step - loss: 0.0018 - accuracy: 0.9997 - val_loss: 0.0199 - val_accuracy: 0.9962\n",
      "Epoch 116/200\n",
      "65/65 [==============================] - 27s 420ms/step - loss: 0.0021 - accuracy: 0.9997 - val_loss: 0.0013 - val_accuracy: 1.0000\n",
      "Epoch 117/200\n",
      "65/65 [==============================] - 27s 421ms/step - loss: 0.0020 - accuracy: 0.9993 - val_loss: 0.0031 - val_accuracy: 0.9981\n",
      "Epoch 118/200\n",
      "65/65 [==============================] - 27s 421ms/step - loss: 0.0034 - accuracy: 0.9997 - val_loss: 5.6016e-04 - val_accuracy: 1.0000\n",
      "Epoch 119/200\n",
      "65/65 [==============================] - 27s 421ms/step - loss: 0.0047 - accuracy: 0.9985 - val_loss: 0.0011 - val_accuracy: 1.0000\n",
      "Epoch 120/200\n",
      "65/65 [==============================] - 27s 421ms/step - loss: 0.0016 - accuracy: 0.9997 - val_loss: 0.0021 - val_accuracy: 0.9981\n",
      "Epoch 121/200\n",
      "65/65 [==============================] - 27s 421ms/step - loss: 4.9237e-04 - accuracy: 0.9999 - val_loss: 0.0033 - val_accuracy: 0.9981\n",
      "Epoch 122/200\n",
      "65/65 [==============================] - 27s 419ms/step - loss: 0.0047 - accuracy: 0.9968 - val_loss: 0.1477 - val_accuracy: 0.9635\n",
      "Epoch 123/200\n",
      "65/65 [==============================] - 27s 420ms/step - loss: 0.0121 - accuracy: 0.9963 - val_loss: 0.3084 - val_accuracy: 0.8981\n",
      "Epoch 124/200\n",
      "65/65 [==============================] - 27s 421ms/step - loss: 0.0039 - accuracy: 0.9990 - val_loss: 0.4991 - val_accuracy: 0.8404\n",
      "Epoch 125/200\n",
      "65/65 [==============================] - 27s 420ms/step - loss: 0.0454 - accuracy: 0.9833 - val_loss: 2.5274e-04 - val_accuracy: 1.0000\n",
      "Epoch 126/200\n",
      "65/65 [==============================] - 27s 420ms/step - loss: 0.0276 - accuracy: 0.9910 - val_loss: 1.2174 - val_accuracy: 0.7231\n",
      "Epoch 127/200\n",
      "65/65 [==============================] - 27s 420ms/step - loss: 0.0154 - accuracy: 0.9965 - val_loss: 1.0614 - val_accuracy: 0.7135\n",
      "Epoch 128/200\n",
      "65/65 [==============================] - 27s 420ms/step - loss: 0.0061 - accuracy: 0.9992 - val_loss: 0.0081 - val_accuracy: 0.9981\n",
      "Epoch 129/200\n",
      "65/65 [==============================] - 27s 420ms/step - loss: 0.0025 - accuracy: 0.9992 - val_loss: 4.9908e-06 - val_accuracy: 1.0000\n",
      "Epoch 130/200\n",
      "65/65 [==============================] - 27s 421ms/step - loss: 6.1851e-04 - accuracy: 1.0000 - val_loss: 0.0012 - val_accuracy: 1.0000\n",
      "Epoch 131/200\n",
      "65/65 [==============================] - 27s 421ms/step - loss: 0.0023 - accuracy: 0.9990 - val_loss: 0.0353 - val_accuracy: 0.9865\n",
      "Epoch 132/200\n",
      "65/65 [==============================] - 27s 420ms/step - loss: 0.0025 - accuracy: 0.9989 - val_loss: 0.7240 - val_accuracy: 0.7846\n",
      "Epoch 133/200\n",
      "65/65 [==============================] - 27s 421ms/step - loss: 0.0107 - accuracy: 0.9958 - val_loss: 0.0190 - val_accuracy: 0.9942\n",
      "Epoch 134/200\n",
      "65/65 [==============================] - 27s 421ms/step - loss: 0.0093 - accuracy: 0.9972 - val_loss: 0.0049 - val_accuracy: 1.0000\n",
      "Epoch 135/200\n",
      "65/65 [==============================] - 27s 420ms/step - loss: 0.0042 - accuracy: 0.9996 - val_loss: 1.1072e-04 - val_accuracy: 1.0000\n",
      "Epoch 136/200\n",
      "65/65 [==============================] - 27s 422ms/step - loss: 0.0111 - accuracy: 0.9971 - val_loss: 1.9100e-05 - val_accuracy: 1.0000\n",
      "Epoch 137/200\n",
      "65/65 [==============================] - 27s 421ms/step - loss: 0.0013 - accuracy: 0.9995 - val_loss: 4.0690e-05 - val_accuracy: 1.0000\n",
      "Epoch 138/200\n",
      "65/65 [==============================] - 27s 420ms/step - loss: 0.0087 - accuracy: 0.9978 - val_loss: 6.0643e-04 - val_accuracy: 1.0000\n",
      "Epoch 139/200\n",
      "65/65 [==============================] - 27s 420ms/step - loss: 0.0022 - accuracy: 0.9996 - val_loss: 1.6181e-04 - val_accuracy: 1.0000\n",
      "Epoch 140/200\n",
      "65/65 [==============================] - 27s 421ms/step - loss: 0.0061 - accuracy: 0.9986 - val_loss: 5.0040e-04 - val_accuracy: 1.0000\n",
      "Epoch 141/200\n",
      "65/65 [==============================] - 27s 422ms/step - loss: 0.0019 - accuracy: 0.9993 - val_loss: 7.4279e-04 - val_accuracy: 1.0000\n",
      "Epoch 142/200\n",
      "65/65 [==============================] - 27s 420ms/step - loss: 0.0027 - accuracy: 0.9989 - val_loss: 4.8982e-04 - val_accuracy: 1.0000\n",
      "Epoch 143/200\n",
      "65/65 [==============================] - 27s 420ms/step - loss: 0.0077 - accuracy: 0.9966 - val_loss: 1.8564e-04 - val_accuracy: 1.0000\n",
      "Epoch 144/200\n",
      "65/65 [==============================] - 27s 420ms/step - loss: 0.0059 - accuracy: 0.9986 - val_loss: 1.7660e-04 - val_accuracy: 1.0000\n",
      "Epoch 145/200\n",
      "65/65 [==============================] - 27s 420ms/step - loss: 0.0017 - accuracy: 0.9995 - val_loss: 3.1070e-04 - val_accuracy: 1.0000\n",
      "Epoch 146/200\n",
      "65/65 [==============================] - 27s 421ms/step - loss: 4.4285e-04 - accuracy: 1.0000 - val_loss: 2.8362e-04 - val_accuracy: 1.0000\n",
      "Epoch 147/200\n",
      "65/65 [==============================] - 27s 420ms/step - loss: 0.0018 - accuracy: 0.9997 - val_loss: 7.1070e-04 - val_accuracy: 1.0000\n",
      "Epoch 148/200\n",
      "65/65 [==============================] - 27s 421ms/step - loss: 0.0031 - accuracy: 0.9990 - val_loss: 6.8588e-04 - val_accuracy: 1.0000\n",
      "Epoch 149/200\n",
      "65/65 [==============================] - 27s 422ms/step - loss: 9.8543e-04 - accuracy: 1.0000 - val_loss: 3.5076e-04 - val_accuracy: 1.0000\n",
      "Epoch 150/200\n",
      "65/65 [==============================] - 27s 421ms/step - loss: 0.0018 - accuracy: 0.9998 - val_loss: 0.0010 - val_accuracy: 1.0000\n",
      "Epoch 151/200\n",
      "65/65 [==============================] - 27s 423ms/step - loss: 0.0016 - accuracy: 0.9997 - val_loss: 9.8488e-04 - val_accuracy: 1.0000\n",
      "Epoch 152/200\n",
      "65/65 [==============================] - 27s 423ms/step - loss: 0.0048 - accuracy: 0.9987 - val_loss: 4.3759e-04 - val_accuracy: 1.0000\n",
      "Epoch 153/200\n",
      "65/65 [==============================] - 27s 422ms/step - loss: 0.0030 - accuracy: 0.9991 - val_loss: 0.0011 - val_accuracy: 1.0000\n",
      "Epoch 154/200\n",
      "65/65 [==============================] - 27s 421ms/step - loss: 1.6521e-04 - accuracy: 1.0000 - val_loss: 3.0508e-04 - val_accuracy: 1.0000\n",
      "Epoch 155/200\n",
      "65/65 [==============================] - 27s 422ms/step - loss: 3.4775e-04 - accuracy: 0.9999 - val_loss: 2.2157e-04 - val_accuracy: 1.0000\n",
      "Epoch 156/200\n",
      "65/65 [==============================] - 27s 420ms/step - loss: 0.0011 - accuracy: 0.9997 - val_loss: 1.3899e-04 - val_accuracy: 1.0000\n",
      "Epoch 157/200\n",
      "65/65 [==============================] - 27s 422ms/step - loss: 0.0027 - accuracy: 0.9989 - val_loss: 9.1524e-04 - val_accuracy: 1.0000\n",
      "Epoch 158/200\n",
      "65/65 [==============================] - 27s 421ms/step - loss: 0.0021 - accuracy: 0.9988 - val_loss: 0.0045 - val_accuracy: 0.9981\n",
      "Epoch 159/200\n",
      "65/65 [==============================] - 27s 420ms/step - loss: 0.0020 - accuracy: 0.9994 - val_loss: 0.0011 - val_accuracy: 1.0000\n",
      "Epoch 160/200\n",
      "65/65 [==============================] - 27s 421ms/step - loss: 0.0016 - accuracy: 0.9995 - val_loss: 6.7174e-04 - val_accuracy: 1.0000\n",
      "Epoch 161/200\n",
      "65/65 [==============================] - 27s 420ms/step - loss: 0.0027 - accuracy: 0.9985 - val_loss: 0.0017 - val_accuracy: 1.0000\n",
      "Epoch 162/200\n",
      "65/65 [==============================] - 27s 421ms/step - loss: 7.2325e-04 - accuracy: 0.9998 - val_loss: 0.0013 - val_accuracy: 1.0000\n",
      "Epoch 163/200\n",
      "65/65 [==============================] - 27s 421ms/step - loss: 0.0040 - accuracy: 0.9979 - val_loss: 0.0018 - val_accuracy: 1.0000\n",
      "Epoch 164/200\n",
      "65/65 [==============================] - 27s 421ms/step - loss: 8.4142e-04 - accuracy: 0.9998 - val_loss: 0.0013 - val_accuracy: 1.0000\n",
      "Epoch 165/200\n",
      "65/65 [==============================] - 27s 420ms/step - loss: 2.8383e-04 - accuracy: 1.0000 - val_loss: 0.0014 - val_accuracy: 1.0000\n",
      "Epoch 166/200\n",
      "65/65 [==============================] - 27s 422ms/step - loss: 0.0041 - accuracy: 0.9993 - val_loss: 0.0029 - val_accuracy: 0.9981\n",
      "Epoch 167/200\n",
      "65/65 [==============================] - 27s 421ms/step - loss: 0.0013 - accuracy: 0.9994 - val_loss: 0.0289 - val_accuracy: 0.9904\n",
      "Epoch 168/200\n",
      "65/65 [==============================] - 27s 422ms/step - loss: 0.0022 - accuracy: 0.9997 - val_loss: 0.0062 - val_accuracy: 0.9962\n",
      "Epoch 169/200\n",
      "65/65 [==============================] - 27s 421ms/step - loss: 0.0063 - accuracy: 0.9984 - val_loss: 1.7913e-04 - val_accuracy: 1.0000\n",
      "Epoch 170/200\n",
      "65/65 [==============================] - 27s 421ms/step - loss: 2.4146e-04 - accuracy: 1.0000 - val_loss: 1.2781e-04 - val_accuracy: 1.0000\n",
      "Epoch 171/200\n",
      "65/65 [==============================] - 27s 422ms/step - loss: 1.9373e-04 - accuracy: 1.0000 - val_loss: 2.1281e-04 - val_accuracy: 1.0000\n",
      "Epoch 172/200\n",
      "65/65 [==============================] - 27s 420ms/step - loss: 0.0014 - accuracy: 0.9991 - val_loss: 1.2904e-04 - val_accuracy: 1.0000\n",
      "Epoch 173/200\n",
      "65/65 [==============================] - 27s 420ms/step - loss: 1.8152e-04 - accuracy: 0.9999 - val_loss: 0.0016 - val_accuracy: 1.0000\n",
      "Epoch 174/200\n",
      "65/65 [==============================] - 27s 423ms/step - loss: 0.0046 - accuracy: 0.9986 - val_loss: 4.3091 - val_accuracy: 0.1635\n",
      "Epoch 175/200\n",
      "65/65 [==============================] - 27s 421ms/step - loss: 0.0618 - accuracy: 0.9775 - val_loss: 33.7054 - val_accuracy: 0.0000e+00\n",
      "Epoch 176/200\n",
      "65/65 [==============================] - 27s 421ms/step - loss: 0.0462 - accuracy: 0.9855 - val_loss: 1.3939 - val_accuracy: 0.7231\n",
      "Epoch 177/200\n",
      "65/65 [==============================] - 27s 420ms/step - loss: 0.0354 - accuracy: 0.9892 - val_loss: 2.0235 - val_accuracy: 0.6673\n",
      "Epoch 178/200\n",
      "65/65 [==============================] - 28s 424ms/step - loss: 0.0058 - accuracy: 0.9978 - val_loss: 0.0625 - val_accuracy: 0.9769\n",
      "Epoch 179/200\n",
      "65/65 [==============================] - 27s 421ms/step - loss: 0.0052 - accuracy: 0.9988 - val_loss: 3.4143e-05 - val_accuracy: 1.0000\n",
      "Epoch 180/200\n",
      "65/65 [==============================] - 27s 420ms/step - loss: 0.0023 - accuracy: 0.9992 - val_loss: 9.9624e-05 - val_accuracy: 1.0000\n",
      "Epoch 181/200\n",
      "65/65 [==============================] - 27s 421ms/step - loss: 0.0020 - accuracy: 0.9997 - val_loss: 0.1017 - val_accuracy: 0.9596\n",
      "Epoch 182/200\n",
      "65/65 [==============================] - 27s 422ms/step - loss: 0.0021 - accuracy: 0.9994 - val_loss: 0.0028 - val_accuracy: 1.0000\n",
      "Epoch 183/200\n",
      "65/65 [==============================] - 27s 421ms/step - loss: 0.0027 - accuracy: 0.9986 - val_loss: 5.5097e-04 - val_accuracy: 1.0000\n",
      "Epoch 184/200\n",
      "65/65 [==============================] - 27s 422ms/step - loss: 0.0063 - accuracy: 0.9982 - val_loss: 1.4683e-04 - val_accuracy: 1.0000\n",
      "Epoch 185/200\n",
      "65/65 [==============================] - 27s 421ms/step - loss: 0.0029 - accuracy: 0.9984 - val_loss: 0.0015 - val_accuracy: 1.0000\n",
      "Epoch 186/200\n",
      "65/65 [==============================] - 27s 420ms/step - loss: 0.0026 - accuracy: 0.9998 - val_loss: 6.3660e-04 - val_accuracy: 1.0000\n",
      "Epoch 187/200\n",
      "65/65 [==============================] - 27s 422ms/step - loss: 0.0018 - accuracy: 0.9998 - val_loss: 0.0036 - val_accuracy: 0.9981\n",
      "Epoch 188/200\n",
      "65/65 [==============================] - 27s 421ms/step - loss: 0.0021 - accuracy: 0.9996 - val_loss: 9.9067e-04 - val_accuracy: 1.0000\n",
      "Epoch 189/200\n",
      "65/65 [==============================] - 27s 422ms/step - loss: 0.0017 - accuracy: 0.9998 - val_loss: 4.1584e-04 - val_accuracy: 1.0000\n",
      "Epoch 190/200\n",
      "65/65 [==============================] - 27s 422ms/step - loss: 0.0012 - accuracy: 0.9998 - val_loss: 9.4666e-04 - val_accuracy: 1.0000\n",
      "Epoch 191/200\n",
      "65/65 [==============================] - 27s 422ms/step - loss: 2.2436e-04 - accuracy: 1.0000 - val_loss: 2.2792e-04 - val_accuracy: 1.0000\n",
      "Epoch 192/200\n",
      "65/65 [==============================] - 27s 421ms/step - loss: 0.0017 - accuracy: 0.9994 - val_loss: 0.0018 - val_accuracy: 1.0000\n",
      "Epoch 193/200\n",
      "65/65 [==============================] - 27s 422ms/step - loss: 0.0021 - accuracy: 0.9989 - val_loss: 8.4204e-04 - val_accuracy: 1.0000\n",
      "Epoch 194/200\n",
      "65/65 [==============================] - 27s 420ms/step - loss: 5.4762e-04 - accuracy: 0.9998 - val_loss: 6.2196e-04 - val_accuracy: 1.0000\n",
      "Epoch 195/200\n",
      "65/65 [==============================] - 27s 422ms/step - loss: 4.6635e-04 - accuracy: 0.9999 - val_loss: 6.1408e-04 - val_accuracy: 1.0000\n",
      "Epoch 196/200\n",
      "65/65 [==============================] - 27s 420ms/step - loss: 0.0034 - accuracy: 0.9983 - val_loss: 8.2517e-04 - val_accuracy: 1.0000\n",
      "Epoch 197/200\n",
      "65/65 [==============================] - 27s 422ms/step - loss: 5.5534e-04 - accuracy: 1.0000 - val_loss: 9.3630e-04 - val_accuracy: 1.0000\n",
      "Epoch 198/200\n",
      "65/65 [==============================] - 27s 420ms/step - loss: 6.7304e-04 - accuracy: 0.9995 - val_loss: 2.7454e-04 - val_accuracy: 1.0000\n",
      "Epoch 199/200\n",
      "65/65 [==============================] - 27s 421ms/step - loss: 0.0016 - accuracy: 0.9990 - val_loss: 0.0022 - val_accuracy: 0.9981\n",
      "Epoch 200/200\n",
      "65/65 [==============================] - 27s 420ms/step - loss: 0.0012 - accuracy: 0.9995 - val_loss: 0.0021 - val_accuracy: 0.9981\n"
     ]
    }
   ],
   "source": [
    "epochs = 200\n",
    "model = xception_model()\n",
    "model.compile(optimizer = Adam() , loss = tflow.keras.losses.SparseCategoricalCrossentropy(from_logits=True) , metrics = ['accuracy'])\n",
    "history = model.fit(x=x_train2, y=y_train2, epochs=epochs, verbose=1, validation_split=0.2, workers=2)"
   ]
  },
  {
   "cell_type": "code",
   "execution_count": 18,
   "id": "laden-fetish",
   "metadata": {
    "execution": {
     "iopub.execute_input": "2021-06-04T06:25:19.350709Z",
     "iopub.status.busy": "2021-06-04T06:25:19.349795Z",
     "iopub.status.idle": "2021-06-04T06:25:19.694654Z",
     "shell.execute_reply": "2021-06-04T06:25:19.695074Z",
     "shell.execute_reply.started": "2021-06-04T04:42:26.789857Z"
    },
    "papermill": {
     "duration": 3.793112,
     "end_time": "2021-06-04T06:25:19.695223",
     "exception": false,
     "start_time": "2021-06-04T06:25:15.902111",
     "status": "completed"
    },
    "tags": []
   },
   "outputs": [
    {
     "data": {
      "image/png": "[encoded data removed]",
      "text/plain": [
       "<Figure size 1080x1080 with 2 Axes>"
      ]
     },
     "metadata": {},
     "output_type": "display_data"
    }
   ],
   "source": [
    "acc = history.history['accuracy']\n",
    "loss = history.history['loss']\n",
    "\n",
    "epochs_range = range(epochs)\n",
    "\n",
    "pyplot.figure(figsize=(15, 15))\n",
    "pyplot.subplot(2, 2, 1)\n",
    "pyplot.plot(epochs_range, acc, label='Training Accuracy')\n",
    "pyplot.legend(loc='lower right')\n",
    "pyplot.title('Training Accuracy')\n",
    "\n",
    "pyplot.subplot(2, 2, 2)\n",
    "pyplot.plot(epochs_range, loss, label='Training Loss')\n",
    "pyplot.legend(loc='upper right')\n",
    "pyplot.title('Training Loss')\n",
    "pyplot.show()"
   ]
  },
  {
   "cell_type": "markdown",
   "id": "mexican-nicholas",
   "metadata": {
    "papermill": {
     "duration": 3.412965,
     "end_time": "2021-06-04T06:25:26.764059",
     "exception": false,
     "start_time": "2021-06-04T06:25:23.351094",
     "status": "completed"
    },
    "tags": []
   },
   "source": [
    "## Prediction"
   ]
  },
  {
   "cell_type": "code",
   "execution_count": 19,
   "id": "regulated-coordinate",
   "metadata": {
    "execution": {
     "iopub.execute_input": "2021-06-04T06:25:33.983325Z",
     "iopub.status.busy": "2021-06-04T06:25:33.982797Z",
     "iopub.status.idle": "2021-06-04T06:25:34.108252Z",
     "shell.execute_reply": "2021-06-04T06:25:34.107755Z",
     "shell.execute_reply.started": "2021-06-04T04:42:27.133769Z"
    },
    "jupyter": {
     "source_hidden": true
    },
    "papermill": {
     "duration": 3.771614,
     "end_time": "2021-06-04T06:25:34.108383",
     "exception": false,
     "start_time": "2021-06-04T06:25:30.336769",
     "status": "completed"
    },
    "tags": []
   },
   "outputs": [],
   "source": [
    "test =[]\n",
    "import pandas\n",
    "import os\n",
    "path = '/kaggle/input/fast-furious-and-insured/Fast_Furious_Insured/testImages'\n",
    "for img in os.listdir(path):\n",
    "    test.append(img)\n",
    "test = pandas.DataFrame(test)\n",
    "test.to_csv('imgs.csv')"
   ]
  },
  {
   "cell_type": "code",
   "execution_count": 20,
   "id": "animated-roller",
   "metadata": {
    "execution": {
     "iopub.execute_input": "2021-06-04T06:25:40.978911Z",
     "iopub.status.busy": "2021-06-04T06:25:40.978370Z",
     "iopub.status.idle": "2021-06-04T06:25:49.114698Z",
     "shell.execute_reply": "2021-06-04T06:25:49.114291Z",
     "shell.execute_reply.started": "2021-06-04T04:42:27.371097Z"
    },
    "papermill": {
     "duration": 11.570607,
     "end_time": "2021-06-04T06:25:49.114817",
     "exception": false,
     "start_time": "2021-06-04T06:25:37.544210",
     "status": "completed"
    },
    "tags": []
   },
   "outputs": [
    {
     "data": {
      "text/plain": [
       "(600, 224, 224, 3)"
      ]
     },
     "execution_count": 20,
     "metadata": {},
     "output_type": "execute_result"
    }
   ],
   "source": [
    "test =[]\n",
    "path = '/kaggle/input/fast-furious-and-insured/Fast_Furious_Insured/testImages'\n",
    "for img in os.listdir(path):\n",
    "    img_arr = cv2.imread(os.path.join(path, img))[...,::-1]\n",
    "    resized_arr = cv2.resize(img_arr, (img_size, img_size)) # Reshaping images to preferred size\n",
    "    test.append(resized_arr)\n",
    "test = numpy.array(test) / 255\n",
    "test.reshape(-1, img_size, img_size, 1)\n",
    "test.shape"
   ]
  },
  {
   "cell_type": "code",
   "execution_count": 21,
   "id": "worst-above",
   "metadata": {
    "execution": {
     "iopub.execute_input": "2021-06-04T06:25:56.237185Z",
     "iopub.status.busy": "2021-06-04T06:25:56.236297Z",
     "iopub.status.idle": "2021-06-04T06:25:56.249127Z",
     "shell.execute_reply": "2021-06-04T06:25:56.249506Z",
     "shell.execute_reply.started": "2021-06-04T04:44:42.620334Z"
    },
    "papermill": {
     "duration": 3.695217,
     "end_time": "2021-06-04T06:25:56.249651",
     "exception": false,
     "start_time": "2021-06-04T06:25:52.554434",
     "status": "completed"
    },
    "tags": []
   },
   "outputs": [
    {
     "ename": "NameError",
     "evalue": "name 'y_prob' is not defined",
     "output_type": "error",
     "traceback": [
      "\u001b[0;31m---------------------------------------------------------------------------\u001b[0m",
      "\u001b[0;31mNameError\u001b[0m                                 Traceback (most recent call last)",
      "\u001b[0;32m<ipython-input-21-ddb17560061c>\u001b[0m in \u001b[0;36m<module>\u001b[0;34m\u001b[0m\n\u001b[0;32m----> 1\u001b[0;31m \u001b[0my_prob\u001b[0m\u001b[0;34m.\u001b[0m\u001b[0mshape\u001b[0m\u001b[0;34m\u001b[0m\u001b[0;34m\u001b[0m\u001b[0m\n\u001b[0m",
      "\u001b[0;31mNameError\u001b[0m: name 'y_prob' is not defined"
     ]
    }
   ],
   "source": [
    "y_prob.shape"
   ]
  },
  {
   "cell_type": "code",
   "execution_count": 22,
   "id": "optional-humanitarian",
   "metadata": {
    "execution": {
     "iopub.execute_input": "2021-06-04T06:26:03.094099Z",
     "iopub.status.busy": "2021-06-04T06:26:03.093086Z",
     "iopub.status.idle": "2021-06-04T06:26:05.759503Z",
     "shell.execute_reply": "2021-06-04T06:26:05.759011Z",
     "shell.execute_reply.started": "2021-06-04T04:42:35.576408Z"
    },
    "papermill": {
     "duration": 6.071898,
     "end_time": "2021-06-04T06:26:05.759624",
     "exception": false,
     "start_time": "2021-06-04T06:25:59.687726",
     "status": "completed"
    },
    "tags": []
   },
   "outputs": [],
   "source": [
    "y_prob = model.predict(test) \n",
    "y_classes = y_prob.argmax(axis=-1)\n",
    "predictions = y_classes.reshape(1,-1)[0]\n",
    "pred_df = pandas.DataFrame(predictions)\n",
    "pred_df.to_csv('predict.csv')"
   ]
  },
  {
   "cell_type": "code",
   "execution_count": 23,
   "id": "average-institute",
   "metadata": {
    "execution": {
     "iopub.execute_input": "2021-06-04T06:26:12.858485Z",
     "iopub.status.busy": "2021-06-04T06:26:12.857670Z",
     "iopub.status.idle": "2021-06-04T06:26:12.862292Z",
     "shell.execute_reply": "2021-06-04T06:26:12.861899Z",
     "shell.execute_reply.started": "2021-06-04T04:42:38.450974Z"
    },
    "papermill": {
     "duration": 3.397323,
     "end_time": "2021-06-04T06:26:12.862406",
     "exception": false,
     "start_time": "2021-06-04T06:26:09.465083",
     "status": "completed"
    },
    "tags": []
   },
   "outputs": [
    {
     "data": {
      "text/html": [
       "<div>\n",
       "<style scoped>\n",
       "    .dataframe tbody tr th:only-of-type {\n",
       "        vertical-align: middle;\n",
       "    }\n",
       "\n",
       "    .dataframe tbody tr th {\n",
       "        vertical-align: top;\n",
       "    }\n",
       "\n",
       "    .dataframe thead th {\n",
       "        text-align: right;\n",
       "    }\n",
       "</style>\n",
       "<table border=\"1\" class=\"dataframe\">\n",
       "  <thead>\n",
       "    <tr style=\"text-align: right;\">\n",
       "      <th></th>\n",
       "      <th>0</th>\n",
       "    </tr>\n",
       "  </thead>\n",
       "  <tbody>\n",
       "    <tr>\n",
       "      <th>0</th>\n",
       "      <td>0</td>\n",
       "    </tr>\n",
       "    <tr>\n",
       "      <th>1</th>\n",
       "      <td>0</td>\n",
       "    </tr>\n",
       "    <tr>\n",
       "      <th>2</th>\n",
       "      <td>0</td>\n",
       "    </tr>\n",
       "    <tr>\n",
       "      <th>3</th>\n",
       "      <td>0</td>\n",
       "    </tr>\n",
       "    <tr>\n",
       "      <th>4</th>\n",
       "      <td>0</td>\n",
       "    </tr>\n",
       "    <tr>\n",
       "      <th>...</th>\n",
       "      <td>...</td>\n",
       "    </tr>\n",
       "    <tr>\n",
       "      <th>595</th>\n",
       "      <td>0</td>\n",
       "    </tr>\n",
       "    <tr>\n",
       "      <th>596</th>\n",
       "      <td>0</td>\n",
       "    </tr>\n",
       "    <tr>\n",
       "      <th>597</th>\n",
       "      <td>0</td>\n",
       "    </tr>\n",
       "    <tr>\n",
       "      <th>598</th>\n",
       "      <td>0</td>\n",
       "    </tr>\n",
       "    <tr>\n",
       "      <th>599</th>\n",
       "      <td>0</td>\n",
       "    </tr>\n",
       "  </tbody>\n",
       "</table>\n",
       "<p>600 rows × 1 columns</p>\n",
       "</div>"
      ],
      "text/plain": [
       "     0\n",
       "0    0\n",
       "1    0\n",
       "2    0\n",
       "3    0\n",
       "4    0\n",
       "..  ..\n",
       "595  0\n",
       "596  0\n",
       "597  0\n",
       "598  0\n",
       "599  0\n",
       "\n",
       "[600 rows x 1 columns]"
      ]
     },
     "execution_count": 23,
     "metadata": {},
     "output_type": "execute_result"
    }
   ],
   "source": [
    "pred_df"
   ]
  },
  {
   "cell_type": "code",
   "execution_count": 24,
   "id": "broadband-identity",
   "metadata": {
    "execution": {
     "iopub.execute_input": "2021-06-04T06:26:20.392811Z",
     "iopub.status.busy": "2021-06-04T06:26:20.392237Z",
     "iopub.status.idle": "2021-06-04T06:26:20.415199Z",
     "shell.execute_reply": "2021-06-04T06:26:20.414742Z",
     "shell.execute_reply.started": "2021-06-04T04:42:38.464523Z"
    },
    "papermill": {
     "duration": 3.690358,
     "end_time": "2021-06-04T06:26:20.415327",
     "exception": false,
     "start_time": "2021-06-04T06:26:16.724969",
     "status": "completed"
    },
    "tags": []
   },
   "outputs": [
    {
     "data": {
      "text/html": [
       "<div>\n",
       "<style scoped>\n",
       "    .dataframe tbody tr th:only-of-type {\n",
       "        vertical-align: middle;\n",
       "    }\n",
       "\n",
       "    .dataframe tbody tr th {\n",
       "        vertical-align: top;\n",
       "    }\n",
       "\n",
       "    .dataframe thead th {\n",
       "        text-align: right;\n",
       "    }\n",
       "</style>\n",
       "<table border=\"1\" class=\"dataframe\">\n",
       "  <thead>\n",
       "    <tr style=\"text-align: right;\">\n",
       "      <th></th>\n",
       "      <th>Image_path</th>\n",
       "      <th>Insurance_company</th>\n",
       "      <th>Cost_of_vehicle</th>\n",
       "      <th>Min_coverage</th>\n",
       "      <th>Expiry_date</th>\n",
       "      <th>Max_coverage</th>\n",
       "    </tr>\n",
       "  </thead>\n",
       "  <tbody>\n",
       "    <tr>\n",
       "      <th>0</th>\n",
       "      <td>img_4538519.jpg</td>\n",
       "      <td>B</td>\n",
       "      <td>23600</td>\n",
       "      <td>590.0</td>\n",
       "      <td>2025-04-12</td>\n",
       "      <td>5978.00</td>\n",
       "    </tr>\n",
       "    <tr>\n",
       "      <th>1</th>\n",
       "      <td>img_7766002.jpg</td>\n",
       "      <td>C</td>\n",
       "      <td>28300</td>\n",
       "      <td>707.5</td>\n",
       "      <td>2028-08-24</td>\n",
       "      <td>7153.00</td>\n",
       "    </tr>\n",
       "    <tr>\n",
       "      <th>2</th>\n",
       "      <td>img_4637390.jpg</td>\n",
       "      <td>AC</td>\n",
       "      <td>43700</td>\n",
       "      <td>1092.5</td>\n",
       "      <td>2023-11-28</td>\n",
       "      <td>11003.00</td>\n",
       "    </tr>\n",
       "    <tr>\n",
       "      <th>3</th>\n",
       "      <td>img_4516108.jpg</td>\n",
       "      <td>BB</td>\n",
       "      <td>46100</td>\n",
       "      <td>1152.5</td>\n",
       "      <td>2028-02-04</td>\n",
       "      <td>11603.00</td>\n",
       "    </tr>\n",
       "    <tr>\n",
       "      <th>4</th>\n",
       "      <td>img_4517008.jpg</td>\n",
       "      <td>BB</td>\n",
       "      <td>40700</td>\n",
       "      <td>1017.5</td>\n",
       "      <td>2022-01-03</td>\n",
       "      <td>10253.00</td>\n",
       "    </tr>\n",
       "    <tr>\n",
       "      <th>...</th>\n",
       "      <td>...</td>\n",
       "      <td>...</td>\n",
       "      <td>...</td>\n",
       "      <td>...</td>\n",
       "      <td>...</td>\n",
       "      <td>...</td>\n",
       "    </tr>\n",
       "    <tr>\n",
       "      <th>595</th>\n",
       "      <td>img_7766518.jpg</td>\n",
       "      <td>B</td>\n",
       "      <td>30900</td>\n",
       "      <td>772.5</td>\n",
       "      <td>2024-10-23</td>\n",
       "      <td>7803.00</td>\n",
       "    </tr>\n",
       "    <tr>\n",
       "      <th>596</th>\n",
       "      <td>img_4535713.jpg</td>\n",
       "      <td>O</td>\n",
       "      <td>51300</td>\n",
       "      <td>1282.5</td>\n",
       "      <td>2025-02-21</td>\n",
       "      <td>12903.00</td>\n",
       "    </tr>\n",
       "    <tr>\n",
       "      <th>597</th>\n",
       "      <td>img_4511787.jpg</td>\n",
       "      <td>BQ</td>\n",
       "      <td>27000</td>\n",
       "      <td>675.0</td>\n",
       "      <td>2023-07-13</td>\n",
       "      <td>23527.68</td>\n",
       "    </tr>\n",
       "    <tr>\n",
       "      <th>598</th>\n",
       "      <td>img_4517592.jpg</td>\n",
       "      <td>AA</td>\n",
       "      <td>42600</td>\n",
       "      <td>1065.0</td>\n",
       "      <td>2024-05-05</td>\n",
       "      <td>10728.00</td>\n",
       "    </tr>\n",
       "    <tr>\n",
       "      <th>599</th>\n",
       "      <td>img_4635378.jpg</td>\n",
       "      <td>RE</td>\n",
       "      <td>49300</td>\n",
       "      <td>1232.5</td>\n",
       "      <td>2025-08-07</td>\n",
       "      <td>12403.00</td>\n",
       "    </tr>\n",
       "  </tbody>\n",
       "</table>\n",
       "<p>600 rows × 6 columns</p>\n",
       "</div>"
      ],
      "text/plain": [
       "          Image_path Insurance_company  Cost_of_vehicle  Min_coverage  \\\n",
       "0    img_4538519.jpg                 B            23600         590.0   \n",
       "1    img_7766002.jpg                 C            28300         707.5   \n",
       "2    img_4637390.jpg                AC            43700        1092.5   \n",
       "3    img_4516108.jpg                BB            46100        1152.5   \n",
       "4    img_4517008.jpg                BB            40700        1017.5   \n",
       "..               ...               ...              ...           ...   \n",
       "595  img_7766518.jpg                 B            30900         772.5   \n",
       "596  img_4535713.jpg                 O            51300        1282.5   \n",
       "597  img_4511787.jpg                BQ            27000         675.0   \n",
       "598  img_4517592.jpg                AA            42600        1065.0   \n",
       "599  img_4635378.jpg                RE            49300        1232.5   \n",
       "\n",
       "    Expiry_date  Max_coverage  \n",
       "0    2025-04-12       5978.00  \n",
       "1    2028-08-24       7153.00  \n",
       "2    2023-11-28      11003.00  \n",
       "3    2028-02-04      11603.00  \n",
       "4    2022-01-03      10253.00  \n",
       "..          ...           ...  \n",
       "595  2024-10-23       7803.00  \n",
       "596  2025-02-21      12903.00  \n",
       "597  2023-07-13      23527.68  \n",
       "598  2024-05-05      10728.00  \n",
       "599  2025-08-07      12403.00  \n",
       "\n",
       "[600 rows x 6 columns]"
      ]
     },
     "execution_count": 24,
     "metadata": {},
     "output_type": "execute_result"
    }
   ],
   "source": [
    "test_df = pandas.read_csv('/kaggle/input/fast-furious-and-insured/Fast_Furious_Insured/test.csv')\n",
    "test_df"
   ]
  },
  {
   "cell_type": "code",
   "execution_count": 25,
   "id": "honest-belly",
   "metadata": {
    "execution": {
     "iopub.execute_input": "2021-06-04T06:26:27.263573Z",
     "iopub.status.busy": "2021-06-04T06:26:27.262742Z",
     "iopub.status.idle": "2021-06-04T06:26:27.284060Z",
     "shell.execute_reply": "2021-06-04T06:26:27.283597Z",
     "shell.execute_reply.started": "2021-06-04T04:42:38.498824Z"
    },
    "papermill": {
     "duration": 3.433605,
     "end_time": "2021-06-04T06:26:27.284179",
     "exception": false,
     "start_time": "2021-06-04T06:26:23.850574",
     "status": "completed"
    },
    "tags": []
   },
   "outputs": [
    {
     "data": {
      "text/html": [
       "<div>\n",
       "<style scoped>\n",
       "    .dataframe tbody tr th:only-of-type {\n",
       "        vertical-align: middle;\n",
       "    }\n",
       "\n",
       "    .dataframe tbody tr th {\n",
       "        vertical-align: top;\n",
       "    }\n",
       "\n",
       "    .dataframe thead th {\n",
       "        text-align: right;\n",
       "    }\n",
       "</style>\n",
       "<table border=\"1\" class=\"dataframe\">\n",
       "  <thead>\n",
       "    <tr style=\"text-align: right;\">\n",
       "      <th></th>\n",
       "      <th>Image_path</th>\n",
       "      <th>Insurance_company</th>\n",
       "      <th>Cost_of_vehicle</th>\n",
       "      <th>Min_coverage</th>\n",
       "      <th>Expiry_date</th>\n",
       "      <th>Max_coverage</th>\n",
       "      <th>Condition</th>\n",
       "    </tr>\n",
       "  </thead>\n",
       "  <tbody>\n",
       "    <tr>\n",
       "      <th>0</th>\n",
       "      <td>img_4538519.jpg</td>\n",
       "      <td>B</td>\n",
       "      <td>23600</td>\n",
       "      <td>590.0</td>\n",
       "      <td>2025-04-12</td>\n",
       "      <td>5978.00</td>\n",
       "      <td>0</td>\n",
       "    </tr>\n",
       "    <tr>\n",
       "      <th>1</th>\n",
       "      <td>img_7766002.jpg</td>\n",
       "      <td>C</td>\n",
       "      <td>28300</td>\n",
       "      <td>707.5</td>\n",
       "      <td>2028-08-24</td>\n",
       "      <td>7153.00</td>\n",
       "      <td>0</td>\n",
       "    </tr>\n",
       "    <tr>\n",
       "      <th>2</th>\n",
       "      <td>img_4637390.jpg</td>\n",
       "      <td>AC</td>\n",
       "      <td>43700</td>\n",
       "      <td>1092.5</td>\n",
       "      <td>2023-11-28</td>\n",
       "      <td>11003.00</td>\n",
       "      <td>0</td>\n",
       "    </tr>\n",
       "    <tr>\n",
       "      <th>3</th>\n",
       "      <td>img_4516108.jpg</td>\n",
       "      <td>BB</td>\n",
       "      <td>46100</td>\n",
       "      <td>1152.5</td>\n",
       "      <td>2028-02-04</td>\n",
       "      <td>11603.00</td>\n",
       "      <td>0</td>\n",
       "    </tr>\n",
       "    <tr>\n",
       "      <th>4</th>\n",
       "      <td>img_4517008.jpg</td>\n",
       "      <td>BB</td>\n",
       "      <td>40700</td>\n",
       "      <td>1017.5</td>\n",
       "      <td>2022-01-03</td>\n",
       "      <td>10253.00</td>\n",
       "      <td>0</td>\n",
       "    </tr>\n",
       "    <tr>\n",
       "      <th>...</th>\n",
       "      <td>...</td>\n",
       "      <td>...</td>\n",
       "      <td>...</td>\n",
       "      <td>...</td>\n",
       "      <td>...</td>\n",
       "      <td>...</td>\n",
       "      <td>...</td>\n",
       "    </tr>\n",
       "    <tr>\n",
       "      <th>595</th>\n",
       "      <td>img_7766518.jpg</td>\n",
       "      <td>B</td>\n",
       "      <td>30900</td>\n",
       "      <td>772.5</td>\n",
       "      <td>2024-10-23</td>\n",
       "      <td>7803.00</td>\n",
       "      <td>0</td>\n",
       "    </tr>\n",
       "    <tr>\n",
       "      <th>596</th>\n",
       "      <td>img_4535713.jpg</td>\n",
       "      <td>O</td>\n",
       "      <td>51300</td>\n",
       "      <td>1282.5</td>\n",
       "      <td>2025-02-21</td>\n",
       "      <td>12903.00</td>\n",
       "      <td>0</td>\n",
       "    </tr>\n",
       "    <tr>\n",
       "      <th>597</th>\n",
       "      <td>img_4511787.jpg</td>\n",
       "      <td>BQ</td>\n",
       "      <td>27000</td>\n",
       "      <td>675.0</td>\n",
       "      <td>2023-07-13</td>\n",
       "      <td>23527.68</td>\n",
       "      <td>0</td>\n",
       "    </tr>\n",
       "    <tr>\n",
       "      <th>598</th>\n",
       "      <td>img_4517592.jpg</td>\n",
       "      <td>AA</td>\n",
       "      <td>42600</td>\n",
       "      <td>1065.0</td>\n",
       "      <td>2024-05-05</td>\n",
       "      <td>10728.00</td>\n",
       "      <td>0</td>\n",
       "    </tr>\n",
       "    <tr>\n",
       "      <th>599</th>\n",
       "      <td>img_4635378.jpg</td>\n",
       "      <td>RE</td>\n",
       "      <td>49300</td>\n",
       "      <td>1232.5</td>\n",
       "      <td>2025-08-07</td>\n",
       "      <td>12403.00</td>\n",
       "      <td>0</td>\n",
       "    </tr>\n",
       "  </tbody>\n",
       "</table>\n",
       "<p>600 rows × 7 columns</p>\n",
       "</div>"
      ],
      "text/plain": [
       "          Image_path Insurance_company  Cost_of_vehicle  Min_coverage  \\\n",
       "0    img_4538519.jpg                 B            23600         590.0   \n",
       "1    img_7766002.jpg                 C            28300         707.5   \n",
       "2    img_4637390.jpg                AC            43700        1092.5   \n",
       "3    img_4516108.jpg                BB            46100        1152.5   \n",
       "4    img_4517008.jpg                BB            40700        1017.5   \n",
       "..               ...               ...              ...           ...   \n",
       "595  img_7766518.jpg                 B            30900         772.5   \n",
       "596  img_4535713.jpg                 O            51300        1282.5   \n",
       "597  img_4511787.jpg                BQ            27000         675.0   \n",
       "598  img_4517592.jpg                AA            42600        1065.0   \n",
       "599  img_4635378.jpg                RE            49300        1232.5   \n",
       "\n",
       "    Expiry_date  Max_coverage  Condition  \n",
       "0    2025-04-12       5978.00          0  \n",
       "1    2028-08-24       7153.00          0  \n",
       "2    2023-11-28      11003.00          0  \n",
       "3    2028-02-04      11603.00          0  \n",
       "4    2022-01-03      10253.00          0  \n",
       "..          ...           ...        ...  \n",
       "595  2024-10-23       7803.00          0  \n",
       "596  2025-02-21      12903.00          0  \n",
       "597  2023-07-13      23527.68          0  \n",
       "598  2024-05-05      10728.00          0  \n",
       "599  2025-08-07      12403.00          0  \n",
       "\n",
       "[600 rows x 7 columns]"
      ]
     },
     "execution_count": 25,
     "metadata": {},
     "output_type": "execute_result"
    }
   ],
   "source": [
    "pred_df.columns = ['Condition']\n",
    "combo= pandas.concat(objs= [test_df,pred_df], axis = 1)\n",
    "combo"
   ]
  },
  {
   "cell_type": "code",
   "execution_count": 26,
   "id": "hispanic-musician",
   "metadata": {
    "execution": {
     "iopub.execute_input": "2021-06-04T06:26:34.400927Z",
     "iopub.status.busy": "2021-06-04T06:26:34.400099Z",
     "iopub.status.idle": "2021-06-04T06:26:34.420241Z",
     "shell.execute_reply": "2021-06-04T06:26:34.419763Z",
     "shell.execute_reply.started": "2021-06-04T04:42:38.528363Z"
    },
    "papermill": {
     "duration": 3.428337,
     "end_time": "2021-06-04T06:26:34.420357",
     "exception": false,
     "start_time": "2021-06-04T06:26:30.992020",
     "status": "completed"
    },
    "tags": []
   },
   "outputs": [],
   "source": [
    "combo.to_csv('test.csv')\n",
    "train_df.to_csv('train.csv')"
   ]
  }
 ],
 "metadata": {
  "kernelspec": {
   "display_name": "Python 3",
   "language": "python",
   "name": "python3"
  },
  "language_info": {
   "codemirror_mode": {
    "name": "ipython",
    "version": 3
   },
   "file_extension": ".py",
   "mimetype": "text/x-python",
   "name": "python",
   "nbconvert_exporter": "python",
   "pygments_lexer": "ipython3",
   "version": "3.7.10"
  },
  "papermill": {
   "default_parameters": {},
   "duration": 5621.061766,
   "end_time": "2021-06-04T06:26:40.887982",
   "environment_variables": {},
   "exception": null,
   "input_path": "__notebook__.ipynb",
   "output_path": "__notebook__.ipynb",
   "parameters": {},
   "start_time": "2021-06-04T04:52:59.826216",
   "version": "2.3.3"
  },
  "widgets": {
   "application/vnd.jupyter.widget-state+json": {
    "state": {
     "0e39afd75e4e456c80461f2c8144b9e6": {
      "model_module": "@jupyter-widgets/base",
      "model_module_version": "1.2.0",
      "model_name": "LayoutModel",
      "state": {
       "_model_module": "@jupyter-widgets/base",
       "_model_module_version": "1.2.0",
       "_model_name": "LayoutModel",
       "_view_count": null,
       "_view_module": "@jupyter-widgets/base",
       "_view_module_version": "1.2.0",
       "_view_name": "LayoutView",
       "align_content": null,
       "align_items": null,
       "align_self": null,
       "border": null,
       "bottom": null,
       "display": null,
       "flex": null,
       "flex_flow": null,
       "grid_area": null,
       "grid_auto_columns": null,
       "grid_auto_flow": null,
       "grid_auto_rows": null,
       "grid_column": null,
       "grid_gap": null,
       "grid_row": null,
       "grid_template_areas": null,
       "grid_template_columns": null,
       "grid_template_rows": null,
       "height": null,
       "justify_content": null,
       "justify_items": null,
       "left": null,
       "margin": null,
       "max_height": null,
       "max_width": null,
       "min_height": null,
       "min_width": null,
       "object_fit": null,
       "object_position": null,
       "order": null,
       "overflow": null,
       "overflow_x": null,
       "overflow_y": null,
       "padding": null,
       "right": null,
       "top": null,
       "visibility": null,
       "width": null
      }
     },
     "2a72eb9b22544dc3afda9c53cd9e7199": {
      "model_module": "@jupyter-widgets/controls",
      "model_module_version": "1.5.0",
      "model_name": "ProgressStyleModel",
      "state": {
       "_model_module": "@jupyter-widgets/controls",
       "_model_module_version": "1.5.0",
       "_model_name": "ProgressStyleModel",
       "_view_count": null,
       "_view_module": "@jupyter-widgets/base",
       "_view_module_version": "1.2.0",
       "_view_name": "StyleView",
       "bar_color": null,
       "description_width": ""
      }
     },
     "3c69d3d3f64740e6a072711c23b4d16b": {
      "model_module": "@jupyter-widgets/controls",
      "model_module_version": "1.5.0",
      "model_name": "DescriptionStyleModel",
      "state": {
       "_model_module": "@jupyter-widgets/controls",
       "_model_module_version": "1.5.0",
       "_model_name": "DescriptionStyleModel",
       "_view_count": null,
       "_view_module": "@jupyter-widgets/base",
       "_view_module_version": "1.2.0",
       "_view_name": "StyleView",
       "description_width": ""
      }
     },
     "6976079001e64519b8b61061eee4991d": {
      "model_module": "@jupyter-widgets/controls",
      "model_module_version": "1.5.0",
      "model_name": "HTMLModel",
      "state": {
       "_dom_classes": [],
       "_model_module": "@jupyter-widgets/controls",
       "_model_module_version": "1.5.0",
       "_model_name": "HTMLModel",
       "_view_count": null,
       "_view_module": "@jupyter-widgets/controls",
       "_view_module_version": "1.5.0",
       "_view_name": "HTMLView",
       "description": "",
       "description_tooltip": null,
       "layout": "IPY_MODEL_752be927904142e0ae8ff019a74e168f",
       "placeholder": "​",
       "style": "IPY_MODEL_3c69d3d3f64740e6a072711c23b4d16b",
       "value": " 1/? [00:13&lt;00:00, 13.86s/it]"
      }
     },
     "6fc7f21757e84712b1695931ce89ffb8": {
      "model_module": "@jupyter-widgets/controls",
      "model_module_version": "1.5.0",
      "model_name": "DescriptionStyleModel",
      "state": {
       "_model_module": "@jupyter-widgets/controls",
       "_model_module_version": "1.5.0",
       "_model_name": "DescriptionStyleModel",
       "_view_count": null,
       "_view_module": "@jupyter-widgets/base",
       "_view_module_version": "1.2.0",
       "_view_name": "StyleView",
       "description_width": ""
      }
     },
     "752be927904142e0ae8ff019a74e168f": {
      "model_module": "@jupyter-widgets/base",
      "model_module_version": "1.2.0",
      "model_name": "LayoutModel",
      "state": {
       "_model_module": "@jupyter-widgets/base",
       "_model_module_version": "1.2.0",
       "_model_name": "LayoutModel",
       "_view_count": null,
       "_view_module": "@jupyter-widgets/base",
       "_view_module_version": "1.2.0",
       "_view_name": "LayoutView",
       "align_content": null,
       "align_items": null,
       "align_self": null,
       "border": null,
       "bottom": null,
       "display": null,
       "flex": null,
       "flex_flow": null,
       "grid_area": null,
       "grid_auto_columns": null,
       "grid_auto_flow": null,
       "grid_auto_rows": null,
       "grid_column": null,
       "grid_gap": null,
       "grid_row": null,
       "grid_template_areas": null,
       "grid_template_columns": null,
       "grid_template_rows": null,
       "height": null,
       "justify_content": null,
       "justify_items": null,
       "left": null,
       "margin": null,
       "max_height": null,
       "max_width": null,
       "min_height": null,
       "min_width": null,
       "object_fit": null,
       "object_position": null,
       "order": null,
       "overflow": null,
       "overflow_x": null,
       "overflow_y": null,
       "padding": null,
       "right": null,
       "top": null,
       "visibility": null,
       "width": null
      }
     },
     "78c65173bc764767a64e8894a63eafb5": {
      "model_module": "@jupyter-widgets/controls",
      "model_module_version": "1.5.0",
      "model_name": "FloatProgressModel",
      "state": {
       "_dom_classes": [],
       "_model_module": "@jupyter-widgets/controls",
       "_model_module_version": "1.5.0",
       "_model_name": "FloatProgressModel",
       "_view_count": null,
       "_view_module": "@jupyter-widgets/controls",
       "_view_module_version": "1.5.0",
       "_view_name": "ProgressView",
       "bar_style": "success",
       "description": "",
       "description_tooltip": null,
       "layout": "IPY_MODEL_96083e99542b466a81185fcbcab1533b",
       "max": 1,
       "min": 0,
       "orientation": "horizontal",
       "style": "IPY_MODEL_2a72eb9b22544dc3afda9c53cd9e7199",
       "value": 1
      }
     },
     "96083e99542b466a81185fcbcab1533b": {
      "model_module": "@jupyter-widgets/base",
      "model_module_version": "1.2.0",
      "model_name": "LayoutModel",
      "state": {
       "_model_module": "@jupyter-widgets/base",
       "_model_module_version": "1.2.0",
       "_model_name": "LayoutModel",
       "_view_count": null,
       "_view_module": "@jupyter-widgets/base",
       "_view_module_version": "1.2.0",
       "_view_name": "LayoutView",
       "align_content": null,
       "align_items": null,
       "align_self": null,
       "border": null,
       "bottom": null,
       "display": null,
       "flex": null,
       "flex_flow": null,
       "grid_area": null,
       "grid_auto_columns": null,
       "grid_auto_flow": null,
       "grid_auto_rows": null,
       "grid_column": null,
       "grid_gap": null,
       "grid_row": null,
       "grid_template_areas": null,
       "grid_template_columns": null,
       "grid_template_rows": null,
       "height": null,
       "justify_content": null,
       "justify_items": null,
       "left": null,
       "margin": null,
       "max_height": null,
       "max_width": null,
       "min_height": null,
       "min_width": null,
       "object_fit": null,
       "object_position": null,
       "order": null,
       "overflow": null,
       "overflow_x": null,
       "overflow_y": null,
       "padding": null,
       "right": null,
       "top": null,
       "visibility": null,
       "width": "20px"
      }
     },
     "ada2d12d2ab045d98d2207474688453f": {
      "model_module": "@jupyter-widgets/controls",
      "model_module_version": "1.5.0",
      "model_name": "HTMLModel",
      "state": {
       "_dom_classes": [],
       "_model_module": "@jupyter-widgets/controls",
       "_model_module_version": "1.5.0",
       "_model_name": "HTMLModel",
       "_view_count": null,
       "_view_module": "@jupyter-widgets/controls",
       "_view_module_version": "1.5.0",
       "_view_name": "HTMLView",
       "description": "",
       "description_tooltip": null,
       "layout": "IPY_MODEL_bdf416f30de64321806b6e4a40bc3602",
       "placeholder": "​",
       "style": "IPY_MODEL_6fc7f21757e84712b1695931ce89ffb8",
       "value": ""
      }
     },
     "bdf416f30de64321806b6e4a40bc3602": {
      "model_module": "@jupyter-widgets/base",
      "model_module_version": "1.2.0",
      "model_name": "LayoutModel",
      "state": {
       "_model_module": "@jupyter-widgets/base",
       "_model_module_version": "1.2.0",
       "_model_name": "LayoutModel",
       "_view_count": null,
       "_view_module": "@jupyter-widgets/base",
       "_view_module_version": "1.2.0",
       "_view_name": "LayoutView",
       "align_content": null,
       "align_items": null,
       "align_self": null,
       "border": null,
       "bottom": null,
       "display": null,
       "flex": null,
       "flex_flow": null,
       "grid_area": null,
       "grid_auto_columns": null,
       "grid_auto_flow": null,
       "grid_auto_rows": null,
       "grid_column": null,
       "grid_gap": null,
       "grid_row": null,
       "grid_template_areas": null,
       "grid_template_columns": null,
       "grid_template_rows": null,
       "height": null,
       "justify_content": null,
       "justify_items": null,
       "left": null,
       "margin": null,
       "max_height": null,
       "max_width": null,
       "min_height": null,
       "min_width": null,
       "object_fit": null,
       "object_position": null,
       "order": null,
       "overflow": null,
       "overflow_x": null,
       "overflow_y": null,
       "padding": null,
       "right": null,
       "top": null,
       "visibility": null,
       "width": null
      }
     },
     "f28a7c5a3a7a406bb1957e96277834c3": {
      "model_module": "@jupyter-widgets/controls",
      "model_module_version": "1.5.0",
      "model_name": "HBoxModel",
      "state": {
       "_dom_classes": [],
       "_model_module": "@jupyter-widgets/controls",
       "_model_module_version": "1.5.0",
       "_model_name": "HBoxModel",
       "_view_count": null,
       "_view_module": "@jupyter-widgets/controls",
       "_view_module_version": "1.5.0",
       "_view_name": "HBoxView",
       "box_style": "",
       "children": [
        "IPY_MODEL_ada2d12d2ab045d98d2207474688453f",
        "IPY_MODEL_78c65173bc764767a64e8894a63eafb5",
        "IPY_MODEL_6976079001e64519b8b61061eee4991d"
       ],
       "layout": "IPY_MODEL_0e39afd75e4e456c80461f2c8144b9e6"
      }
     }
    },
    "version_major": 2,
    "version_minor": 0
   }
  }
 },
 "nbformat": 4,
 "nbformat_minor": 5
}