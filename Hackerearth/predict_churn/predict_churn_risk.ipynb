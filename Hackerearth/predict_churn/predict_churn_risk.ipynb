{
  "nbformat": 4,
  "nbformat_minor": 5,
  "metadata": {
    "kernelspec": {
      "display_name": "Python 3",
      "language": "python",
      "name": "python3"
    },
    "language_info": {
      "codemirror_mode": {
        "name": "ipython",
        "version": 3
      },
      "file_extension": ".py",
      "mimetype": "text/x-python",
      "name": "python",
      "nbconvert_exporter": "python",
      "pygments_lexer": "ipython3",
      "version": "3.8.5-final"
    },
    "colab": {
      "name": "Copy of predict_churn_risk.ipynb",
      "provenance": [],
      "collapsed_sections": [
        "knowing-precipitation",
        "pWoEINZmzns4"
      ],
      "include_colab_link": true
    }
  },
  "cells": [
    {
      "cell_type": "markdown",
      "metadata": {
        "id": "view-in-github",
        "colab_type": "text"
      },
      "source": [
        "<a href=\"https://colab.research.google.com/github/Ashuto7h/ML-works/blob/main/Copy_of_predict_churn_risk.ipynb\" target=\"_parent\"><img src=\"https://colab.research.google.com/assets/colab-badge.svg\" alt=\"Open In Colab\"/></a>"
      ]
    },
    {
      "cell_type": "code",
      "metadata": {
        "id": "increased-registrar"
      },
      "source": [
        "import pandas\n",
        "import numpy\n",
        "import matplotlib.pyplot as pyplot\n",
        "import seaborn\n",
        "\n",
        "train = pandas.read_csv('https://raw.githubusercontent.com/Ashuto7h/ML-works/main/predict_churn/files/train.csv')\n",
        "test = pandas.read_csv('https://raw.githubusercontent.com/Ashuto7h/ML-works/main/predict_churn/files/test.csv')"
      ],
      "id": "increased-registrar",
      "execution_count": null,
      "outputs": []
    },
    {
      "cell_type": "code",
      "metadata": {
        "id": "fixed-travel",
        "colab": {
          "base_uri": "https://localhost:8080/",
          "height": 300
        },
        "outputId": "e168657a-be60-4438-cecf-21a32ad01440"
      },
      "source": [
        "train.describe()\n",
        "# print(test.describe())"
      ],
      "id": "fixed-travel",
      "execution_count": null,
      "outputs": [
        {
          "output_type": "execute_result",
          "data": {
            "text/html": [
              "<div>\n",
              "<style scoped>\n",
              "    .dataframe tbody tr th:only-of-type {\n",
              "        vertical-align: middle;\n",
              "    }\n",
              "\n",
              "    .dataframe tbody tr th {\n",
              "        vertical-align: top;\n",
              "    }\n",
              "\n",
              "    .dataframe thead th {\n",
              "        text-align: right;\n",
              "    }\n",
              "</style>\n",
              "<table border=\"1\" class=\"dataframe\">\n",
              "  <thead>\n",
              "    <tr style=\"text-align: right;\">\n",
              "      <th></th>\n",
              "      <th>age</th>\n",
              "      <th>days_since_last_login</th>\n",
              "      <th>avg_time_spent</th>\n",
              "      <th>avg_transaction_value</th>\n",
              "      <th>points_in_wallet</th>\n",
              "      <th>churn_risk_score</th>\n",
              "    </tr>\n",
              "  </thead>\n",
              "  <tbody>\n",
              "    <tr>\n",
              "      <th>count</th>\n",
              "      <td>36992.000000</td>\n",
              "      <td>36992.000000</td>\n",
              "      <td>36992.000000</td>\n",
              "      <td>36992.000000</td>\n",
              "      <td>33549.000000</td>\n",
              "      <td>36992.000000</td>\n",
              "    </tr>\n",
              "    <tr>\n",
              "      <th>mean</th>\n",
              "      <td>37.118161</td>\n",
              "      <td>-41.915576</td>\n",
              "      <td>243.472334</td>\n",
              "      <td>29271.194003</td>\n",
              "      <td>686.882199</td>\n",
              "      <td>3.463397</td>\n",
              "    </tr>\n",
              "    <tr>\n",
              "      <th>std</th>\n",
              "      <td>15.867412</td>\n",
              "      <td>228.819900</td>\n",
              "      <td>398.289149</td>\n",
              "      <td>19444.806226</td>\n",
              "      <td>194.063624</td>\n",
              "      <td>1.409661</td>\n",
              "    </tr>\n",
              "    <tr>\n",
              "      <th>min</th>\n",
              "      <td>10.000000</td>\n",
              "      <td>-999.000000</td>\n",
              "      <td>-2814.109110</td>\n",
              "      <td>800.460000</td>\n",
              "      <td>-760.661236</td>\n",
              "      <td>-1.000000</td>\n",
              "    </tr>\n",
              "    <tr>\n",
              "      <th>25%</th>\n",
              "      <td>23.000000</td>\n",
              "      <td>8.000000</td>\n",
              "      <td>60.102500</td>\n",
              "      <td>14177.540000</td>\n",
              "      <td>616.150000</td>\n",
              "      <td>3.000000</td>\n",
              "    </tr>\n",
              "    <tr>\n",
              "      <th>50%</th>\n",
              "      <td>37.000000</td>\n",
              "      <td>12.000000</td>\n",
              "      <td>161.765000</td>\n",
              "      <td>27554.485000</td>\n",
              "      <td>697.620000</td>\n",
              "      <td>4.000000</td>\n",
              "    </tr>\n",
              "    <tr>\n",
              "      <th>75%</th>\n",
              "      <td>51.000000</td>\n",
              "      <td>16.000000</td>\n",
              "      <td>356.515000</td>\n",
              "      <td>40855.110000</td>\n",
              "      <td>763.950000</td>\n",
              "      <td>5.000000</td>\n",
              "    </tr>\n",
              "    <tr>\n",
              "      <th>max</th>\n",
              "      <td>64.000000</td>\n",
              "      <td>26.000000</td>\n",
              "      <td>3235.578521</td>\n",
              "      <td>99914.050000</td>\n",
              "      <td>2069.069761</td>\n",
              "      <td>5.000000</td>\n",
              "    </tr>\n",
              "  </tbody>\n",
              "</table>\n",
              "</div>"
            ],
            "text/plain": [
              "                age  days_since_last_login  ...  points_in_wallet  churn_risk_score\n",
              "count  36992.000000           36992.000000  ...      33549.000000      36992.000000\n",
              "mean      37.118161             -41.915576  ...        686.882199          3.463397\n",
              "std       15.867412             228.819900  ...        194.063624          1.409661\n",
              "min       10.000000            -999.000000  ...       -760.661236         -1.000000\n",
              "25%       23.000000               8.000000  ...        616.150000          3.000000\n",
              "50%       37.000000              12.000000  ...        697.620000          4.000000\n",
              "75%       51.000000              16.000000  ...        763.950000          5.000000\n",
              "max       64.000000              26.000000  ...       2069.069761          5.000000\n",
              "\n",
              "[8 rows x 6 columns]"
            ]
          },
          "metadata": {
            "tags": []
          },
          "execution_count": 87
        }
      ]
    },
    {
      "cell_type": "code",
      "metadata": {
        "id": "everyday-worship",
        "colab": {
          "base_uri": "https://localhost:8080/"
        },
        "outputId": "26e4cfe9-c2a2-4c5d-a7f6-e890b3a85501"
      },
      "source": [
        "train.info()\n",
        "test.info()"
      ],
      "id": "everyday-worship",
      "execution_count": null,
      "outputs": [
        {
          "output_type": "stream",
          "text": [
            "<class 'pandas.core.frame.DataFrame'>\n",
            "RangeIndex: 36992 entries, 0 to 36991\n",
            "Data columns (total 25 columns):\n",
            " #   Column                        Non-Null Count  Dtype  \n",
            "---  ------                        --------------  -----  \n",
            " 0   customer_id                   36992 non-null  object \n",
            " 1   Name                          36992 non-null  object \n",
            " 2   age                           36992 non-null  int64  \n",
            " 3   gender                        36992 non-null  object \n",
            " 4   security_no                   36992 non-null  object \n",
            " 5   region_category               31564 non-null  object \n",
            " 6   membership_category           36992 non-null  object \n",
            " 7   joining_date                  36992 non-null  object \n",
            " 8   joined_through_referral       36992 non-null  object \n",
            " 9   referral_id                   36992 non-null  object \n",
            " 10  preferred_offer_types         36704 non-null  object \n",
            " 11  medium_of_operation           36992 non-null  object \n",
            " 12  internet_option               36992 non-null  object \n",
            " 13  last_visit_time               36992 non-null  object \n",
            " 14  days_since_last_login         36992 non-null  int64  \n",
            " 15  avg_time_spent                36992 non-null  float64\n",
            " 16  avg_transaction_value         36992 non-null  float64\n",
            " 17  avg_frequency_login_days      36992 non-null  object \n",
            " 18  points_in_wallet              33549 non-null  float64\n",
            " 19  used_special_discount         36992 non-null  object \n",
            " 20  offer_application_preference  36992 non-null  object \n",
            " 21  past_complaint                36992 non-null  object \n",
            " 22  complaint_status              36992 non-null  object \n",
            " 23  feedback                      36992 non-null  object \n",
            " 24  churn_risk_score              36992 non-null  int64  \n",
            "dtypes: float64(3), int64(3), object(19)\n",
            "memory usage: 7.1+ MB\n",
            "<class 'pandas.core.frame.DataFrame'>\n",
            "RangeIndex: 19919 entries, 0 to 19918\n",
            "Data columns (total 24 columns):\n",
            " #   Column                        Non-Null Count  Dtype  \n",
            "---  ------                        --------------  -----  \n",
            " 0   customer_id                   19919 non-null  object \n",
            " 1   Name                          19919 non-null  object \n",
            " 2   age                           19919 non-null  int64  \n",
            " 3   gender                        19919 non-null  object \n",
            " 4   security_no                   19919 non-null  object \n",
            " 5   region_category               16971 non-null  object \n",
            " 6   membership_category           19919 non-null  object \n",
            " 7   joining_date                  19919 non-null  object \n",
            " 8   joined_through_referral       19919 non-null  object \n",
            " 9   referral_id                   19919 non-null  object \n",
            " 10  preferred_offer_types         19760 non-null  object \n",
            " 11  medium_of_operation           19919 non-null  object \n",
            " 12  internet_option               19919 non-null  object \n",
            " 13  last_visit_time               19919 non-null  object \n",
            " 14  days_since_last_login         19919 non-null  int64  \n",
            " 15  avg_time_spent                19919 non-null  float64\n",
            " 16  avg_transaction_value         19919 non-null  float64\n",
            " 17  avg_frequency_login_days      19919 non-null  object \n",
            " 18  points_in_wallet              17956 non-null  float64\n",
            " 19  used_special_discount         19919 non-null  object \n",
            " 20  offer_application_preference  19919 non-null  object \n",
            " 21  past_complaint                19919 non-null  object \n",
            " 22  complaint_status              19919 non-null  object \n",
            " 23  feedback                      19919 non-null  object \n",
            "dtypes: float64(3), int64(2), object(19)\n",
            "memory usage: 3.6+ MB\n"
          ],
          "name": "stdout"
        }
      ]
    },
    {
      "cell_type": "markdown",
      "metadata": {
        "id": "declared-conservative"
      },
      "source": [
        "## Univariate and Bivariate analysis\n",
        "#### 1. Customer Id\n",
        "total 36992 unique values. "
      ],
      "id": "declared-conservative"
    },
    {
      "cell_type": "markdown",
      "metadata": {
        "id": "knowing-precipitation"
      },
      "source": [
        "#### 2. Name - This field is not necessary\n"
      ],
      "id": "knowing-precipitation"
    },
    {
      "cell_type": "code",
      "metadata": {
        "id": "cutting-parts"
      },
      "source": [
        "del train['Name']\n",
        "del test['Name']"
      ],
      "id": "cutting-parts",
      "execution_count": null,
      "outputs": []
    },
    {
      "cell_type": "markdown",
      "metadata": {
        "id": "mhh_e59jKuKV"
      },
      "source": [
        "#### 25. churn_risk_score"
      ],
      "id": "mhh_e59jKuKV"
    },
    {
      "cell_type": "code",
      "metadata": {
        "id": "UoqPryx9KuKW",
        "colab": {
          "base_uri": "https://localhost:8080/"
        },
        "outputId": "90b77f68-5815-489d-8406-dd365bf9c26a"
      },
      "source": [
        "print(train['churn_risk_score'].value_counts())\n",
        "train['churn_risk_score'].replace(0,3,inplace=True)\n",
        "train['churn_risk_score'].replace(-1,3,inplace=True)\n",
        "train['churn_risk_score'].value_counts()"
      ],
      "id": "UoqPryx9KuKW",
      "execution_count": null,
      "outputs": [
        {
          "output_type": "stream",
          "text": [
            " 3    10424\n",
            " 4    10185\n",
            " 5     9827\n",
            " 2     2741\n",
            " 1     2652\n",
            "-1     1163\n",
            "Name: churn_risk_score, dtype: int64\n"
          ],
          "name": "stdout"
        },
        {
          "output_type": "execute_result",
          "data": {
            "text/plain": [
              "3    11587\n",
              "4    10185\n",
              "5     9827\n",
              "2     2741\n",
              "1     2652\n",
              "Name: churn_risk_score, dtype: int64"
            ]
          },
          "metadata": {
            "tags": []
          },
          "execution_count": 90
        }
      ]
    },
    {
      "cell_type": "code",
      "metadata": {
        "colab": {
          "base_uri": "https://localhost:8080/",
          "height": 298
        },
        "id": "vuJEBYzyBi_4",
        "outputId": "b91b29af-537a-4260-d1dd-79315c360115"
      },
      "source": [
        "seaborn.countplot(data = train, x = 'churn_risk_score')"
      ],
      "id": "vuJEBYzyBi_4",
      "execution_count": null,
      "outputs": [
        {
          "output_type": "execute_result",
          "data": {
            "text/plain": [
              "<matplotlib.axes._subplots.AxesSubplot at 0x7f66f03a8f10>"
            ]
          },
          "metadata": {
            "tags": []
          },
          "execution_count": 91
        },
        {
          "output_type": "display_data",
          "data": {
            "image/png": "[encoded data removed]",
            "text/plain": [
              "<Figure size 432x288 with 1 Axes>"
            ]
          },
          "metadata": {
            "tags": [],
            "needs_background": "light"
          }
        }
      ]
    },
    {
      "cell_type": "markdown",
      "metadata": {
        "id": "neither-tobago"
      },
      "source": [
        "#### 3. age "
      ],
      "id": "neither-tobago"
    },
    {
      "cell_type": "code",
      "metadata": {
        "id": "2Iyjrnu8KuKZ"
      },
      "source": [
        "train['age'].replace(0,int(train['age'].mean()),inplace=True)\n",
        "\n",
        "test['age'].replace(0,int(test['age'].mean()),inplace=True)"
      ],
      "id": "2Iyjrnu8KuKZ",
      "execution_count": null,
      "outputs": []
    },
    {
      "cell_type": "code",
      "metadata": {
        "id": "Q8U1bJBMKuKZ",
        "colab": {
          "base_uri": "https://localhost:8080/",
          "height": 297
        },
        "outputId": "64a10feb-bf4b-47ca-d81a-d21fe2541639"
      },
      "source": [
        "seaborn.violinplot(data = train, x = 'churn_risk_score', y = 'age')"
      ],
      "id": "Q8U1bJBMKuKZ",
      "execution_count": null,
      "outputs": [
        {
          "output_type": "execute_result",
          "data": {
            "text/plain": [
              "<matplotlib.axes._subplots.AxesSubplot at 0x7f66f03105d0>"
            ]
          },
          "metadata": {
            "tags": []
          },
          "execution_count": 93
        },
        {
          "output_type": "display_data",
          "data": {
            "image/png": "[encoded data removed]",
            "text/plain": [
              "<Figure size 432x288 with 1 Axes>"
            ]
          },
          "metadata": {
            "tags": [],
            "needs_background": "light"
          }
        }
      ]
    },
    {
      "cell_type": "markdown",
      "metadata": {
        "id": "4cg8cvO7Ffq5"
      },
      "source": [
        "__Conclusion__ : age doesn't have a major effect on target."
      ],
      "id": "4cg8cvO7Ffq5"
    },
    {
      "cell_type": "markdown",
      "metadata": {
        "id": "iXQ2ZOMjKuKc"
      },
      "source": [
        "#### 4. Gender"
      ],
      "id": "iXQ2ZOMjKuKc"
    },
    {
      "cell_type": "code",
      "metadata": {
        "id": "zSfmpzy9KuKd",
        "colab": {
          "base_uri": "https://localhost:8080/"
        },
        "outputId": "1142c9db-1902-4577-a152-6bcb22ae6050"
      },
      "source": [
        "print(train['gender'].value_counts())\n",
        "train['gender'].replace('Unknown','F', inplace = True)\n",
        "print(train['gender'].value_counts())\n",
        "\n",
        "test['gender'].replace('Unknown','F', inplace = True)"
      ],
      "id": "zSfmpzy9KuKd",
      "execution_count": null,
      "outputs": [
        {
          "output_type": "stream",
          "text": [
            "F          18490\n",
            "M          18443\n",
            "Unknown       59\n",
            "Name: gender, dtype: int64\n",
            "F    18549\n",
            "M    18443\n",
            "Name: gender, dtype: int64\n"
          ],
          "name": "stdout"
        }
      ]
    },
    {
      "cell_type": "code",
      "metadata": {
        "id": "DGxex1FyKuKf",
        "colab": {
          "base_uri": "https://localhost:8080/",
          "height": 297
        },
        "outputId": "c13561ef-b0c8-4507-90c9-cc3eea712729"
      },
      "source": [
        "seaborn.countplot(data=train, x = 'gender', hue = 'churn_risk_score')"
      ],
      "id": "DGxex1FyKuKf",
      "execution_count": null,
      "outputs": [
        {
          "output_type": "execute_result",
          "data": {
            "text/plain": [
              "<matplotlib.axes._subplots.AxesSubplot at 0x7f66efab9750>"
            ]
          },
          "metadata": {
            "tags": []
          },
          "execution_count": 95
        },
        {
          "output_type": "display_data",
          "data": {
            "image/png": "[encoded data removed]",
            "text/plain": [
              "<Figure size 432x288 with 1 Axes>"
            ]
          },
          "metadata": {
            "tags": [],
            "needs_background": "light"
          }
        }
      ]
    },
    {
      "cell_type": "markdown",
      "metadata": {
        "id": "c7XNI2soFxGv"
      },
      "source": [
        "__Conclusion__ :  gender doesn't affects the target."
      ],
      "id": "c7XNI2soFxGv"
    },
    {
      "cell_type": "markdown",
      "metadata": {
        "id": "w5JzL5byKuKg"
      },
      "source": [
        "#### 5. security_no -\n",
        "(Useless) a unique security_no used to identify a person\n"
      ],
      "id": "w5JzL5byKuKg"
    },
    {
      "cell_type": "code",
      "metadata": {
        "id": "mBBMUXBkKuKg"
      },
      "source": [
        "del train['security_no']\n",
        "del test['security_no']"
      ],
      "id": "mBBMUXBkKuKg",
      "execution_count": null,
      "outputs": []
    },
    {
      "cell_type": "markdown",
      "metadata": {
        "id": "1LBjooSqKuKg"
      },
      "source": [
        "#### 6. region_category\n"
      ],
      "id": "1LBjooSqKuKg"
    },
    {
      "cell_type": "code",
      "metadata": {
        "id": "cXjYNP24KuKh",
        "colab": {
          "base_uri": "https://localhost:8080/"
        },
        "outputId": "97e09653-4330-4de9-f20f-4e311be93051"
      },
      "source": [
        "print(train['region_category'].unique())\n",
        "print(train['region_category'].value_counts())\n",
        "print(train['region_category'].isna().sum())\n",
        "train['region_category'].fillna('Town',inplace = True)\n",
        "print(train['region_category'].value_counts())\n",
        "\n",
        "test['region_category'].fillna('Town',inplace = True)"
      ],
      "id": "cXjYNP24KuKh",
      "execution_count": null,
      "outputs": [
        {
          "output_type": "stream",
          "text": [
            "['Village' 'City' 'Town' nan]\n",
            "Town       14128\n",
            "City       12737\n",
            "Village     4699\n",
            "Name: region_category, dtype: int64\n",
            "5428\n",
            "Town       19556\n",
            "City       12737\n",
            "Village     4699\n",
            "Name: region_category, dtype: int64\n"
          ],
          "name": "stdout"
        }
      ]
    },
    {
      "cell_type": "code",
      "metadata": {
        "colab": {
          "base_uri": "https://localhost:8080/",
          "height": 297
        },
        "id": "INehKElhHL6_",
        "outputId": "caba1444-3209-473c-a543-ca799db67504"
      },
      "source": [
        "seaborn.countplot(data = train, x = 'region_category',hue = 'churn_risk_score')"
      ],
      "id": "INehKElhHL6_",
      "execution_count": null,
      "outputs": [
        {
          "output_type": "execute_result",
          "data": {
            "text/plain": [
              "<matplotlib.axes._subplots.AxesSubplot at 0x7f66efa3bc90>"
            ]
          },
          "metadata": {
            "tags": []
          },
          "execution_count": 98
        },
        {
          "output_type": "display_data",
          "data": {
            "image/png": "[encoded data removed]",
            "text/plain": [
              "<Figure size 432x288 with 1 Axes>"
            ]
          },
          "metadata": {
            "tags": [],
            "needs_background": "light"
          }
        }
      ]
    },
    {
      "cell_type": "markdown",
      "metadata": {
        "id": "vaUC9Od9ICK7"
      },
      "source": [
        "__conclusion__ : region_category affects target."
      ],
      "id": "vaUC9Od9ICK7"
    },
    {
      "cell_type": "markdown",
      "metadata": {
        "id": "fcI5W8LsKuKi"
      },
      "source": [
        "#### 7. membership_category\n"
      ],
      "id": "fcI5W8LsKuKi"
    },
    {
      "cell_type": "code",
      "metadata": {
        "colab": {
          "base_uri": "https://localhost:8080/",
          "height": 395
        },
        "id": "04Of5gh4IR1k",
        "outputId": "fd1e0cba-abe9-495b-eb5e-c3f087223125"
      },
      "source": [
        "seaborn.countplot(data = train, x = 'membership_category', hue='churn_risk_score')\n",
        "pyplot.xticks(rotation= 75)"
      ],
      "id": "04Of5gh4IR1k",
      "execution_count": null,
      "outputs": [
        {
          "output_type": "execute_result",
          "data": {
            "text/plain": [
              "(array([0, 1, 2, 3, 4, 5]), <a list of 6 Text major ticklabel objects>)"
            ]
          },
          "metadata": {
            "tags": []
          },
          "execution_count": 99
        },
        {
          "output_type": "display_data",
          "data": {
            "image/png": "[encoded data removed]",
            "text/plain": [
              "<Figure size 432x288 with 1 Axes>"
            ]
          },
          "metadata": {
            "tags": [],
            "needs_background": "light"
          }
        }
      ]
    },
    {
      "cell_type": "markdown",
      "metadata": {
        "id": "DyKnGoUGJG5C"
      },
      "source": [
        "__conclusion__ : membership_category affects churn risk score."
      ],
      "id": "DyKnGoUGJG5C"
    },
    {
      "cell_type": "markdown",
      "metadata": {
        "id": "2KyNwp27KuKk"
      },
      "source": [
        "#### 8. joining_date\n",
        "1096 unique dates.\n",
        "\n",
        "from 2015-01-01 to 2017-12-31\n",
        "\n",
        "not affects much, not required."
      ],
      "id": "2KyNwp27KuKk"
    },
    {
      "cell_type": "code",
      "metadata": {
        "id": "zFyvQ112JWj1"
      },
      "source": [
        "del train['joining_date']\n",
        "del test['joining_date']"
      ],
      "id": "zFyvQ112JWj1",
      "execution_count": null,
      "outputs": []
    },
    {
      "cell_type": "markdown",
      "metadata": {
        "id": "Jablj_JHKuKk"
      },
      "source": [
        "#### 9. joined_through_referral\n",
        "there are some users who's `joined_through_referral = ?` but they have a unique `referral_id`.\n"
      ],
      "id": "Jablj_JHKuKk"
    },
    {
      "cell_type": "code",
      "metadata": {
        "id": "TEZ0QZudKuKl",
        "colab": {
          "base_uri": "https://localhost:8080/"
        },
        "outputId": "3c3ef139-6d36-4009-e1f0-26542ba80ef0"
      },
      "source": [
        "print(train['joined_through_referral'].value_counts())\n",
        "print(test['joined_through_referral'].value_counts())"
      ],
      "id": "TEZ0QZudKuKl",
      "execution_count": null,
      "outputs": [
        {
          "output_type": "stream",
          "text": [
            "No     15839\n",
            "Yes    15715\n",
            "?       5438\n",
            "Name: joined_through_referral, dtype: int64\n",
            "Yes    8617\n",
            "No     8304\n",
            "?      2998\n",
            "Name: joined_through_referral, dtype: int64\n"
          ],
          "name": "stdout"
        }
      ]
    },
    {
      "cell_type": "code",
      "metadata": {
        "id": "-0jWEQUEKuKl",
        "colab": {
          "base_uri": "https://localhost:8080/"
        },
        "outputId": "6051c805-4c18-4469-d1d1-617902fd7acb"
      },
      "source": [
        "train.loc[(train.referral_id == 'xxxxxxxx') & (train.joined_through_referral == '?'), 'joined_through_referral'] = 'No'\n",
        "\n",
        "train.loc[(train.referral_id != 'xxxxxxxx') & (train.joined_through_referral == '?'),'joined_through_referral'] = 'Yes'\n",
        "\n",
        "test.loc[(test.referral_id == 'xxxxxxxx') & (test.joined_through_referral == '?'), 'joined_through_referral'] = 'No'\n",
        "\n",
        "test.loc[(test.referral_id != 'xxxxxxxx') & (test.joined_through_referral == '?'),'joined_through_referral'] = 'Yes'\n",
        "\n",
        "print(train['joined_through_referral'].value_counts())\n",
        "print(test['joined_through_referral'].value_counts())\n"
      ],
      "id": "-0jWEQUEKuKl",
      "execution_count": null,
      "outputs": [
        {
          "output_type": "stream",
          "text": [
            "Yes    20592\n",
            "No     16400\n",
            "Name: joined_through_referral, dtype: int64\n",
            "Yes    11305\n",
            "No      8614\n",
            "Name: joined_through_referral, dtype: int64\n"
          ],
          "name": "stdout"
        }
      ]
    },
    {
      "cell_type": "code",
      "metadata": {
        "colab": {
          "base_uri": "https://localhost:8080/",
          "height": 297
        },
        "id": "wbip3royJnGe",
        "outputId": "26a648b9-68b9-4e84-ab6e-2e5180337f2c"
      },
      "source": [
        "seaborn.countplot(data =train, x = 'joined_through_referral', hue = 'churn_risk_score')"
      ],
      "id": "wbip3royJnGe",
      "execution_count": null,
      "outputs": [
        {
          "output_type": "execute_result",
          "data": {
            "text/plain": [
              "<matplotlib.axes._subplots.AxesSubplot at 0x7f66f056b8d0>"
            ]
          },
          "metadata": {
            "tags": []
          },
          "execution_count": 103
        },
        {
          "output_type": "display_data",
          "data": {
            "image/png": "[encoded data removed]",
            "text/plain": [
              "<Figure size 432x288 with 1 Axes>"
            ]
          },
          "metadata": {
            "tags": [],
            "needs_background": "light"
          }
        }
      ]
    },
    {
      "cell_type": "markdown",
      "metadata": {
        "id": "0PD2lgq5KOW5"
      },
      "source": [
        "__conclusion__ : joined_through_referral affects churn_risk_score."
      ],
      "id": "0PD2lgq5KOW5"
    },
    {
      "cell_type": "markdown",
      "metadata": {
        "id": "JG_CdMCdKuKm"
      },
      "source": [
        "#### 10. referral_id\n",
        "it doesn't play a major role, because mostly one referral_id is used for only one referral. so it can be removed.\n"
      ],
      "id": "JG_CdMCdKuKm"
    },
    {
      "cell_type": "code",
      "metadata": {
        "id": "f0IBtx7pKuKm",
        "colab": {
          "base_uri": "https://localhost:8080/"
        },
        "outputId": "3e8e238f-c8a0-417a-9acf-80f9da4cabff"
      },
      "source": [
        "print('len' ,len(train['referral_id'].unique()))\n",
        "print(train['referral_id'].value_counts())\n",
        "\n",
        "del train['referral_id']\n",
        "del test['referral_id']"
      ],
      "id": "f0IBtx7pKuKm",
      "execution_count": null,
      "outputs": [
        {
          "output_type": "stream",
          "text": [
            "len 11359\n",
            "xxxxxxxx    17846\n",
            "CID43705       12\n",
            "CID3979        11\n",
            "CID49601       10\n",
            "CID23978        9\n",
            "            ...  \n",
            "CID21022        1\n",
            "CID10289        1\n",
            "CID8486         1\n",
            "CID35319        1\n",
            "CID12643        1\n",
            "Name: referral_id, Length: 11359, dtype: int64\n"
          ],
          "name": "stdout"
        }
      ]
    },
    {
      "cell_type": "markdown",
      "metadata": {
        "id": "BG3P1Q5SKuKn"
      },
      "source": [
        "#### 11. preffered_offer_types"
      ],
      "id": "BG3P1Q5SKuKn"
    },
    {
      "cell_type": "code",
      "metadata": {
        "id": "hSa_CSIZKuKn",
        "colab": {
          "base_uri": "https://localhost:8080/"
        },
        "outputId": "1c152652-cef9-42d3-c64d-63a333a9cd61"
      },
      "source": [
        "print(train['preferred_offer_types'].unique())\n",
        "print(train['preferred_offer_types'].value_counts())\n",
        "print('nan count  : ',  train['preferred_offer_types'].isna().sum())\n",
        "print('nan count  : ',  test['preferred_offer_types'].isna().sum())"
      ],
      "id": "hSa_CSIZKuKn",
      "execution_count": null,
      "outputs": [
        {
          "output_type": "stream",
          "text": [
            "['Gift Vouchers/Coupons' 'Credit/Debit Card Offers' 'Without Offers' nan]\n",
            "Gift Vouchers/Coupons       12349\n",
            "Credit/Debit Card Offers    12274\n",
            "Without Offers              12081\n",
            "Name: preferred_offer_types, dtype: int64\n",
            "nan count  :  288\n",
            "nan count  :  159\n"
          ],
          "name": "stdout"
        }
      ]
    },
    {
      "cell_type": "markdown",
      "metadata": {
        "id": "3N7JaD9bKuKp"
      },
      "source": [
        "replacing nan values with 'Gift Vouchers/Coupons'"
      ],
      "id": "3N7JaD9bKuKp"
    },
    {
      "cell_type": "code",
      "metadata": {
        "id": "52a52vxAKuKq",
        "colab": {
          "base_uri": "https://localhost:8080/"
        },
        "outputId": "5db944ec-9e8e-4f50-ead2-607e81ad5e20"
      },
      "source": [
        "train['preferred_offer_types'].fillna('Gift Vouchers/Coupons',inplace =True)\n",
        "print(train['preferred_offer_types'].value_counts())\n",
        "\n",
        "test['preferred_offer_types'].fillna('Gift Vouchers/Coupons',inplace =True)\n",
        "print(test['preferred_offer_types'].value_counts())"
      ],
      "id": "52a52vxAKuKq",
      "execution_count": null,
      "outputs": [
        {
          "output_type": "stream",
          "text": [
            "Gift Vouchers/Coupons       12637\n",
            "Credit/Debit Card Offers    12274\n",
            "Without Offers              12081\n",
            "Name: preferred_offer_types, dtype: int64\n",
            "Without Offers              6663\n",
            "Gift Vouchers/Coupons       6654\n",
            "Credit/Debit Card Offers    6602\n",
            "Name: preferred_offer_types, dtype: int64\n"
          ],
          "name": "stdout"
        }
      ]
    },
    {
      "cell_type": "code",
      "metadata": {
        "colab": {
          "base_uri": "https://localhost:8080/",
          "height": 406
        },
        "id": "hUSJjP_ZKvZM",
        "outputId": "05aba6ca-9874-4376-afb0-2cd574046d58"
      },
      "source": [
        "pyplot.xticks(rotation = 75)\n",
        "seaborn.countplot(data = train, x = 'preferred_offer_types', hue ='churn_risk_score')"
      ],
      "id": "hUSJjP_ZKvZM",
      "execution_count": null,
      "outputs": [
        {
          "output_type": "execute_result",
          "data": {
            "text/plain": [
              "<matplotlib.axes._subplots.AxesSubplot at 0x7f66f0570bd0>"
            ]
          },
          "metadata": {
            "tags": []
          },
          "execution_count": 107
        },
        {
          "output_type": "display_data",
          "data": {
            "image/png": "[encoded data removed]",
            "text/plain": [
              "<Figure size 432x288 with 1 Axes>"
            ]
          },
          "metadata": {
            "tags": [],
            "needs_background": "light"
          }
        }
      ]
    },
    {
      "cell_type": "markdown",
      "metadata": {
        "id": "L3teWSkTLalu"
      },
      "source": [
        "__conclusion__: preferred_offer_types affect target slightly."
      ],
      "id": "L3teWSkTLalu"
    },
    {
      "cell_type": "markdown",
      "metadata": {
        "id": "dsvufQF1KuKq"
      },
      "source": [
        "#### 12. medium_of_operation"
      ],
      "id": "dsvufQF1KuKq"
    },
    {
      "cell_type": "code",
      "metadata": {
        "id": "x-jJ1w7oKuKq",
        "colab": {
          "base_uri": "https://localhost:8080/"
        },
        "outputId": "1ef1cdfc-e588-43a5-9616-c19473fa4b73"
      },
      "source": [
        "print(train['medium_of_operation'].unique())\n",
        "print(train['medium_of_operation'].value_counts())\n",
        "print()\n",
        "print(test['medium_of_operation'].value_counts())"
      ],
      "id": "x-jJ1w7oKuKq",
      "execution_count": null,
      "outputs": [
        {
          "output_type": "stream",
          "text": [
            "['?' 'Desktop' 'Smartphone' 'Both']\n",
            "Desktop       13913\n",
            "Smartphone    13876\n",
            "?              5393\n",
            "Both           3810\n",
            "Name: medium_of_operation, dtype: int64\n",
            "\n",
            "Desktop       7463\n",
            "Smartphone    7405\n",
            "?             2964\n",
            "Both          2087\n",
            "Name: medium_of_operation, dtype: int64\n"
          ],
          "name": "stdout"
        }
      ]
    },
    {
      "cell_type": "markdown",
      "metadata": {
        "id": "nYroEFlaKuKq"
      },
      "source": [
        "replacing all '?' with 'Desktop'"
      ],
      "id": "nYroEFlaKuKq"
    },
    {
      "cell_type": "code",
      "metadata": {
        "id": "SAG9NGcpKuKr",
        "colab": {
          "base_uri": "https://localhost:8080/"
        },
        "outputId": "0aa3f44d-b3ff-45df-ce31-b4dc22bc8f63"
      },
      "source": [
        "train['medium_of_operation'].replace('?','Desktop',inplace = True)\n",
        "print(train['medium_of_operation'].value_counts())\n",
        "\n",
        "test['medium_of_operation'].replace('?','Desktop',inplace = True)\n",
        "print(test['medium_of_operation'].value_counts())"
      ],
      "id": "SAG9NGcpKuKr",
      "execution_count": null,
      "outputs": [
        {
          "output_type": "stream",
          "text": [
            "Desktop       19306\n",
            "Smartphone    13876\n",
            "Both           3810\n",
            "Name: medium_of_operation, dtype: int64\n",
            "Desktop       10427\n",
            "Smartphone     7405\n",
            "Both           2087\n",
            "Name: medium_of_operation, dtype: int64\n"
          ],
          "name": "stdout"
        }
      ]
    },
    {
      "cell_type": "code",
      "metadata": {
        "colab": {
          "base_uri": "https://localhost:8080/",
          "height": 349
        },
        "id": "jk7fVlFaLmI2",
        "outputId": "47ada45c-fca4-4864-ea9f-e1e2de23772d"
      },
      "source": [
        "pyplot.xticks(rotation = 75)\n",
        "seaborn.countplot(data = train, x = 'medium_of_operation', hue ='churn_risk_score')"
      ],
      "id": "jk7fVlFaLmI2",
      "execution_count": null,
      "outputs": [
        {
          "output_type": "execute_result",
          "data": {
            "text/plain": [
              "<matplotlib.axes._subplots.AxesSubplot at 0x7f66f14ff790>"
            ]
          },
          "metadata": {
            "tags": []
          },
          "execution_count": 110
        },
        {
          "output_type": "display_data",
          "data": {
            "image/png": "[encoded data removed]",
            "text/plain": [
              "<Figure size 432x288 with 1 Axes>"
            ]
          },
          "metadata": {
            "tags": [],
            "needs_background": "light"
          }
        }
      ]
    },
    {
      "cell_type": "markdown",
      "metadata": {
        "id": "usxi_ymKL72l"
      },
      "source": [
        "__conclusion__ : medium of operation affects churn_risk_score"
      ],
      "id": "usxi_ymKL72l"
    },
    {
      "cell_type": "markdown",
      "metadata": {
        "id": "6bPQGNNGKuKs"
      },
      "source": [
        "#### 13. internet_option\n"
      ],
      "id": "6bPQGNNGKuKs"
    },
    {
      "cell_type": "code",
      "metadata": {
        "id": "iPhQzJTQKuKt",
        "colab": {
          "base_uri": "https://localhost:8080/"
        },
        "outputId": "54c83a19-e376-40d3-b676-0f9768882192"
      },
      "source": [
        "train['internet_option'].value_counts()"
      ],
      "id": "iPhQzJTQKuKt",
      "execution_count": null,
      "outputs": [
        {
          "output_type": "execute_result",
          "data": {
            "text/plain": [
              "Wi-Fi          12413\n",
              "Mobile_Data    12343\n",
              "Fiber_Optic    12236\n",
              "Name: internet_option, dtype: int64"
            ]
          },
          "metadata": {
            "tags": []
          },
          "execution_count": 111
        }
      ]
    },
    {
      "cell_type": "code",
      "metadata": {
        "colab": {
          "base_uri": "https://localhost:8080/",
          "height": 350
        },
        "id": "omfaPYETMGfC",
        "outputId": "fa58fd37-2203-4626-894e-7ef5d30f6424"
      },
      "source": [
        "pyplot.xticks(rotation = 75)\n",
        "seaborn.countplot(data = train, x = 'internet_option', hue ='churn_risk_score')"
      ],
      "id": "omfaPYETMGfC",
      "execution_count": null,
      "outputs": [
        {
          "output_type": "execute_result",
          "data": {
            "text/plain": [
              "<matplotlib.axes._subplots.AxesSubplot at 0x7f66f06a8990>"
            ]
          },
          "metadata": {
            "tags": []
          },
          "execution_count": 112
        },
        {
          "output_type": "display_data",
          "data": {
            "image/png": "[encoded data removed]",
            "text/plain": [
              "<Figure size 432x288 with 1 Axes>"
            ]
          },
          "metadata": {
            "tags": [],
            "needs_background": "light"
          }
        }
      ]
    },
    {
      "cell_type": "markdown",
      "metadata": {
        "id": "pO9ppcHhMoIv"
      },
      "source": [
        "__conclusion__ : internet_option affects very slightly over the taget variable"
      ],
      "id": "pO9ppcHhMoIv"
    },
    {
      "cell_type": "markdown",
      "metadata": {
        "id": "8lIDh5BPKuKt"
      },
      "source": [
        "#### 14. last_visit_time - not required"
      ],
      "id": "8lIDh5BPKuKt"
    },
    {
      "cell_type": "code",
      "metadata": {
        "id": "VaRJg1QGKuKt"
      },
      "source": [
        "del train['last_visit_time']\n",
        "del test['last_visit_time']"
      ],
      "id": "VaRJg1QGKuKt",
      "execution_count": null,
      "outputs": []
    },
    {
      "cell_type": "markdown",
      "metadata": {
        "id": "ghiMlZamKuKt"
      },
      "source": [
        "#### 15. days_since_last_login"
      ],
      "id": "ghiMlZamKuKt"
    },
    {
      "cell_type": "code",
      "metadata": {
        "id": "7Hq0LT9iKuKu",
        "colab": {
          "base_uri": "https://localhost:8080/"
        },
        "outputId": "84be9d6f-8f88-445e-c0e5-c49bd47a795f"
      },
      "source": [
        "print(train['days_since_last_login'].unique())\n",
        "\n",
        "# replacing all negetive values with 0\n",
        "train.loc[train.days_since_last_login < 0,'days_since_last_login'] = 0\n",
        "test.loc[test.days_since_last_login < 0,'days_since_last_login'] = 0\n",
        "\n",
        "train['days_since_last_login'].unique()\n"
      ],
      "id": "7Hq0LT9iKuKu",
      "execution_count": null,
      "outputs": [
        {
          "output_type": "stream",
          "text": [
            "[  17   16   14   11   20   23   10   19   15   13 -999    5   12    9\n",
            "   21   18    1   22    4    8    3    6    2   24    7   26   25]\n"
          ],
          "name": "stdout"
        },
        {
          "output_type": "execute_result",
          "data": {
            "text/plain": [
              "array([17, 16, 14, 11, 20, 23, 10, 19, 15, 13,  0,  5, 12,  9, 21, 18,  1,\n",
              "       22,  4,  8,  3,  6,  2, 24,  7, 26, 25])"
            ]
          },
          "metadata": {
            "tags": []
          },
          "execution_count": 114
        }
      ]
    },
    {
      "cell_type": "code",
      "metadata": {
        "colab": {
          "base_uri": "https://localhost:8080/",
          "height": 284
        },
        "id": "Oj5-6Y3yM1eO",
        "outputId": "85a0ce07-c18d-4a48-aefd-2284e87ae2d2"
      },
      "source": [
        "seaborn.violinplot(data =train, y = 'days_since_last_login',x='churn_risk_score')\n",
        "pyplot.show()"
      ],
      "id": "Oj5-6Y3yM1eO",
      "execution_count": null,
      "outputs": [
        {
          "output_type": "display_data",
          "data": {
            "image/png": "[encoded data removed]",
            "text/plain": [
              "<Figure size 432x288 with 1 Axes>"
            ]
          },
          "metadata": {
            "tags": [],
            "needs_background": "light"
          }
        }
      ]
    },
    {
      "cell_type": "markdown",
      "metadata": {
        "id": "eRAGKpKaODQu"
      },
      "source": [
        "__conclusion__ : days_since_last_login affects churn_risk_score."
      ],
      "id": "eRAGKpKaODQu"
    },
    {
      "cell_type": "markdown",
      "metadata": {
        "id": "ejD2AqTqKuKu"
      },
      "source": [
        "#### 16. avg_time_spent\n",
        "many values are negetive. replacing them with median"
      ],
      "id": "ejD2AqTqKuKu"
    },
    {
      "cell_type": "code",
      "metadata": {
        "colab": {
          "base_uri": "https://localhost:8080/",
          "height": 595
        },
        "id": "CWtvY81gRxRT",
        "outputId": "8c7faa12-1371-4959-ffb0-b2694c2ca7dc"
      },
      "source": [
        "pyplot.figure(figsize = (10,10))\n",
        "seaborn.boxplot(data= train, y = 'avg_time_spent',hue ='churn_risk_score')"
      ],
      "id": "CWtvY81gRxRT",
      "execution_count": null,
      "outputs": [
        {
          "output_type": "execute_result",
          "data": {
            "text/plain": [
              "<matplotlib.axes._subplots.AxesSubplot at 0x7f66f10f98d0>"
            ]
          },
          "metadata": {
            "tags": []
          },
          "execution_count": 116
        },
        {
          "output_type": "display_data",
          "data": {
            "image/png": "[encoded data removed]",
            "text/plain": [
              "<Figure size 720x720 with 1 Axes>"
            ]
          },
          "metadata": {
            "tags": [],
            "needs_background": "light"
          }
        }
      ]
    },
    {
      "cell_type": "code",
      "metadata": {
        "id": "onG2-ycTRXH4"
      },
      "source": [
        "# imputing outliers.\n",
        "import math\n",
        "train['avg_time_spent'] = abs(train['avg_time_spent'])\n",
        "q_l = train['avg_time_spent'].quantile(0.25)\n",
        "q_h = train['avg_time_spent'].quantile(0.75)\n",
        "q_m = q_h- q_l\n",
        "\n",
        "med = train['avg_time_spent'].median()\n",
        "train.loc[(train.avg_time_spent < q_l - 1.5 * q_m) | (train.avg_time_spent > q_h + 1.5 * q_m), 'avg_time_spent'] = med\n",
        "\n",
        "test.loc[(test.avg_time_spent < q_l - 1.5*q_m) | (test.avg_time_spent > q_h+1.5 *q_m),'avg_time_spent'] = med"
      ],
      "id": "onG2-ycTRXH4",
      "execution_count": null,
      "outputs": []
    },
    {
      "cell_type": "code",
      "metadata": {
        "colab": {
          "base_uri": "https://localhost:8080/",
          "height": 280
        },
        "id": "f1iQnJKwWAhu",
        "outputId": "8818797c-4de2-4e22-ae0e-048b7d775b76"
      },
      "source": [
        "seaborn.violinplot(data =train, y = 'avg_time_spent',x='churn_risk_score')\n",
        "pyplot.show()"
      ],
      "id": "f1iQnJKwWAhu",
      "execution_count": null,
      "outputs": [
        {
          "output_type": "display_data",
          "data": {
            "image/png": "[encoded data removed]",
            "text/plain": [
              "<Figure size 432x288 with 1 Axes>"
            ]
          },
          "metadata": {
            "tags": [],
            "needs_background": "light"
          }
        }
      ]
    },
    {
      "cell_type": "markdown",
      "metadata": {
        "id": "vE09C02oKuKw"
      },
      "source": [
        "#### 17. avg_transaction_value\n",
        "discrete values in range 0 to 99914.05"
      ],
      "id": "vE09C02oKuKw"
    },
    {
      "cell_type": "code",
      "metadata": {
        "colab": {
          "base_uri": "https://localhost:8080/",
          "height": 280
        },
        "id": "am19JdwlWTMc",
        "outputId": "bd1e2e46-568f-409a-e84e-e67136ff79a4"
      },
      "source": [
        "seaborn.violinplot(data =train, y = 'avg_transaction_value',x='churn_risk_score')\n",
        "pyplot.show()"
      ],
      "id": "am19JdwlWTMc",
      "execution_count": null,
      "outputs": [
        {
          "output_type": "display_data",
          "data": {
            "image/png": "[encoded data removed]",
            "text/plain": [
              "<Figure size 432x288 with 1 Axes>"
            ]
          },
          "metadata": {
            "tags": [],
            "needs_background": "light"
          }
        }
      ]
    },
    {
      "cell_type": "markdown",
      "metadata": {
        "id": "TSUImRtIKuKw"
      },
      "source": [
        "#### 18. avg_frequency_login_days"
      ],
      "id": "TSUImRtIKuKw"
    },
    {
      "cell_type": "code",
      "metadata": {
        "tags": [],
        "id": "UPWs420mKuKw",
        "colab": {
          "base_uri": "https://localhost:8080/"
        },
        "outputId": "eb32e843-ef26-4f86-8106-f610768f1f24"
      },
      "source": [
        "train['avg_frequency_login_days'].value_counts()"
      ],
      "id": "UPWs420mKuKw",
      "execution_count": null,
      "outputs": [
        {
          "output_type": "execute_result",
          "data": {
            "text/plain": [
              "Error                  3522\n",
              "13.0                   1394\n",
              "19.0                   1365\n",
              "8.0                    1361\n",
              "14.0                   1355\n",
              "                       ... \n",
              "-22.01006899965484        1\n",
              "-2.4356928251083723       1\n",
              "-3.4977933593510073       1\n",
              "30.56047806745555         1\n",
              "-16.77810004297323        1\n",
              "Name: avg_frequency_login_days, Length: 1654, dtype: int64"
            ]
          },
          "metadata": {
            "tags": []
          },
          "execution_count": 120
        }
      ]
    },
    {
      "cell_type": "code",
      "metadata": {
        "id": "A0-24YLOKuKx",
        "colab": {
          "base_uri": "https://localhost:8080/"
        },
        "outputId": "cd9d0e74-6c57-4b91-e843-23408af658db"
      },
      "source": [
        "train.loc[(train.avg_frequency_login_days == 'Error'),'avg_frequency_login_days'] =  0\n",
        "\n",
        "train['avg_frequency_login_days'] = train['avg_frequency_login_days'].astype(str).astype(float)\n",
        "\n",
        "train.loc[train.avg_frequency_login_days < 0, 'avg_frequency_login_days'] = 0\n",
        "\n",
        "print(train['avg_frequency_login_days'].value_counts())\n",
        "\n",
        "\n",
        "test.loc[(test.avg_frequency_login_days == 'Error'),'avg_frequency_login_days'] =  0\n",
        "\n",
        "test['avg_frequency_login_days'] = test['avg_frequency_login_days'].astype(str).astype(float)\n",
        "\n",
        "test.loc[test.avg_frequency_login_days < 0, 'avg_frequency_login_days'] = 0"
      ],
      "id": "A0-24YLOKuKx",
      "execution_count": null,
      "outputs": [
        {
          "output_type": "stream",
          "text": [
            "0.000000     4205\n",
            "13.000000    1394\n",
            "19.000000    1365\n",
            "8.000000     1361\n",
            "14.000000    1355\n",
            "             ... \n",
            "49.461645       1\n",
            "33.147512       1\n",
            "53.812360       1\n",
            "47.535629       1\n",
            "30.658806       1\n",
            "Name: avg_frequency_login_days, Length: 971, dtype: int64\n"
          ],
          "name": "stdout"
        }
      ]
    },
    {
      "cell_type": "code",
      "metadata": {
        "colab": {
          "base_uri": "https://localhost:8080/",
          "height": 460
        },
        "id": "aJaRAlV7bBKm",
        "outputId": "66a216b7-10f1-4ffc-db76-116d0d314c33"
      },
      "source": [
        "seaborn.boxplot(data=train, y = 'avg_frequency_login_days')\n",
        "pyplot.show()\n",
        "\n",
        "q_l = train['avg_frequency_login_days'].quantile(0.25)\n",
        "q_h = train['avg_frequency_login_days'].quantile(0.75)\n",
        "q_m = q_h- q_l\n",
        "med = train['avg_frequency_login_days']\n",
        "print(q_m, med)\n",
        "train.loc[(train.avg_frequency_login_days < q_l - 1.5 * q_m) | (train.avg_frequency_login_days > q_h + 1.5 * q_m), 'avg_frequency_login_days'] = med\n",
        "\n",
        "test.loc[(test.avg_frequency_login_days < q_l - 1.5 * q_m) | (test.avg_frequency_login_days > q_h + 1.5 * q_m), 'avg_frequency_login_days'] = med"
      ],
      "id": "aJaRAlV7bBKm",
      "execution_count": null,
      "outputs": [
        {
          "output_type": "display_data",
          "data": {
            "image/png": "[encoded data removed]",
            "text/plain": [
              "<Figure size 432x288 with 1 Axes>"
            ]
          },
          "metadata": {
            "tags": [],
            "needs_background": "light"
          }
        },
        {
          "output_type": "stream",
          "text": [
            "15.0 0        17.0\n",
            "1        10.0\n",
            "2        22.0\n",
            "3         6.0\n",
            "4        16.0\n",
            "         ... \n",
            "36987     6.0\n",
            "36988    28.0\n",
            "36989     0.0\n",
            "36990    20.0\n",
            "36991     0.0\n",
            "Name: avg_frequency_login_days, Length: 36992, dtype: float64\n"
          ],
          "name": "stdout"
        }
      ]
    },
    {
      "cell_type": "code",
      "metadata": {
        "id": "ZEucOF4tfIQ3",
        "colab": {
          "base_uri": "https://localhost:8080/",
          "height": 284
        },
        "outputId": "714f9aff-8bce-42ca-92c3-54047cd6906f"
      },
      "source": [
        "seaborn.violinplot(data =train, y = 'avg_frequency_login_days',x='churn_risk_score')\n",
        "pyplot.show()"
      ],
      "id": "ZEucOF4tfIQ3",
      "execution_count": null,
      "outputs": [
        {
          "output_type": "display_data",
          "data": {
            "image/png": "[encoded data removed]",
            "text/plain": [
              "<Figure size 432x288 with 1 Axes>"
            ]
          },
          "metadata": {
            "tags": [],
            "needs_background": "light"
          }
        }
      ]
    },
    {
      "cell_type": "markdown",
      "metadata": {
        "id": "9FsUimMDiFeR"
      },
      "source": [
        "__conclusion__ : avg_frequency_login_days affects target."
      ],
      "id": "9FsUimMDiFeR"
    },
    {
      "cell_type": "markdown",
      "metadata": {
        "id": "5ixlJ8ZPKuKy"
      },
      "source": [
        "#### 19. points_in_wallet"
      ],
      "id": "5ixlJ8ZPKuKy"
    },
    {
      "cell_type": "code",
      "metadata": {
        "id": "bq4y1FtdKuKy",
        "colab": {
          "base_uri": "https://localhost:8080/"
        },
        "outputId": "be222a17-ee84-4ef3-eb20-3783b730edeb"
      },
      "source": [
        "print(train['points_in_wallet'].isna().sum())\n",
        "train['points_in_wallet'].fillna(train['points_in_wallet'].mean(),inplace = True)\n",
        "print(train['points_in_wallet'].isna().sum())\n",
        "\n",
        "test['points_in_wallet'].fillna(test['points_in_wallet'].mean(),inplace = True)"
      ],
      "id": "bq4y1FtdKuKy",
      "execution_count": null,
      "outputs": [
        {
          "output_type": "stream",
          "text": [
            "3443\n",
            "0\n"
          ],
          "name": "stdout"
        }
      ]
    },
    {
      "cell_type": "code",
      "metadata": {
        "id": "Low5iZ7vnDlN",
        "colab": {
          "base_uri": "https://localhost:8080/",
          "height": 280
        },
        "outputId": "3e7343e0-547b-445a-8c7a-7e8226bbe3d1"
      },
      "source": [
        "seaborn.violinplot(data =train, y = 'points_in_wallet',x='churn_risk_score')\n",
        "pyplot.show()\n",
        "# print(train)"
      ],
      "id": "Low5iZ7vnDlN",
      "execution_count": null,
      "outputs": [
        {
          "output_type": "display_data",
          "data": {
            "image/png": "[encoded data removed]",
            "text/plain": [
              "<Figure size 432x288 with 1 Axes>"
            ]
          },
          "metadata": {
            "tags": [],
            "needs_background": "light"
          }
        }
      ]
    },
    {
      "cell_type": "markdown",
      "metadata": {
        "id": "Ma2c3-mopVha"
      },
      "source": [
        "__conclusion__ : points_in_wallet doesn't affects target."
      ],
      "id": "Ma2c3-mopVha"
    },
    {
      "cell_type": "markdown",
      "metadata": {
        "id": "Z13xg5IIKuKz"
      },
      "source": [
        "#### 20. used_special_discount"
      ],
      "id": "Z13xg5IIKuKz"
    },
    {
      "cell_type": "code",
      "metadata": {
        "id": "eD_b6QnSKuKz",
        "colab": {
          "base_uri": "https://localhost:8080/"
        },
        "outputId": "4b37396d-1022-43b8-d7ae-400c7c7c5173"
      },
      "source": [
        "print(train['used_special_discount'].value_counts())\n",
        "train['used_special_discount'].replace(0,'No', inplace = True)\n",
        "print(train['used_special_discount'].value_counts())\n",
        "\n",
        "test['used_special_discount'].replace(0,'No', inplace = True)"
      ],
      "id": "eD_b6QnSKuKz",
      "execution_count": null,
      "outputs": [
        {
          "output_type": "stream",
          "text": [
            "Yes    20342\n",
            "No     16650\n",
            "Name: used_special_discount, dtype: int64\n",
            "Yes    20342\n",
            "No     16650\n",
            "Name: used_special_discount, dtype: int64\n"
          ],
          "name": "stdout"
        }
      ]
    },
    {
      "cell_type": "code",
      "metadata": {
        "id": "iri7ue9ppqe3",
        "colab": {
          "base_uri": "https://localhost:8080/",
          "height": 305
        },
        "outputId": "54319e61-8319-44b7-d2a0-a27e43dd1ee8"
      },
      "source": [
        "pyplot.xticks(rotation = 75)\n",
        "seaborn.countplot(data = train, x = 'used_special_discount', hue ='churn_risk_score')"
      ],
      "id": "iri7ue9ppqe3",
      "execution_count": null,
      "outputs": [
        {
          "output_type": "execute_result",
          "data": {
            "text/plain": [
              "<matplotlib.axes._subplots.AxesSubplot at 0x7f66f0ef41d0>"
            ]
          },
          "metadata": {
            "tags": []
          },
          "execution_count": 127
        },
        {
          "output_type": "display_data",
          "data": {
            "image/png": "[encoded data removed]",
            "text/plain": [
              "<Figure size 432x288 with 1 Axes>"
            ]
          },
          "metadata": {
            "tags": [],
            "needs_background": "light"
          }
        }
      ]
    },
    {
      "cell_type": "markdown",
      "metadata": {
        "id": "kSsf8M5Lqa29"
      },
      "source": [
        "__conclusion__: used_special_discount affects target slightly"
      ],
      "id": "kSsf8M5Lqa29"
    },
    {
      "cell_type": "markdown",
      "metadata": {
        "id": "mBaLyI8nKuK0"
      },
      "source": [
        "#### 21. offer_application_preference"
      ],
      "id": "mBaLyI8nKuK0"
    },
    {
      "cell_type": "code",
      "metadata": {
        "id": "wHt4hBBRKuK0",
        "colab": {
          "base_uri": "https://localhost:8080/"
        },
        "outputId": "52762afc-5a80-44b9-836e-9c08a3eb2db9"
      },
      "source": [
        "print(train['offer_application_preference'].value_counts())\n",
        "train['offer_application_preference'].replace(0,'No',inplace = True)\n",
        "print(train['offer_application_preference'].value_counts())\n",
        "\n",
        "test['offer_application_preference'].replace(0,'No',inplace = True)"
      ],
      "id": "wHt4hBBRKuK0",
      "execution_count": null,
      "outputs": [
        {
          "output_type": "stream",
          "text": [
            "Yes    20440\n",
            "No     16552\n",
            "Name: offer_application_preference, dtype: int64\n",
            "Yes    20440\n",
            "No     16552\n",
            "Name: offer_application_preference, dtype: int64\n"
          ],
          "name": "stdout"
        }
      ]
    },
    {
      "cell_type": "code",
      "metadata": {
        "id": "-ipY49vvrPWm",
        "colab": {
          "base_uri": "https://localhost:8080/",
          "height": 305
        },
        "outputId": "3438eee1-cb33-4358-c195-94ebf039a774"
      },
      "source": [
        "pyplot.xticks(rotation = 75)\n",
        "seaborn.countplot(data = train, x = 'offer_application_preference', hue ='churn_risk_score')"
      ],
      "id": "-ipY49vvrPWm",
      "execution_count": null,
      "outputs": [
        {
          "output_type": "execute_result",
          "data": {
            "text/plain": [
              "<matplotlib.axes._subplots.AxesSubplot at 0x7f66f0e176d0>"
            ]
          },
          "metadata": {
            "tags": []
          },
          "execution_count": 129
        },
        {
          "output_type": "display_data",
          "data": {
            "image/png": "[encoded data removed]",
            "text/plain": [
              "<Figure size 432x288 with 1 Axes>"
            ]
          },
          "metadata": {
            "tags": [],
            "needs_background": "light"
          }
        }
      ]
    },
    {
      "cell_type": "markdown",
      "metadata": {
        "id": "1giyhTFUrYWi"
      },
      "source": [
        "__conclusion__ : offer_application_preference affects slightly"
      ],
      "id": "1giyhTFUrYWi"
    },
    {
      "cell_type": "markdown",
      "metadata": {
        "id": "5ylG4nTmKuK1"
      },
      "source": [
        "#### 22. past_complaint"
      ],
      "id": "5ylG4nTmKuK1"
    },
    {
      "cell_type": "code",
      "metadata": {
        "id": "0wEXYnxMKuK1",
        "colab": {
          "base_uri": "https://localhost:8080/"
        },
        "outputId": "c502d77b-4142-4436-9d4c-eab9d61f2437"
      },
      "source": [
        "print(train['past_complaint'].value_counts())\n",
        "train['past_complaint'].replace(0,'No',inplace = True)\n",
        "print(train['past_complaint'].value_counts())\n",
        "\n",
        "test['past_complaint'].replace(0,'No',inplace = True)"
      ],
      "id": "0wEXYnxMKuK1",
      "execution_count": null,
      "outputs": [
        {
          "output_type": "stream",
          "text": [
            "No     18602\n",
            "Yes    18390\n",
            "Name: past_complaint, dtype: int64\n",
            "No     18602\n",
            "Yes    18390\n",
            "Name: past_complaint, dtype: int64\n"
          ],
          "name": "stdout"
        }
      ]
    },
    {
      "cell_type": "code",
      "metadata": {
        "id": "XjcOAmn_r7Ny",
        "colab": {
          "base_uri": "https://localhost:8080/",
          "height": 306
        },
        "outputId": "8ec35e65-1018-4dce-de58-04c33dbcaa7a"
      },
      "source": [
        "pyplot.xticks(rotation = 75)\n",
        "seaborn.countplot(data = train, x = 'past_complaint', hue ='churn_risk_score')"
      ],
      "id": "XjcOAmn_r7Ny",
      "execution_count": null,
      "outputs": [
        {
          "output_type": "execute_result",
          "data": {
            "text/plain": [
              "<matplotlib.axes._subplots.AxesSubplot at 0x7f66f0d6d6d0>"
            ]
          },
          "metadata": {
            "tags": []
          },
          "execution_count": 131
        },
        {
          "output_type": "display_data",
          "data": {
            "image/png": "[encoded data removed]",
            "text/plain": [
              "<Figure size 432x288 with 1 Axes>"
            ]
          },
          "metadata": {
            "tags": [],
            "needs_background": "light"
          }
        }
      ]
    },
    {
      "cell_type": "markdown",
      "metadata": {
        "id": "OBckWzFBsCGz"
      },
      "source": [
        "__conclusion__ : past_complaints affect slightly."
      ],
      "id": "OBckWzFBsCGz"
    },
    {
      "cell_type": "markdown",
      "metadata": {
        "id": "bt5kaQZWKuK2"
      },
      "source": [
        "#### 23. complaint_status"
      ],
      "id": "bt5kaQZWKuK2"
    },
    {
      "cell_type": "code",
      "metadata": {
        "id": "pZTWJzsPKuK3",
        "colab": {
          "base_uri": "https://localhost:8080/"
        },
        "outputId": "b9c20d0c-0923-45f4-b5d7-677e66ef51fb"
      },
      "source": [
        "print(train['complaint_status'].value_counts())\n",
        "train['complaint_status'].replace(0,'No Information Available',inplace = True)\n",
        "print(train['complaint_status'].value_counts())\n",
        "\n",
        "test['complaint_status'].replace(0,'No Information Available',inplace = True)"
      ],
      "id": "pZTWJzsPKuK3",
      "execution_count": null,
      "outputs": [
        {
          "output_type": "stream",
          "text": [
            "Not Applicable              18602\n",
            "Unsolved                     4644\n",
            "Solved                       4619\n",
            "Solved in Follow-up          4577\n",
            "No Information Available     4550\n",
            "Name: complaint_status, dtype: int64\n",
            "Not Applicable              18602\n",
            "Unsolved                     4644\n",
            "Solved                       4619\n",
            "Solved in Follow-up          4577\n",
            "No Information Available     4550\n",
            "Name: complaint_status, dtype: int64\n"
          ],
          "name": "stdout"
        }
      ]
    },
    {
      "cell_type": "code",
      "metadata": {
        "id": "kZgd_i-PsPEj",
        "colab": {
          "base_uri": "https://localhost:8080/",
          "height": 409
        },
        "outputId": "20677bc0-c419-49f5-f238-26efad52f508"
      },
      "source": [
        "pyplot.xticks(rotation = 75)\n",
        "seaborn.countplot(data = train, x = 'complaint_status', hue ='churn_risk_score')"
      ],
      "id": "kZgd_i-PsPEj",
      "execution_count": null,
      "outputs": [
        {
          "output_type": "execute_result",
          "data": {
            "text/plain": [
              "<matplotlib.axes._subplots.AxesSubplot at 0x7f66f0c52a90>"
            ]
          },
          "metadata": {
            "tags": []
          },
          "execution_count": 133
        },
        {
          "output_type": "display_data",
          "data": {
            "image/png": "[encoded data removed]",
            "text/plain": [
              "<Figure size 432x288 with 1 Axes>"
            ]
          },
          "metadata": {
            "tags": [],
            "needs_background": "light"
          }
        }
      ]
    },
    {
      "cell_type": "markdown",
      "metadata": {
        "id": "CkEoSuKkscjH"
      },
      "source": [
        "__conclusion__ : complaint_status affects slightly."
      ],
      "id": "CkEoSuKkscjH"
    },
    {
      "cell_type": "markdown",
      "metadata": {
        "id": "ctlyOb-qKuK3"
      },
      "source": [
        "#### 24. feedback"
      ],
      "id": "ctlyOb-qKuK3"
    },
    {
      "cell_type": "code",
      "metadata": {
        "id": "Nb6Y1T_pKuK4",
        "colab": {
          "base_uri": "https://localhost:8080/"
        },
        "outputId": "fc608a89-ccf8-49b4-d751-167b2d82ddb8"
      },
      "source": [
        "print(train['feedback'].value_counts())\n",
        "train['feedback'].replace(0,'No reason specified', inplace = True)\n",
        "\n",
        "test['feedback'].replace(0,'No reason specified', inplace = True)"
      ],
      "id": "Nb6Y1T_pKuK4",
      "execution_count": null,
      "outputs": [
        {
          "output_type": "stream",
          "text": [
            "Poor Product Quality        6350\n",
            "No reason specified         6290\n",
            "Too many ads                6279\n",
            "Poor Website                6271\n",
            "Poor Customer Service       6252\n",
            "Reasonable Price            1417\n",
            "User Friendly Website       1391\n",
            "Products always in Stock    1382\n",
            "Quality Customer Care       1360\n",
            "Name: feedback, dtype: int64\n"
          ],
          "name": "stdout"
        }
      ]
    },
    {
      "cell_type": "code",
      "metadata": {
        "id": "DhJk3u5RtnhD",
        "colab": {
          "base_uri": "https://localhost:8080/",
          "height": 408
        },
        "outputId": "5e0c3755-073f-4f72-b06f-d4443342da37"
      },
      "source": [
        "pyplot.xticks(rotation = 75)\n",
        "seaborn.countplot(data = train, x = 'feedback', hue ='churn_risk_score')"
      ],
      "id": "DhJk3u5RtnhD",
      "execution_count": null,
      "outputs": [
        {
          "output_type": "execute_result",
          "data": {
            "text/plain": [
              "<matplotlib.axes._subplots.AxesSubplot at 0x7f66f0c05cd0>"
            ]
          },
          "metadata": {
            "tags": []
          },
          "execution_count": 135
        },
        {
          "output_type": "display_data",
          "data": {
            "image/png": "[encoded data removed]",
            "text/plain": [
              "<Figure size 432x288 with 1 Axes>"
            ]
          },
          "metadata": {
            "tags": [],
            "needs_background": "light"
          }
        }
      ]
    },
    {
      "cell_type": "markdown",
      "metadata": {
        "id": "zVBbQ1-itwRv"
      },
      "source": [
        "__conclusion__: feedback majorly affects target."
      ],
      "id": "zVBbQ1-itwRv"
    },
    {
      "cell_type": "markdown",
      "metadata": {
        "id": "pWoEINZmzns4"
      },
      "source": [
        "## Other Visualizations\n",
        "### all Box Plots"
      ],
      "id": "pWoEINZmzns4"
    },
    {
      "cell_type": "code",
      "metadata": {
        "id": "vCt0_t1wzm6n",
        "colab": {
          "base_uri": "https://localhost:8080/"
        },
        "outputId": "111dbc5c-a9a6-402c-d4a3-e637e6e27dc1"
      },
      "source": [
        "cols = ['age', 'days_since_last_login',\t'avg_time_spent', 'avg_transaction_value','avg_frequency_login_days','points_in_wallet', 'churn_risk_score']\n",
        "train_numer = pandas.DataFrame(data = train, columns = cols)\n",
        "\n",
        "names = train_numer.columns;\n",
        "ncols = len(names)\n",
        "fig1 = pyplot.figure(figsize = (45,20))\n",
        "axes = fig1.subplots(2, int(ncols/2))\n",
        "\n",
        "for name, ax in zip(names, axes.flatten()):\n",
        "    seaborn.boxplot(y=name, data=train_numer, x = 'churn_risk_score', ax=ax)\n",
        "    \n",
        "pyplot.show()"
      ],
      "id": "vCt0_t1wzm6n",
      "execution_count": null,
      "outputs": [
        {
          "output_type": "display_data",
          "data": {
            "image/png": "[encoded data removed]",
            "text/plain": [
              "<Figure size 3240x1440 with 6 Axes>"
            ]
          },
          "metadata": {
            "tags": [],
            "needs_background": "light"
          }
        }
      ]
    },
    {
      "cell_type": "markdown",
      "metadata": {
        "id": "-nRR5XuGIL6h"
      },
      "source": [
        "## Encoding Categorical data"
      ],
      "id": "-nRR5XuGIL6h"
    },
    {
      "cell_type": "code",
      "metadata": {
        "id": "l9lRbumAIRDP",
        "colab": {
          "base_uri": "https://localhost:8080/",
          "height": 478
        },
        "outputId": "020830d1-3fb2-4b89-9a48-54897b7daeba"
      },
      "source": [
        "cols = ['gender', 'region_category',\n",
        "       'membership_category', 'joined_through_referral',\n",
        "       'preferred_offer_types', 'medium_of_operation', 'internet_option',\n",
        "      'used_special_discount',\n",
        "       'offer_application_preference', 'past_complaint', 'complaint_status',\n",
        "       'feedback']\n",
        "train_dum = pandas.get_dummies(data = train, columns = cols, drop_first=True)\n",
        "test_dum = pandas.get_dummies(data = test, columns = cols, drop_first=True)\n",
        "train_dum"
      ],
      "id": "l9lRbumAIRDP",
      "execution_count": null,
      "outputs": [
        {
          "output_type": "execute_result",
          "data": {
            "text/html": [
              "<div>\n",
              "<style scoped>\n",
              "    .dataframe tbody tr th:only-of-type {\n",
              "        vertical-align: middle;\n",
              "    }\n",
              "\n",
              "    .dataframe tbody tr th {\n",
              "        vertical-align: top;\n",
              "    }\n",
              "\n",
              "    .dataframe thead th {\n",
              "        text-align: right;\n",
              "    }\n",
              "</style>\n",
              "<table border=\"1\" class=\"dataframe\">\n",
              "  <thead>\n",
              "    <tr style=\"text-align: right;\">\n",
              "      <th></th>\n",
              "      <th>customer_id</th>\n",
              "      <th>age</th>\n",
              "      <th>days_since_last_login</th>\n",
              "      <th>avg_time_spent</th>\n",
              "      <th>avg_transaction_value</th>\n",
              "      <th>avg_frequency_login_days</th>\n",
              "      <th>points_in_wallet</th>\n",
              "      <th>churn_risk_score</th>\n",
              "      <th>gender_M</th>\n",
              "      <th>region_category_Town</th>\n",
              "      <th>region_category_Village</th>\n",
              "      <th>membership_category_Gold Membership</th>\n",
              "      <th>membership_category_No Membership</th>\n",
              "      <th>membership_category_Platinum Membership</th>\n",
              "      <th>membership_category_Premium Membership</th>\n",
              "      <th>membership_category_Silver Membership</th>\n",
              "      <th>joined_through_referral_Yes</th>\n",
              "      <th>preferred_offer_types_Gift Vouchers/Coupons</th>\n",
              "      <th>preferred_offer_types_Without Offers</th>\n",
              "      <th>medium_of_operation_Desktop</th>\n",
              "      <th>medium_of_operation_Smartphone</th>\n",
              "      <th>internet_option_Mobile_Data</th>\n",
              "      <th>internet_option_Wi-Fi</th>\n",
              "      <th>used_special_discount_Yes</th>\n",
              "      <th>offer_application_preference_Yes</th>\n",
              "      <th>past_complaint_Yes</th>\n",
              "      <th>complaint_status_Not Applicable</th>\n",
              "      <th>complaint_status_Solved</th>\n",
              "      <th>complaint_status_Solved in Follow-up</th>\n",
              "      <th>complaint_status_Unsolved</th>\n",
              "      <th>feedback_Poor Customer Service</th>\n",
              "      <th>feedback_Poor Product Quality</th>\n",
              "      <th>feedback_Poor Website</th>\n",
              "      <th>feedback_Products always in Stock</th>\n",
              "      <th>feedback_Quality Customer Care</th>\n",
              "      <th>feedback_Reasonable Price</th>\n",
              "      <th>feedback_Too many ads</th>\n",
              "      <th>feedback_User Friendly Website</th>\n",
              "    </tr>\n",
              "  </thead>\n",
              "  <tbody>\n",
              "    <tr>\n",
              "      <th>0</th>\n",
              "      <td>fffe4300490044003600300030003800</td>\n",
              "      <td>18</td>\n",
              "      <td>17</td>\n",
              "      <td>300.630000</td>\n",
              "      <td>53005.25</td>\n",
              "      <td>17.0</td>\n",
              "      <td>781.750000</td>\n",
              "      <td>2</td>\n",
              "      <td>0</td>\n",
              "      <td>0</td>\n",
              "      <td>1</td>\n",
              "      <td>0</td>\n",
              "      <td>0</td>\n",
              "      <td>1</td>\n",
              "      <td>0</td>\n",
              "      <td>0</td>\n",
              "      <td>0</td>\n",
              "      <td>1</td>\n",
              "      <td>0</td>\n",
              "      <td>1</td>\n",
              "      <td>0</td>\n",
              "      <td>0</td>\n",
              "      <td>1</td>\n",
              "      <td>1</td>\n",
              "      <td>1</td>\n",
              "      <td>0</td>\n",
              "      <td>1</td>\n",
              "      <td>0</td>\n",
              "      <td>0</td>\n",
              "      <td>0</td>\n",
              "      <td>0</td>\n",
              "      <td>0</td>\n",
              "      <td>0</td>\n",
              "      <td>1</td>\n",
              "      <td>0</td>\n",
              "      <td>0</td>\n",
              "      <td>0</td>\n",
              "      <td>0</td>\n",
              "    </tr>\n",
              "    <tr>\n",
              "      <th>1</th>\n",
              "      <td>fffe43004900440032003100300035003700</td>\n",
              "      <td>32</td>\n",
              "      <td>16</td>\n",
              "      <td>306.340000</td>\n",
              "      <td>12838.38</td>\n",
              "      <td>10.0</td>\n",
              "      <td>686.882199</td>\n",
              "      <td>1</td>\n",
              "      <td>0</td>\n",
              "      <td>0</td>\n",
              "      <td>0</td>\n",
              "      <td>0</td>\n",
              "      <td>0</td>\n",
              "      <td>0</td>\n",
              "      <td>1</td>\n",
              "      <td>0</td>\n",
              "      <td>1</td>\n",
              "      <td>1</td>\n",
              "      <td>0</td>\n",
              "      <td>1</td>\n",
              "      <td>0</td>\n",
              "      <td>1</td>\n",
              "      <td>0</td>\n",
              "      <td>1</td>\n",
              "      <td>0</td>\n",
              "      <td>1</td>\n",
              "      <td>0</td>\n",
              "      <td>1</td>\n",
              "      <td>0</td>\n",
              "      <td>0</td>\n",
              "      <td>0</td>\n",
              "      <td>0</td>\n",
              "      <td>0</td>\n",
              "      <td>0</td>\n",
              "      <td>1</td>\n",
              "      <td>0</td>\n",
              "      <td>0</td>\n",
              "      <td>0</td>\n",
              "    </tr>\n",
              "    <tr>\n",
              "      <th>2</th>\n",
              "      <td>fffe4300490044003100390032003600</td>\n",
              "      <td>44</td>\n",
              "      <td>14</td>\n",
              "      <td>516.160000</td>\n",
              "      <td>21027.00</td>\n",
              "      <td>22.0</td>\n",
              "      <td>500.690000</td>\n",
              "      <td>5</td>\n",
              "      <td>0</td>\n",
              "      <td>1</td>\n",
              "      <td>0</td>\n",
              "      <td>0</td>\n",
              "      <td>1</td>\n",
              "      <td>0</td>\n",
              "      <td>0</td>\n",
              "      <td>0</td>\n",
              "      <td>1</td>\n",
              "      <td>1</td>\n",
              "      <td>0</td>\n",
              "      <td>1</td>\n",
              "      <td>0</td>\n",
              "      <td>0</td>\n",
              "      <td>1</td>\n",
              "      <td>0</td>\n",
              "      <td>1</td>\n",
              "      <td>1</td>\n",
              "      <td>0</td>\n",
              "      <td>0</td>\n",
              "      <td>1</td>\n",
              "      <td>0</td>\n",
              "      <td>0</td>\n",
              "      <td>0</td>\n",
              "      <td>1</td>\n",
              "      <td>0</td>\n",
              "      <td>0</td>\n",
              "      <td>0</td>\n",
              "      <td>0</td>\n",
              "      <td>0</td>\n",
              "    </tr>\n",
              "    <tr>\n",
              "      <th>3</th>\n",
              "      <td>fffe43004900440036003000330031003600</td>\n",
              "      <td>37</td>\n",
              "      <td>11</td>\n",
              "      <td>53.270000</td>\n",
              "      <td>25239.56</td>\n",
              "      <td>6.0</td>\n",
              "      <td>567.660000</td>\n",
              "      <td>5</td>\n",
              "      <td>1</td>\n",
              "      <td>0</td>\n",
              "      <td>0</td>\n",
              "      <td>0</td>\n",
              "      <td>1</td>\n",
              "      <td>0</td>\n",
              "      <td>0</td>\n",
              "      <td>0</td>\n",
              "      <td>1</td>\n",
              "      <td>1</td>\n",
              "      <td>0</td>\n",
              "      <td>1</td>\n",
              "      <td>0</td>\n",
              "      <td>1</td>\n",
              "      <td>0</td>\n",
              "      <td>0</td>\n",
              "      <td>1</td>\n",
              "      <td>1</td>\n",
              "      <td>0</td>\n",
              "      <td>0</td>\n",
              "      <td>0</td>\n",
              "      <td>1</td>\n",
              "      <td>0</td>\n",
              "      <td>0</td>\n",
              "      <td>1</td>\n",
              "      <td>0</td>\n",
              "      <td>0</td>\n",
              "      <td>0</td>\n",
              "      <td>0</td>\n",
              "      <td>0</td>\n",
              "    </tr>\n",
              "    <tr>\n",
              "      <th>4</th>\n",
              "      <td>fffe43004900440031003900350030003600</td>\n",
              "      <td>31</td>\n",
              "      <td>20</td>\n",
              "      <td>113.130000</td>\n",
              "      <td>24483.66</td>\n",
              "      <td>16.0</td>\n",
              "      <td>663.060000</td>\n",
              "      <td>5</td>\n",
              "      <td>0</td>\n",
              "      <td>0</td>\n",
              "      <td>0</td>\n",
              "      <td>0</td>\n",
              "      <td>1</td>\n",
              "      <td>0</td>\n",
              "      <td>0</td>\n",
              "      <td>0</td>\n",
              "      <td>0</td>\n",
              "      <td>0</td>\n",
              "      <td>0</td>\n",
              "      <td>0</td>\n",
              "      <td>1</td>\n",
              "      <td>1</td>\n",
              "      <td>0</td>\n",
              "      <td>0</td>\n",
              "      <td>1</td>\n",
              "      <td>1</td>\n",
              "      <td>0</td>\n",
              "      <td>1</td>\n",
              "      <td>0</td>\n",
              "      <td>0</td>\n",
              "      <td>0</td>\n",
              "      <td>0</td>\n",
              "      <td>1</td>\n",
              "      <td>0</td>\n",
              "      <td>0</td>\n",
              "      <td>0</td>\n",
              "      <td>0</td>\n",
              "      <td>0</td>\n",
              "    </tr>\n",
              "    <tr>\n",
              "      <th>...</th>\n",
              "      <td>...</td>\n",
              "      <td>...</td>\n",
              "      <td>...</td>\n",
              "      <td>...</td>\n",
              "      <td>...</td>\n",
              "      <td>...</td>\n",
              "      <td>...</td>\n",
              "      <td>...</td>\n",
              "      <td>...</td>\n",
              "      <td>...</td>\n",
              "      <td>...</td>\n",
              "      <td>...</td>\n",
              "      <td>...</td>\n",
              "      <td>...</td>\n",
              "      <td>...</td>\n",
              "      <td>...</td>\n",
              "      <td>...</td>\n",
              "      <td>...</td>\n",
              "      <td>...</td>\n",
              "      <td>...</td>\n",
              "      <td>...</td>\n",
              "      <td>...</td>\n",
              "      <td>...</td>\n",
              "      <td>...</td>\n",
              "      <td>...</td>\n",
              "      <td>...</td>\n",
              "      <td>...</td>\n",
              "      <td>...</td>\n",
              "      <td>...</td>\n",
              "      <td>...</td>\n",
              "      <td>...</td>\n",
              "      <td>...</td>\n",
              "      <td>...</td>\n",
              "      <td>...</td>\n",
              "      <td>...</td>\n",
              "      <td>...</td>\n",
              "      <td>...</td>\n",
              "      <td>...</td>\n",
              "    </tr>\n",
              "    <tr>\n",
              "      <th>36987</th>\n",
              "      <td>fffe43004900440035003500390036003100</td>\n",
              "      <td>46</td>\n",
              "      <td>2</td>\n",
              "      <td>650.682759</td>\n",
              "      <td>27277.68</td>\n",
              "      <td>6.0</td>\n",
              "      <td>639.510000</td>\n",
              "      <td>4</td>\n",
              "      <td>0</td>\n",
              "      <td>1</td>\n",
              "      <td>0</td>\n",
              "      <td>0</td>\n",
              "      <td>0</td>\n",
              "      <td>0</td>\n",
              "      <td>0</td>\n",
              "      <td>0</td>\n",
              "      <td>0</td>\n",
              "      <td>0</td>\n",
              "      <td>0</td>\n",
              "      <td>1</td>\n",
              "      <td>0</td>\n",
              "      <td>0</td>\n",
              "      <td>1</td>\n",
              "      <td>0</td>\n",
              "      <td>1</td>\n",
              "      <td>1</td>\n",
              "      <td>0</td>\n",
              "      <td>0</td>\n",
              "      <td>0</td>\n",
              "      <td>0</td>\n",
              "      <td>0</td>\n",
              "      <td>0</td>\n",
              "      <td>0</td>\n",
              "      <td>0</td>\n",
              "      <td>0</td>\n",
              "      <td>0</td>\n",
              "      <td>0</td>\n",
              "      <td>0</td>\n",
              "    </tr>\n",
              "    <tr>\n",
              "      <th>36988</th>\n",
              "      <td>fffe43004900440033003500380036003600</td>\n",
              "      <td>29</td>\n",
              "      <td>13</td>\n",
              "      <td>638.123421</td>\n",
              "      <td>11069.71</td>\n",
              "      <td>28.0</td>\n",
              "      <td>527.990000</td>\n",
              "      <td>5</td>\n",
              "      <td>0</td>\n",
              "      <td>1</td>\n",
              "      <td>0</td>\n",
              "      <td>0</td>\n",
              "      <td>0</td>\n",
              "      <td>0</td>\n",
              "      <td>0</td>\n",
              "      <td>0</td>\n",
              "      <td>0</td>\n",
              "      <td>0</td>\n",
              "      <td>1</td>\n",
              "      <td>0</td>\n",
              "      <td>1</td>\n",
              "      <td>0</td>\n",
              "      <td>1</td>\n",
              "      <td>1</td>\n",
              "      <td>0</td>\n",
              "      <td>0</td>\n",
              "      <td>1</td>\n",
              "      <td>0</td>\n",
              "      <td>0</td>\n",
              "      <td>0</td>\n",
              "      <td>1</td>\n",
              "      <td>0</td>\n",
              "      <td>0</td>\n",
              "      <td>0</td>\n",
              "      <td>0</td>\n",
              "      <td>0</td>\n",
              "      <td>0</td>\n",
              "      <td>0</td>\n",
              "    </tr>\n",
              "    <tr>\n",
              "      <th>36989</th>\n",
              "      <td>fffe4300490044003500330034003100</td>\n",
              "      <td>23</td>\n",
              "      <td>12</td>\n",
              "      <td>154.940000</td>\n",
              "      <td>38127.56</td>\n",
              "      <td>0.0</td>\n",
              "      <td>680.470000</td>\n",
              "      <td>4</td>\n",
              "      <td>0</td>\n",
              "      <td>1</td>\n",
              "      <td>0</td>\n",
              "      <td>0</td>\n",
              "      <td>0</td>\n",
              "      <td>0</td>\n",
              "      <td>0</td>\n",
              "      <td>0</td>\n",
              "      <td>1</td>\n",
              "      <td>1</td>\n",
              "      <td>0</td>\n",
              "      <td>1</td>\n",
              "      <td>0</td>\n",
              "      <td>0</td>\n",
              "      <td>1</td>\n",
              "      <td>0</td>\n",
              "      <td>1</td>\n",
              "      <td>1</td>\n",
              "      <td>0</td>\n",
              "      <td>0</td>\n",
              "      <td>0</td>\n",
              "      <td>1</td>\n",
              "      <td>0</td>\n",
              "      <td>0</td>\n",
              "      <td>1</td>\n",
              "      <td>0</td>\n",
              "      <td>0</td>\n",
              "      <td>0</td>\n",
              "      <td>0</td>\n",
              "      <td>0</td>\n",
              "    </tr>\n",
              "    <tr>\n",
              "      <th>36990</th>\n",
              "      <td>fffe43004900440031003200390039003000</td>\n",
              "      <td>53</td>\n",
              "      <td>15</td>\n",
              "      <td>482.610000</td>\n",
              "      <td>2378.86</td>\n",
              "      <td>20.0</td>\n",
              "      <td>197.264414</td>\n",
              "      <td>3</td>\n",
              "      <td>1</td>\n",
              "      <td>0</td>\n",
              "      <td>1</td>\n",
              "      <td>0</td>\n",
              "      <td>0</td>\n",
              "      <td>1</td>\n",
              "      <td>0</td>\n",
              "      <td>0</td>\n",
              "      <td>0</td>\n",
              "      <td>1</td>\n",
              "      <td>0</td>\n",
              "      <td>0</td>\n",
              "      <td>1</td>\n",
              "      <td>1</td>\n",
              "      <td>0</td>\n",
              "      <td>1</td>\n",
              "      <td>1</td>\n",
              "      <td>0</td>\n",
              "      <td>1</td>\n",
              "      <td>0</td>\n",
              "      <td>0</td>\n",
              "      <td>0</td>\n",
              "      <td>0</td>\n",
              "      <td>0</td>\n",
              "      <td>0</td>\n",
              "      <td>0</td>\n",
              "      <td>0</td>\n",
              "      <td>0</td>\n",
              "      <td>0</td>\n",
              "      <td>0</td>\n",
              "    </tr>\n",
              "    <tr>\n",
              "      <th>36991</th>\n",
              "      <td>fffe43004900440033003600340034003200</td>\n",
              "      <td>35</td>\n",
              "      <td>15</td>\n",
              "      <td>79.180000</td>\n",
              "      <td>2189.68</td>\n",
              "      <td>0.0</td>\n",
              "      <td>719.970000</td>\n",
              "      <td>2</td>\n",
              "      <td>1</td>\n",
              "      <td>1</td>\n",
              "      <td>0</td>\n",
              "      <td>0</td>\n",
              "      <td>0</td>\n",
              "      <td>0</td>\n",
              "      <td>0</td>\n",
              "      <td>1</td>\n",
              "      <td>0</td>\n",
              "      <td>1</td>\n",
              "      <td>0</td>\n",
              "      <td>1</td>\n",
              "      <td>0</td>\n",
              "      <td>1</td>\n",
              "      <td>0</td>\n",
              "      <td>1</td>\n",
              "      <td>0</td>\n",
              "      <td>0</td>\n",
              "      <td>1</td>\n",
              "      <td>0</td>\n",
              "      <td>0</td>\n",
              "      <td>0</td>\n",
              "      <td>0</td>\n",
              "      <td>0</td>\n",
              "      <td>0</td>\n",
              "      <td>0</td>\n",
              "      <td>1</td>\n",
              "      <td>0</td>\n",
              "      <td>0</td>\n",
              "      <td>0</td>\n",
              "    </tr>\n",
              "  </tbody>\n",
              "</table>\n",
              "<p>36992 rows × 38 columns</p>\n",
              "</div>"
            ],
            "text/plain": [
              "                                customer_id  ...  feedback_User Friendly Website\n",
              "0          fffe4300490044003600300030003800  ...                               0\n",
              "1      fffe43004900440032003100300035003700  ...                               0\n",
              "2          fffe4300490044003100390032003600  ...                               0\n",
              "3      fffe43004900440036003000330031003600  ...                               0\n",
              "4      fffe43004900440031003900350030003600  ...                               0\n",
              "...                                     ...  ...                             ...\n",
              "36987  fffe43004900440035003500390036003100  ...                               0\n",
              "36988  fffe43004900440033003500380036003600  ...                               0\n",
              "36989      fffe4300490044003500330034003100  ...                               0\n",
              "36990  fffe43004900440031003200390039003000  ...                               0\n",
              "36991  fffe43004900440033003600340034003200  ...                               0\n",
              "\n",
              "[36992 rows x 38 columns]"
            ]
          },
          "metadata": {
            "tags": []
          },
          "execution_count": 137
        }
      ]
    },
    {
      "cell_type": "markdown",
      "metadata": {
        "id": "7ctde04N-CY4"
      },
      "source": [
        "## Over Sampling using smote\n"
      ],
      "id": "7ctde04N-CY4"
    },
    {
      "cell_type": "code",
      "metadata": {
        "id": "W7BiWv6JeYaJ"
      },
      "source": [
        "y = train_dum['churn_risk_score']\n",
        "x = train_dum.drop(columns = ['churn_risk_score'])\n",
        "\n",
        "x.drop(columns =['customer_id'],inplace = True)\n",
        "valid_cid = test_dum['customer_id']\n",
        "x_valid = test_dum.drop(columns=['customer_id'])\n",
        "\n",
        "# from imblearn.over_sampling import SMOTE\n",
        "# os = SMOTE(random_state=0)\n",
        "# columns = x.columns\n",
        "# os_data_x, os_data_y = os.fit_sample(x, y)\n",
        "# x = pandas.DataFrame(data=os_data_x,columns=columns )\n",
        "# y = pandas.DataFrame(data=os_data_y,columns=['y'])\n",
        "# # we can Check the numbers of our data\n",
        "# print(\"length of oversampled data is \",len(x))\n",
        "# print(len(y))"
      ],
      "id": "W7BiWv6JeYaJ",
      "execution_count": null,
      "outputs": []
    },
    {
      "cell_type": "markdown",
      "metadata": {
        "id": "oWF8-6btQJqV"
      },
      "source": [
        "## Normalising dataset"
      ],
      "id": "oWF8-6btQJqV"
    },
    {
      "cell_type": "code",
      "metadata": {
        "id": "20NYjnrlQJTp",
        "colab": {
          "base_uri": "https://localhost:8080/",
          "height": 478
        },
        "outputId": "9e65a368-7d7c-4dc6-b54d-ba494d87556c"
      },
      "source": [
        "# from sklearn import preprocessing\n",
        "# scaler = preprocessing.MinMaxScaler()\n",
        "# cols = x.columns\n",
        "# x = pandas.DataFrame(data = scaler.fit_transform(x),columns = cols)\n",
        "\n",
        "# x_valid = pandas.DataFrame(data = scaler.transform(x_valid), columns = cols)\n",
        "# x"
      ],
      "id": "20NYjnrlQJTp",
      "execution_count": null,
      "outputs": [
        {
          "output_type": "execute_result",
          "data": {
            "text/html": [
              "<div>\n",
              "<style scoped>\n",
              "    .dataframe tbody tr th:only-of-type {\n",
              "        vertical-align: middle;\n",
              "    }\n",
              "\n",
              "    .dataframe tbody tr th {\n",
              "        vertical-align: top;\n",
              "    }\n",
              "\n",
              "    .dataframe thead th {\n",
              "        text-align: right;\n",
              "    }\n",
              "</style>\n",
              "<table border=\"1\" class=\"dataframe\">\n",
              "  <thead>\n",
              "    <tr style=\"text-align: right;\">\n",
              "      <th></th>\n",
              "      <th>age</th>\n",
              "      <th>days_since_last_login</th>\n",
              "      <th>avg_time_spent</th>\n",
              "      <th>avg_transaction_value</th>\n",
              "      <th>avg_frequency_login_days</th>\n",
              "      <th>points_in_wallet</th>\n",
              "      <th>gender_M</th>\n",
              "      <th>region_category_Town</th>\n",
              "      <th>region_category_Village</th>\n",
              "      <th>membership_category_Gold Membership</th>\n",
              "      <th>membership_category_No Membership</th>\n",
              "      <th>membership_category_Platinum Membership</th>\n",
              "      <th>membership_category_Premium Membership</th>\n",
              "      <th>membership_category_Silver Membership</th>\n",
              "      <th>joined_through_referral_Yes</th>\n",
              "      <th>preferred_offer_types_Gift Vouchers/Coupons</th>\n",
              "      <th>preferred_offer_types_Without Offers</th>\n",
              "      <th>medium_of_operation_Desktop</th>\n",
              "      <th>medium_of_operation_Smartphone</th>\n",
              "      <th>internet_option_Mobile_Data</th>\n",
              "      <th>internet_option_Wi-Fi</th>\n",
              "      <th>used_special_discount_Yes</th>\n",
              "      <th>offer_application_preference_Yes</th>\n",
              "      <th>past_complaint_Yes</th>\n",
              "      <th>complaint_status_Not Applicable</th>\n",
              "      <th>complaint_status_Solved</th>\n",
              "      <th>complaint_status_Solved in Follow-up</th>\n",
              "      <th>complaint_status_Unsolved</th>\n",
              "      <th>feedback_Poor Customer Service</th>\n",
              "      <th>feedback_Poor Product Quality</th>\n",
              "      <th>feedback_Poor Website</th>\n",
              "      <th>feedback_Products always in Stock</th>\n",
              "      <th>feedback_Quality Customer Care</th>\n",
              "      <th>feedback_Reasonable Price</th>\n",
              "      <th>feedback_Too many ads</th>\n",
              "      <th>feedback_User Friendly Website</th>\n",
              "    </tr>\n",
              "  </thead>\n",
              "  <tbody>\n",
              "    <tr>\n",
              "      <th>0</th>\n",
              "      <td>0.148148</td>\n",
              "      <td>0.653846</td>\n",
              "      <td>0.322980</td>\n",
              "      <td>0.526717</td>\n",
              "      <td>0.232679</td>\n",
              "      <td>0.545073</td>\n",
              "      <td>0.0</td>\n",
              "      <td>0.0</td>\n",
              "      <td>1.0</td>\n",
              "      <td>0.0</td>\n",
              "      <td>0.0</td>\n",
              "      <td>1.0</td>\n",
              "      <td>0.0</td>\n",
              "      <td>0.0</td>\n",
              "      <td>0.0</td>\n",
              "      <td>1.0</td>\n",
              "      <td>0.0</td>\n",
              "      <td>1.0</td>\n",
              "      <td>0.0</td>\n",
              "      <td>0.0</td>\n",
              "      <td>1.0</td>\n",
              "      <td>1.0</td>\n",
              "      <td>1.0</td>\n",
              "      <td>0.0</td>\n",
              "      <td>1.0</td>\n",
              "      <td>0.0</td>\n",
              "      <td>0.0</td>\n",
              "      <td>0.0</td>\n",
              "      <td>0.0</td>\n",
              "      <td>0.0</td>\n",
              "      <td>0.0</td>\n",
              "      <td>1.0</td>\n",
              "      <td>0.0</td>\n",
              "      <td>0.0</td>\n",
              "      <td>0.0</td>\n",
              "      <td>0.0</td>\n",
              "    </tr>\n",
              "    <tr>\n",
              "      <th>1</th>\n",
              "      <td>0.407407</td>\n",
              "      <td>0.615385</td>\n",
              "      <td>0.329152</td>\n",
              "      <td>0.121456</td>\n",
              "      <td>0.136870</td>\n",
              "      <td>0.511548</td>\n",
              "      <td>0.0</td>\n",
              "      <td>0.0</td>\n",
              "      <td>0.0</td>\n",
              "      <td>0.0</td>\n",
              "      <td>0.0</td>\n",
              "      <td>0.0</td>\n",
              "      <td>1.0</td>\n",
              "      <td>0.0</td>\n",
              "      <td>1.0</td>\n",
              "      <td>1.0</td>\n",
              "      <td>0.0</td>\n",
              "      <td>1.0</td>\n",
              "      <td>0.0</td>\n",
              "      <td>1.0</td>\n",
              "      <td>0.0</td>\n",
              "      <td>1.0</td>\n",
              "      <td>0.0</td>\n",
              "      <td>1.0</td>\n",
              "      <td>0.0</td>\n",
              "      <td>1.0</td>\n",
              "      <td>0.0</td>\n",
              "      <td>0.0</td>\n",
              "      <td>0.0</td>\n",
              "      <td>0.0</td>\n",
              "      <td>0.0</td>\n",
              "      <td>0.0</td>\n",
              "      <td>1.0</td>\n",
              "      <td>0.0</td>\n",
              "      <td>0.0</td>\n",
              "      <td>0.0</td>\n",
              "    </tr>\n",
              "    <tr>\n",
              "      <th>2</th>\n",
              "      <td>0.629630</td>\n",
              "      <td>0.538462</td>\n",
              "      <td>0.555957</td>\n",
              "      <td>0.204074</td>\n",
              "      <td>0.301114</td>\n",
              "      <td>0.445750</td>\n",
              "      <td>0.0</td>\n",
              "      <td>1.0</td>\n",
              "      <td>0.0</td>\n",
              "      <td>0.0</td>\n",
              "      <td>1.0</td>\n",
              "      <td>0.0</td>\n",
              "      <td>0.0</td>\n",
              "      <td>0.0</td>\n",
              "      <td>1.0</td>\n",
              "      <td>1.0</td>\n",
              "      <td>0.0</td>\n",
              "      <td>1.0</td>\n",
              "      <td>0.0</td>\n",
              "      <td>0.0</td>\n",
              "      <td>1.0</td>\n",
              "      <td>0.0</td>\n",
              "      <td>1.0</td>\n",
              "      <td>1.0</td>\n",
              "      <td>0.0</td>\n",
              "      <td>0.0</td>\n",
              "      <td>1.0</td>\n",
              "      <td>0.0</td>\n",
              "      <td>0.0</td>\n",
              "      <td>0.0</td>\n",
              "      <td>1.0</td>\n",
              "      <td>0.0</td>\n",
              "      <td>0.0</td>\n",
              "      <td>0.0</td>\n",
              "      <td>0.0</td>\n",
              "      <td>0.0</td>\n",
              "    </tr>\n",
              "    <tr>\n",
              "      <th>3</th>\n",
              "      <td>0.500000</td>\n",
              "      <td>0.423077</td>\n",
              "      <td>0.055596</td>\n",
              "      <td>0.246577</td>\n",
              "      <td>0.082122</td>\n",
              "      <td>0.469416</td>\n",
              "      <td>1.0</td>\n",
              "      <td>0.0</td>\n",
              "      <td>0.0</td>\n",
              "      <td>0.0</td>\n",
              "      <td>1.0</td>\n",
              "      <td>0.0</td>\n",
              "      <td>0.0</td>\n",
              "      <td>0.0</td>\n",
              "      <td>1.0</td>\n",
              "      <td>1.0</td>\n",
              "      <td>0.0</td>\n",
              "      <td>1.0</td>\n",
              "      <td>0.0</td>\n",
              "      <td>1.0</td>\n",
              "      <td>0.0</td>\n",
              "      <td>0.0</td>\n",
              "      <td>1.0</td>\n",
              "      <td>1.0</td>\n",
              "      <td>0.0</td>\n",
              "      <td>0.0</td>\n",
              "      <td>0.0</td>\n",
              "      <td>1.0</td>\n",
              "      <td>0.0</td>\n",
              "      <td>0.0</td>\n",
              "      <td>1.0</td>\n",
              "      <td>0.0</td>\n",
              "      <td>0.0</td>\n",
              "      <td>0.0</td>\n",
              "      <td>0.0</td>\n",
              "      <td>0.0</td>\n",
              "    </tr>\n",
              "    <tr>\n",
              "      <th>4</th>\n",
              "      <td>0.388889</td>\n",
              "      <td>0.769231</td>\n",
              "      <td>0.120302</td>\n",
              "      <td>0.238950</td>\n",
              "      <td>0.218992</td>\n",
              "      <td>0.503130</td>\n",
              "      <td>0.0</td>\n",
              "      <td>0.0</td>\n",
              "      <td>0.0</td>\n",
              "      <td>0.0</td>\n",
              "      <td>1.0</td>\n",
              "      <td>0.0</td>\n",
              "      <td>0.0</td>\n",
              "      <td>0.0</td>\n",
              "      <td>0.0</td>\n",
              "      <td>0.0</td>\n",
              "      <td>0.0</td>\n",
              "      <td>0.0</td>\n",
              "      <td>1.0</td>\n",
              "      <td>1.0</td>\n",
              "      <td>0.0</td>\n",
              "      <td>0.0</td>\n",
              "      <td>1.0</td>\n",
              "      <td>1.0</td>\n",
              "      <td>0.0</td>\n",
              "      <td>1.0</td>\n",
              "      <td>0.0</td>\n",
              "      <td>0.0</td>\n",
              "      <td>0.0</td>\n",
              "      <td>0.0</td>\n",
              "      <td>1.0</td>\n",
              "      <td>0.0</td>\n",
              "      <td>0.0</td>\n",
              "      <td>0.0</td>\n",
              "      <td>0.0</td>\n",
              "      <td>0.0</td>\n",
              "    </tr>\n",
              "    <tr>\n",
              "      <th>...</th>\n",
              "      <td>...</td>\n",
              "      <td>...</td>\n",
              "      <td>...</td>\n",
              "      <td>...</td>\n",
              "      <td>...</td>\n",
              "      <td>...</td>\n",
              "      <td>...</td>\n",
              "      <td>...</td>\n",
              "      <td>...</td>\n",
              "      <td>...</td>\n",
              "      <td>...</td>\n",
              "      <td>...</td>\n",
              "      <td>...</td>\n",
              "      <td>...</td>\n",
              "      <td>...</td>\n",
              "      <td>...</td>\n",
              "      <td>...</td>\n",
              "      <td>...</td>\n",
              "      <td>...</td>\n",
              "      <td>...</td>\n",
              "      <td>...</td>\n",
              "      <td>...</td>\n",
              "      <td>...</td>\n",
              "      <td>...</td>\n",
              "      <td>...</td>\n",
              "      <td>...</td>\n",
              "      <td>...</td>\n",
              "      <td>...</td>\n",
              "      <td>...</td>\n",
              "      <td>...</td>\n",
              "      <td>...</td>\n",
              "      <td>...</td>\n",
              "      <td>...</td>\n",
              "      <td>...</td>\n",
              "      <td>...</td>\n",
              "      <td>...</td>\n",
              "    </tr>\n",
              "    <tr>\n",
              "      <th>36987</th>\n",
              "      <td>0.666667</td>\n",
              "      <td>0.076923</td>\n",
              "      <td>0.701369</td>\n",
              "      <td>0.267140</td>\n",
              "      <td>0.082122</td>\n",
              "      <td>0.494807</td>\n",
              "      <td>0.0</td>\n",
              "      <td>1.0</td>\n",
              "      <td>0.0</td>\n",
              "      <td>0.0</td>\n",
              "      <td>0.0</td>\n",
              "      <td>0.0</td>\n",
              "      <td>0.0</td>\n",
              "      <td>0.0</td>\n",
              "      <td>0.0</td>\n",
              "      <td>0.0</td>\n",
              "      <td>0.0</td>\n",
              "      <td>1.0</td>\n",
              "      <td>0.0</td>\n",
              "      <td>0.0</td>\n",
              "      <td>1.0</td>\n",
              "      <td>0.0</td>\n",
              "      <td>1.0</td>\n",
              "      <td>1.0</td>\n",
              "      <td>0.0</td>\n",
              "      <td>0.0</td>\n",
              "      <td>0.0</td>\n",
              "      <td>0.0</td>\n",
              "      <td>0.0</td>\n",
              "      <td>0.0</td>\n",
              "      <td>0.0</td>\n",
              "      <td>0.0</td>\n",
              "      <td>0.0</td>\n",
              "      <td>0.0</td>\n",
              "      <td>0.0</td>\n",
              "      <td>0.0</td>\n",
              "    </tr>\n",
              "    <tr>\n",
              "      <th>36988</th>\n",
              "      <td>0.351852</td>\n",
              "      <td>0.500000</td>\n",
              "      <td>0.687793</td>\n",
              "      <td>0.103611</td>\n",
              "      <td>0.383236</td>\n",
              "      <td>0.455397</td>\n",
              "      <td>0.0</td>\n",
              "      <td>1.0</td>\n",
              "      <td>0.0</td>\n",
              "      <td>0.0</td>\n",
              "      <td>0.0</td>\n",
              "      <td>0.0</td>\n",
              "      <td>0.0</td>\n",
              "      <td>0.0</td>\n",
              "      <td>0.0</td>\n",
              "      <td>0.0</td>\n",
              "      <td>1.0</td>\n",
              "      <td>0.0</td>\n",
              "      <td>1.0</td>\n",
              "      <td>0.0</td>\n",
              "      <td>1.0</td>\n",
              "      <td>1.0</td>\n",
              "      <td>0.0</td>\n",
              "      <td>0.0</td>\n",
              "      <td>1.0</td>\n",
              "      <td>0.0</td>\n",
              "      <td>0.0</td>\n",
              "      <td>0.0</td>\n",
              "      <td>1.0</td>\n",
              "      <td>0.0</td>\n",
              "      <td>0.0</td>\n",
              "      <td>0.0</td>\n",
              "      <td>0.0</td>\n",
              "      <td>0.0</td>\n",
              "      <td>0.0</td>\n",
              "      <td>0.0</td>\n",
              "    </tr>\n",
              "    <tr>\n",
              "      <th>36989</th>\n",
              "      <td>0.240741</td>\n",
              "      <td>0.461538</td>\n",
              "      <td>0.165496</td>\n",
              "      <td>0.376609</td>\n",
              "      <td>0.000000</td>\n",
              "      <td>0.509282</td>\n",
              "      <td>0.0</td>\n",
              "      <td>1.0</td>\n",
              "      <td>0.0</td>\n",
              "      <td>0.0</td>\n",
              "      <td>0.0</td>\n",
              "      <td>0.0</td>\n",
              "      <td>0.0</td>\n",
              "      <td>0.0</td>\n",
              "      <td>1.0</td>\n",
              "      <td>1.0</td>\n",
              "      <td>0.0</td>\n",
              "      <td>1.0</td>\n",
              "      <td>0.0</td>\n",
              "      <td>0.0</td>\n",
              "      <td>1.0</td>\n",
              "      <td>0.0</td>\n",
              "      <td>1.0</td>\n",
              "      <td>1.0</td>\n",
              "      <td>0.0</td>\n",
              "      <td>0.0</td>\n",
              "      <td>0.0</td>\n",
              "      <td>1.0</td>\n",
              "      <td>0.0</td>\n",
              "      <td>0.0</td>\n",
              "      <td>1.0</td>\n",
              "      <td>0.0</td>\n",
              "      <td>0.0</td>\n",
              "      <td>0.0</td>\n",
              "      <td>0.0</td>\n",
              "      <td>0.0</td>\n",
              "    </tr>\n",
              "    <tr>\n",
              "      <th>36990</th>\n",
              "      <td>0.796296</td>\n",
              "      <td>0.576923</td>\n",
              "      <td>0.519691</td>\n",
              "      <td>0.015925</td>\n",
              "      <td>0.273740</td>\n",
              "      <td>0.338522</td>\n",
              "      <td>1.0</td>\n",
              "      <td>0.0</td>\n",
              "      <td>1.0</td>\n",
              "      <td>0.0</td>\n",
              "      <td>0.0</td>\n",
              "      <td>1.0</td>\n",
              "      <td>0.0</td>\n",
              "      <td>0.0</td>\n",
              "      <td>0.0</td>\n",
              "      <td>1.0</td>\n",
              "      <td>0.0</td>\n",
              "      <td>0.0</td>\n",
              "      <td>1.0</td>\n",
              "      <td>1.0</td>\n",
              "      <td>0.0</td>\n",
              "      <td>1.0</td>\n",
              "      <td>1.0</td>\n",
              "      <td>0.0</td>\n",
              "      <td>1.0</td>\n",
              "      <td>0.0</td>\n",
              "      <td>0.0</td>\n",
              "      <td>0.0</td>\n",
              "      <td>0.0</td>\n",
              "      <td>0.0</td>\n",
              "      <td>0.0</td>\n",
              "      <td>0.0</td>\n",
              "      <td>0.0</td>\n",
              "      <td>0.0</td>\n",
              "      <td>0.0</td>\n",
              "      <td>0.0</td>\n",
              "    </tr>\n",
              "    <tr>\n",
              "      <th>36991</th>\n",
              "      <td>0.462963</td>\n",
              "      <td>0.576923</td>\n",
              "      <td>0.083603</td>\n",
              "      <td>0.014016</td>\n",
              "      <td>0.000000</td>\n",
              "      <td>0.523241</td>\n",
              "      <td>1.0</td>\n",
              "      <td>1.0</td>\n",
              "      <td>0.0</td>\n",
              "      <td>0.0</td>\n",
              "      <td>0.0</td>\n",
              "      <td>0.0</td>\n",
              "      <td>0.0</td>\n",
              "      <td>1.0</td>\n",
              "      <td>0.0</td>\n",
              "      <td>1.0</td>\n",
              "      <td>0.0</td>\n",
              "      <td>1.0</td>\n",
              "      <td>0.0</td>\n",
              "      <td>1.0</td>\n",
              "      <td>0.0</td>\n",
              "      <td>1.0</td>\n",
              "      <td>0.0</td>\n",
              "      <td>0.0</td>\n",
              "      <td>1.0</td>\n",
              "      <td>0.0</td>\n",
              "      <td>0.0</td>\n",
              "      <td>0.0</td>\n",
              "      <td>0.0</td>\n",
              "      <td>0.0</td>\n",
              "      <td>0.0</td>\n",
              "      <td>0.0</td>\n",
              "      <td>1.0</td>\n",
              "      <td>0.0</td>\n",
              "      <td>0.0</td>\n",
              "      <td>0.0</td>\n",
              "    </tr>\n",
              "  </tbody>\n",
              "</table>\n",
              "<p>36992 rows × 36 columns</p>\n",
              "</div>"
            ],
            "text/plain": [
              "            age  ...  feedback_User Friendly Website\n",
              "0      0.148148  ...                             0.0\n",
              "1      0.407407  ...                             0.0\n",
              "2      0.629630  ...                             0.0\n",
              "3      0.500000  ...                             0.0\n",
              "4      0.388889  ...                             0.0\n",
              "...         ...  ...                             ...\n",
              "36987  0.666667  ...                             0.0\n",
              "36988  0.351852  ...                             0.0\n",
              "36989  0.240741  ...                             0.0\n",
              "36990  0.796296  ...                             0.0\n",
              "36991  0.462963  ...                             0.0\n",
              "\n",
              "[36992 rows x 36 columns]"
            ]
          },
          "metadata": {
            "tags": []
          },
          "execution_count": 56
        }
      ]
    },
    {
      "cell_type": "markdown",
      "metadata": {
        "id": "vwDc_VoLArO6"
      },
      "source": [
        "## Recursive Feature Elimination"
      ],
      "id": "vwDc_VoLArO6"
    },
    {
      "cell_type": "code",
      "metadata": {
        "id": "Sn4OvoGaAwNk"
      },
      "source": [
        "# x_cols = x.columns.values.tolist()\n",
        "# y_cols = ['y_']\n",
        "# from sklearn.feature_selection import RFECV\n",
        "# from sklearn.linear_model import LogisticRegression\n",
        "# logreg = LogisticRegression(max_iter=2000)\n",
        "# rfe = RFECV(logreg, min_features_to_select = 30,verbose = 1, n_jobs = 1)\n",
        "# rfe = rfe.fit(x, y.values.ravel())\n",
        "\n",
        "# for col, support, rank in zip(x, rfe.support_, rfe.ranking_):\n",
        "#     print(col,support,rank)"
      ],
      "id": "Sn4OvoGaAwNk",
      "execution_count": null,
      "outputs": []
    },
    {
      "cell_type": "code",
      "metadata": {
        "id": "VYPpcBXzWmTQ"
      },
      "source": [
        "# # x_cols = x.columns[rfe.support_]\n",
        "# # x_cols\n",
        "\n",
        "# rfe_cols = ['age', 'days_since_last_login', 'avg_time_spent',\n",
        "#        'avg_transaction_value', 'avg_frequency_login_days', 'points_in_wallet',\n",
        "#        'region_category_Village', 'membership_category_Gold Membership',\n",
        "#        'membership_category_No Membership',\n",
        "#        'membership_category_Platinum Membership',\n",
        "#        'membership_category_Premium Membership',\n",
        "#        'membership_category_Silver Membership', 'joined_through_referral_Yes',\n",
        "#        'medium_of_operation_Desktop', 'medium_of_operation_Smartphone',\n",
        "#        'internet_option_Mobile_Data', 'used_special_discount_Yes',\n",
        "#        'offer_application_preference_Yes', 'past_complaint_Yes',\n",
        "#        'complaint_status_Solved', 'complaint_status_Solved in Follow-up',\n",
        "#        'complaint_status_Unsolved', 'feedback_Poor Customer Service',\n",
        "#        'feedback_Poor Product Quality', 'feedback_Poor Website',\n",
        "#        'feedback_Products always in Stock', 'feedback_Quality Customer Care',\n",
        "#        'feedback_Reasonable Price', 'feedback_Too many ads',\n",
        "#        'feedback_User Friendly Website']\n",
        "\n",
        "# x = x[rfe_cols]\n",
        "# x_valid = x_valid[rfe_cols]\n",
        "# x"
      ],
      "id": "VYPpcBXzWmTQ",
      "execution_count": null,
      "outputs": []
    },
    {
      "cell_type": "markdown",
      "metadata": {
        "id": "dpwZ5OeRH9jZ"
      },
      "source": [
        "## Backward Elimination"
      ],
      "id": "dpwZ5OeRH9jZ"
    },
    {
      "cell_type": "code",
      "metadata": {
        "id": "bUgCKxaXIDvT"
      },
      "source": [
        "# y_unit = y.divide(5)\n",
        "# import statsmodels.api as sm\n",
        "# print(y.shape,x.shape)\n",
        "# logit_model = sm.Logit(list(y_unit),x)\n",
        "# result = logit_model.fit()\n",
        "# print(result.summary())"
      ],
      "id": "bUgCKxaXIDvT",
      "execution_count": null,
      "outputs": []
    },
    {
      "cell_type": "code",
      "metadata": {
        "id": "7ZS4542Eo_VM"
      },
      "source": [
        "# cols = ['points_in_wallet',\n",
        "#        'membership_category_Gold Membership',\n",
        "#        'membership_category_No Membership',\n",
        "#        'membership_category_Platinum Membership',\n",
        "#        'membership_category_Premium Membership',\n",
        "#        'membership_category_Silver Membership',  'past_complaint_Yes',\n",
        "#        'complaint_status_Not Applicable', 'complaint_status_Solved',\n",
        "#        'complaint_status_Solved in Follow-up', 'complaint_status_Unsolved',\n",
        "#        'feedback_Poor Customer Service', 'feedback_Poor Product Quality',\n",
        "#        'feedback_Poor Website', 'feedback_Products always in Stock',\n",
        "#        'feedback_Quality Customer Care', 'feedback_Reasonable Price',\n",
        "#        'feedback_Too many ads', 'feedback_User Friendly Website']\n",
        "\n",
        "# x_train = x_train[cols]\n",
        "# x_valid = x_valid[cols]\n",
        "# x_test = x_test[cols]\n",
        "# logit_model = sm.Logit(y_train_unit,x_train)\n",
        "# result = logit_model.fit()\n",
        "# print(result.summary())"
      ],
      "id": "7ZS4542Eo_VM",
      "execution_count": null,
      "outputs": []
    },
    {
      "cell_type": "code",
      "metadata": {
        "id": "cEPeLh_POdmM"
      },
      "source": [
        "# print(x_train.columns)\n",
        "# print(len(x_train.columns))"
      ],
      "id": "cEPeLh_POdmM",
      "execution_count": null,
      "outputs": []
    },
    {
      "cell_type": "markdown",
      "metadata": {
        "id": "-2w7Mhhg3bCK"
      },
      "source": [
        "## Train test split"
      ],
      "id": "-2w7Mhhg3bCK"
    },
    {
      "cell_type": "code",
      "metadata": {
        "id": "4PhbGVG-RVJv"
      },
      "source": [
        "from sklearn.model_selection import train_test_split\n",
        "x_train, x_test, y_train, y_test = train_test_split(x, y, test_size = 0.25, random_state = 42)\n",
        "# print(x_train,x_test,y_train,y_test, end= '\\n')\n",
        "# print(valid_cid,x_valid[:5])"
      ],
      "id": "4PhbGVG-RVJv",
      "execution_count": null,
      "outputs": []
    },
    {
      "cell_type": "markdown",
      "metadata": {
        "id": "Asgd7ww-7DEn"
      },
      "source": [
        "# Building Models\n",
        "## 1. Logistic Regression"
      ],
      "id": "Asgd7ww-7DEn"
    },
    {
      "cell_type": "code",
      "metadata": {
        "id": "tmTMBKuv7L5j",
        "colab": {
          "base_uri": "https://localhost:8080/"
        },
        "outputId": "46b73608-3cd2-4f52-9293-32556d997bfb"
      },
      "source": [
        "# for normalized data\n",
        "# y_train = y_train.ravel()\n",
        "# y_test = y_test.ravel()\n",
        "from sklearn.linear_model import LogisticRegression\n",
        "logreg = LogisticRegression(fit_intercept= True,max_iter = 2000)\n",
        "logreg.fit(x_train,y_train)\n",
        "\n",
        "print('\\nAccuracy of train: {:.5f}'\n",
        "     .format(logreg.score(x_train, y_train)))\n",
        "\n",
        "y_pred = logreg.predict(x_test)\n",
        "print('\\nAccuracy of test: {:.5f}\\n'\n",
        "     .format(logreg.score(x_test, y_test)))"
      ],
      "id": "tmTMBKuv7L5j",
      "execution_count": null,
      "outputs": [
        {
          "output_type": "stream",
          "text": [
            "\n",
            "Accuracy of train: 0.69861\n",
            "\n",
            "Accuracy of test: 0.69536\n",
            "\n"
          ],
          "name": "stdout"
        }
      ]
    },
    {
      "cell_type": "markdown",
      "metadata": {
        "id": "qmWFIRBCX33-"
      },
      "source": [
        "##2. Stochastic Gradient Descent"
      ],
      "id": "qmWFIRBCX33-"
    },
    {
      "cell_type": "code",
      "metadata": {
        "id": "-a5QjK1EX3hE",
        "colab": {
          "base_uri": "https://localhost:8080/"
        },
        "outputId": "f97413aa-880d-462d-f0f9-dbc26a36e3ca"
      },
      "source": [
        "from sklearn.linear_model import SGDClassifier\n",
        "sgd = SGDClassifier(loss = 'modified_huber',shuffle = False)\n",
        "sgd.fit(x_train, y_train)\n",
        "print('\\nAccuracy on training set: {:.5f}'\n",
        "     .format(sgd.score(x_train, y_train)))\n",
        "print('\\nAccuracy on test set: {:.5f}\\n'\n",
        "     .format(sgd.score(x_test, y_test)))"
      ],
      "id": "-a5QjK1EX3hE",
      "execution_count": null,
      "outputs": [
        {
          "output_type": "stream",
          "text": [
            "\n",
            "Accuracy on training set: 0.65715\n",
            "\n",
            "Accuracy on test set: 0.66009\n",
            "\n"
          ],
          "name": "stdout"
        }
      ]
    },
    {
      "cell_type": "markdown",
      "metadata": {
        "id": "-juklZ2DV8LJ"
      },
      "source": [
        "##3. Gaussian Naive Bayes"
      ],
      "id": "-juklZ2DV8LJ"
    },
    {
      "cell_type": "code",
      "metadata": {
        "id": "laNg_yspV70z",
        "colab": {
          "base_uri": "https://localhost:8080/"
        },
        "outputId": "79f2d37d-ce7a-49a4-dc51-565683adcfc3"
      },
      "source": [
        "from sklearn.naive_bayes import GaussianNB\n",
        "gnb = GaussianNB()\n",
        "gnb.fit(x_train, y_train)\n",
        "print('Accuracy of GNB classifier on training set: {:.5f}'\n",
        "     .format(gnb.score(x_train, y_train)))\n",
        "print('Accuracy of GNB classifier on test set: {:.5f}'\n",
        "     .format(gnb.score(x_test, y_test)))"
      ],
      "id": "laNg_yspV70z",
      "execution_count": null,
      "outputs": [
        {
          "output_type": "stream",
          "text": [
            "Accuracy of GNB classifier on training set: 0.61430\n",
            "Accuracy of GNB classifier on test set: 0.60589\n"
          ],
          "name": "stdout"
        }
      ]
    },
    {
      "cell_type": "markdown",
      "metadata": {
        "id": "9IGmfTVDU5qo"
      },
      "source": [
        "##4. K Nearest Neighbours"
      ],
      "id": "9IGmfTVDU5qo"
    },
    {
      "cell_type": "code",
      "metadata": {
        "id": "twMsVTzLVBJC",
        "colab": {
          "base_uri": "https://localhost:8080/"
        },
        "outputId": "6dbc8b64-bcb1-40be-cdab-b5a6e29de266"
      },
      "source": [
        "from sklearn.neighbors import KNeighborsClassifier\n",
        "knn = KNeighborsClassifier()\n",
        "knn.fit(x_train, y_train)\n",
        "print('\\nAccuracy of K-NN classifier on training set: {:.5f}'\n",
        "     .format(knn.score(x_train, y_train)))\n",
        "print('\\nAccuracy of K-NN classifier on test set: {:.5f}\\n'\n",
        "     .format(knn.score(x_test, y_test)))"
      ],
      "id": "twMsVTzLVBJC",
      "execution_count": null,
      "outputs": [
        {
          "output_type": "stream",
          "text": [
            "\n",
            "Accuracy of K-NN classifier on training set: 0.72673\n",
            "\n",
            "Accuracy of K-NN classifier on test set: 0.55089\n",
            "\n"
          ],
          "name": "stdout"
        }
      ]
    },
    {
      "cell_type": "markdown",
      "metadata": {
        "id": "vhwt8t-gVYEp"
      },
      "source": [
        "##5. Linear Discriminant Analysis"
      ],
      "id": "vhwt8t-gVYEp"
    },
    {
      "cell_type": "code",
      "metadata": {
        "id": "fzpOsvRnVdxf",
        "colab": {
          "base_uri": "https://localhost:8080/"
        },
        "outputId": "c2a4024a-8152-4829-eaa3-c44de1a68648"
      },
      "source": [
        "from sklearn.discriminant_analysis import LinearDiscriminantAnalysis\n",
        "lda = LinearDiscriminantAnalysis()\n",
        "lda.fit(x_train, y_train)\n",
        "print('Accuracy of LDA classifier on training set: {:.5f}'\n",
        "     .format(lda.score(x_train, y_train)))\n",
        "print('Accuracy of LDA classifier on test set: {:.5f}'\n",
        "     .format(lda.score(x_test, y_test)))"
      ],
      "id": "fzpOsvRnVdxf",
      "execution_count": null,
      "outputs": [
        {
          "output_type": "stream",
          "text": [
            "Accuracy of LDA classifier on training set: 0.65668\n",
            "Accuracy of LDA classifier on test set: 0.65914\n"
          ],
          "name": "stdout"
        }
      ]
    },
    {
      "cell_type": "markdown",
      "metadata": {
        "id": "2dqZSKDqWeZ9"
      },
      "source": [
        "##6. Support Vector Machine"
      ],
      "id": "2dqZSKDqWeZ9"
    },
    {
      "cell_type": "code",
      "metadata": {
        "id": "Yrfv2cksWd1F",
        "colab": {
          "base_uri": "https://localhost:8080/"
        },
        "outputId": "8cc15c20-0c8f-4c56-d66c-d66f88da7726"
      },
      "source": [
        "from sklearn.svm import SVC\n",
        "svm = SVC()\n",
        "svm.fit(x_train, y_train)\n",
        "print('Accuracy of SVM classifier on training set: {:.5f}'\n",
        "     .format(svm.score(x_train, y_train)))\n",
        "print('Accuracy of SVM classifier on test set: {:.5f}'\n",
        "     .format(svm.score(x_test, y_test)))"
      ],
      "id": "Yrfv2cksWd1F",
      "execution_count": null,
      "outputs": [
        {
          "output_type": "stream",
          "text": [
            "Accuracy of SVM classifier on training set: 0.70557\n",
            "Accuracy of SVM classifier on test set: 0.65171\n"
          ],
          "name": "stdout"
        }
      ]
    },
    {
      "cell_type": "markdown",
      "metadata": {
        "id": "WdTTUAYhUhiT"
      },
      "source": [
        "##7. Decision Tree"
      ],
      "id": "WdTTUAYhUhiT"
    },
    {
      "cell_type": "code",
      "metadata": {
        "id": "Hx0SpYxMUgkh",
        "colab": {
          "base_uri": "https://localhost:8080/"
        },
        "outputId": "6a353583-e3aa-4367-811c-111425888a91"
      },
      "source": [
        "from sklearn.tree import DecisionTreeClassifier\n",
        "clf = DecisionTreeClassifier().fit(x_train, y_train)\n",
        "print('\\nAccuracy of Decision Tree classifier on training set: {:.5f}'\n",
        "     .format(clf.score(x_train, y_train)))\n",
        "print('\\nAccuracy of Decision Tree classifier on test set: {:.5f}\\n'\n",
        "     .format(clf.score(x_test, y_test)))"
      ],
      "id": "Hx0SpYxMUgkh",
      "execution_count": null,
      "outputs": [
        {
          "output_type": "stream",
          "text": [
            "\n",
            "Accuracy of Decision Tree classifier on training set: 1.00000\n",
            "\n",
            "Accuracy of Decision Tree classifier on test set: 0.72591\n",
            "\n"
          ],
          "name": "stdout"
        }
      ]
    },
    {
      "cell_type": "markdown",
      "metadata": {
        "id": "-dfrP49dYrQx"
      },
      "source": [
        "##8. Random Forest\n"
      ],
      "id": "-dfrP49dYrQx"
    },
    {
      "cell_type": "code",
      "metadata": {
        "id": "QPfI-k6JYupr",
        "colab": {
          "base_uri": "https://localhost:8080/"
        },
        "outputId": "2c30f09e-e55d-419d-a9e7-b31d064d427c"
      },
      "source": [
        "from sklearn.ensemble import RandomForestClassifier\n",
        "rfm = RandomForestClassifier()\n",
        "rfm.fit(x_train,y_train)\n",
        "print('\\nAccuracy on training set: {:.5f}'\n",
        "     .format(rfm.score(x_train, y_train)))\n",
        "print('\\nAccuracy on test set: {:.5f}\\n'\n",
        "     .format(rfm.score(x_test, y_test)))"
      ],
      "id": "QPfI-k6JYupr",
      "execution_count": null,
      "outputs": [
        {
          "output_type": "stream",
          "text": [
            "\n",
            "Accuracy on training set: 1.00000\n",
            "\n",
            "Accuracy on test set: 0.75689\n",
            "\n"
          ],
          "name": "stdout"
        }
      ]
    },
    {
      "cell_type": "markdown",
      "metadata": {
        "id": "7P2JENEUMmNx"
      },
      "source": [
        "### Neural Network"
      ],
      "id": "7P2JENEUMmNx"
    },
    {
      "cell_type": "code",
      "metadata": {
        "id": "zTLkT__iMlPD"
      },
      "source": [
        "y_train_m =y_train.sub(1)"
      ],
      "id": "zTLkT__iMlPD",
      "execution_count": null,
      "outputs": []
    },
    {
      "cell_type": "code",
      "metadata": {
        "id": "FeV7wq07QCWo"
      },
      "source": [
        "# from keras.models import Sequential\n",
        "# from keras.layers import Dense\n",
        "# import keras.losses as kloss\n",
        "# model = Sequential()\n",
        "# model.add(Dense(19, activation='relu', input_shape =(19,)))\n",
        "# model.add(Dense(13, activation='relu'))\n",
        "# model.add(Dense(8, activation ='relu'))\n",
        "# model.add(Dense(5, activation ='sigmoid'))\n",
        "\n",
        "# model.compile(loss =kloss.SparseCategoricalCrossentropy(),optimizer='sgd', metrics=['accuracy'])\n",
        "# re\n",
        "# model.fit(x_train, y_train_m, epochs= 64, batch_size = 1, verbose = 1)"
      ],
      "id": "FeV7wq07QCWo",
      "execution_count": null,
      "outputs": []
    },
    {
      "cell_type": "code",
      "metadata": {
        "id": "t_XDYAI7Y8Jx"
      },
      "source": [
        "# y_test_m = y_test.sub(1)\n",
        "# score = model.evaluate(x_test,y_test_m, verbose = 1)\n",
        "# print(score)\n",
        "\n",
        "# y_pred = model.predict_classes(x_test)\n",
        "# from sklearn.metrics import classification_report\n",
        "\n",
        "# # Confusion matrix\n",
        "# print(classification_report(y_test_m, y_pred))"
      ],
      "id": "t_XDYAI7Y8Jx",
      "execution_count": null,
      "outputs": []
    },
    {
      "cell_type": "markdown",
      "metadata": {
        "id": "Hz8GcuTEbQc8"
      },
      "source": [
        "# Conclusion\n",
        "Random Forest has high accurarcy over training and test set.\n"
      ],
      "id": "Hz8GcuTEbQc8"
    },
    {
      "cell_type": "code",
      "metadata": {
        "id": "dK0aOxqFbPzY",
        "colab": {
          "base_uri": "https://localhost:8080/"
        },
        "outputId": "8754351c-424c-4285-d3f2-7637de5a3801"
      },
      "source": [
        "y_valid = rfm.predict(x_valid)\n",
        "y_valid"
      ],
      "id": "dK0aOxqFbPzY",
      "execution_count": null,
      "outputs": [
        {
          "output_type": "execute_result",
          "data": {
            "text/plain": [
              "array([3, 3, 3, ..., 5, 4, 3])"
            ]
          },
          "metadata": {
            "tags": []
          },
          "execution_count": 156
        }
      ]
    },
    {
      "cell_type": "code",
      "metadata": {
        "id": "3U9HqE6ob5hw",
        "colab": {
          "base_uri": "https://localhost:8080/",
          "height": 297
        },
        "outputId": "a174e5b7-eb65-4468-caf5-87479056d517"
      },
      "source": [
        "y_valid = pandas.DataFrame(data = y_valid, columns=['churn_risk_score'])\n",
        "seaborn.countplot(data = y_valid, x= 'churn_risk_score')"
      ],
      "id": "3U9HqE6ob5hw",
      "execution_count": null,
      "outputs": [
        {
          "output_type": "execute_result",
          "data": {
            "text/plain": [
              "<matplotlib.axes._subplots.AxesSubplot at 0x7f6702fd3650>"
            ]
          },
          "metadata": {
            "tags": []
          },
          "execution_count": 157
        },
        {
          "output_type": "display_data",
          "data": {
            "image/png": "[encoded data removed]",
            "text/plain": [
              "<Figure size 432x288 with 1 Axes>"
            ]
          },
          "metadata": {
            "tags": [],
            "needs_background": "light"
          }
        }
      ]
    },
    {
      "cell_type": "code",
      "metadata": {
        "id": "gvWYx24QcwyN",
        "colab": {
          "base_uri": "https://localhost:8080/",
          "height": 424
        },
        "outputId": "9ae6d529-f237-465c-aed5-6d14f3d14d36"
      },
      "source": [
        "submission = pandas.concat([valid_cid,y_valid],axis = 1)\n",
        "submission"
      ],
      "id": "gvWYx24QcwyN",
      "execution_count": null,
      "outputs": [
        {
          "output_type": "execute_result",
          "data": {
            "text/html": [
              "<div>\n",
              "<style scoped>\n",
              "    .dataframe tbody tr th:only-of-type {\n",
              "        vertical-align: middle;\n",
              "    }\n",
              "\n",
              "    .dataframe tbody tr th {\n",
              "        vertical-align: top;\n",
              "    }\n",
              "\n",
              "    .dataframe thead th {\n",
              "        text-align: right;\n",
              "    }\n",
              "</style>\n",
              "<table border=\"1\" class=\"dataframe\">\n",
              "  <thead>\n",
              "    <tr style=\"text-align: right;\">\n",
              "      <th></th>\n",
              "      <th>customer_id</th>\n",
              "      <th>churn_risk_score</th>\n",
              "    </tr>\n",
              "  </thead>\n",
              "  <tbody>\n",
              "    <tr>\n",
              "      <th>0</th>\n",
              "      <td>fffe43004900440031003700300030003400</td>\n",
              "      <td>3</td>\n",
              "    </tr>\n",
              "    <tr>\n",
              "      <th>1</th>\n",
              "      <td>fffe43004900440031003900370037003300</td>\n",
              "      <td>3</td>\n",
              "    </tr>\n",
              "    <tr>\n",
              "      <th>2</th>\n",
              "      <td>fffe43004900440034003800360037003000</td>\n",
              "      <td>3</td>\n",
              "    </tr>\n",
              "    <tr>\n",
              "      <th>3</th>\n",
              "      <td>fffe43004900440036003200370033003400</td>\n",
              "      <td>3</td>\n",
              "    </tr>\n",
              "    <tr>\n",
              "      <th>4</th>\n",
              "      <td>fffe43004900440035003000370031003900</td>\n",
              "      <td>5</td>\n",
              "    </tr>\n",
              "    <tr>\n",
              "      <th>...</th>\n",
              "      <td>...</td>\n",
              "      <td>...</td>\n",
              "    </tr>\n",
              "    <tr>\n",
              "      <th>19914</th>\n",
              "      <td>fffe43004900440035003600330037003800</td>\n",
              "      <td>3</td>\n",
              "    </tr>\n",
              "    <tr>\n",
              "      <th>19915</th>\n",
              "      <td>fffe43004900440032003900370037003100</td>\n",
              "      <td>5</td>\n",
              "    </tr>\n",
              "    <tr>\n",
              "      <th>19916</th>\n",
              "      <td>fffe43004900440036003100310036003700</td>\n",
              "      <td>5</td>\n",
              "    </tr>\n",
              "    <tr>\n",
              "      <th>19917</th>\n",
              "      <td>fffe43004900440034003200330033003600</td>\n",
              "      <td>4</td>\n",
              "    </tr>\n",
              "    <tr>\n",
              "      <th>19918</th>\n",
              "      <td>fffe43004900440036003200340030003100</td>\n",
              "      <td>3</td>\n",
              "    </tr>\n",
              "  </tbody>\n",
              "</table>\n",
              "<p>19919 rows × 2 columns</p>\n",
              "</div>"
            ],
            "text/plain": [
              "                                customer_id  churn_risk_score\n",
              "0      fffe43004900440031003700300030003400                 3\n",
              "1      fffe43004900440031003900370037003300                 3\n",
              "2      fffe43004900440034003800360037003000                 3\n",
              "3      fffe43004900440036003200370033003400                 3\n",
              "4      fffe43004900440035003000370031003900                 5\n",
              "...                                     ...               ...\n",
              "19914  fffe43004900440035003600330037003800                 3\n",
              "19915  fffe43004900440032003900370037003100                 5\n",
              "19916  fffe43004900440036003100310036003700                 5\n",
              "19917  fffe43004900440034003200330033003600                 4\n",
              "19918  fffe43004900440036003200340030003100                 3\n",
              "\n",
              "[19919 rows x 2 columns]"
            ]
          },
          "metadata": {
            "tags": []
          },
          "execution_count": 158
        }
      ]
    },
    {
      "cell_type": "code",
      "metadata": {
        "id": "druTS2lYd5zl"
      },
      "source": [
        "submission.to_csv('submission.csv',index=False)"
      ],
      "id": "druTS2lYd5zl",
      "execution_count": null,
      "outputs": []
    },
    {
      "cell_type": "markdown",
      "metadata": {
        "id": "NBEcQ68pBliO"
      },
      "source": [
        "# Cases\n",
        "## outlier remove\n",
        "- linear regression : 39.75, 39.20\n",
        "- gradient descendent : 36.78, 35.43\n",
        "- gaussian naive bayes : 62.85, 61.10\n",
        "- knn : 66.14, 50.45\n",
        "- lda : 65.90, 64.98\n",
        "- svm : 34.87, 34.46\n",
        "- decision tree : 100, 72.88\n",
        "- random forest : 100, 75.66\n",
        "- final : 76.11290\n",
        "\n",
        "## + normalize\n",
        "- linear regression : 69.53, 68.58\n",
        "- gradient descendent : 60.51, 59.39\n",
        "- gaussian naive bayes : 61.17, 61.57\n",
        "- knn : 72.90, 55.16\n",
        "- lda : 65.51, 64.72\n",
        "- svm : 70.52, 64.99\n",
        "- decision tree : 100, 72.81\n",
        "- random forest : 100, 75.82\n",
        "- final - 21.76\n",
        "\n",
        "## + rfecv\n",
        "- linear regression : 69.63, 68.79\n",
        "- gradient descendent : 60.14, 59.11\n",
        "- gaussian naive bayes : 61.18, 61.58\n",
        "- knn : 74.46, 59.99\n",
        "- lda : 65.56, 64.55\n",
        "- svm : 69.28, 64.98\n",
        "- decision tree : 100, 72.55\n",
        "- random forest : 100, 76.02\n",
        "- final - 21.70\n",
        " \n",
        "## - backward elimination\n",
        "## + over sampling\n"
      ],
      "id": "NBEcQ68pBliO"
    },
    {
      "cell_type": "code",
      "metadata": {
        "colab": {
          "base_uri": "https://localhost:8080/",
          "height": 280
        },
        "id": "bcSWD8HQmFkA",
        "outputId": "3f3366a1-f286-491e-f94b-2f7e33b5fbd0"
      },
      "source": [
        "rfm = RandomForestClassifier(bootstrap=True, ccp_alpha=0.0, class_weight=None,\n",
        "                       criterion='entropy', max_depth=None, max_features='auto',\n",
        "                       max_leaf_nodes=3, max_samples=None,\n",
        "                       min_impurity_decrease=0.0, min_impurity_split=None,\n",
        "                       min_samples_leaf=16, min_samples_split=11,\n",
        "                       min_weight_fraction_leaf=0.0, n_estimators=140,\n",
        "                       n_jobs=None, oob_score=True, random_state=42, verbose=0,\n",
        "                       warm_start=False)\n",
        "rfm.fit(x_train,y_train)\n",
        "y_valid = rfm.predict(x_valid)\n",
        "y_valid\n",
        "y_valid = pandas.DataFrame(data = y_valid, columns=['churn_risk_score'])\n",
        "seaborn.countplot(data = y_valid, x= 'churn_risk_score')\n",
        "submission = pandas.concat([valid_cid,y_valid],axis = 1)\n",
        "submission\n",
        "submission.to_csv('submission.csv',index=False)"
      ],
      "id": "bcSWD8HQmFkA",
      "execution_count": null,
      "outputs": [
        {
          "output_type": "display_data",
          "data": {
            "image/png": "[encoded data removed]",
            "text/plain": [
              "<Figure size 432x288 with 1 Axes>"
            ]
          },
          "metadata": {
            "tags": [],
            "needs_background": "light"
          }
        }
      ]
    },
    {
      "cell_type": "code",
      "metadata": {
        "id": "QJTz7W6CBkaZ",
        "colab": {
          "base_uri": "https://localhost:8080/"
        },
        "outputId": "ffa88bb8-b6a4-41e1-965d-12d28cbb4f14"
      },
      "source": [
        "# {\"max_features\": [1,3,10],\n",
        "#                 \"min_samples_split\":[2,3,10],\n",
        "#                 \"min_samples_leaf\":[1,3,10],\n",
        "#                 \"bootstrap\":[False],\n",
        "#                 \"n_estimators\":[100,300],\n",
        "#                 \"criterion\":[\"gini\"]}\n",
        "\n",
        "parameters = {'n_estimators' : list(range(10,300,10)),\n",
        "              'criterion' : ['gini', 'entropy'],\n",
        "              'min_samples_split' : list(range(2,20)),\n",
        "              'min_samples_leaf' : list(range(1,20)),\n",
        "              'max_features' :['auto','sqrt','log2',None],\n",
        "              'max_leaf_nodes' :list(range(1,20)),\n",
        "              'bootstrap' :[True,False],\n",
        "              'oob_score' : [True,False],\n",
        "}\n",
        "\n",
        "from sklearn.model_selection import RandomizedSearchCV\n",
        "from sklearn.model_selection import StratifiedKFold\n",
        "from sklearn.metrics import classification_report\n",
        "clf = RandomizedSearchCV(RandomForestClassifier(random_state = 42),\n",
        "                    param_distributions= parameters,\n",
        "                    cv = StratifiedKFold(n_splits = 5),\n",
        "                    scoring = \"accuracy\",\n",
        "                    n_jobs = -1, verbose = 2)\n",
        "\n",
        "clf.fit(x_train,y_train)\n",
        "y_pred = clf.predict(x_test)\n",
        "y_train_pred = clf.predict(x_train)\n",
        "# accuracy.append(clf.best_score_ * 100)\n",
        "print()\n",
        "print('best_estimator :', clf.best_estimator_)\n",
        "\n",
        "print('train report : \\n',classification_report(y_train, y_train_pred))\n",
        "print('test_report : \\n',classification_report(y_test,y_pred))\n",
        "print(\"---------------------------------------------------------------------------\")\n",
        "# 71 %"
      ],
      "id": "QJTz7W6CBkaZ",
      "execution_count": null,
      "outputs": [
        {
          "output_type": "stream",
          "text": [
            "Fitting 5 folds for each of 10 candidates, totalling 50 fits\n"
          ],
          "name": "stdout"
        },
        {
          "output_type": "stream",
          "text": [
            "[Parallel(n_jobs=-1)]: Using backend LokyBackend with 2 concurrent workers.\n",
            "[Parallel(n_jobs=-1)]: Done  41 tasks      | elapsed:  1.6min\n",
            "[Parallel(n_jobs=-1)]: Done  50 out of  50 | elapsed:  1.8min finished\n"
          ],
          "name": "stderr"
        },
        {
          "output_type": "stream",
          "text": [
            "\n",
            "best_estimator : RandomForestClassifier(bootstrap=True, ccp_alpha=0.0, class_weight=None,\n",
            "                       criterion='entropy', max_depth=None, max_features='auto',\n",
            "                       max_leaf_nodes=3, max_samples=None,\n",
            "                       min_impurity_decrease=0.0, min_impurity_split=None,\n",
            "                       min_samples_leaf=16, min_samples_split=11,\n",
            "                       min_weight_fraction_leaf=0.0, n_estimators=140,\n",
            "                       n_jobs=None, oob_score=True, random_state=42, verbose=0,\n",
            "                       warm_start=False)\n",
            "train report : \n",
            "               precision    recall  f1-score   support\n",
            "\n",
            "           1       0.25      0.00      0.00      2015\n",
            "           2       0.00      0.00      0.00      2042\n",
            "           3       0.59      0.87      0.70      8683\n",
            "           4       0.74      0.39      0.51      7665\n",
            "           5       0.65      0.96      0.78      7339\n",
            "\n",
            "    accuracy                           0.63     27744\n",
            "   macro avg       0.45      0.44      0.40     27744\n",
            "weighted avg       0.58      0.63      0.57     27744\n",
            "\n",
            "test_report : \n",
            "               precision    recall  f1-score   support\n",
            "\n",
            "           1       0.50      0.00      0.01       637\n",
            "           2       0.00      0.00      0.00       699\n",
            "           3       0.59      0.87      0.70      2904\n",
            "           4       0.72      0.38      0.50      2520\n",
            "           5       0.66      0.97      0.78      2488\n",
            "\n",
            "    accuracy                           0.64      9248\n",
            "   macro avg       0.49      0.44      0.40      9248\n",
            "weighted avg       0.59      0.64      0.57      9248\n",
            "\n",
            "---------------------------------------------------------------------------\n"
          ],
          "name": "stdout"
        },
        {
          "output_type": "stream",
          "text": [
            "/usr/local/lib/python3.7/dist-packages/sklearn/metrics/_classification.py:1272: UndefinedMetricWarning: Precision and F-score are ill-defined and being set to 0.0 in labels with no predicted samples. Use `zero_division` parameter to control this behavior.\n",
            "  _warn_prf(average, modifier, msg_start, len(result))\n"
          ],
          "name": "stderr"
        }
      ]
    }
  ]
}